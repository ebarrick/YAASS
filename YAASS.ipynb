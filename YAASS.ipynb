{
 "cells": [
  {
   "cell_type": "markdown",
   "metadata": {},
   "source": [
    "# YAASS Dataset"
   ]
  },
  {
   "cell_type": "markdown",
   "metadata": {},
   "source": [
    "#### The dataset below includes demographic information and multiple clinical measures taken in 3 populations: healthy controls, those at clinical high risk for psychosis, and those at familial high risk."
   ]
  },
  {
   "cell_type": "code",
   "execution_count": 1,
   "metadata": {
    "collapsed": true
   },
   "outputs": [],
   "source": [
    "# Get the username and use that to set-up paths to data and figures\n",
    "uname  = !whoami\n",
    "uname = uname[0]\n",
    "path2code = '/Users/' + uname + '/Work/Expts/Code/'\n",
    "path2data = '/Users/' + uname + '/Work/Expts/YAASS/Data/'\n",
    "path2analysis = '/Users/' + uname + '/Work/Expts/YAASS/Analysis/'\n",
    "path2figs = '/Users/' + uname + '/Work/Expts/SOURCE/Analysis/Figures/'"
   ]
  },
  {
   "cell_type": "code",
   "execution_count": 31,
   "metadata": {
    "collapsed": false,
    "scrolled": true
   },
   "outputs": [
    {
     "name": "stdout",
     "output_type": "stream",
     "text": [
      "/Users/ebarrick/Work/Expts/Code\n",
      "The rpy2.ipython extension is already loaded. To reload it, use:\n",
      "  %reload_ext rpy2.ipython\n"
     ]
    },
    {
     "data": {
      "text/plain": [
       "array(['vcd', 'grid', 'QuantPsyc', 'MASS', 'boot', 'afex', 'reshape2',\n",
       "       'effsize', 'lsmeans', 'estimability', 'lmerTest', 'lme4', 'Matrix',\n",
       "       'tools', 'stats', 'graphics', 'grDevices', 'utils', 'datasets',\n",
       "       'methods', 'base'], \n",
       "      dtype='|S12')"
      ]
     },
     "execution_count": 31,
     "metadata": {},
     "output_type": "execute_result"
    }
   ],
   "source": [
    "%cd {path2code}\n",
    "\n",
    "import csv, misc, os, random, re, SelfRep\n",
    "import numpy as np\n",
    "import pandas as pd\n",
    "import seaborn as sns\n",
    "import scipy as sp\n",
    "from scipy import stats\n",
    "from scipy.stats import zscore\n",
    "from matplotlib import pyplot as plt\n",
    "%matplotlib inline\n",
    "%load_ext rpy2.ipython\n",
    "\n",
    "%R suppressMessages(library('lmerTest'))\n",
    "%R suppressMessages(library('lsmeans'))\n",
    "%R lsm.options(disable.pbkrtest=TRUE)\n",
    "%R suppressMessages(library('effsize')) # Can use this to estimate Cohen's d\n",
    "%R suppressMessages(library('afex'))\n",
    "%R suppressMessages(library('QuantPsyc')) #helpful for extracting betas from hierarchical regresssions\n",
    "%R suppressMessages(library('vcd')) # useful for getting effect sizes from chi-square tests"
   ]
  },
  {
   "cell_type": "code",
   "execution_count": 78,
   "metadata": {
    "collapsed": false,
    "scrolled": true
   },
   "outputs": [],
   "source": [
    "#Function to assign names to disorders in FAME dataset\n",
    "def dx_name(data):\n",
    "    d = {0:'None', 1:'MDD', 2:'Anxiety', 3:'Sub_abuse', 4:'ADHD', \n",
    "         5:'Eating', 6:'Schizotypal', 7:'2_co', 8: '3_co', 9:'4_co','999':'na'}\n",
    "    dx = d[data]\n",
    "    return dx \n",
    "\n",
    "raw_sh = pd.read_excel(path2data + 'Bx_Paper_YAASS_Feb2017_edit.xlsx')\n",
    "raw_sh['Gender'].replace(2, 'female', inplace=True)\n",
    "raw_sh['Gender'].replace(1,'male', inplace=True)\n",
    "\n",
    "raw_sz = pd.read_excel(path2data + 'SCORE Data_Bx_IRI_SocialFx.xlsx')\n",
    "raw_sz['Group'].replace(2, 'SZ', inplace=True)\n",
    "raw_sz['Gender'].replace(1,'male',inplace=True)\n",
    "raw_sz['Gender'].replace(2,'female',inplace=True)\n",
    "\n",
    "raw_fhr = pd.read_excel(path2data + 'FAME_Neuropsych_NEW_edit.xlsx')\n",
    "raw_fhr['Group'].replace(1, 'FHR', inplace=True)\n",
    "raw_fhr['Gender'].replace(2, 'female', inplace=True)\n",
    "raw_fhr['Gender'].replace(1,'male', inplace=True)\n",
    "\n",
    "g = raw_fhr.append(raw_sz)\n",
    "\n",
    "raw = g.append(raw_sh)\n",
    "pd.set_option('display.max_columns', 500)"
   ]
  },
  {
   "cell_type": "code",
   "execution_count": null,
   "metadata": {
    "collapsed": true
   },
   "outputs": [],
   "source": [
    "#Function for creating a new column of z scores from existing column\n",
    "\n"
   ]
  },
  {
   "cell_type": "code",
   "execution_count": 79,
   "metadata": {
    "collapsed": false,
    "scrolled": true
   },
   "outputs": [
    {
     "data": {
      "text/html": [
       "<div>\n",
       "<table border=\"1\" class=\"dataframe\">\n",
       "  <thead>\n",
       "    <tr style=\"text-align: right;\">\n",
       "      <th></th>\n",
       "      <th>Age</th>\n",
       "      <th>Chapman_MIS</th>\n",
       "      <th>Chapman_PAS</th>\n",
       "      <th>Chapman_PhAS</th>\n",
       "      <th>Chapman_RTS</th>\n",
       "      <th>Chapman_SocAnh</th>\n",
       "      <th>DAS</th>\n",
       "      <th>DSMDisorder</th>\n",
       "      <th>DSMDisorderType</th>\n",
       "      <th>DSMcomorbidities</th>\n",
       "      <th>Education</th>\n",
       "      <th>Ethnicity</th>\n",
       "      <th>GFS_Role</th>\n",
       "      <th>GFS_Social</th>\n",
       "      <th>Gender</th>\n",
       "      <th>Group</th>\n",
       "      <th>ID</th>\n",
       "      <th>IQ</th>\n",
       "      <th>IRI_EC</th>\n",
       "      <th>IRI_FS</th>\n",
       "      <th>IRI_PD</th>\n",
       "      <th>IRI_PT</th>\n",
       "      <th>IRI_Total</th>\n",
       "      <th>Medication</th>\n",
       "      <th>PANAS_NA</th>\n",
       "      <th>PANAS_PA</th>\n",
       "      <th>SIPS_Disorganized</th>\n",
       "      <th>SIPS_GAF</th>\n",
       "      <th>SIPS_General</th>\n",
       "      <th>SIPS_Negative</th>\n",
       "      <th>SIPS_Positive</th>\n",
       "      <th>SIPS_mean</th>\n",
       "      <th>SocAdjScale_SocialLeisure</th>\n",
       "      <th>SocAdjScale_Work</th>\n",
       "    </tr>\n",
       "  </thead>\n",
       "  <tbody>\n",
       "    <tr>\n",
       "      <th>0</th>\n",
       "      <td>25</td>\n",
       "      <td>NaN</td>\n",
       "      <td>NaN</td>\n",
       "      <td>NaN</td>\n",
       "      <td>NaN</td>\n",
       "      <td>NaN</td>\n",
       "      <td>NaN</td>\n",
       "      <td>1</td>\n",
       "      <td>7</td>\n",
       "      <td>2</td>\n",
       "      <td>14</td>\n",
       "      <td>NaN</td>\n",
       "      <td>NaN</td>\n",
       "      <td>NaN</td>\n",
       "      <td>female</td>\n",
       "      <td>FHR</td>\n",
       "      <td>2501</td>\n",
       "      <td>99</td>\n",
       "      <td>NaN</td>\n",
       "      <td>NaN</td>\n",
       "      <td>NaN</td>\n",
       "      <td>NaN</td>\n",
       "      <td>NaN</td>\n",
       "      <td>1</td>\n",
       "      <td>NaN</td>\n",
       "      <td>NaN</td>\n",
       "      <td>0.75</td>\n",
       "      <td>70</td>\n",
       "      <td>0.75</td>\n",
       "      <td>0.500000</td>\n",
       "      <td>1.4</td>\n",
       "      <td>0.842105</td>\n",
       "      <td>NaN</td>\n",
       "      <td>NaN</td>\n",
       "    </tr>\n",
       "    <tr>\n",
       "      <th>1</th>\n",
       "      <td>29</td>\n",
       "      <td>7</td>\n",
       "      <td>1</td>\n",
       "      <td>5</td>\n",
       "      <td>1</td>\n",
       "      <td>2</td>\n",
       "      <td>NaN</td>\n",
       "      <td>1</td>\n",
       "      <td>7</td>\n",
       "      <td>2</td>\n",
       "      <td>16</td>\n",
       "      <td>NaN</td>\n",
       "      <td>NaN</td>\n",
       "      <td>NaN</td>\n",
       "      <td>female</td>\n",
       "      <td>FHR</td>\n",
       "      <td>2504</td>\n",
       "      <td>118</td>\n",
       "      <td>21</td>\n",
       "      <td>6</td>\n",
       "      <td>6</td>\n",
       "      <td>23</td>\n",
       "      <td>NaN</td>\n",
       "      <td>1</td>\n",
       "      <td>NaN</td>\n",
       "      <td>NaN</td>\n",
       "      <td>0.50</td>\n",
       "      <td>80</td>\n",
       "      <td>0.50</td>\n",
       "      <td>0.333333</td>\n",
       "      <td>1.0</td>\n",
       "      <td>0.578947</td>\n",
       "      <td>1.2</td>\n",
       "      <td>1.5</td>\n",
       "    </tr>\n",
       "    <tr>\n",
       "      <th>2</th>\n",
       "      <td>33</td>\n",
       "      <td>1</td>\n",
       "      <td>1</td>\n",
       "      <td>2</td>\n",
       "      <td>0</td>\n",
       "      <td>11</td>\n",
       "      <td>NaN</td>\n",
       "      <td>0</td>\n",
       "      <td>0</td>\n",
       "      <td>0</td>\n",
       "      <td>14</td>\n",
       "      <td>NaN</td>\n",
       "      <td>NaN</td>\n",
       "      <td>NaN</td>\n",
       "      <td>male</td>\n",
       "      <td>FHR</td>\n",
       "      <td>2505</td>\n",
       "      <td>95</td>\n",
       "      <td>21</td>\n",
       "      <td>19</td>\n",
       "      <td>5</td>\n",
       "      <td>24</td>\n",
       "      <td>NaN</td>\n",
       "      <td>0</td>\n",
       "      <td>NaN</td>\n",
       "      <td>NaN</td>\n",
       "      <td>0.25</td>\n",
       "      <td>84</td>\n",
       "      <td>0.00</td>\n",
       "      <td>0.000000</td>\n",
       "      <td>0.4</td>\n",
       "      <td>0.157895</td>\n",
       "      <td>1.9</td>\n",
       "      <td>1.5</td>\n",
       "    </tr>\n",
       "    <tr>\n",
       "      <th>3</th>\n",
       "      <td>33</td>\n",
       "      <td>4</td>\n",
       "      <td>9</td>\n",
       "      <td>11</td>\n",
       "      <td>5</td>\n",
       "      <td>24</td>\n",
       "      <td>NaN</td>\n",
       "      <td>1</td>\n",
       "      <td>4</td>\n",
       "      <td>1</td>\n",
       "      <td>13</td>\n",
       "      <td>NaN</td>\n",
       "      <td>NaN</td>\n",
       "      <td>NaN</td>\n",
       "      <td>male</td>\n",
       "      <td>FHR</td>\n",
       "      <td>2506</td>\n",
       "      <td>109</td>\n",
       "      <td>14</td>\n",
       "      <td>15</td>\n",
       "      <td>9</td>\n",
       "      <td>23</td>\n",
       "      <td>NaN</td>\n",
       "      <td>0</td>\n",
       "      <td>NaN</td>\n",
       "      <td>NaN</td>\n",
       "      <td>1.00</td>\n",
       "      <td>63</td>\n",
       "      <td>0.75</td>\n",
       "      <td>1.166667</td>\n",
       "      <td>1.2</td>\n",
       "      <td>1.052632</td>\n",
       "      <td>1.8</td>\n",
       "      <td>1.4</td>\n",
       "    </tr>\n",
       "    <tr>\n",
       "      <th>4</th>\n",
       "      <td>28</td>\n",
       "      <td>4</td>\n",
       "      <td>1</td>\n",
       "      <td>8</td>\n",
       "      <td>0</td>\n",
       "      <td>9</td>\n",
       "      <td>NaN</td>\n",
       "      <td>0</td>\n",
       "      <td>NaN</td>\n",
       "      <td>0</td>\n",
       "      <td>16</td>\n",
       "      <td>NaN</td>\n",
       "      <td>NaN</td>\n",
       "      <td>NaN</td>\n",
       "      <td>male</td>\n",
       "      <td>FHR</td>\n",
       "      <td>2508</td>\n",
       "      <td>118</td>\n",
       "      <td>18</td>\n",
       "      <td>16</td>\n",
       "      <td>16</td>\n",
       "      <td>23</td>\n",
       "      <td>NaN</td>\n",
       "      <td>1</td>\n",
       "      <td>NaN</td>\n",
       "      <td>NaN</td>\n",
       "      <td>1.25</td>\n",
       "      <td>70</td>\n",
       "      <td>1.00</td>\n",
       "      <td>0.500000</td>\n",
       "      <td>1.4</td>\n",
       "      <td>1.000000</td>\n",
       "      <td>1.3</td>\n",
       "      <td>1.7</td>\n",
       "    </tr>\n",
       "  </tbody>\n",
       "</table>\n",
       "</div>"
      ],
      "text/plain": [
       "   Age  Chapman_MIS  Chapman_PAS  Chapman_PhAS  Chapman_RTS  Chapman_SocAnh  \\\n",
       "0   25          NaN          NaN           NaN          NaN             NaN   \n",
       "1   29            7            1             5            1               2   \n",
       "2   33            1            1             2            0              11   \n",
       "3   33            4            9            11            5              24   \n",
       "4   28            4            1             8            0               9   \n",
       "\n",
       "   DAS  DSMDisorder  DSMDisorderType  DSMcomorbidities  Education  Ethnicity  \\\n",
       "0  NaN            1                7                 2         14        NaN   \n",
       "1  NaN            1                7                 2         16        NaN   \n",
       "2  NaN            0                0                 0         14        NaN   \n",
       "3  NaN            1                4                 1         13        NaN   \n",
       "4  NaN            0              NaN                 0         16        NaN   \n",
       "\n",
       "   GFS_Role  GFS_Social  Gender Group    ID   IQ  IRI_EC  IRI_FS  IRI_PD  \\\n",
       "0       NaN         NaN  female   FHR  2501   99     NaN     NaN     NaN   \n",
       "1       NaN         NaN  female   FHR  2504  118      21       6       6   \n",
       "2       NaN         NaN    male   FHR  2505   95      21      19       5   \n",
       "3       NaN         NaN    male   FHR  2506  109      14      15       9   \n",
       "4       NaN         NaN    male   FHR  2508  118      18      16      16   \n",
       "\n",
       "   IRI_PT  IRI_Total  Medication  PANAS_NA  PANAS_PA  SIPS_Disorganized  \\\n",
       "0     NaN        NaN           1       NaN       NaN               0.75   \n",
       "1      23        NaN           1       NaN       NaN               0.50   \n",
       "2      24        NaN           0       NaN       NaN               0.25   \n",
       "3      23        NaN           0       NaN       NaN               1.00   \n",
       "4      23        NaN           1       NaN       NaN               1.25   \n",
       "\n",
       "   SIPS_GAF  SIPS_General  SIPS_Negative  SIPS_Positive  SIPS_mean  \\\n",
       "0        70          0.75       0.500000            1.4   0.842105   \n",
       "1        80          0.50       0.333333            1.0   0.578947   \n",
       "2        84          0.00       0.000000            0.4   0.157895   \n",
       "3        63          0.75       1.166667            1.2   1.052632   \n",
       "4        70          1.00       0.500000            1.4   1.000000   \n",
       "\n",
       "   SocAdjScale_SocialLeisure  SocAdjScale_Work  \n",
       "0                        NaN               NaN  \n",
       "1                        1.2               1.5  \n",
       "2                        1.9               1.5  \n",
       "3                        1.8               1.4  \n",
       "4                        1.3               1.7  "
      ]
     },
     "execution_count": 79,
     "metadata": {},
     "output_type": "execute_result"
    }
   ],
   "source": [
    "raw.head()"
   ]
  },
  {
   "cell_type": "markdown",
   "metadata": {},
   "source": [
    "### Demographics"
   ]
  },
  {
   "cell_type": "code",
   "execution_count": 24,
   "metadata": {
    "collapsed": false,
    "scrolled": false
   },
   "outputs": [
    {
     "data": {
      "text/plain": [
       "Group\n",
       "FHR    19\n",
       "HC     24\n",
       "HR     27\n",
       "SZ     26\n",
       "Name: ID, dtype: int64"
      ]
     },
     "execution_count": 24,
     "metadata": {},
     "output_type": "execute_result"
    }
   ],
   "source": [
    "raw.groupby('Group')['ID'].nunique()"
   ]
  },
  {
   "cell_type": "code",
   "execution_count": 25,
   "metadata": {
    "collapsed": false,
    "scrolled": true
   },
   "outputs": [
    {
     "data": {
      "text/plain": [
       "Group        \n",
       "FHR    female    14\n",
       "       male       5\n",
       "HC     male      12\n",
       "       female    12\n",
       "HR     male      18\n",
       "       female     9\n",
       "SZ     male      16\n",
       "       female    10\n",
       "dtype: int64"
      ]
     },
     "execution_count": 25,
     "metadata": {},
     "output_type": "execute_result"
    }
   ],
   "source": [
    "#Even split in HC group, more males in HR and SZ group - unsurprising...however mostly female in GHR group\n",
    "\n",
    "raw.groupby('Group')['Gender'].value_counts()"
   ]
  },
  {
   "cell_type": "code",
   "execution_count": 26,
   "metadata": {
    "collapsed": false,
    "scrolled": false
   },
   "outputs": [
    {
     "name": "stdout",
     "output_type": "stream",
     "text": [
      "Group       \n",
      "FHR    count    19.000000\n",
      "       mean     27.421053\n",
      "       std       3.920258\n",
      "       min      20.000000\n",
      "       25%      24.500000\n",
      "       50%      27.000000\n",
      "       75%      31.000000\n",
      "       max      33.000000\n",
      "HC     count    24.000000\n",
      "       mean     22.750000\n",
      "       std       4.002716\n",
      "       min      18.000000\n",
      "       25%      19.750000\n",
      "       50%      22.000000\n",
      "       75%      24.750000\n",
      "       max      33.000000\n",
      "HR     count    27.000000\n",
      "       mean     21.629630\n",
      "       std       4.404090\n",
      "       min      15.000000\n",
      "       25%      18.000000\n",
      "       50%      22.000000\n",
      "       75%      23.500000\n",
      "       max      34.000000\n",
      "SZ     count    26.000000\n",
      "       mean     38.692308\n",
      "       std      10.279180\n",
      "       min      21.000000\n",
      "       25%      31.250000\n",
      "       50%      38.500000\n",
      "       75%      44.750000\n",
      "       max      58.000000\n",
      "dtype: float64\n"
     ]
    },
    {
     "data": {
      "text/plain": [
       "<matplotlib.axes._subplots.AxesSubplot at 0x11e1cadd0>"
      ]
     },
     "execution_count": 26,
     "metadata": {},
     "output_type": "execute_result"
    },
    {
     "data": {
      "image/png": "[encoded data removed]",
      "text/plain": [
       "<matplotlib.figure.Figure at 0x11b825410>"
      ]
     },
     "metadata": {},
     "output_type": "display_data"
    }
   ],
   "source": [
    "#Age\n",
    "g=raw.groupby('Group')\n",
    "print (g.Age.describe())\n",
    "\n",
    "sns.boxplot(x='Group',y='Age',data=raw)"
   ]
  },
  {
   "cell_type": "code",
   "execution_count": 8,
   "metadata": {
    "collapsed": true
   },
   "outputs": [],
   "source": [
    "\"\"\"Dataframe dropping participants without an IQ value\"\"\"\n",
    "raw_IQ = raw[np.isfinite(raw['IQ'])]"
   ]
  },
  {
   "cell_type": "code",
   "execution_count": 9,
   "metadata": {
    "collapsed": false
   },
   "outputs": [
    {
     "name": "stdout",
     "output_type": "stream",
     "text": [
      "Group       \n",
      "FHR    count     18.000000\n",
      "       mean     117.000000\n",
      "       std        9.779931\n",
      "       min       95.000000\n",
      "       25%      115.500000\n",
      "       50%      118.000000\n",
      "       75%      121.750000\n",
      "       max      136.000000\n",
      "HC     count     24.000000\n",
      "       mean     115.125000\n",
      "       std       10.330674\n",
      "       min       97.000000\n",
      "       25%      107.750000\n",
      "       50%      117.500000\n",
      "       75%      119.000000\n",
      "       max      138.000000\n",
      "HR     count     24.000000\n",
      "       mean     106.791667\n",
      "       std       17.688068\n",
      "       min       79.000000\n",
      "       25%       91.750000\n",
      "       50%      106.500000\n",
      "       75%      122.250000\n",
      "       max      139.000000\n",
      "SZ     count     26.000000\n",
      "       mean     108.076923\n",
      "       std       13.323432\n",
      "       min       82.000000\n",
      "       25%       99.000000\n",
      "       50%      107.500000\n",
      "       75%      118.750000\n",
      "       max      133.000000\n",
      "dtype: float64\n",
      "Between group t-test on IQ HC and HR\n",
      "t(46) = 1.99, p = 0.052, g = 0.575\n",
      "Between group t-test on IQ HC and SZ\n",
      "t(48) = 2.08, p = 0.043, g = 0.588\n",
      "Between group t-test on IQ HC and FHR\n",
      "t(40) = -0.60, p = 0.555, g = -0.186\n"
     ]
    },
    {
     "data": {
      "text/plain": [
       "<matplotlib.axes._subplots.AxesSubplot at 0x11b835350>"
      ]
     },
     "execution_count": 9,
     "metadata": {},
     "output_type": "execute_result"
    },
    {
     "data": {
      "image/png": "[encoded data removed]",
      "text/plain": [
       "<matplotlib.figure.Figure at 0x1060ea6d0>"
      ]
     },
     "metadata": {},
     "output_type": "display_data"
    }
   ],
   "source": [
    "#IQ: Looks like FHR has significantly higher IQ than HC (and therefore all groups)\n",
    "\n",
    "i = raw_IQ.groupby('Group')\n",
    "\n",
    "print (i.IQ.describe())\n",
    "print ('Between group t-test on IQ HC and HR')\n",
    "misc.ttest_2s(raw_IQ[raw_IQ.Group == 'HC']['IQ'],raw_IQ[raw_IQ.Group == 'HR']['IQ'])\n",
    "\n",
    "print ('Between group t-test on IQ HC and SZ')\n",
    "misc.ttest_2s(raw_IQ[raw_IQ.Group == 'HC']['IQ'],raw_IQ[raw_IQ.Group == 'SZ']['IQ'])\n",
    "\n",
    "print ('Between group t-test on IQ HC and FHR')\n",
    "misc.ttest_2s(raw_IQ[raw_IQ.Group == 'HC']['IQ'],raw_IQ[raw_IQ.Group == 'FHR']['IQ'])\n",
    "\n",
    "sns.boxplot(x='Group',y='IQ',data=raw_IQ)"
   ]
  },
  {
   "cell_type": "code",
   "execution_count": null,
   "metadata": {
    "collapsed": true
   },
   "outputs": [],
   "source": []
  },
  {
   "cell_type": "markdown",
   "metadata": {},
   "source": [
    "### Data Quality Check"
   ]
  },
  {
   "cell_type": "code",
   "execution_count": 10,
   "metadata": {
    "collapsed": true
   },
   "outputs": [],
   "source": [
    "#Dataframe where any row that has NAN value is dropped- will tell us how many participants have at least some missing \n",
    "#data\n",
    "sh_no_na = raw_sh.dropna()"
   ]
  },
  {
   "cell_type": "code",
   "execution_count": 11,
   "metadata": {
    "collapsed": false,
    "scrolled": true
   },
   "outputs": [
    {
     "data": {
      "text/plain": [
       "Group\n",
       "HC    8\n",
       "HR    9\n",
       "Name: ID, dtype: int64"
      ]
     },
     "execution_count": 11,
     "metadata": {},
     "output_type": "execute_result"
    }
   ],
   "source": [
    "# looks like most participants have some missing values...\n",
    "sh_no_na.groupby('Group')['ID'].nunique()"
   ]
  },
  {
   "cell_type": "code",
   "execution_count": 12,
   "metadata": {
    "collapsed": false
   },
   "outputs": [],
   "source": [
    "#Dataframe where any row that has less than 6 entries - which corresponds to anything other than demographic \n",
    "#information/subject ID entered - are dropped. These are participants that should not be included in the analyses.\n",
    "df_cleaned = raw.dropna(thresh=6)"
   ]
  },
  {
   "cell_type": "code",
   "execution_count": 13,
   "metadata": {
    "collapsed": false,
    "scrolled": true
   },
   "outputs": [
    {
     "data": {
      "text/plain": [
       "Group\n",
       "FHR    19\n",
       "HC     24\n",
       "HR     26\n",
       "SZ     26\n",
       "Name: ID, dtype: int64"
      ]
     },
     "execution_count": 13,
     "metadata": {},
     "output_type": "execute_result"
    }
   ],
   "source": [
    "#one participant that has no measures taken: 26195\n",
    "df_cleaned.groupby('Group')['ID'].nunique()"
   ]
  },
  {
   "cell_type": "markdown",
   "metadata": {},
   "source": [
    "### Looking at Measures"
   ]
  },
  {
   "cell_type": "code",
   "execution_count": 83,
   "metadata": {
    "collapsed": false,
    "scrolled": true
   },
   "outputs": [
    {
     "name": "stdout",
     "output_type": "stream",
     "text": [
      "                                Age        IQ    IRI_EC    IRI_FS    IRI_PD  \\\n",
      "Age                        1.000000 -0.154927  0.238793  0.116967 -0.190443   \n",
      "IQ                        -0.154927  1.000000 -0.418537 -0.680313 -0.635044   \n",
      "IRI_EC                     0.238793 -0.418537  1.000000  0.638750  0.289604   \n",
      "IRI_FS                     0.116967 -0.680313  0.638750  1.000000  0.694452   \n",
      "IRI_PD                    -0.190443 -0.635044  0.289604  0.694452  1.000000   \n",
      "IRI_PT                     0.304245 -0.382115  0.927911  0.597433  0.208887   \n",
      "SIPS_Disorganized         -0.368005 -0.604079 -0.036717  0.548503  0.726483   \n",
      "SIPS_Negative             -0.223689 -0.681399 -0.058065  0.538575  0.748033   \n",
      "SIPS_Positive             -0.169036 -0.684830  0.087440  0.674944  0.789235   \n",
      "SIPS_General              -0.345745 -0.521651 -0.114337  0.486425  0.763813   \n",
      "SocAdjScale_SocialLeisure -0.201565 -0.706985  0.410019  0.803895  0.898316   \n",
      "SocAdjScale_Work          -0.509318 -0.575220  0.370817  0.645514  0.803804   \n",
      "GFS_Social                -0.373432  0.701921 -0.021279 -0.434668 -0.523790   \n",
      "GFS_Role                  -0.302738  0.676891  0.096454 -0.441953 -0.537925   \n",
      "Chapman_MIS                0.746953 -0.582648  0.611899  0.603572  0.232050   \n",
      "Chapman_PhAS               0.360200 -0.165531  0.115362  0.003267  0.108023   \n",
      "Chapman_PAS                0.630771 -0.650993  0.475964  0.564567  0.247452   \n",
      "Chapman_RTS                0.668685 -0.659471  0.630037  0.686702  0.374236   \n",
      "Chapman_SocAnh             0.463897 -0.589250  0.090091  0.419466  0.378624   \n",
      "\n",
      "                             IRI_PT  SIPS_Disorganized  SIPS_Negative  \\\n",
      "Age                        0.304245          -0.368005      -0.223689   \n",
      "IQ                        -0.382115          -0.604079      -0.681399   \n",
      "IRI_EC                     0.927911          -0.036717      -0.058065   \n",
      "IRI_FS                     0.597433           0.548503       0.538575   \n",
      "IRI_PD                     0.208887           0.726483       0.748033   \n",
      "IRI_PT                     1.000000          -0.077717      -0.113830   \n",
      "SIPS_Disorganized         -0.077717           1.000000       0.923958   \n",
      "SIPS_Negative             -0.113830           0.923958       1.000000   \n",
      "SIPS_Positive              0.065232           0.948741       0.913824   \n",
      "SIPS_General              -0.183438           0.910420       0.919023   \n",
      "SocAdjScale_SocialLeisure  0.366520           0.770152       0.752917   \n",
      "SocAdjScale_Work           0.282645           0.726546       0.644117   \n",
      "GFS_Social                -0.030323          -0.575744      -0.679663   \n",
      "GFS_Role                   0.086050          -0.604843      -0.731794   \n",
      "Chapman_MIS                0.615170           0.010427       0.175545   \n",
      "Chapman_PhAS               0.066754          -0.220081      -0.001862   \n",
      "Chapman_PAS                0.443888           0.236355       0.380540   \n",
      "Chapman_RTS                0.643913           0.070110       0.216040   \n",
      "Chapman_SocAnh             0.183103           0.443520       0.519469   \n",
      "\n",
      "                           SIPS_Positive  SIPS_General  \\\n",
      "Age                            -0.169036     -0.345745   \n",
      "IQ                             -0.684830     -0.521651   \n",
      "IRI_EC                          0.087440     -0.114337   \n",
      "IRI_FS                          0.674944      0.486425   \n",
      "IRI_PD                          0.789235      0.763813   \n",
      "IRI_PT                          0.065232     -0.183438   \n",
      "SIPS_Disorganized               0.948741      0.910420   \n",
      "SIPS_Negative                   0.913824      0.919023   \n",
      "SIPS_Positive                   1.000000      0.900268   \n",
      "SIPS_General                    0.900268      1.000000   \n",
      "SocAdjScale_SocialLeisure       0.823099      0.743399   \n",
      "SocAdjScale_Work                0.717515      0.671011   \n",
      "GFS_Social                     -0.713347     -0.614004   \n",
      "GFS_Role                       -0.734093     -0.665050   \n",
      "Chapman_MIS                     0.218873     -0.003491   \n",
      "Chapman_PhAS                   -0.204041     -0.258985   \n",
      "Chapman_PAS                     0.369036      0.216260   \n",
      "Chapman_RTS                     0.265398      0.057315   \n",
      "Chapman_SocAnh                  0.512607      0.275916   \n",
      "\n",
      "                           SocAdjScale_SocialLeisure  SocAdjScale_Work  \\\n",
      "Age                                        -0.201565         -0.509318   \n",
      "IQ                                         -0.706985         -0.575220   \n",
      "IRI_EC                                      0.410019          0.370817   \n",
      "IRI_FS                                      0.803895          0.645514   \n",
      "IRI_PD                                      0.898316          0.803804   \n",
      "IRI_PT                                      0.366520          0.282645   \n",
      "SIPS_Disorganized                           0.770152          0.726546   \n",
      "SIPS_Negative                               0.752917          0.644117   \n",
      "SIPS_Positive                               0.823099          0.717515   \n",
      "SIPS_General                                0.743399          0.671011   \n",
      "SocAdjScale_SocialLeisure                   1.000000          0.857080   \n",
      "SocAdjScale_Work                            0.857080          1.000000   \n",
      "GFS_Social                                 -0.527240         -0.311433   \n",
      "GFS_Role                                   -0.530429         -0.295205   \n",
      "Chapman_MIS                                 0.303155          0.065319   \n",
      "Chapman_PhAS                                0.043398         -0.108503   \n",
      "Chapman_PAS                                 0.341966          0.053325   \n",
      "Chapman_RTS                                 0.442441          0.115361   \n",
      "Chapman_SocAnh                              0.427852          0.130292   \n",
      "\n",
      "                           GFS_Social  GFS_Role  Chapman_MIS  Chapman_PhAS  \\\n",
      "Age                         -0.373432 -0.302738     0.746953      0.360200   \n",
      "IQ                           0.701921  0.676891    -0.582648     -0.165531   \n",
      "IRI_EC                      -0.021279  0.096454     0.611899      0.115362   \n",
      "IRI_FS                      -0.434668 -0.441953     0.603572      0.003267   \n",
      "IRI_PD                      -0.523790 -0.537925     0.232050      0.108023   \n",
      "IRI_PT                      -0.030323  0.086050     0.615170      0.066754   \n",
      "SIPS_Disorganized           -0.575744 -0.604843     0.010427     -0.220081   \n",
      "SIPS_Negative               -0.679663 -0.731794     0.175545     -0.001862   \n",
      "SIPS_Positive               -0.713347 -0.734093     0.218873     -0.204041   \n",
      "SIPS_General                -0.614004 -0.665050    -0.003491     -0.258985   \n",
      "SocAdjScale_SocialLeisure   -0.527240 -0.530429     0.303155      0.043398   \n",
      "SocAdjScale_Work            -0.311433 -0.295205     0.065319     -0.108503   \n",
      "GFS_Social                   1.000000  0.947467    -0.476523     -0.079719   \n",
      "GFS_Role                     0.947467  1.000000    -0.415439     -0.076821   \n",
      "Chapman_MIS                 -0.476523 -0.415439     1.000000      0.338362   \n",
      "Chapman_PhAS                -0.079719 -0.076821     0.338362      1.000000   \n",
      "Chapman_PAS                 -0.543341 -0.497689     0.844293      0.201797   \n",
      "Chapman_RTS                 -0.508401 -0.484489     0.873426      0.388786   \n",
      "Chapman_SocAnh              -0.635550 -0.634620     0.539954      0.441157   \n",
      "\n",
      "                           Chapman_PAS  Chapman_RTS  Chapman_SocAnh  \n",
      "Age                           0.630771     0.668685        0.463897  \n",
      "IQ                           -0.650993    -0.659471       -0.589250  \n",
      "IRI_EC                        0.475964     0.630037        0.090091  \n",
      "IRI_FS                        0.564567     0.686702        0.419466  \n",
      "IRI_PD                        0.247452     0.374236        0.378624  \n",
      "IRI_PT                        0.443888     0.643913        0.183103  \n",
      "SIPS_Disorganized             0.236355     0.070110        0.443520  \n",
      "SIPS_Negative                 0.380540     0.216040        0.519469  \n",
      "SIPS_Positive                 0.369036     0.265398        0.512607  \n",
      "SIPS_General                  0.216260     0.057315        0.275916  \n",
      "SocAdjScale_SocialLeisure     0.341966     0.442441        0.427852  \n",
      "SocAdjScale_Work              0.053325     0.115361        0.130292  \n",
      "GFS_Social                   -0.543341    -0.508401       -0.635550  \n",
      "GFS_Role                     -0.497689    -0.484489       -0.634620  \n",
      "Chapman_MIS                   0.844293     0.873426        0.539954  \n",
      "Chapman_PhAS                  0.201797     0.388786        0.441157  \n",
      "Chapman_PAS                   1.000000     0.825414        0.651095  \n",
      "Chapman_RTS                   0.825414     1.000000        0.624434  \n",
      "Chapman_SocAnh                0.651095     0.624434        1.000000  \n"
     ]
    },
    {
     "data": {
      "text/plain": [
       "<matplotlib.axes._subplots.AxesSubplot at 0x11e6aecd0>"
      ]
     },
     "execution_count": 83,
     "metadata": {},
     "output_type": "execute_result"
    },
    {
     "data": {
      "image/png": "[encoded data removed]",
      "text/plain": [
       "<matplotlib.figure.Figure at 0x11d57efd0>"
      ]
     },
     "metadata": {},
     "output_type": "display_data"
    }
   ],
   "source": [
    "corr = raw[['Age','IQ','Group','Gender','IRI_EC','IRI_FS','IRI_PD','IRI_PT','SIPS_Disorganized','SIPS_Negative',\n",
    "            'SIPS_Positive', 'SIPS_General','SocAdjScale_SocialLeisure','SocAdjScale_Work','GFS_Social','GFS_Role',\n",
    "            'Chapman_MIS','Chapman_PhAS','Chapman_PAS','Chapman_RTS','Chapman_SocAnh']].corr()\n",
    "print corr.corr()\n",
    "\n",
    "sns.heatmap(corr)"
   ]
  },
  {
   "cell_type": "code",
   "execution_count": 15,
   "metadata": {
    "collapsed": false
   },
   "outputs": [
    {
     "data": {
      "image/png": "[encoded data removed]",
      "text/plain": [
       "<matplotlib.figure.Figure at 0x11cc718d0>"
      ]
     },
     "metadata": {},
     "output_type": "display_data"
    }
   ],
   "source": [
    "# Need to standardize the scoring\n",
    "#FHR scored on a 5 point scale - HR, HC, and SZ on a 6 point scale\n",
    "\n",
    "fig = plt.figure()\n",
    "iri = fig.add_subplot(141)\n",
    "sns.boxplot(y='IRI_EC', x='Group', data = raw)\n",
    "plt.ylabel('Emapathic Concern')\n",
    "iri = fig.add_subplot(142)\n",
    "sns.boxplot(y='IRI_FS', x='Group', data = raw)\n",
    "plt.ylabel('Fantasy')\n",
    "iri = fig.add_subplot(143)\n",
    "sns.boxplot(y='IRI_PD', x='Group', data = raw)\n",
    "plt.ylabel('Personal Distress')\n",
    "iri = fig.add_subplot(144)\n",
    "sns.boxplot(y='IRI_PT', x='Group', data = raw)\n",
    "plt.ylabel('Perspective Taking')\n",
    "fig.tight_layout()"
   ]
  },
  {
   "cell_type": "code",
   "execution_count": 16,
   "metadata": {
    "collapsed": false
   },
   "outputs": [
    {
     "data": {
      "image/png": "[encoded data removed]",
      "text/plain": [
       "<matplotlib.figure.Figure at 0x11cc714d0>"
      ]
     },
     "metadata": {},
     "output_type": "display_data"
    }
   ],
   "source": [
    "fig = plt.figure(figsize=(8, 6))\n",
    "iri = fig.add_subplot(141)\n",
    "sns.boxplot(y='SIPS_Positive', x='Group', data = raw)\n",
    "iri = fig.add_subplot(142)\n",
    "sns.boxplot(y='SIPS_Negative', x='Group', data = raw)\n",
    "iri = fig.add_subplot(143)\n",
    "sns.boxplot(y='SIPS_Disorganized', x='Group', data = raw)\n",
    "iri = fig.add_subplot(144)\n",
    "sns.boxplot(y='SIPS_General', x='Group', data = raw)\n",
    "fig.tight_layout()"
   ]
  },
  {
   "cell_type": "code",
   "execution_count": null,
   "metadata": {
    "collapsed": true
   },
   "outputs": [],
   "source": []
  },
  {
   "cell_type": "code",
   "execution_count": 17,
   "metadata": {
    "collapsed": false,
    "scrolled": false
   },
   "outputs": [
    {
     "data": {
      "image/png": "[encoded data removed]",
      "text/plain": [
       "<matplotlib.figure.Figure at 0x11d39aed0>"
      ]
     },
     "metadata": {},
     "output_type": "display_data"
    }
   ],
   "source": [
    "fig = plt.figure(figsize=(8, 6))\n",
    "iri = fig.add_subplot(231)\n",
    "sns.boxplot(y='Chapman_RTS', x='Group', data = raw)\n",
    "iri = fig.add_subplot(232)\n",
    "sns.boxplot(y='Chapman_MIS', x='Group', data = raw)\n",
    "iri = fig.add_subplot(233)\n",
    "sns.boxplot(y='Chapman_PAS', x='Group', data = raw)\n",
    "iri = fig.add_subplot(234)\n",
    "sns.boxplot(y='Chapman_PhAS', x='Group', data = raw)\n",
    "iri = fig.add_subplot(235)\n",
    "sns.boxplot(y='Chapman_SocAnh', x='Group', data = raw)\n",
    "fig.tight_layout()"
   ]
  },
  {
   "cell_type": "code",
   "execution_count": 18,
   "metadata": {
    "collapsed": false,
    "scrolled": true
   },
   "outputs": [
    {
     "data": {
      "text/plain": [
       "<seaborn.axisgrid.FacetGrid at 0x11d3e0690>"
      ]
     },
     "execution_count": 18,
     "metadata": {},
     "output_type": "execute_result"
    },
    {
     "data": {
      "image/png": "[encoded data removed]",
      "text/plain": [
       "<matplotlib.figure.Figure at 0x11b804b50>"
      ]
     },
     "metadata": {},
     "output_type": "display_data"
    }
   ],
   "source": [
    "sns.factorplot(y='GFS_Role',x='Group',units='ID',ci=68,kind='bar',data=raw)"
   ]
  },
  {
   "cell_type": "code",
   "execution_count": 19,
   "metadata": {
    "collapsed": false
   },
   "outputs": [
    {
     "data": {
      "text/plain": [
       "<seaborn.axisgrid.FacetGrid at 0x11cc33f50>"
      ]
     },
     "execution_count": 19,
     "metadata": {},
     "output_type": "execute_result"
    },
    {
     "data": {
      "image/png": "[encoded data removed]",
      "text/plain": [
       "<matplotlib.figure.Figure at 0x11ba0f8d0>"
      ]
     },
     "metadata": {},
     "output_type": "display_data"
    }
   ],
   "source": [
    "sns.factorplot(y='GFS_Social',x='Group',units='ID',ci=68,kind='bar',data=raw)"
   ]
  },
  {
   "cell_type": "code",
   "execution_count": 20,
   "metadata": {
    "collapsed": false
   },
   "outputs": [
    {
     "data": {
      "text/plain": [
       "<seaborn.axisgrid.FacetGrid at 0x11dc2edd0>"
      ]
     },
     "execution_count": 20,
     "metadata": {},
     "output_type": "execute_result"
    },
    {
     "data": {
      "image/png": "[encoded data removed]",
      "text/plain": [
       "<matplotlib.figure.Figure at 0x11dc2eb90>"
      ]
     },
     "metadata": {},
     "output_type": "display_data"
    }
   ],
   "source": [
    "sns.factorplot(y='SocAdjScale_SocialLeisure',x='Group',units='ID',ci=68,kind='bar',data=raw)"
   ]
  },
  {
   "cell_type": "code",
   "execution_count": 21,
   "metadata": {
    "collapsed": false,
    "scrolled": true
   },
   "outputs": [
    {
     "data": {
      "text/plain": [
       "<seaborn.axisgrid.FacetGrid at 0x11cc0de10>"
      ]
     },
     "execution_count": 21,
     "metadata": {},
     "output_type": "execute_result"
    },
    {
     "data": {
      "image/png": "[encoded data removed]",
      "text/plain": [
       "<matplotlib.figure.Figure at 0x11b825b90>"
      ]
     },
     "metadata": {},
     "output_type": "display_data"
    }
   ],
   "source": [
    "sns.factorplot(y='SocAdjScale_Work',x='Group',units='ID',ci=68,kind='bar',data=raw)"
   ]
  },
  {
   "cell_type": "code",
   "execution_count": null,
   "metadata": {
    "collapsed": true
   },
   "outputs": [],
   "source": []
  }
 ],
 "metadata": {
  "kernelspec": {
   "display_name": "Python 2",
   "language": "python",
   "name": "python2"
  },
  "language_info": {
   "codemirror_mode": {
    "name": "ipython",
    "version": 2
   },
   "file_extension": ".py",
   "mimetype": "text/x-python",
   "name": "python",
   "nbconvert_exporter": "python",
   "pygments_lexer": "ipython2",
   "version": "2.7.12"
  }
 },
 "nbformat": 4,
 "nbformat_minor": 0
}
