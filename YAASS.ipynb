{
 "cells": [
  {
   "cell_type": "markdown",
   "metadata": {},
   "source": [
    "# YAASS Dataset"
   ]
  },
  {
   "cell_type": "markdown",
   "metadata": {},
   "source": [
    "#### The dataset below includes demographic information and multiple clinical measures taken in 3 populations: healthy controls, those at clinical high risk for psychosis, and those at familial high risk."
   ]
  },
  {
   "cell_type": "code",
   "execution_count": 116,
   "metadata": {
    "collapsed": true
   },
   "outputs": [],
   "source": [
    "# Get the username and use that to set-up paths to data and figures\n",
    "uname  = !whoami\n",
    "uname = uname[0]\n",
    "path2code = '/Users/' + uname + '/Work/Expts/Code/'\n",
    "path2data = '/Users/' + uname + '/Work/Expts/YAASS/Data/'\n",
    "path2analysis = '/Users/' + uname + '/Work/Expts/YAASS/Analysis/'\n",
    "path2figs = '/Users/' + uname + '/Work/Expts/SOURCE/Analysis/Figures/'"
   ]
  },
  {
   "cell_type": "code",
   "execution_count": 117,
   "metadata": {
    "collapsed": false,
    "scrolled": true
   },
   "outputs": [
    {
     "name": "stdout",
     "output_type": "stream",
     "text": [
      "/Users/ebarrick/Work/Expts/Code\n",
      "The rpy2.ipython extension is already loaded. To reload it, use:\n",
      "  %reload_ext rpy2.ipython\n"
     ]
    },
    {
     "data": {
      "text/plain": [
       "array(['vcd', 'grid', 'QuantPsyc', 'MASS', 'boot', 'afex', 'reshape2',\n",
       "       'effsize', 'lsmeans', 'estimability', 'lmerTest', 'lme4', 'Matrix',\n",
       "       'tools', 'stats', 'graphics', 'grDevices', 'utils', 'datasets',\n",
       "       'methods', 'base'], \n",
       "      dtype='|S12')"
      ]
     },
     "execution_count": 117,
     "metadata": {},
     "output_type": "execute_result"
    }
   ],
   "source": [
    "%cd {path2code}\n",
    "\n",
    "import csv, misc, os, random, re, SelfRep\n",
    "import numpy as np\n",
    "import pandas as pd\n",
    "import seaborn as sns\n",
    "import scipy as sp\n",
    "from matplotlib import pyplot as plt\n",
    "%matplotlib inline\n",
    "%load_ext rpy2.ipython\n",
    "\n",
    "%R suppressMessages(library('lmerTest'))\n",
    "%R suppressMessages(library('lsmeans'))\n",
    "%R lsm.options(disable.pbkrtest=TRUE)\n",
    "%R suppressMessages(library('effsize')) # Can use this to estimate Cohen's d\n",
    "%R suppressMessages(library('afex'))\n",
    "%R suppressMessages(library('QuantPsyc')) #helpful for extracting betas from hierarchical regresssions\n",
    "%R suppressMessages(library('vcd')) # useful for getting effect sizes from chi-square tests"
   ]
  },
  {
   "cell_type": "code",
   "execution_count": 153,
   "metadata": {
    "collapsed": false,
    "scrolled": true
   },
   "outputs": [],
   "source": [
    "#Function to assign names to disorders in FAME dataset\n",
    "def dx_name(data):\n",
    "    d = {0:'None', 1:'MDD', 2:'Anxiety', 3:'Sub_abuse', 4:'ADHD', \n",
    "         5:'Eating', 6:'Schizotypal', 7:'2_co', 8: '3_co', 9:'4_co','999':'na'}\n",
    "    dx = d[data]\n",
    "    return dx \n",
    "\n",
    "raw_sh = pd.read_excel(path2data + 'Bx_Paper_YAASS_Feb2017.xlsx')\n",
    "raw_sh['Gender'].replace(2, 'female', inplace=True)\n",
    "raw_sh['Gender'].replace(1,'male', inplace=True)\n",
    "\n",
    "raw_sz = pd.read_excel(path2data + 'SCORE Data_Bx_IRI_SocialFx.xlsx')\n",
    "raw_sz['Group'].replace(2, 'SZ', inplace=True)\n",
    "\n",
    "raw_fhr = pd.read_excel(path2data + 'FAME_Neuropsych_NEW.xlsx')\n",
    "raw_fhr['Group'].replace(1, 'FHR', inplace=True)\n",
    "raw_fhr['Gender'].replace(2, 'female', inplace=True)\n",
    "raw_fhr['Gender'].replace(1,'male', inplace=True)\n",
    "raw_fhr['DSMDisorderType'].replace('NaN','999', inplace=True)\n",
    "raw_fhr['DSMDisorder'].replace(0, 'No', inplace=True)\n",
    "raw_fhr['DSMDisorder'].replace(1, 'Yes', inplace=True)\n",
    "raw_fhr['DSMDisorderType'] = raw_fhr.DSMDisorderType.apply(dx_name)\n",
    "# raw_fhr['DSMcomorbidities'] = raw_fhr.DSMcomorbidities.apply(dx_name)\n",
    "\n",
    "g = raw_sh.append(raw_sz)\n",
    "\n",
    "raw1 = g.append(raw_fhr)\n",
    "pd.set_option('display.max_columns', 500)\n",
    "\n",
    "raw = raw1[['ID','Group','Gender','Age','IQ','Education','Ethnicity','DSMDisorder','DSMDisorderType','DSMcomorbidities',\n",
    "           'Medication','IRI_EC','IRI_FS','IRI_PD','IRI_PT','IRI_Total', 'SIPS_Disorganized','SIPS_Negative',\n",
    "           'SIPS_Positive','SIPS_General','SocAdjScale_SocialLeisure','SocAdjScale_Work','GFS_Social','GFS_Role',\n",
    "           'Chapman_PAS','Chapman_MIS','Chapman_RTS','Chapman_PhAS','Chapman_SocAnh']].copy()"
   ]
  },
  {
   "cell_type": "code",
   "execution_count": 137,
   "metadata": {
    "collapsed": false
   },
   "outputs": [
    {
     "data": {
      "text/html": [
       "<div>\n",
       "<table border=\"1\" class=\"dataframe\">\n",
       "  <thead>\n",
       "    <tr style=\"text-align: right;\">\n",
       "      <th></th>\n",
       "      <th>ID</th>\n",
       "      <th>Group</th>\n",
       "      <th>Gender</th>\n",
       "      <th>Age</th>\n",
       "      <th>IQ</th>\n",
       "      <th>Education</th>\n",
       "      <th>Ethnicity</th>\n",
       "      <th>DSMDisorder</th>\n",
       "      <th>DSMDisorderType</th>\n",
       "      <th>DSMcomorbidities</th>\n",
       "      <th>Medication</th>\n",
       "      <th>IRI_EC</th>\n",
       "      <th>IRI_FS</th>\n",
       "      <th>IRI_PD</th>\n",
       "      <th>IRI_PT</th>\n",
       "      <th>IRI_Total</th>\n",
       "      <th>SIPS_Disorganized</th>\n",
       "      <th>SIPS_Negative</th>\n",
       "      <th>SIPS_Positive</th>\n",
       "      <th>SIPS_General</th>\n",
       "      <th>SocAdjScale_SocialLeisure</th>\n",
       "      <th>SocAdjScale_Work</th>\n",
       "      <th>GFS_Social</th>\n",
       "      <th>GFS_Role</th>\n",
       "      <th>Chapman_PAS</th>\n",
       "      <th>Chapman_MIS</th>\n",
       "      <th>Chapman_RTS</th>\n",
       "      <th>Chapman_PhAS</th>\n",
       "      <th>Chapman_SocAnh</th>\n",
       "    </tr>\n",
       "  </thead>\n",
       "  <tbody>\n",
       "    <tr>\n",
       "      <th>0</th>\n",
       "      <td>26105</td>\n",
       "      <td>HC</td>\n",
       "      <td>female</td>\n",
       "      <td>33</td>\n",
       "      <td>102</td>\n",
       "      <td>12</td>\n",
       "      <td>NaN</td>\n",
       "      <td>NaN</td>\n",
       "      <td>NaN</td>\n",
       "      <td>NaN</td>\n",
       "      <td>NaN</td>\n",
       "      <td>36</td>\n",
       "      <td>30</td>\n",
       "      <td>12</td>\n",
       "      <td>32</td>\n",
       "      <td>110</td>\n",
       "      <td>0</td>\n",
       "      <td>0</td>\n",
       "      <td>0</td>\n",
       "      <td>0</td>\n",
       "      <td>49</td>\n",
       "      <td>80</td>\n",
       "      <td>NaN</td>\n",
       "      <td>NaN</td>\n",
       "      <td>NaN</td>\n",
       "      <td>NaN</td>\n",
       "      <td>NaN</td>\n",
       "      <td>NaN</td>\n",
       "      <td>NaN</td>\n",
       "    </tr>\n",
       "    <tr>\n",
       "      <th>1</th>\n",
       "      <td>26120</td>\n",
       "      <td>HC</td>\n",
       "      <td>male</td>\n",
       "      <td>22</td>\n",
       "      <td>133</td>\n",
       "      <td>16</td>\n",
       "      <td>NaN</td>\n",
       "      <td>NaN</td>\n",
       "      <td>NaN</td>\n",
       "      <td>NaN</td>\n",
       "      <td>NaN</td>\n",
       "      <td>24</td>\n",
       "      <td>33</td>\n",
       "      <td>14</td>\n",
       "      <td>31</td>\n",
       "      <td>102</td>\n",
       "      <td>0</td>\n",
       "      <td>2</td>\n",
       "      <td>1</td>\n",
       "      <td>0</td>\n",
       "      <td>42</td>\n",
       "      <td>0</td>\n",
       "      <td>10</td>\n",
       "      <td>9</td>\n",
       "      <td>NaN</td>\n",
       "      <td>NaN</td>\n",
       "      <td>NaN</td>\n",
       "      <td>NaN</td>\n",
       "      <td>NaN</td>\n",
       "    </tr>\n",
       "    <tr>\n",
       "      <th>2</th>\n",
       "      <td>26130</td>\n",
       "      <td>HC</td>\n",
       "      <td>female</td>\n",
       "      <td>19</td>\n",
       "      <td>118</td>\n",
       "      <td>14</td>\n",
       "      <td>NaN</td>\n",
       "      <td>NaN</td>\n",
       "      <td>NaN</td>\n",
       "      <td>NaN</td>\n",
       "      <td>NaN</td>\n",
       "      <td>NaN</td>\n",
       "      <td>NaN</td>\n",
       "      <td>NaN</td>\n",
       "      <td>NaN</td>\n",
       "      <td>NaN</td>\n",
       "      <td>0</td>\n",
       "      <td>0</td>\n",
       "      <td>0</td>\n",
       "      <td>0</td>\n",
       "      <td>45</td>\n",
       "      <td>51</td>\n",
       "      <td>10</td>\n",
       "      <td>9</td>\n",
       "      <td>NaN</td>\n",
       "      <td>NaN</td>\n",
       "      <td>NaN</td>\n",
       "      <td>NaN</td>\n",
       "      <td>NaN</td>\n",
       "    </tr>\n",
       "    <tr>\n",
       "      <th>3</th>\n",
       "      <td>26133</td>\n",
       "      <td>HC</td>\n",
       "      <td>female</td>\n",
       "      <td>24</td>\n",
       "      <td>103</td>\n",
       "      <td>17</td>\n",
       "      <td>NaN</td>\n",
       "      <td>NaN</td>\n",
       "      <td>NaN</td>\n",
       "      <td>NaN</td>\n",
       "      <td>NaN</td>\n",
       "      <td>34</td>\n",
       "      <td>34</td>\n",
       "      <td>16</td>\n",
       "      <td>33</td>\n",
       "      <td>117</td>\n",
       "      <td>2</td>\n",
       "      <td>1</td>\n",
       "      <td>4</td>\n",
       "      <td>2</td>\n",
       "      <td>62</td>\n",
       "      <td>55</td>\n",
       "      <td>10</td>\n",
       "      <td>9</td>\n",
       "      <td>NaN</td>\n",
       "      <td>NaN</td>\n",
       "      <td>NaN</td>\n",
       "      <td>NaN</td>\n",
       "      <td>NaN</td>\n",
       "    </tr>\n",
       "    <tr>\n",
       "      <th>4</th>\n",
       "      <td>26137</td>\n",
       "      <td>HC</td>\n",
       "      <td>male</td>\n",
       "      <td>19</td>\n",
       "      <td>133</td>\n",
       "      <td>13</td>\n",
       "      <td>NaN</td>\n",
       "      <td>NaN</td>\n",
       "      <td>NaN</td>\n",
       "      <td>NaN</td>\n",
       "      <td>NaN</td>\n",
       "      <td>NaN</td>\n",
       "      <td>NaN</td>\n",
       "      <td>NaN</td>\n",
       "      <td>NaN</td>\n",
       "      <td>NaN</td>\n",
       "      <td>0</td>\n",
       "      <td>0</td>\n",
       "      <td>0</td>\n",
       "      <td>0</td>\n",
       "      <td>45</td>\n",
       "      <td>NaN</td>\n",
       "      <td>9</td>\n",
       "      <td>9</td>\n",
       "      <td>NaN</td>\n",
       "      <td>NaN</td>\n",
       "      <td>NaN</td>\n",
       "      <td>NaN</td>\n",
       "      <td>NaN</td>\n",
       "    </tr>\n",
       "  </tbody>\n",
       "</table>\n",
       "</div>"
      ],
      "text/plain": [
       "      ID Group  Gender  Age   IQ  Education  Ethnicity DSMDisorder  \\\n",
       "0  26105    HC  female   33  102         12        NaN         NaN   \n",
       "1  26120    HC    male   22  133         16        NaN         NaN   \n",
       "2  26130    HC  female   19  118         14        NaN         NaN   \n",
       "3  26133    HC  female   24  103         17        NaN         NaN   \n",
       "4  26137    HC    male   19  133         13        NaN         NaN   \n",
       "\n",
       "  DSMDisorderType  DSMcomorbidities  Medication  IRI_EC  IRI_FS  IRI_PD  \\\n",
       "0             NaN               NaN         NaN      36      30      12   \n",
       "1             NaN               NaN         NaN      24      33      14   \n",
       "2             NaN               NaN         NaN     NaN     NaN     NaN   \n",
       "3             NaN               NaN         NaN      34      34      16   \n",
       "4             NaN               NaN         NaN     NaN     NaN     NaN   \n",
       "\n",
       "   IRI_PT  IRI_Total  SIPS_Disorganized  SIPS_Negative  SIPS_Positive  \\\n",
       "0      32        110                  0              0              0   \n",
       "1      31        102                  0              2              1   \n",
       "2     NaN        NaN                  0              0              0   \n",
       "3      33        117                  2              1              4   \n",
       "4     NaN        NaN                  0              0              0   \n",
       "\n",
       "   SIPS_General  SocAdjScale_SocialLeisure  SocAdjScale_Work  GFS_Social  \\\n",
       "0             0                         49                80         NaN   \n",
       "1             0                         42                 0          10   \n",
       "2             0                         45                51          10   \n",
       "3             2                         62                55          10   \n",
       "4             0                         45               NaN           9   \n",
       "\n",
       "   GFS_Role  Chapman_PAS  Chapman_MIS  Chapman_RTS  Chapman_PhAS  \\\n",
       "0       NaN          NaN          NaN          NaN           NaN   \n",
       "1         9          NaN          NaN          NaN           NaN   \n",
       "2         9          NaN          NaN          NaN           NaN   \n",
       "3         9          NaN          NaN          NaN           NaN   \n",
       "4         9          NaN          NaN          NaN           NaN   \n",
       "\n",
       "   Chapman_SocAnh  \n",
       "0             NaN  \n",
       "1             NaN  \n",
       "2             NaN  \n",
       "3             NaN  \n",
       "4             NaN  "
      ]
     },
     "execution_count": 137,
     "metadata": {},
     "output_type": "execute_result"
    }
   ],
   "source": [
    "raw.head()"
   ]
  },
  {
   "cell_type": "raw",
   "metadata": {},
   "source": []
  },
  {
   "cell_type": "markdown",
   "metadata": {},
   "source": [
    "### Demographics"
   ]
  },
  {
   "cell_type": "code",
   "execution_count": 138,
   "metadata": {
    "collapsed": false,
    "scrolled": false
   },
   "outputs": [
    {
     "data": {
      "text/plain": [
       "Group\n",
       "FHR    19\n",
       "HC     24\n",
       "HR     27\n",
       "SZ     26\n",
       "Name: ID, dtype: int64"
      ]
     },
     "execution_count": 138,
     "metadata": {},
     "output_type": "execute_result"
    }
   ],
   "source": [
    "raw.groupby('Group')['ID'].nunique()"
   ]
  },
  {
   "cell_type": "code",
   "execution_count": 139,
   "metadata": {
    "collapsed": false,
    "scrolled": true
   },
   "outputs": [
    {
     "data": {
      "text/plain": [
       "Group        \n",
       "FHR    female    14\n",
       "       male       5\n",
       "HC     male      12\n",
       "       female    12\n",
       "HR     male      18\n",
       "       female     9\n",
       "SZ     1         16\n",
       "       2         10\n",
       "dtype: int64"
      ]
     },
     "execution_count": 139,
     "metadata": {},
     "output_type": "execute_result"
    }
   ],
   "source": [
    "#Even split in HC group, more males in HR and SZ group - unsurprising...however mostly female in GHR group\n",
    "\n",
    "raw.groupby('Group')['Gender'].value_counts()"
   ]
  },
  {
   "cell_type": "code",
   "execution_count": 140,
   "metadata": {
    "collapsed": false,
    "scrolled": false
   },
   "outputs": [
    {
     "name": "stdout",
     "output_type": "stream",
     "text": [
      "Group       \n",
      "FHR    count    19.000000\n",
      "       mean     27.421053\n",
      "       std       3.920258\n",
      "       min      20.000000\n",
      "       25%      24.500000\n",
      "       50%      27.000000\n",
      "       75%      31.000000\n",
      "       max      33.000000\n",
      "HC     count    24.000000\n",
      "       mean     22.750000\n",
      "       std       4.002716\n",
      "       min      18.000000\n",
      "       25%      19.750000\n",
      "       50%      22.000000\n",
      "       75%      24.750000\n",
      "       max      33.000000\n",
      "HR     count    27.000000\n",
      "       mean     21.629630\n",
      "       std       4.404090\n",
      "       min      15.000000\n",
      "       25%      18.000000\n",
      "       50%      22.000000\n",
      "       75%      23.500000\n",
      "       max      34.000000\n",
      "SZ     count    26.000000\n",
      "       mean     38.692308\n",
      "       std      10.279180\n",
      "       min      21.000000\n",
      "       25%      31.250000\n",
      "       50%      38.500000\n",
      "       75%      44.750000\n",
      "       max      58.000000\n",
      "dtype: float64\n"
     ]
    },
    {
     "data": {
      "text/plain": [
       "<matplotlib.axes._subplots.AxesSubplot at 0x123d427d0>"
      ]
     },
     "execution_count": 140,
     "metadata": {},
     "output_type": "execute_result"
    },
    {
     "data": {
      "image/png": "[encoded data removed]",
      "text/plain": [
       "<matplotlib.figure.Figure at 0x122ee14d0>"
      ]
     },
     "metadata": {},
     "output_type": "display_data"
    }
   ],
   "source": [
    "#Age\n",
    "g=raw.groupby('Group')\n",
    "print (g.Age.describe())\n",
    "\n",
    "sns.boxplot(x='Group',y='Age',data=raw)"
   ]
  },
  {
   "cell_type": "code",
   "execution_count": 44,
   "metadata": {
    "collapsed": true
   },
   "outputs": [],
   "source": [
    "\"\"\"Dataframe dropping participants without an IQ value\"\"\"\n",
    "raw_IQ = raw[np.isfinite(raw['IQ'])]"
   ]
  },
  {
   "cell_type": "code",
   "execution_count": 141,
   "metadata": {
    "collapsed": false
   },
   "outputs": [
    {
     "name": "stdout",
     "output_type": "stream",
     "text": [
      "Group       \n",
      "FHR    count     18.000000\n",
      "       mean     117.000000\n",
      "       std        9.779931\n",
      "       min       95.000000\n",
      "       25%      115.500000\n",
      "       50%      118.000000\n",
      "       75%      121.750000\n",
      "       max      136.000000\n",
      "HC     count     24.000000\n",
      "       mean     115.125000\n",
      "       std       10.330674\n",
      "       min       97.000000\n",
      "       25%      107.750000\n",
      "       50%      117.500000\n",
      "       75%      119.000000\n",
      "       max      138.000000\n",
      "HR     count     24.000000\n",
      "       mean     106.791667\n",
      "       std       17.688068\n",
      "       min       79.000000\n",
      "       25%       91.750000\n",
      "       50%      106.500000\n",
      "       75%      122.250000\n",
      "       max      139.000000\n",
      "SZ     count     26.000000\n",
      "       mean     108.076923\n",
      "       std       13.323432\n",
      "       min       82.000000\n",
      "       25%       99.000000\n",
      "       50%      107.500000\n",
      "       75%      118.750000\n",
      "       max      133.000000\n",
      "dtype: float64\n",
      "Between group t-test on IQ HC and HR\n",
      "t(46) = 1.99, p = 0.052\n",
      "Between group t-test on IQ HC and SZ\n",
      "t(48) = 2.08, p = 0.043\n",
      "Between group t-test on IQ HC and FHR\n",
      "t(40) = -0.60, p = 0.555\n"
     ]
    },
    {
     "data": {
      "text/plain": [
       "<matplotlib.axes._subplots.AxesSubplot at 0x120931390>"
      ]
     },
     "execution_count": 141,
     "metadata": {},
     "output_type": "execute_result"
    },
    {
     "data": {
      "image/png": "[encoded data removed]",
      "text/plain": [
       "<matplotlib.figure.Figure at 0x1269eb810>"
      ]
     },
     "metadata": {},
     "output_type": "display_data"
    }
   ],
   "source": [
    "#IQ: Looks like FHR has significantly higher IQ than HC (and therefore all groups)\n",
    "\n",
    "i = raw_IQ.groupby('Group')\n",
    "\n",
    "print (i.IQ.describe())\n",
    "print ('Between group t-test on IQ HC and HR')\n",
    "misc.ttest_2s(raw_IQ[raw_IQ.Group == 'HC']['IQ'],raw_IQ[raw_IQ.Group == 'HR']['IQ'])\n",
    "\n",
    "print ('Between group t-test on IQ HC and SZ')\n",
    "misc.ttest_2s(raw_IQ[raw_IQ.Group == 'HC']['IQ'],raw_IQ[raw_IQ.Group == 'SZ']['IQ'])\n",
    "\n",
    "print ('Between group t-test on IQ HC and FHR')\n",
    "misc.ttest_2s(raw_IQ[raw_IQ.Group == 'HC']['IQ'],raw_IQ[raw_IQ.Group == 'FHR']['IQ'])\n",
    "\n",
    "sns.boxplot(x='Group',y='IQ',data=raw_IQ)"
   ]
  },
  {
   "cell_type": "code",
   "execution_count": null,
   "metadata": {
    "collapsed": true
   },
   "outputs": [],
   "source": []
  },
  {
   "cell_type": "markdown",
   "metadata": {},
   "source": [
    "### Data Quality Check"
   ]
  },
  {
   "cell_type": "code",
   "execution_count": 142,
   "metadata": {
    "collapsed": true
   },
   "outputs": [],
   "source": [
    "#Dataframe where any row that has NAN value is dropped- will tell us how many participants have at least some missing \n",
    "#data\n",
    "sh_no_na = raw_sh.dropna()"
   ]
  },
  {
   "cell_type": "code",
   "execution_count": 143,
   "metadata": {
    "collapsed": false,
    "scrolled": true
   },
   "outputs": [
    {
     "data": {
      "text/plain": [
       "Group\n",
       "HC    8\n",
       "HR    9\n",
       "Name: ID, dtype: int64"
      ]
     },
     "execution_count": 143,
     "metadata": {},
     "output_type": "execute_result"
    }
   ],
   "source": [
    "# looks like most participants have some missing values...\n",
    "sh_no_na.groupby('Group')['ID'].nunique()"
   ]
  },
  {
   "cell_type": "code",
   "execution_count": 144,
   "metadata": {
    "collapsed": false
   },
   "outputs": [],
   "source": [
    "#Dataframe where any row that has less than 6 entries - which corresponds to anything other than demographic \n",
    "#information/subject ID entered - are dropped. These are participants that should not be included in the analyses.\n",
    "df_cleaned = raw.dropna(thresh=6)"
   ]
  },
  {
   "cell_type": "code",
   "execution_count": 145,
   "metadata": {
    "collapsed": false,
    "scrolled": true
   },
   "outputs": [
    {
     "data": {
      "text/plain": [
       "Group\n",
       "FHR    19\n",
       "HC     24\n",
       "HR     26\n",
       "SZ     26\n",
       "Name: ID, dtype: int64"
      ]
     },
     "execution_count": 145,
     "metadata": {},
     "output_type": "execute_result"
    }
   ],
   "source": [
    "#one participant that has no measures taken: 26195\n",
    "df_cleaned.groupby('Group')['ID'].nunique()"
   ]
  },
  {
   "cell_type": "code",
   "execution_count": null,
   "metadata": {
    "collapsed": true
   },
   "outputs": [],
   "source": []
  },
  {
   "cell_type": "markdown",
   "metadata": {},
   "source": [
    "### Looking at Measures"
   ]
  },
  {
   "cell_type": "code",
   "execution_count": 146,
   "metadata": {
    "collapsed": false
   },
   "outputs": [
    {
     "data": {
      "text/html": [
       "<div>\n",
       "<table border=\"1\" class=\"dataframe\">\n",
       "  <thead>\n",
       "    <tr style=\"text-align: right;\">\n",
       "      <th></th>\n",
       "      <th>ID</th>\n",
       "      <th>Group</th>\n",
       "      <th>Gender</th>\n",
       "      <th>Age</th>\n",
       "      <th>IQ</th>\n",
       "      <th>Education</th>\n",
       "      <th>Ethnicity</th>\n",
       "      <th>DSMDisorder</th>\n",
       "      <th>DSMDisorderType</th>\n",
       "      <th>DSMcomorbidities</th>\n",
       "      <th>Medication</th>\n",
       "      <th>IRI_EC</th>\n",
       "      <th>IRI_FS</th>\n",
       "      <th>IRI_PD</th>\n",
       "      <th>IRI_PT</th>\n",
       "      <th>IRI_Total</th>\n",
       "      <th>SIPS_Disorganized</th>\n",
       "      <th>SIPS_Negative</th>\n",
       "      <th>SIPS_Positive</th>\n",
       "      <th>SIPS_General</th>\n",
       "      <th>SocAdjScale_SocialLeisure</th>\n",
       "      <th>SocAdjScale_Work</th>\n",
       "      <th>GFS_Social</th>\n",
       "      <th>GFS_Role</th>\n",
       "      <th>Chapman_PAS</th>\n",
       "      <th>Chapman_MIS</th>\n",
       "      <th>Chapman_RTS</th>\n",
       "      <th>Chapman_PhAS</th>\n",
       "      <th>Chapman_SocAnh</th>\n",
       "    </tr>\n",
       "  </thead>\n",
       "  <tbody>\n",
       "    <tr>\n",
       "      <th>0</th>\n",
       "      <td>26105</td>\n",
       "      <td>HC</td>\n",
       "      <td>female</td>\n",
       "      <td>33</td>\n",
       "      <td>102</td>\n",
       "      <td>12</td>\n",
       "      <td>NaN</td>\n",
       "      <td>NaN</td>\n",
       "      <td>NaN</td>\n",
       "      <td>NaN</td>\n",
       "      <td>NaN</td>\n",
       "      <td>36</td>\n",
       "      <td>30</td>\n",
       "      <td>12</td>\n",
       "      <td>32</td>\n",
       "      <td>110</td>\n",
       "      <td>0</td>\n",
       "      <td>0</td>\n",
       "      <td>0</td>\n",
       "      <td>0</td>\n",
       "      <td>49</td>\n",
       "      <td>80</td>\n",
       "      <td>NaN</td>\n",
       "      <td>NaN</td>\n",
       "      <td>NaN</td>\n",
       "      <td>NaN</td>\n",
       "      <td>NaN</td>\n",
       "      <td>NaN</td>\n",
       "      <td>NaN</td>\n",
       "    </tr>\n",
       "    <tr>\n",
       "      <th>1</th>\n",
       "      <td>26120</td>\n",
       "      <td>HC</td>\n",
       "      <td>male</td>\n",
       "      <td>22</td>\n",
       "      <td>133</td>\n",
       "      <td>16</td>\n",
       "      <td>NaN</td>\n",
       "      <td>NaN</td>\n",
       "      <td>NaN</td>\n",
       "      <td>NaN</td>\n",
       "      <td>NaN</td>\n",
       "      <td>24</td>\n",
       "      <td>33</td>\n",
       "      <td>14</td>\n",
       "      <td>31</td>\n",
       "      <td>102</td>\n",
       "      <td>0</td>\n",
       "      <td>2</td>\n",
       "      <td>1</td>\n",
       "      <td>0</td>\n",
       "      <td>42</td>\n",
       "      <td>0</td>\n",
       "      <td>10</td>\n",
       "      <td>9</td>\n",
       "      <td>NaN</td>\n",
       "      <td>NaN</td>\n",
       "      <td>NaN</td>\n",
       "      <td>NaN</td>\n",
       "      <td>NaN</td>\n",
       "    </tr>\n",
       "    <tr>\n",
       "      <th>2</th>\n",
       "      <td>26130</td>\n",
       "      <td>HC</td>\n",
       "      <td>female</td>\n",
       "      <td>19</td>\n",
       "      <td>118</td>\n",
       "      <td>14</td>\n",
       "      <td>NaN</td>\n",
       "      <td>NaN</td>\n",
       "      <td>NaN</td>\n",
       "      <td>NaN</td>\n",
       "      <td>NaN</td>\n",
       "      <td>NaN</td>\n",
       "      <td>NaN</td>\n",
       "      <td>NaN</td>\n",
       "      <td>NaN</td>\n",
       "      <td>NaN</td>\n",
       "      <td>0</td>\n",
       "      <td>0</td>\n",
       "      <td>0</td>\n",
       "      <td>0</td>\n",
       "      <td>45</td>\n",
       "      <td>51</td>\n",
       "      <td>10</td>\n",
       "      <td>9</td>\n",
       "      <td>NaN</td>\n",
       "      <td>NaN</td>\n",
       "      <td>NaN</td>\n",
       "      <td>NaN</td>\n",
       "      <td>NaN</td>\n",
       "    </tr>\n",
       "    <tr>\n",
       "      <th>3</th>\n",
       "      <td>26133</td>\n",
       "      <td>HC</td>\n",
       "      <td>female</td>\n",
       "      <td>24</td>\n",
       "      <td>103</td>\n",
       "      <td>17</td>\n",
       "      <td>NaN</td>\n",
       "      <td>NaN</td>\n",
       "      <td>NaN</td>\n",
       "      <td>NaN</td>\n",
       "      <td>NaN</td>\n",
       "      <td>34</td>\n",
       "      <td>34</td>\n",
       "      <td>16</td>\n",
       "      <td>33</td>\n",
       "      <td>117</td>\n",
       "      <td>2</td>\n",
       "      <td>1</td>\n",
       "      <td>4</td>\n",
       "      <td>2</td>\n",
       "      <td>62</td>\n",
       "      <td>55</td>\n",
       "      <td>10</td>\n",
       "      <td>9</td>\n",
       "      <td>NaN</td>\n",
       "      <td>NaN</td>\n",
       "      <td>NaN</td>\n",
       "      <td>NaN</td>\n",
       "      <td>NaN</td>\n",
       "    </tr>\n",
       "    <tr>\n",
       "      <th>4</th>\n",
       "      <td>26137</td>\n",
       "      <td>HC</td>\n",
       "      <td>male</td>\n",
       "      <td>19</td>\n",
       "      <td>133</td>\n",
       "      <td>13</td>\n",
       "      <td>NaN</td>\n",
       "      <td>NaN</td>\n",
       "      <td>NaN</td>\n",
       "      <td>NaN</td>\n",
       "      <td>NaN</td>\n",
       "      <td>NaN</td>\n",
       "      <td>NaN</td>\n",
       "      <td>NaN</td>\n",
       "      <td>NaN</td>\n",
       "      <td>NaN</td>\n",
       "      <td>0</td>\n",
       "      <td>0</td>\n",
       "      <td>0</td>\n",
       "      <td>0</td>\n",
       "      <td>45</td>\n",
       "      <td>NaN</td>\n",
       "      <td>9</td>\n",
       "      <td>9</td>\n",
       "      <td>NaN</td>\n",
       "      <td>NaN</td>\n",
       "      <td>NaN</td>\n",
       "      <td>NaN</td>\n",
       "      <td>NaN</td>\n",
       "    </tr>\n",
       "  </tbody>\n",
       "</table>\n",
       "</div>"
      ],
      "text/plain": [
       "      ID Group  Gender  Age   IQ  Education  Ethnicity DSMDisorder  \\\n",
       "0  26105    HC  female   33  102         12        NaN         NaN   \n",
       "1  26120    HC    male   22  133         16        NaN         NaN   \n",
       "2  26130    HC  female   19  118         14        NaN         NaN   \n",
       "3  26133    HC  female   24  103         17        NaN         NaN   \n",
       "4  26137    HC    male   19  133         13        NaN         NaN   \n",
       "\n",
       "  DSMDisorderType  DSMcomorbidities  Medication  IRI_EC  IRI_FS  IRI_PD  \\\n",
       "0             NaN               NaN         NaN      36      30      12   \n",
       "1             NaN               NaN         NaN      24      33      14   \n",
       "2             NaN               NaN         NaN     NaN     NaN     NaN   \n",
       "3             NaN               NaN         NaN      34      34      16   \n",
       "4             NaN               NaN         NaN     NaN     NaN     NaN   \n",
       "\n",
       "   IRI_PT  IRI_Total  SIPS_Disorganized  SIPS_Negative  SIPS_Positive  \\\n",
       "0      32        110                  0              0              0   \n",
       "1      31        102                  0              2              1   \n",
       "2     NaN        NaN                  0              0              0   \n",
       "3      33        117                  2              1              4   \n",
       "4     NaN        NaN                  0              0              0   \n",
       "\n",
       "   SIPS_General  SocAdjScale_SocialLeisure  SocAdjScale_Work  GFS_Social  \\\n",
       "0             0                         49                80         NaN   \n",
       "1             0                         42                 0          10   \n",
       "2             0                         45                51          10   \n",
       "3             2                         62                55          10   \n",
       "4             0                         45               NaN           9   \n",
       "\n",
       "   GFS_Role  Chapman_PAS  Chapman_MIS  Chapman_RTS  Chapman_PhAS  \\\n",
       "0       NaN          NaN          NaN          NaN           NaN   \n",
       "1         9          NaN          NaN          NaN           NaN   \n",
       "2         9          NaN          NaN          NaN           NaN   \n",
       "3         9          NaN          NaN          NaN           NaN   \n",
       "4         9          NaN          NaN          NaN           NaN   \n",
       "\n",
       "   Chapman_SocAnh  \n",
       "0             NaN  \n",
       "1             NaN  \n",
       "2             NaN  \n",
       "3             NaN  \n",
       "4             NaN  "
      ]
     },
     "execution_count": 146,
     "metadata": {},
     "output_type": "execute_result"
    }
   ],
   "source": [
    "raw.head()"
   ]
  },
  {
   "cell_type": "code",
   "execution_count": 147,
   "metadata": {
    "collapsed": false
   },
   "outputs": [],
   "source": [
    "#Dataframe dropping participants without an IQ value\n",
    "raw_IRI = raw[np.isfinite(raw['IRI_EC'])]\n",
    "raw_IRI = raw[np.isfinite(raw['IRI_FS'])]\n",
    "raw_IRI = raw[np.isfinite(raw['IRI_PD'])]\n",
    "raw_IRI = raw[np.isfinite(raw['IRI_PT'])]"
   ]
  },
  {
   "cell_type": "code",
   "execution_count": 148,
   "metadata": {
    "collapsed": false
   },
   "outputs": [
    {
     "data": {
      "image/png": "[encoded data removed]",
      "text/plain": [
       "<matplotlib.figure.Figure at 0x1269c99d0>"
      ]
     },
     "metadata": {},
     "output_type": "display_data"
    }
   ],
   "source": [
    "fig = plt.figure()\n",
    "iri = fig.add_subplot(141)\n",
    "sns.boxplot(y='IRI_EC', x='Group', data = raw_IRI)\n",
    "plt.ylabel('Emapathic Concern')\n",
    "iri = fig.add_subplot(142)\n",
    "sns.boxplot(y='IRI_FS', x='Group', data = raw_IRI)\n",
    "plt.ylabel('Fantasy')\n",
    "iri = fig.add_subplot(143)\n",
    "sns.boxplot(y='IRI_PD', x='Group', data = raw_IRI)\n",
    "plt.ylabel('Personal Distress')\n",
    "iri = fig.add_subplot(144)\n",
    "sns.boxplot(y='IRI_PT', x='Group', data = raw_IRI)\n",
    "plt.ylabel('Perspective Taking')\n",
    "fig.tight_layout()"
   ]
  },
  {
   "cell_type": "code",
   "execution_count": 149,
   "metadata": {
    "collapsed": false
   },
   "outputs": [
    {
     "data": {
      "image/png": "[encoded data removed]",
      "text/plain": [
       "<matplotlib.figure.Figure at 0x12544b1d0>"
      ]
     },
     "metadata": {},
     "output_type": "display_data"
    }
   ],
   "source": [
    "fig = plt.figure(figsize=(8, 6))\n",
    "iri = fig.add_subplot(141)\n",
    "sns.boxplot(y='SIPS_Positive', x='Group', data = raw)\n",
    "iri = fig.add_subplot(142)\n",
    "sns.boxplot(y='SIPS_Negative', x='Group', data = raw)\n",
    "iri = fig.add_subplot(143)\n",
    "sns.boxplot(y='SIPS_Disorganized', x='Group', data = raw)\n",
    "iri = fig.add_subplot(144)\n",
    "sns.boxplot(y='SIPS_General', x='Group', data = raw)\n",
    "fig.tight_layout()"
   ]
  },
  {
   "cell_type": "code",
   "execution_count": null,
   "metadata": {
    "collapsed": true
   },
   "outputs": [],
   "source": []
  },
  {
   "cell_type": "code",
   "execution_count": 150,
   "metadata": {
    "collapsed": false,
    "scrolled": false
   },
   "outputs": [
    {
     "data": {
      "image/png": "[encoded data removed]",
      "text/plain": [
       "<matplotlib.figure.Figure at 0x1271e8750>"
      ]
     },
     "metadata": {},
     "output_type": "display_data"
    }
   ],
   "source": [
    "fig = plt.figure(figsize=(8, 6))\n",
    "iri = fig.add_subplot(231)\n",
    "sns.boxplot(y='Chapman_RTS', x='Group', data = raw)\n",
    "iri = fig.add_subplot(232)\n",
    "sns.boxplot(y='Chapman_MIS', x='Group', data = raw)\n",
    "iri = fig.add_subplot(233)\n",
    "sns.boxplot(y='Chapman_PAS', x='Group', data = raw)\n",
    "iri = fig.add_subplot(234)\n",
    "sns.boxplot(y='Chapman_PhAS', x='Group', data = raw)\n",
    "iri = fig.add_subplot(235)\n",
    "sns.boxplot(y='Chapman_SocAnh', x='Group', data = raw)\n",
    "fig.tight_layout()"
   ]
  },
  {
   "cell_type": "code",
   "execution_count": 100,
   "metadata": {
    "collapsed": false,
    "scrolled": true
   },
   "outputs": [
    {
     "data": {
      "text/plain": [
       "<seaborn.axisgrid.FacetGrid at 0x125fe79d0>"
      ]
     },
     "execution_count": 100,
     "metadata": {},
     "output_type": "execute_result"
    },
    {
     "data": {
      "image/png": "[encoded data removed]",
      "text/plain": [
       "<matplotlib.figure.Figure at 0x125fe7a50>"
      ]
     },
     "metadata": {},
     "output_type": "display_data"
    }
   ],
   "source": [
    "sns.factorplot(y='GFS_Role',x='Group',units='ID',ci=68,kind='bar',data=raw)"
   ]
  },
  {
   "cell_type": "code",
   "execution_count": 151,
   "metadata": {
    "collapsed": false
   },
   "outputs": [
    {
     "data": {
      "text/plain": [
       "<seaborn.axisgrid.FacetGrid at 0x125fc9790>"
      ]
     },
     "execution_count": 151,
     "metadata": {},
     "output_type": "execute_result"
    },
    {
     "data": {
      "image/png": "[encoded data removed]",
      "text/plain": [
       "<matplotlib.figure.Figure at 0x123e69fd0>"
      ]
     },
     "metadata": {},
     "output_type": "display_data"
    }
   ],
   "source": [
    "sns.factorplot(y='GFS_Social',x='Group',units='ID',ci=68,kind='bar',data=raw)"
   ]
  },
  {
   "cell_type": "code",
   "execution_count": 101,
   "metadata": {
    "collapsed": false
   },
   "outputs": [
    {
     "data": {
      "text/plain": [
       "<seaborn.axisgrid.FacetGrid at 0x1269855d0>"
      ]
     },
     "execution_count": 101,
     "metadata": {},
     "output_type": "execute_result"
    },
    {
     "data": {
      "image/png": "[encoded data removed]",
      "text/plain": [
       "<matplotlib.figure.Figure at 0x126985650>"
      ]
     },
     "metadata": {},
     "output_type": "display_data"
    }
   ],
   "source": [
    "sns.factorplot(y='SocAdjScale_SocialLeisure',x='Group',units='ID',ci=68,kind='bar',data=raw)"
   ]
  },
  {
   "cell_type": "code",
   "execution_count": 154,
   "metadata": {
    "collapsed": false,
    "scrolled": true
   },
   "outputs": [
    {
     "data": {
      "text/plain": [
       "<seaborn.axisgrid.FacetGrid at 0x12063d210>"
      ]
     },
     "execution_count": 154,
     "metadata": {},
     "output_type": "execute_result"
    },
    {
     "data": {
      "image/png": "[encoded data removed]",
      "text/plain": [
       "<matplotlib.figure.Figure at 0x12063de10>"
      ]
     },
     "metadata": {},
     "output_type": "display_data"
    }
   ],
   "source": [
    "sns.factorplot(y='SocAdjScale_Work',x='Group',units='ID',ci=68,kind='bar',data=raw)"
   ]
  },
  {
   "cell_type": "code",
   "execution_count": null,
   "metadata": {
    "collapsed": true
   },
   "outputs": [],
   "source": []
  }
 ],
 "metadata": {
  "kernelspec": {
   "display_name": "Python 2",
   "language": "python",
   "name": "python2"
  },
  "language_info": {
   "codemirror_mode": {
    "name": "ipython",
    "version": 2
   },
   "file_extension": ".py",
   "mimetype": "text/x-python",
   "name": "python",
   "nbconvert_exporter": "python",
   "pygments_lexer": "ipython2",
   "version": "2.7.12"
  }
 },
 "nbformat": 4,
 "nbformat_minor": 0
}
