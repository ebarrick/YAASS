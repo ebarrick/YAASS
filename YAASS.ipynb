{
 "cells": [
  {
   "cell_type": "markdown",
   "metadata": {},
   "source": [
    "# YAASS Dataset"
   ]
  },
  {
   "cell_type": "markdown",
   "metadata": {},
   "source": [
    "### The dataset below includes demographic information and multiple clinical measures taken in 4 populations: healthy controls, those at clinical high risk for psychosis, those at familial high risk, and those diagnosed with schizophrenia."
   ]
  },
  {
   "cell_type": "code",
   "execution_count": 54,
   "metadata": {
    "collapsed": true
   },
   "outputs": [],
   "source": [
    "# Get the username and use that to set-up paths to data and figures\n",
    "uname  = !whoami\n",
    "uname = uname[0]\n",
    "path2code = '/Users/' + uname + '/Work/Expts/Code/'\n",
    "path2data = '/Users/' + uname + '/Work/Expts/YAASS/Data/'\n",
    "path2analysis = '/Users/' + uname + '/Work/Expts/YAASS/Analysis/'\n",
    "path2figs = '/Users/' + uname + '/Work/Expts/SOURCE/Analysis/Figures/'"
   ]
  },
  {
   "cell_type": "code",
   "execution_count": 55,
   "metadata": {
    "collapsed": false,
    "scrolled": true
   },
   "outputs": [
    {
     "name": "stdout",
     "output_type": "stream",
     "text": [
      "/Users/elyssabarrick/Work/Expts/Code\n",
      "The rpy2.ipython extension is already loaded. To reload it, use:\n",
      "  %reload_ext rpy2.ipython\n"
     ]
    },
    {
     "data": {
      "text/plain": [
       "array(['scales', 'vcd', 'grid', 'QuantPsyc', 'MASS', 'boot', 'afex',\n",
       "       'reshape2', 'effsize', 'lsmeans', 'estimability', 'lmerTest',\n",
       "       'lme4', 'Matrix', 'tools', 'stats', 'graphics', 'grDevices',\n",
       "       'utils', 'datasets', 'methods', 'base'], \n",
       "      dtype='<U12')"
      ]
     },
     "execution_count": 55,
     "metadata": {},
     "output_type": "execute_result"
    }
   ],
   "source": [
    "%cd {path2code}\n",
    "\n",
    "import csv, misc, os, random, re, SelfRep\n",
    "import numpy as np\n",
    "import pandas as pd\n",
    "import seaborn as sns\n",
    "import scipy as sp\n",
    "from scipy import stats\n",
    "from scipy.stats import zscore\n",
    "from matplotlib import pyplot as plt\n",
    "%matplotlib inline\n",
    "%load_ext rpy2.ipython\n",
    "\n",
    "%R suppressMessages(library('lmerTest'))\n",
    "%R suppressMessages(library('lsmeans'))\n",
    "%R lsm.options(disable.pbkrtest=TRUE)\n",
    "%R suppressMessages(library('effsize')) # Can use this to estimate Cohen's d\n",
    "%R suppressMessages(library('afex'))\n",
    "%R suppressMessages(library('QuantPsyc')) #helpful for extracting betas from hierarchical regresssions\n",
    "%R suppressMessages(library('vcd')) # useful for getting effect sizes from chi-square tests\n",
    "%R suppressMessages(library('scales'))"
   ]
  },
  {
   "cell_type": "markdown",
   "metadata": {},
   "source": [
    "### Building the dataframe"
   ]
  },
  {
   "cell_type": "code",
   "execution_count": 38,
   "metadata": {
    "collapsed": false,
    "scrolled": true
   },
   "outputs": [],
   "source": [
    "#Function to assign names to disorders column\n",
    "# def dx_name(data):\n",
    "#     d = {0:'None', 1:'MDD', 2:'Anxiety', 3:'Sub_abuse', 4:'ADHD', \n",
    "#          5:'Eating', 6:'Schizotypal', 7:'2_co', 8: '3_co', 9:'4_co','999':'na'}\n",
    "#     dx = d[data]\n",
    "#     return dx "
   ]
  },
  {
   "cell_type": "code",
   "execution_count": 31,
   "metadata": {
    "collapsed": false
   },
   "outputs": [],
   "source": [
    "# \"\"\"YAASS data: CHR and HC\"\"\"\n",
    "# raw_chr = pd.read_excel(path2data + 'Bx_Paper_YAASS_Feb2017_edit.xlsx')\n",
    "# raw_chr['Gender'].replace(2, 'female', inplace=True)\n",
    "# raw_chr['Gender'].replace(1,'male', inplace=True)\n",
    "\n",
    "# #individual IRI scores\n",
    "# raw_iri_Y = pd.read_excel(path2data + 'YAASS_IRI.xlsx', sheetname='IRI_EB')\n",
    "# raw_iri_Y = raw_iri_Y.rename(columns={\"Subject\": \"ID\"})\n",
    "\n",
    "# #rescaling the IRI scores from the individual data\n",
    "# new = {1: 1, 2: 1.8, 3: 2.6, 4: 3.4, 5: 4.2, 6: 5} \n",
    "# Y = raw_iri_Y.applymap(lambda d: new.get(d) if d in new else d)\n",
    "# Y.reindex()\n",
    "\n",
    "# #Getting the total for each IRI subscale\n",
    "# fs = ['1_FS', '5_FS', '7_FS_R', '12_FS_R', '16_FS', '23_FS', '26_FS']\n",
    "# ec = ['2_EC', '4_EC_R', '9_EC', '14_EC_R', '18_EC_R', '20_EC', '22_EC']\n",
    "# pt = ['3_PT_R', '8_PT', '11_PT', '15_PT_R', '21_PT', '25_PT', '28_PT']\n",
    "# pd = ['6_PD', '10_PD', '13_PD_R', '17_PD', '19_PD_R', '24_PD', '27_PD']\n",
    "\n",
    "# Y['IRI_FS_total'] = Y[fs].sum(axis=1)\n",
    "# Y['IRI_EC_total'] = Y[ec].sum(axis=1)\n",
    "# Y['IRI_PT_total'] = Y[pt].sum(axis=1)\n",
    "# Y['IRI_PD_total'] = Y[pd].sum(axis=1)\n",
    "\n",
    "# Y = Y[['ID','IRI_FS_total','IRI_EC_total','IRI_PT_total','IRI_PD_total']].copy()"
   ]
  },
  {
   "cell_type": "code",
   "execution_count": 32,
   "metadata": {
    "collapsed": false
   },
   "outputs": [],
   "source": [
    "# merge new IRI scores with YAASS data\n",
    "# y = raw_chr.merge(Y, on='ID', how='left')"
   ]
  },
  {
   "cell_type": "code",
   "execution_count": 39,
   "metadata": {
    "collapsed": false
   },
   "outputs": [],
   "source": [
    "# \"\"\"SCORE data: SZ and HC\"\"\"\n",
    "# raw_sz = pd.read_excel(path2data + 'SCORE Data_Bx_IRI_SocialFx.xlsx')\n",
    "# raw_sz['Group'].replace(2, 'SZ', inplace=True)\n",
    "# raw_sz['Group'].replace(1,'HC',inplace=True)\n",
    "# raw_sz['Gender'].replace(1,'male',inplace=True)\n",
    "# raw_sz['Gender'].replace(2,'female',inplace=True)\n",
    "\n",
    "# #individual IRI scores\n",
    "# raw_iri_S = pd.read_excel(path2data + 'IRI_DAS_CERQ_SCORE.xlsx', sheetname='IRI_EB')\n",
    "# raw_iri_S = raw_iri_S.rename(columns={\"Subject\": \"ID\"})\n",
    "\n",
    "# #rescaling the IRI scores from the individual data\n",
    "# new = {1: 1, 2: 1.8, 3: 2.6, 4: 3.4, 5: 4.2, 6: 5} \n",
    "# S = raw_iri_S.applymap(lambda d: new.get(d) if d in new else d)\n",
    "# S.reindex()\n",
    "\n",
    "# #Getting the total for each IRI subscale\n",
    "# fs = ['1_FS', '5_FS', '7_FS_R', '12_FS_R', '16_FS', '23_FS', '26_FS']\n",
    "# ec = ['2_EC', '4_EC_R', '9_EC', '14_EC_R', '18_EC_R', '20_EC', '22_EC']\n",
    "# pt = ['3_PT_R', '8_PT', '11_PT', '15_PT_R', '21_PT', '25_PT', '28_PT']\n",
    "# pd = ['6_PD', '10_PD', '13_PD_R', '17_PD', '19_PD_R', '24_PD', '27_PD']\n",
    "\n",
    "# S['IRI_FS_total'] = S[fs].sum(axis=1)\n",
    "# S['IRI_EC_total'] = S[ec].sum(axis=1)\n",
    "# S['IRI_PT_total'] = S[pt].sum(axis=1)\n",
    "# S['IRI_PD_total'] = S[pd].sum(axis=1)\n",
    "\n",
    "# S = S[['ID','IRI_FS_total','IRI_EC_total','IRI_PT_total','IRI_PD_total']].copy()"
   ]
  },
  {
   "cell_type": "code",
   "execution_count": 40,
   "metadata": {
    "collapsed": false
   },
   "outputs": [],
   "source": [
    "#merge new IRI scores with SCORE data\n",
    "# s = raw_sz.merge(, on='ID', how='left')"
   ]
  },
  {
   "cell_type": "code",
   "execution_count": 43,
   "metadata": {
    "collapsed": false
   },
   "outputs": [],
   "source": [
    "# \"\"\"FAME data: FHR\"\"\"\n",
    "\n",
    "# raw_fhr = pd.read_excel(path2data + 'FAME_Neuropsych_NEW_edit.xlsx')\n",
    "# raw_fhr['Group'].replace(1, 'FHR', inplace=True)\n",
    "# raw_fhr['Gender'].replace(2, 'female', inplace=True)\n",
    "# raw_fhr['Gender'].replace(1,'male', inplace=True)\n",
    "# raw_fhr = raw_fhr.rename(columns={\"IRI_PT\": \"IRI_PT_total\", \"IRI_EC\": \"IRI_EC_total\", \"IRI_PD\": \"IRI_PD_total\", \n",
    "#                                   \"IRI_FS\": \"IRI_FS_total\"})"
   ]
  },
  {
   "cell_type": "code",
   "execution_count": 56,
   "metadata": {
    "collapsed": false
   },
   "outputs": [],
   "source": [
    "# g = pd.concat([raw_fhr, s])"
   ]
  },
  {
   "cell_type": "code",
   "execution_count": 3,
   "metadata": {
    "collapsed": false
   },
   "outputs": [],
   "source": [
    "# raw = pd.concat([g,y])\n",
    "# pd.set_option('display.max_columns', 500)\n",
    "# raw.tail()"
   ]
  },
  {
   "cell_type": "code",
   "execution_count": 61,
   "metadata": {
    "collapsed": true
   },
   "outputs": [],
   "source": [
    "# output to csv\n",
    "# raw.to_csv('raw.csv')"
   ]
  },
  {
   "cell_type": "code",
   "execution_count": 56,
   "metadata": {
    "collapsed": true
   },
   "outputs": [],
   "source": [
    "raw = pd.read_csv(path2data + 'raw.csv')"
   ]
  },
  {
   "cell_type": "code",
   "execution_count": 57,
   "metadata": {
    "collapsed": false,
    "scrolled": true
   },
   "outputs": [
    {
     "data": {
      "text/html": [
       "<div>\n",
       "<table border=\"1\" class=\"dataframe\">\n",
       "  <thead>\n",
       "    <tr style=\"text-align: right;\">\n",
       "      <th></th>\n",
       "      <th>ID</th>\n",
       "      <th>Group</th>\n",
       "      <th>Gender</th>\n",
       "      <th>Age</th>\n",
       "      <th>Education</th>\n",
       "      <th>Ethnicity</th>\n",
       "      <th>IQ</th>\n",
       "      <th>DSMDisorder</th>\n",
       "      <th>DSMDisorderType</th>\n",
       "      <th>DSMcomorbidities</th>\n",
       "      <th>...</th>\n",
       "      <th>PANAS_PA</th>\n",
       "      <th>SIPS_Disorganized</th>\n",
       "      <th>SIPS_General</th>\n",
       "      <th>SIPS_Negative</th>\n",
       "      <th>SIPS_Positive</th>\n",
       "      <th>SocAdjScale_SocialLeisure</th>\n",
       "      <th>SocAdjScale_Work</th>\n",
       "      <th>GFS_Role</th>\n",
       "      <th>GFS_Social</th>\n",
       "      <th>Present_Clinical</th>\n",
       "    </tr>\n",
       "  </thead>\n",
       "  <tbody>\n",
       "    <tr>\n",
       "      <th>0</th>\n",
       "      <td>2501</td>\n",
       "      <td>FHR</td>\n",
       "      <td>female</td>\n",
       "      <td>25</td>\n",
       "      <td>14.0</td>\n",
       "      <td>NaN</td>\n",
       "      <td>99.0</td>\n",
       "      <td>1.0</td>\n",
       "      <td>7.0</td>\n",
       "      <td>2.0</td>\n",
       "      <td>...</td>\n",
       "      <td>NaN</td>\n",
       "      <td>0.75</td>\n",
       "      <td>0.75</td>\n",
       "      <td>0.500000</td>\n",
       "      <td>1.4</td>\n",
       "      <td>NaN</td>\n",
       "      <td>NaN</td>\n",
       "      <td>NaN</td>\n",
       "      <td>NaN</td>\n",
       "      <td>1.0</td>\n",
       "    </tr>\n",
       "    <tr>\n",
       "      <th>1</th>\n",
       "      <td>2504</td>\n",
       "      <td>FHR</td>\n",
       "      <td>female</td>\n",
       "      <td>29</td>\n",
       "      <td>16.0</td>\n",
       "      <td>NaN</td>\n",
       "      <td>118.0</td>\n",
       "      <td>1.0</td>\n",
       "      <td>7.0</td>\n",
       "      <td>2.0</td>\n",
       "      <td>...</td>\n",
       "      <td>NaN</td>\n",
       "      <td>0.50</td>\n",
       "      <td>0.50</td>\n",
       "      <td>0.333333</td>\n",
       "      <td>1.0</td>\n",
       "      <td>38.0</td>\n",
       "      <td>51.0</td>\n",
       "      <td>NaN</td>\n",
       "      <td>NaN</td>\n",
       "      <td>1.0</td>\n",
       "    </tr>\n",
       "    <tr>\n",
       "      <th>2</th>\n",
       "      <td>2505</td>\n",
       "      <td>FHR</td>\n",
       "      <td>male</td>\n",
       "      <td>33</td>\n",
       "      <td>14.0</td>\n",
       "      <td>NaN</td>\n",
       "      <td>95.0</td>\n",
       "      <td>0.0</td>\n",
       "      <td>0.0</td>\n",
       "      <td>0.0</td>\n",
       "      <td>...</td>\n",
       "      <td>NaN</td>\n",
       "      <td>0.25</td>\n",
       "      <td>0.00</td>\n",
       "      <td>0.000000</td>\n",
       "      <td>0.4</td>\n",
       "      <td>51.0</td>\n",
       "      <td>58.0</td>\n",
       "      <td>NaN</td>\n",
       "      <td>NaN</td>\n",
       "      <td>0.0</td>\n",
       "    </tr>\n",
       "    <tr>\n",
       "      <th>3</th>\n",
       "      <td>2506</td>\n",
       "      <td>FHR</td>\n",
       "      <td>male</td>\n",
       "      <td>33</td>\n",
       "      <td>13.0</td>\n",
       "      <td>NaN</td>\n",
       "      <td>109.0</td>\n",
       "      <td>1.0</td>\n",
       "      <td>4.0</td>\n",
       "      <td>1.0</td>\n",
       "      <td>...</td>\n",
       "      <td>NaN</td>\n",
       "      <td>1.00</td>\n",
       "      <td>0.75</td>\n",
       "      <td>1.166667</td>\n",
       "      <td>1.2</td>\n",
       "      <td>49.0</td>\n",
       "      <td>55.0</td>\n",
       "      <td>NaN</td>\n",
       "      <td>NaN</td>\n",
       "      <td>1.0</td>\n",
       "    </tr>\n",
       "    <tr>\n",
       "      <th>4</th>\n",
       "      <td>2508</td>\n",
       "      <td>FHR</td>\n",
       "      <td>male</td>\n",
       "      <td>28</td>\n",
       "      <td>16.0</td>\n",
       "      <td>NaN</td>\n",
       "      <td>118.0</td>\n",
       "      <td>0.0</td>\n",
       "      <td>NaN</td>\n",
       "      <td>0.0</td>\n",
       "      <td>...</td>\n",
       "      <td>NaN</td>\n",
       "      <td>1.25</td>\n",
       "      <td>1.00</td>\n",
       "      <td>0.500000</td>\n",
       "      <td>1.4</td>\n",
       "      <td>40.0</td>\n",
       "      <td>64.0</td>\n",
       "      <td>NaN</td>\n",
       "      <td>NaN</td>\n",
       "      <td>0.0</td>\n",
       "    </tr>\n",
       "  </tbody>\n",
       "</table>\n",
       "<p>5 rows × 31 columns</p>\n",
       "</div>"
      ],
      "text/plain": [
       "     ID Group  Gender  Age  Education  Ethnicity     IQ  DSMDisorder  \\\n",
       "0  2501   FHR  female   25       14.0        NaN   99.0          1.0   \n",
       "1  2504   FHR  female   29       16.0        NaN  118.0          1.0   \n",
       "2  2505   FHR    male   33       14.0        NaN   95.0          0.0   \n",
       "3  2506   FHR    male   33       13.0        NaN  109.0          1.0   \n",
       "4  2508   FHR    male   28       16.0        NaN  118.0          0.0   \n",
       "\n",
       "   DSMDisorderType  DSMcomorbidities        ...         PANAS_PA  \\\n",
       "0              7.0               2.0        ...              NaN   \n",
       "1              7.0               2.0        ...              NaN   \n",
       "2              0.0               0.0        ...              NaN   \n",
       "3              4.0               1.0        ...              NaN   \n",
       "4              NaN               0.0        ...              NaN   \n",
       "\n",
       "   SIPS_Disorganized  SIPS_General  SIPS_Negative  SIPS_Positive  \\\n",
       "0               0.75          0.75       0.500000            1.4   \n",
       "1               0.50          0.50       0.333333            1.0   \n",
       "2               0.25          0.00       0.000000            0.4   \n",
       "3               1.00          0.75       1.166667            1.2   \n",
       "4               1.25          1.00       0.500000            1.4   \n",
       "\n",
       "   SocAdjScale_SocialLeisure  SocAdjScale_Work  GFS_Role  GFS_Social  \\\n",
       "0                        NaN               NaN       NaN         NaN   \n",
       "1                       38.0              51.0       NaN         NaN   \n",
       "2                       51.0              58.0       NaN         NaN   \n",
       "3                       49.0              55.0       NaN         NaN   \n",
       "4                       40.0              64.0       NaN         NaN   \n",
       "\n",
       "   Present_Clinical  \n",
       "0               1.0  \n",
       "1               1.0  \n",
       "2               0.0  \n",
       "3               1.0  \n",
       "4               0.0  \n",
       "\n",
       "[5 rows x 31 columns]"
      ]
     },
     "execution_count": 57,
     "metadata": {},
     "output_type": "execute_result"
    }
   ],
   "source": [
    "raw.head()"
   ]
  },
  {
   "cell_type": "code",
   "execution_count": null,
   "metadata": {
    "collapsed": true
   },
   "outputs": [],
   "source": []
  },
  {
   "cell_type": "code",
   "execution_count": 117,
   "metadata": {
    "collapsed": false
   },
   "outputs": [
    {
     "data": {
      "text/html": [
       "<div>\n",
       "<table border=\"1\" class=\"dataframe\">\n",
       "  <thead>\n",
       "    <tr style=\"text-align: right;\">\n",
       "      <th></th>\n",
       "      <th>ID</th>\n",
       "      <th>Group</th>\n",
       "      <th>Gender</th>\n",
       "      <th>Age</th>\n",
       "      <th>Education</th>\n",
       "      <th>Ethnicity</th>\n",
       "      <th>IQ</th>\n",
       "      <th>DSMDisorder</th>\n",
       "      <th>DSMDisorderType</th>\n",
       "      <th>DSMcomorbidities</th>\n",
       "      <th>...</th>\n",
       "      <th>SocAdjScale_SocialLeisure</th>\n",
       "      <th>SocAdjScale_Work</th>\n",
       "      <th>GFS_Role</th>\n",
       "      <th>GFS_Social</th>\n",
       "      <th>Present_Clinical</th>\n",
       "      <th>x-Mean</th>\n",
       "      <th>1.96*std</th>\n",
       "      <th>Outlier_EC</th>\n",
       "      <th>Outlier_PT</th>\n",
       "      <th>Outlier_SAS</th>\n",
       "    </tr>\n",
       "  </thead>\n",
       "  <tbody>\n",
       "    <tr>\n",
       "      <th>0</th>\n",
       "      <td>2501</td>\n",
       "      <td>FHR</td>\n",
       "      <td>female</td>\n",
       "      <td>25</td>\n",
       "      <td>14.0</td>\n",
       "      <td>NaN</td>\n",
       "      <td>99.0</td>\n",
       "      <td>1.0</td>\n",
       "      <td>7.0</td>\n",
       "      <td>2.0</td>\n",
       "      <td>...</td>\n",
       "      <td>NaN</td>\n",
       "      <td>NaN</td>\n",
       "      <td>NaN</td>\n",
       "      <td>NaN</td>\n",
       "      <td>1.0</td>\n",
       "      <td>NaN</td>\n",
       "      <td>25.141073</td>\n",
       "      <td>False</td>\n",
       "      <td>False</td>\n",
       "      <td>False</td>\n",
       "    </tr>\n",
       "    <tr>\n",
       "      <th>1</th>\n",
       "      <td>2504</td>\n",
       "      <td>FHR</td>\n",
       "      <td>female</td>\n",
       "      <td>29</td>\n",
       "      <td>16.0</td>\n",
       "      <td>NaN</td>\n",
       "      <td>118.0</td>\n",
       "      <td>1.0</td>\n",
       "      <td>7.0</td>\n",
       "      <td>2.0</td>\n",
       "      <td>...</td>\n",
       "      <td>38.0</td>\n",
       "      <td>51.0</td>\n",
       "      <td>NaN</td>\n",
       "      <td>NaN</td>\n",
       "      <td>1.0</td>\n",
       "      <td>19.134021</td>\n",
       "      <td>25.141073</td>\n",
       "      <td>False</td>\n",
       "      <td>False</td>\n",
       "      <td>False</td>\n",
       "    </tr>\n",
       "    <tr>\n",
       "      <th>2</th>\n",
       "      <td>2505</td>\n",
       "      <td>FHR</td>\n",
       "      <td>male</td>\n",
       "      <td>33</td>\n",
       "      <td>14.0</td>\n",
       "      <td>NaN</td>\n",
       "      <td>95.0</td>\n",
       "      <td>0.0</td>\n",
       "      <td>0.0</td>\n",
       "      <td>0.0</td>\n",
       "      <td>...</td>\n",
       "      <td>51.0</td>\n",
       "      <td>58.0</td>\n",
       "      <td>NaN</td>\n",
       "      <td>NaN</td>\n",
       "      <td>0.0</td>\n",
       "      <td>6.134021</td>\n",
       "      <td>25.141073</td>\n",
       "      <td>False</td>\n",
       "      <td>False</td>\n",
       "      <td>False</td>\n",
       "    </tr>\n",
       "    <tr>\n",
       "      <th>3</th>\n",
       "      <td>2506</td>\n",
       "      <td>FHR</td>\n",
       "      <td>male</td>\n",
       "      <td>33</td>\n",
       "      <td>13.0</td>\n",
       "      <td>NaN</td>\n",
       "      <td>109.0</td>\n",
       "      <td>1.0</td>\n",
       "      <td>4.0</td>\n",
       "      <td>1.0</td>\n",
       "      <td>...</td>\n",
       "      <td>49.0</td>\n",
       "      <td>55.0</td>\n",
       "      <td>NaN</td>\n",
       "      <td>NaN</td>\n",
       "      <td>1.0</td>\n",
       "      <td>8.134021</td>\n",
       "      <td>25.141073</td>\n",
       "      <td>False</td>\n",
       "      <td>False</td>\n",
       "      <td>False</td>\n",
       "    </tr>\n",
       "    <tr>\n",
       "      <th>4</th>\n",
       "      <td>2508</td>\n",
       "      <td>FHR</td>\n",
       "      <td>male</td>\n",
       "      <td>28</td>\n",
       "      <td>16.0</td>\n",
       "      <td>NaN</td>\n",
       "      <td>118.0</td>\n",
       "      <td>0.0</td>\n",
       "      <td>NaN</td>\n",
       "      <td>0.0</td>\n",
       "      <td>...</td>\n",
       "      <td>40.0</td>\n",
       "      <td>64.0</td>\n",
       "      <td>NaN</td>\n",
       "      <td>NaN</td>\n",
       "      <td>0.0</td>\n",
       "      <td>17.134021</td>\n",
       "      <td>25.141073</td>\n",
       "      <td>False</td>\n",
       "      <td>False</td>\n",
       "      <td>False</td>\n",
       "    </tr>\n",
       "    <tr>\n",
       "      <th>5</th>\n",
       "      <td>2509</td>\n",
       "      <td>FHR</td>\n",
       "      <td>female</td>\n",
       "      <td>25</td>\n",
       "      <td>17.0</td>\n",
       "      <td>NaN</td>\n",
       "      <td>121.0</td>\n",
       "      <td>1.0</td>\n",
       "      <td>2.0</td>\n",
       "      <td>1.0</td>\n",
       "      <td>...</td>\n",
       "      <td>48.0</td>\n",
       "      <td>47.0</td>\n",
       "      <td>NaN</td>\n",
       "      <td>NaN</td>\n",
       "      <td>1.0</td>\n",
       "      <td>9.134021</td>\n",
       "      <td>25.141073</td>\n",
       "      <td>False</td>\n",
       "      <td>False</td>\n",
       "      <td>False</td>\n",
       "    </tr>\n",
       "    <tr>\n",
       "      <th>6</th>\n",
       "      <td>2510</td>\n",
       "      <td>FHR</td>\n",
       "      <td>female</td>\n",
       "      <td>30</td>\n",
       "      <td>18.0</td>\n",
       "      <td>NaN</td>\n",
       "      <td>123.0</td>\n",
       "      <td>1.0</td>\n",
       "      <td>8.0</td>\n",
       "      <td>3.0</td>\n",
       "      <td>...</td>\n",
       "      <td>55.0</td>\n",
       "      <td>49.0</td>\n",
       "      <td>NaN</td>\n",
       "      <td>NaN</td>\n",
       "      <td>1.0</td>\n",
       "      <td>2.134021</td>\n",
       "      <td>25.141073</td>\n",
       "      <td>False</td>\n",
       "      <td>False</td>\n",
       "      <td>False</td>\n",
       "    </tr>\n",
       "    <tr>\n",
       "      <th>7</th>\n",
       "      <td>2511</td>\n",
       "      <td>FHR</td>\n",
       "      <td>female</td>\n",
       "      <td>32</td>\n",
       "      <td>15.0</td>\n",
       "      <td>NaN</td>\n",
       "      <td>128.0</td>\n",
       "      <td>1.0</td>\n",
       "      <td>7.0</td>\n",
       "      <td>2.0</td>\n",
       "      <td>...</td>\n",
       "      <td>59.0</td>\n",
       "      <td>61.0</td>\n",
       "      <td>NaN</td>\n",
       "      <td>NaN</td>\n",
       "      <td>1.0</td>\n",
       "      <td>1.865979</td>\n",
       "      <td>25.141073</td>\n",
       "      <td>False</td>\n",
       "      <td>False</td>\n",
       "      <td>False</td>\n",
       "    </tr>\n",
       "    <tr>\n",
       "      <th>8</th>\n",
       "      <td>2513</td>\n",
       "      <td>FHR</td>\n",
       "      <td>female</td>\n",
       "      <td>27</td>\n",
       "      <td>19.0</td>\n",
       "      <td>NaN</td>\n",
       "      <td>122.0</td>\n",
       "      <td>1.0</td>\n",
       "      <td>7.0</td>\n",
       "      <td>2.0</td>\n",
       "      <td>...</td>\n",
       "      <td>49.0</td>\n",
       "      <td>55.0</td>\n",
       "      <td>NaN</td>\n",
       "      <td>NaN</td>\n",
       "      <td>1.0</td>\n",
       "      <td>8.134021</td>\n",
       "      <td>25.141073</td>\n",
       "      <td>False</td>\n",
       "      <td>False</td>\n",
       "      <td>False</td>\n",
       "    </tr>\n",
       "    <tr>\n",
       "      <th>9</th>\n",
       "      <td>2515</td>\n",
       "      <td>FHR</td>\n",
       "      <td>female</td>\n",
       "      <td>27</td>\n",
       "      <td>16.0</td>\n",
       "      <td>NaN</td>\n",
       "      <td>118.0</td>\n",
       "      <td>1.0</td>\n",
       "      <td>8.0</td>\n",
       "      <td>3.0</td>\n",
       "      <td>...</td>\n",
       "      <td>49.0</td>\n",
       "      <td>61.0</td>\n",
       "      <td>NaN</td>\n",
       "      <td>NaN</td>\n",
       "      <td>1.0</td>\n",
       "      <td>8.134021</td>\n",
       "      <td>25.141073</td>\n",
       "      <td>False</td>\n",
       "      <td>False</td>\n",
       "      <td>False</td>\n",
       "    </tr>\n",
       "    <tr>\n",
       "      <th>10</th>\n",
       "      <td>2517</td>\n",
       "      <td>FHR</td>\n",
       "      <td>female</td>\n",
       "      <td>24</td>\n",
       "      <td>16.0</td>\n",
       "      <td>NaN</td>\n",
       "      <td>118.0</td>\n",
       "      <td>1.0</td>\n",
       "      <td>8.0</td>\n",
       "      <td>3.0</td>\n",
       "      <td>...</td>\n",
       "      <td>59.0</td>\n",
       "      <td>45.0</td>\n",
       "      <td>NaN</td>\n",
       "      <td>NaN</td>\n",
       "      <td>1.0</td>\n",
       "      <td>1.865979</td>\n",
       "      <td>25.141073</td>\n",
       "      <td>False</td>\n",
       "      <td>False</td>\n",
       "      <td>False</td>\n",
       "    </tr>\n",
       "    <tr>\n",
       "      <th>11</th>\n",
       "      <td>2519</td>\n",
       "      <td>FHR</td>\n",
       "      <td>female</td>\n",
       "      <td>26</td>\n",
       "      <td>16.0</td>\n",
       "      <td>NaN</td>\n",
       "      <td>136.0</td>\n",
       "      <td>1.0</td>\n",
       "      <td>7.0</td>\n",
       "      <td>2.0</td>\n",
       "      <td>...</td>\n",
       "      <td>44.0</td>\n",
       "      <td>53.0</td>\n",
       "      <td>NaN</td>\n",
       "      <td>NaN</td>\n",
       "      <td>1.0</td>\n",
       "      <td>13.134021</td>\n",
       "      <td>25.141073</td>\n",
       "      <td>False</td>\n",
       "      <td>False</td>\n",
       "      <td>False</td>\n",
       "    </tr>\n",
       "    <tr>\n",
       "      <th>12</th>\n",
       "      <td>2521</td>\n",
       "      <td>FHR</td>\n",
       "      <td>female</td>\n",
       "      <td>20</td>\n",
       "      <td>15.0</td>\n",
       "      <td>NaN</td>\n",
       "      <td>117.0</td>\n",
       "      <td>1.0</td>\n",
       "      <td>8.0</td>\n",
       "      <td>3.0</td>\n",
       "      <td>...</td>\n",
       "      <td>65.0</td>\n",
       "      <td>41.0</td>\n",
       "      <td>NaN</td>\n",
       "      <td>NaN</td>\n",
       "      <td>1.0</td>\n",
       "      <td>7.865979</td>\n",
       "      <td>25.141073</td>\n",
       "      <td>False</td>\n",
       "      <td>False</td>\n",
       "      <td>False</td>\n",
       "    </tr>\n",
       "    <tr>\n",
       "      <th>13</th>\n",
       "      <td>2524</td>\n",
       "      <td>FHR</td>\n",
       "      <td>female</td>\n",
       "      <td>32</td>\n",
       "      <td>18.0</td>\n",
       "      <td>NaN</td>\n",
       "      <td>118.0</td>\n",
       "      <td>0.0</td>\n",
       "      <td>NaN</td>\n",
       "      <td>0.0</td>\n",
       "      <td>...</td>\n",
       "      <td>49.0</td>\n",
       "      <td>49.0</td>\n",
       "      <td>NaN</td>\n",
       "      <td>NaN</td>\n",
       "      <td>0.0</td>\n",
       "      <td>8.134021</td>\n",
       "      <td>25.141073</td>\n",
       "      <td>False</td>\n",
       "      <td>False</td>\n",
       "      <td>False</td>\n",
       "    </tr>\n",
       "    <tr>\n",
       "      <th>14</th>\n",
       "      <td>2527</td>\n",
       "      <td>FHR</td>\n",
       "      <td>male</td>\n",
       "      <td>27</td>\n",
       "      <td>16.0</td>\n",
       "      <td>NaN</td>\n",
       "      <td>106.0</td>\n",
       "      <td>1.0</td>\n",
       "      <td>NaN</td>\n",
       "      <td>1.0</td>\n",
       "      <td>...</td>\n",
       "      <td>48.0</td>\n",
       "      <td>87.0</td>\n",
       "      <td>NaN</td>\n",
       "      <td>NaN</td>\n",
       "      <td>1.0</td>\n",
       "      <td>9.134021</td>\n",
       "      <td>25.141073</td>\n",
       "      <td>False</td>\n",
       "      <td>False</td>\n",
       "      <td>False</td>\n",
       "    </tr>\n",
       "    <tr>\n",
       "      <th>15</th>\n",
       "      <td>2526</td>\n",
       "      <td>FHR</td>\n",
       "      <td>male</td>\n",
       "      <td>23</td>\n",
       "      <td>16.0</td>\n",
       "      <td>NaN</td>\n",
       "      <td>115.0</td>\n",
       "      <td>0.0</td>\n",
       "      <td>NaN</td>\n",
       "      <td>0.0</td>\n",
       "      <td>...</td>\n",
       "      <td>46.0</td>\n",
       "      <td>90.0</td>\n",
       "      <td>NaN</td>\n",
       "      <td>NaN</td>\n",
       "      <td>0.0</td>\n",
       "      <td>11.134021</td>\n",
       "      <td>25.141073</td>\n",
       "      <td>False</td>\n",
       "      <td>False</td>\n",
       "      <td>False</td>\n",
       "    </tr>\n",
       "    <tr>\n",
       "      <th>16</th>\n",
       "      <td>2531</td>\n",
       "      <td>FHR</td>\n",
       "      <td>female</td>\n",
       "      <td>23</td>\n",
       "      <td>16.0</td>\n",
       "      <td>NaN</td>\n",
       "      <td>NaN</td>\n",
       "      <td>0.0</td>\n",
       "      <td>NaN</td>\n",
       "      <td>0.0</td>\n",
       "      <td>...</td>\n",
       "      <td>49.0</td>\n",
       "      <td>47.0</td>\n",
       "      <td>NaN</td>\n",
       "      <td>NaN</td>\n",
       "      <td>0.0</td>\n",
       "      <td>8.134021</td>\n",
       "      <td>25.141073</td>\n",
       "      <td>False</td>\n",
       "      <td>False</td>\n",
       "      <td>False</td>\n",
       "    </tr>\n",
       "    <tr>\n",
       "      <th>17</th>\n",
       "      <td>2549</td>\n",
       "      <td>FHR</td>\n",
       "      <td>female</td>\n",
       "      <td>24</td>\n",
       "      <td>16.0</td>\n",
       "      <td>NaN</td>\n",
       "      <td>124.0</td>\n",
       "      <td>1.0</td>\n",
       "      <td>NaN</td>\n",
       "      <td>2.0</td>\n",
       "      <td>...</td>\n",
       "      <td>65.0</td>\n",
       "      <td>57.0</td>\n",
       "      <td>NaN</td>\n",
       "      <td>NaN</td>\n",
       "      <td>1.0</td>\n",
       "      <td>7.865979</td>\n",
       "      <td>25.141073</td>\n",
       "      <td>False</td>\n",
       "      <td>False</td>\n",
       "      <td>False</td>\n",
       "    </tr>\n",
       "    <tr>\n",
       "      <th>18</th>\n",
       "      <td>2554</td>\n",
       "      <td>FHR</td>\n",
       "      <td>female</td>\n",
       "      <td>33</td>\n",
       "      <td>18.0</td>\n",
       "      <td>NaN</td>\n",
       "      <td>121.0</td>\n",
       "      <td>0.0</td>\n",
       "      <td>NaN</td>\n",
       "      <td>0.0</td>\n",
       "      <td>...</td>\n",
       "      <td>44.0</td>\n",
       "      <td>65.0</td>\n",
       "      <td>NaN</td>\n",
       "      <td>NaN</td>\n",
       "      <td>0.0</td>\n",
       "      <td>13.134021</td>\n",
       "      <td>25.141073</td>\n",
       "      <td>False</td>\n",
       "      <td>False</td>\n",
       "      <td>False</td>\n",
       "    </tr>\n",
       "    <tr>\n",
       "      <th>19</th>\n",
       "      <td>27105</td>\n",
       "      <td>SZ</td>\n",
       "      <td>male</td>\n",
       "      <td>45</td>\n",
       "      <td>16.0</td>\n",
       "      <td>1.0</td>\n",
       "      <td>117.0</td>\n",
       "      <td>NaN</td>\n",
       "      <td>NaN</td>\n",
       "      <td>NaN</td>\n",
       "      <td>...</td>\n",
       "      <td>42.0</td>\n",
       "      <td>0.0</td>\n",
       "      <td>2.0</td>\n",
       "      <td>7.0</td>\n",
       "      <td>1.0</td>\n",
       "      <td>15.134021</td>\n",
       "      <td>25.141073</td>\n",
       "      <td>False</td>\n",
       "      <td>False</td>\n",
       "      <td>False</td>\n",
       "    </tr>\n",
       "    <tr>\n",
       "      <th>20</th>\n",
       "      <td>27108</td>\n",
       "      <td>SZ</td>\n",
       "      <td>male</td>\n",
       "      <td>32</td>\n",
       "      <td>16.0</td>\n",
       "      <td>1.0</td>\n",
       "      <td>106.0</td>\n",
       "      <td>NaN</td>\n",
       "      <td>NaN</td>\n",
       "      <td>NaN</td>\n",
       "      <td>...</td>\n",
       "      <td>61.0</td>\n",
       "      <td>58.0</td>\n",
       "      <td>7.0</td>\n",
       "      <td>7.0</td>\n",
       "      <td>1.0</td>\n",
       "      <td>3.865979</td>\n",
       "      <td>25.141073</td>\n",
       "      <td>False</td>\n",
       "      <td>False</td>\n",
       "      <td>False</td>\n",
       "    </tr>\n",
       "    <tr>\n",
       "      <th>21</th>\n",
       "      <td>27109</td>\n",
       "      <td>SZ</td>\n",
       "      <td>female</td>\n",
       "      <td>40</td>\n",
       "      <td>14.0</td>\n",
       "      <td>4.0</td>\n",
       "      <td>90.0</td>\n",
       "      <td>NaN</td>\n",
       "      <td>NaN</td>\n",
       "      <td>NaN</td>\n",
       "      <td>...</td>\n",
       "      <td>83.0</td>\n",
       "      <td>77.0</td>\n",
       "      <td>6.0</td>\n",
       "      <td>5.0</td>\n",
       "      <td>1.0</td>\n",
       "      <td>25.865979</td>\n",
       "      <td>25.141073</td>\n",
       "      <td>False</td>\n",
       "      <td>False</td>\n",
       "      <td>True</td>\n",
       "    </tr>\n",
       "    <tr>\n",
       "      <th>22</th>\n",
       "      <td>27115</td>\n",
       "      <td>SZ</td>\n",
       "      <td>male</td>\n",
       "      <td>42</td>\n",
       "      <td>13.0</td>\n",
       "      <td>1.0</td>\n",
       "      <td>108.0</td>\n",
       "      <td>NaN</td>\n",
       "      <td>NaN</td>\n",
       "      <td>NaN</td>\n",
       "      <td>...</td>\n",
       "      <td>76.0</td>\n",
       "      <td>63.0</td>\n",
       "      <td>4.0</td>\n",
       "      <td>6.0</td>\n",
       "      <td>1.0</td>\n",
       "      <td>18.865979</td>\n",
       "      <td>25.141073</td>\n",
       "      <td>False</td>\n",
       "      <td>False</td>\n",
       "      <td>False</td>\n",
       "    </tr>\n",
       "    <tr>\n",
       "      <th>23</th>\n",
       "      <td>27116</td>\n",
       "      <td>SZ</td>\n",
       "      <td>female</td>\n",
       "      <td>53</td>\n",
       "      <td>14.0</td>\n",
       "      <td>1.0</td>\n",
       "      <td>102.0</td>\n",
       "      <td>NaN</td>\n",
       "      <td>NaN</td>\n",
       "      <td>NaN</td>\n",
       "      <td>...</td>\n",
       "      <td>72.0</td>\n",
       "      <td>71.0</td>\n",
       "      <td>3.0</td>\n",
       "      <td>5.0</td>\n",
       "      <td>1.0</td>\n",
       "      <td>14.865979</td>\n",
       "      <td>25.141073</td>\n",
       "      <td>False</td>\n",
       "      <td>False</td>\n",
       "      <td>False</td>\n",
       "    </tr>\n",
       "    <tr>\n",
       "      <th>24</th>\n",
       "      <td>27117</td>\n",
       "      <td>SZ</td>\n",
       "      <td>male</td>\n",
       "      <td>53</td>\n",
       "      <td>14.0</td>\n",
       "      <td>1.0</td>\n",
       "      <td>121.0</td>\n",
       "      <td>NaN</td>\n",
       "      <td>NaN</td>\n",
       "      <td>NaN</td>\n",
       "      <td>...</td>\n",
       "      <td>76.0</td>\n",
       "      <td>90.0</td>\n",
       "      <td>5.0</td>\n",
       "      <td>3.0</td>\n",
       "      <td>1.0</td>\n",
       "      <td>18.865979</td>\n",
       "      <td>25.141073</td>\n",
       "      <td>True</td>\n",
       "      <td>True</td>\n",
       "      <td>False</td>\n",
       "    </tr>\n",
       "    <tr>\n",
       "      <th>25</th>\n",
       "      <td>27128</td>\n",
       "      <td>SZ</td>\n",
       "      <td>female</td>\n",
       "      <td>34</td>\n",
       "      <td>14.0</td>\n",
       "      <td>2.0</td>\n",
       "      <td>85.0</td>\n",
       "      <td>NaN</td>\n",
       "      <td>NaN</td>\n",
       "      <td>NaN</td>\n",
       "      <td>...</td>\n",
       "      <td>74.0</td>\n",
       "      <td>51.0</td>\n",
       "      <td>5.0</td>\n",
       "      <td>6.0</td>\n",
       "      <td>1.0</td>\n",
       "      <td>16.865979</td>\n",
       "      <td>25.141073</td>\n",
       "      <td>False</td>\n",
       "      <td>False</td>\n",
       "      <td>False</td>\n",
       "    </tr>\n",
       "    <tr>\n",
       "      <th>26</th>\n",
       "      <td>27136</td>\n",
       "      <td>SZ</td>\n",
       "      <td>male</td>\n",
       "      <td>24</td>\n",
       "      <td>16.0</td>\n",
       "      <td>2.0</td>\n",
       "      <td>125.0</td>\n",
       "      <td>NaN</td>\n",
       "      <td>NaN</td>\n",
       "      <td>NaN</td>\n",
       "      <td>...</td>\n",
       "      <td>58.0</td>\n",
       "      <td>52.0</td>\n",
       "      <td>7.0</td>\n",
       "      <td>6.0</td>\n",
       "      <td>1.0</td>\n",
       "      <td>0.865979</td>\n",
       "      <td>25.141073</td>\n",
       "      <td>False</td>\n",
       "      <td>False</td>\n",
       "      <td>False</td>\n",
       "    </tr>\n",
       "    <tr>\n",
       "      <th>27</th>\n",
       "      <td>27142</td>\n",
       "      <td>SZ</td>\n",
       "      <td>female</td>\n",
       "      <td>58</td>\n",
       "      <td>12.0</td>\n",
       "      <td>1.0</td>\n",
       "      <td>111.0</td>\n",
       "      <td>NaN</td>\n",
       "      <td>NaN</td>\n",
       "      <td>NaN</td>\n",
       "      <td>...</td>\n",
       "      <td>98.0</td>\n",
       "      <td>54.0</td>\n",
       "      <td>3.0</td>\n",
       "      <td>3.0</td>\n",
       "      <td>1.0</td>\n",
       "      <td>40.865979</td>\n",
       "      <td>25.141073</td>\n",
       "      <td>False</td>\n",
       "      <td>False</td>\n",
       "      <td>True</td>\n",
       "    </tr>\n",
       "    <tr>\n",
       "      <th>28</th>\n",
       "      <td>27148</td>\n",
       "      <td>SZ</td>\n",
       "      <td>male</td>\n",
       "      <td>38</td>\n",
       "      <td>18.0</td>\n",
       "      <td>1.0</td>\n",
       "      <td>99.0</td>\n",
       "      <td>NaN</td>\n",
       "      <td>NaN</td>\n",
       "      <td>NaN</td>\n",
       "      <td>...</td>\n",
       "      <td>55.0</td>\n",
       "      <td>42.0</td>\n",
       "      <td>7.0</td>\n",
       "      <td>6.0</td>\n",
       "      <td>1.0</td>\n",
       "      <td>2.134021</td>\n",
       "      <td>25.141073</td>\n",
       "      <td>False</td>\n",
       "      <td>False</td>\n",
       "      <td>False</td>\n",
       "    </tr>\n",
       "    <tr>\n",
       "      <th>29</th>\n",
       "      <td>27153</td>\n",
       "      <td>SZ</td>\n",
       "      <td>male</td>\n",
       "      <td>25</td>\n",
       "      <td>16.0</td>\n",
       "      <td>1.0</td>\n",
       "      <td>109.0</td>\n",
       "      <td>NaN</td>\n",
       "      <td>NaN</td>\n",
       "      <td>NaN</td>\n",
       "      <td>...</td>\n",
       "      <td>NaN</td>\n",
       "      <td>NaN</td>\n",
       "      <td>6.0</td>\n",
       "      <td>9.0</td>\n",
       "      <td>1.0</td>\n",
       "      <td>NaN</td>\n",
       "      <td>25.141073</td>\n",
       "      <td>False</td>\n",
       "      <td>False</td>\n",
       "      <td>False</td>\n",
       "    </tr>\n",
       "    <tr>\n",
       "      <th>...</th>\n",
       "      <td>...</td>\n",
       "      <td>...</td>\n",
       "      <td>...</td>\n",
       "      <td>...</td>\n",
       "      <td>...</td>\n",
       "      <td>...</td>\n",
       "      <td>...</td>\n",
       "      <td>...</td>\n",
       "      <td>...</td>\n",
       "      <td>...</td>\n",
       "      <td>...</td>\n",
       "      <td>...</td>\n",
       "      <td>...</td>\n",
       "      <td>...</td>\n",
       "      <td>...</td>\n",
       "      <td>...</td>\n",
       "      <td>...</td>\n",
       "      <td>...</td>\n",
       "      <td>...</td>\n",
       "      <td>...</td>\n",
       "      <td>...</td>\n",
       "    </tr>\n",
       "    <tr>\n",
       "      <th>80</th>\n",
       "      <td>26933</td>\n",
       "      <td>HC</td>\n",
       "      <td>female</td>\n",
       "      <td>22</td>\n",
       "      <td>14.0</td>\n",
       "      <td>NaN</td>\n",
       "      <td>110.0</td>\n",
       "      <td>NaN</td>\n",
       "      <td>NaN</td>\n",
       "      <td>NaN</td>\n",
       "      <td>...</td>\n",
       "      <td>51.0</td>\n",
       "      <td>47.0</td>\n",
       "      <td>8.0</td>\n",
       "      <td>9.0</td>\n",
       "      <td>0.0</td>\n",
       "      <td>6.134021</td>\n",
       "      <td>25.141073</td>\n",
       "      <td>False</td>\n",
       "      <td>False</td>\n",
       "      <td>False</td>\n",
       "    </tr>\n",
       "    <tr>\n",
       "      <th>81</th>\n",
       "      <td>26934</td>\n",
       "      <td>HC</td>\n",
       "      <td>male</td>\n",
       "      <td>22</td>\n",
       "      <td>16.0</td>\n",
       "      <td>NaN</td>\n",
       "      <td>119.0</td>\n",
       "      <td>NaN</td>\n",
       "      <td>NaN</td>\n",
       "      <td>NaN</td>\n",
       "      <td>...</td>\n",
       "      <td>48.0</td>\n",
       "      <td>51.0</td>\n",
       "      <td>10.0</td>\n",
       "      <td>10.0</td>\n",
       "      <td>0.0</td>\n",
       "      <td>9.134021</td>\n",
       "      <td>25.141073</td>\n",
       "      <td>False</td>\n",
       "      <td>False</td>\n",
       "      <td>False</td>\n",
       "    </tr>\n",
       "    <tr>\n",
       "      <th>82</th>\n",
       "      <td>26937</td>\n",
       "      <td>HC</td>\n",
       "      <td>male</td>\n",
       "      <td>27</td>\n",
       "      <td>16.0</td>\n",
       "      <td>NaN</td>\n",
       "      <td>119.0</td>\n",
       "      <td>NaN</td>\n",
       "      <td>NaN</td>\n",
       "      <td>NaN</td>\n",
       "      <td>...</td>\n",
       "      <td>36.0</td>\n",
       "      <td>42.0</td>\n",
       "      <td>8.0</td>\n",
       "      <td>6.0</td>\n",
       "      <td>0.0</td>\n",
       "      <td>21.134021</td>\n",
       "      <td>25.141073</td>\n",
       "      <td>False</td>\n",
       "      <td>False</td>\n",
       "      <td>False</td>\n",
       "    </tr>\n",
       "    <tr>\n",
       "      <th>83</th>\n",
       "      <td>26102</td>\n",
       "      <td>CHR</td>\n",
       "      <td>male</td>\n",
       "      <td>21</td>\n",
       "      <td>NaN</td>\n",
       "      <td>NaN</td>\n",
       "      <td>122.0</td>\n",
       "      <td>0.0</td>\n",
       "      <td>NaN</td>\n",
       "      <td>NaN</td>\n",
       "      <td>...</td>\n",
       "      <td>55.0</td>\n",
       "      <td>80.0</td>\n",
       "      <td>NaN</td>\n",
       "      <td>NaN</td>\n",
       "      <td>0.0</td>\n",
       "      <td>2.134021</td>\n",
       "      <td>25.141073</td>\n",
       "      <td>False</td>\n",
       "      <td>False</td>\n",
       "      <td>False</td>\n",
       "    </tr>\n",
       "    <tr>\n",
       "      <th>84</th>\n",
       "      <td>26104</td>\n",
       "      <td>CHR</td>\n",
       "      <td>male</td>\n",
       "      <td>22</td>\n",
       "      <td>12.0</td>\n",
       "      <td>NaN</td>\n",
       "      <td>96.0</td>\n",
       "      <td>NaN</td>\n",
       "      <td>NaN</td>\n",
       "      <td>NaN</td>\n",
       "      <td>...</td>\n",
       "      <td>68.0</td>\n",
       "      <td>58.0</td>\n",
       "      <td>6.0</td>\n",
       "      <td>8.0</td>\n",
       "      <td>NaN</td>\n",
       "      <td>10.865979</td>\n",
       "      <td>25.141073</td>\n",
       "      <td>False</td>\n",
       "      <td>False</td>\n",
       "      <td>False</td>\n",
       "    </tr>\n",
       "    <tr>\n",
       "      <th>85</th>\n",
       "      <td>26108</td>\n",
       "      <td>CHR</td>\n",
       "      <td>male</td>\n",
       "      <td>20</td>\n",
       "      <td>NaN</td>\n",
       "      <td>NaN</td>\n",
       "      <td>81.0</td>\n",
       "      <td>NaN</td>\n",
       "      <td>NaN</td>\n",
       "      <td>NaN</td>\n",
       "      <td>...</td>\n",
       "      <td>69.0</td>\n",
       "      <td>84.0</td>\n",
       "      <td>NaN</td>\n",
       "      <td>NaN</td>\n",
       "      <td>NaN</td>\n",
       "      <td>11.865979</td>\n",
       "      <td>25.141073</td>\n",
       "      <td>False</td>\n",
       "      <td>False</td>\n",
       "      <td>False</td>\n",
       "    </tr>\n",
       "    <tr>\n",
       "      <th>86</th>\n",
       "      <td>26110</td>\n",
       "      <td>CHR</td>\n",
       "      <td>male</td>\n",
       "      <td>16</td>\n",
       "      <td>10.0</td>\n",
       "      <td>NaN</td>\n",
       "      <td>79.0</td>\n",
       "      <td>0.0</td>\n",
       "      <td>NaN</td>\n",
       "      <td>NaN</td>\n",
       "      <td>...</td>\n",
       "      <td>63.0</td>\n",
       "      <td>74.0</td>\n",
       "      <td>7.0</td>\n",
       "      <td>6.0</td>\n",
       "      <td>0.0</td>\n",
       "      <td>5.865979</td>\n",
       "      <td>25.141073</td>\n",
       "      <td>False</td>\n",
       "      <td>False</td>\n",
       "      <td>False</td>\n",
       "    </tr>\n",
       "    <tr>\n",
       "      <th>87</th>\n",
       "      <td>26114</td>\n",
       "      <td>CHR</td>\n",
       "      <td>female</td>\n",
       "      <td>18</td>\n",
       "      <td>12.0</td>\n",
       "      <td>NaN</td>\n",
       "      <td>118.0</td>\n",
       "      <td>0.0</td>\n",
       "      <td>NaN</td>\n",
       "      <td>NaN</td>\n",
       "      <td>...</td>\n",
       "      <td>49.0</td>\n",
       "      <td>110.0</td>\n",
       "      <td>9.0</td>\n",
       "      <td>6.0</td>\n",
       "      <td>0.0</td>\n",
       "      <td>8.134021</td>\n",
       "      <td>25.141073</td>\n",
       "      <td>False</td>\n",
       "      <td>False</td>\n",
       "      <td>False</td>\n",
       "    </tr>\n",
       "    <tr>\n",
       "      <th>88</th>\n",
       "      <td>26116</td>\n",
       "      <td>CHR</td>\n",
       "      <td>male</td>\n",
       "      <td>24</td>\n",
       "      <td>14.0</td>\n",
       "      <td>NaN</td>\n",
       "      <td>86.0</td>\n",
       "      <td>NaN</td>\n",
       "      <td>NaN</td>\n",
       "      <td>NaN</td>\n",
       "      <td>...</td>\n",
       "      <td>67.0</td>\n",
       "      <td>100.0</td>\n",
       "      <td>9.0</td>\n",
       "      <td>8.0</td>\n",
       "      <td>NaN</td>\n",
       "      <td>9.865979</td>\n",
       "      <td>25.141073</td>\n",
       "      <td>False</td>\n",
       "      <td>False</td>\n",
       "      <td>False</td>\n",
       "    </tr>\n",
       "    <tr>\n",
       "      <th>89</th>\n",
       "      <td>26119</td>\n",
       "      <td>CHR</td>\n",
       "      <td>female</td>\n",
       "      <td>23</td>\n",
       "      <td>16.0</td>\n",
       "      <td>NaN</td>\n",
       "      <td>113.0</td>\n",
       "      <td>1.0</td>\n",
       "      <td>2.0</td>\n",
       "      <td>NaN</td>\n",
       "      <td>...</td>\n",
       "      <td>74.0</td>\n",
       "      <td>0.0</td>\n",
       "      <td>5.0</td>\n",
       "      <td>6.0</td>\n",
       "      <td>1.0</td>\n",
       "      <td>16.865979</td>\n",
       "      <td>25.141073</td>\n",
       "      <td>False</td>\n",
       "      <td>False</td>\n",
       "      <td>False</td>\n",
       "    </tr>\n",
       "    <tr>\n",
       "      <th>90</th>\n",
       "      <td>26124</td>\n",
       "      <td>CHR</td>\n",
       "      <td>male</td>\n",
       "      <td>19</td>\n",
       "      <td>13.0</td>\n",
       "      <td>NaN</td>\n",
       "      <td>129.0</td>\n",
       "      <td>0.0</td>\n",
       "      <td>NaN</td>\n",
       "      <td>NaN</td>\n",
       "      <td>...</td>\n",
       "      <td>46.0</td>\n",
       "      <td>64.0</td>\n",
       "      <td>8.0</td>\n",
       "      <td>9.0</td>\n",
       "      <td>0.0</td>\n",
       "      <td>11.134021</td>\n",
       "      <td>25.141073</td>\n",
       "      <td>False</td>\n",
       "      <td>False</td>\n",
       "      <td>False</td>\n",
       "    </tr>\n",
       "    <tr>\n",
       "      <th>91</th>\n",
       "      <td>26125</td>\n",
       "      <td>CHR</td>\n",
       "      <td>male</td>\n",
       "      <td>22</td>\n",
       "      <td>15.0</td>\n",
       "      <td>NaN</td>\n",
       "      <td>132.0</td>\n",
       "      <td>1.0</td>\n",
       "      <td>1.0</td>\n",
       "      <td>NaN</td>\n",
       "      <td>...</td>\n",
       "      <td>61.0</td>\n",
       "      <td>84.0</td>\n",
       "      <td>6.0</td>\n",
       "      <td>6.0</td>\n",
       "      <td>1.0</td>\n",
       "      <td>3.865979</td>\n",
       "      <td>25.141073</td>\n",
       "      <td>False</td>\n",
       "      <td>False</td>\n",
       "      <td>False</td>\n",
       "    </tr>\n",
       "    <tr>\n",
       "      <th>92</th>\n",
       "      <td>26131</td>\n",
       "      <td>CHR</td>\n",
       "      <td>female</td>\n",
       "      <td>22</td>\n",
       "      <td>12.0</td>\n",
       "      <td>NaN</td>\n",
       "      <td>98.0</td>\n",
       "      <td>0.0</td>\n",
       "      <td>NaN</td>\n",
       "      <td>NaN</td>\n",
       "      <td>...</td>\n",
       "      <td>NaN</td>\n",
       "      <td>NaN</td>\n",
       "      <td>6.0</td>\n",
       "      <td>7.0</td>\n",
       "      <td>0.0</td>\n",
       "      <td>NaN</td>\n",
       "      <td>25.141073</td>\n",
       "      <td>False</td>\n",
       "      <td>False</td>\n",
       "      <td>False</td>\n",
       "    </tr>\n",
       "    <tr>\n",
       "      <th>93</th>\n",
       "      <td>26136</td>\n",
       "      <td>CHR</td>\n",
       "      <td>female</td>\n",
       "      <td>34</td>\n",
       "      <td>16.0</td>\n",
       "      <td>NaN</td>\n",
       "      <td>100.0</td>\n",
       "      <td>0.0</td>\n",
       "      <td>NaN</td>\n",
       "      <td>NaN</td>\n",
       "      <td>...</td>\n",
       "      <td>45.0</td>\n",
       "      <td>41.0</td>\n",
       "      <td>8.0</td>\n",
       "      <td>9.0</td>\n",
       "      <td>0.0</td>\n",
       "      <td>12.134021</td>\n",
       "      <td>25.141073</td>\n",
       "      <td>False</td>\n",
       "      <td>False</td>\n",
       "      <td>False</td>\n",
       "    </tr>\n",
       "    <tr>\n",
       "      <th>94</th>\n",
       "      <td>26139</td>\n",
       "      <td>CHR</td>\n",
       "      <td>male</td>\n",
       "      <td>23</td>\n",
       "      <td>15.0</td>\n",
       "      <td>NaN</td>\n",
       "      <td>131.0</td>\n",
       "      <td>NaN</td>\n",
       "      <td>NaN</td>\n",
       "      <td>NaN</td>\n",
       "      <td>...</td>\n",
       "      <td>NaN</td>\n",
       "      <td>51.0</td>\n",
       "      <td>7.0</td>\n",
       "      <td>6.0</td>\n",
       "      <td>NaN</td>\n",
       "      <td>NaN</td>\n",
       "      <td>25.141073</td>\n",
       "      <td>False</td>\n",
       "      <td>False</td>\n",
       "      <td>False</td>\n",
       "    </tr>\n",
       "    <tr>\n",
       "      <th>95</th>\n",
       "      <td>26141</td>\n",
       "      <td>CHR</td>\n",
       "      <td>male</td>\n",
       "      <td>18</td>\n",
       "      <td>16.0</td>\n",
       "      <td>NaN</td>\n",
       "      <td>92.0</td>\n",
       "      <td>NaN</td>\n",
       "      <td>NaN</td>\n",
       "      <td>NaN</td>\n",
       "      <td>...</td>\n",
       "      <td>75.0</td>\n",
       "      <td>85.0</td>\n",
       "      <td>5.0</td>\n",
       "      <td>8.0</td>\n",
       "      <td>NaN</td>\n",
       "      <td>17.865979</td>\n",
       "      <td>25.141073</td>\n",
       "      <td>False</td>\n",
       "      <td>False</td>\n",
       "      <td>False</td>\n",
       "    </tr>\n",
       "    <tr>\n",
       "      <th>96</th>\n",
       "      <td>26142</td>\n",
       "      <td>CHR</td>\n",
       "      <td>female</td>\n",
       "      <td>17</td>\n",
       "      <td>11.0</td>\n",
       "      <td>NaN</td>\n",
       "      <td>91.0</td>\n",
       "      <td>1.0</td>\n",
       "      <td>5.0</td>\n",
       "      <td>NaN</td>\n",
       "      <td>...</td>\n",
       "      <td>51.0</td>\n",
       "      <td>78.0</td>\n",
       "      <td>7.0</td>\n",
       "      <td>9.0</td>\n",
       "      <td>1.0</td>\n",
       "      <td>6.134021</td>\n",
       "      <td>25.141073</td>\n",
       "      <td>False</td>\n",
       "      <td>False</td>\n",
       "      <td>False</td>\n",
       "    </tr>\n",
       "    <tr>\n",
       "      <th>97</th>\n",
       "      <td>26144</td>\n",
       "      <td>CHR</td>\n",
       "      <td>male</td>\n",
       "      <td>22</td>\n",
       "      <td>16.0</td>\n",
       "      <td>NaN</td>\n",
       "      <td>123.0</td>\n",
       "      <td>0.0</td>\n",
       "      <td>NaN</td>\n",
       "      <td>NaN</td>\n",
       "      <td>...</td>\n",
       "      <td>66.0</td>\n",
       "      <td>63.0</td>\n",
       "      <td>8.0</td>\n",
       "      <td>9.0</td>\n",
       "      <td>0.0</td>\n",
       "      <td>8.865979</td>\n",
       "      <td>25.141073</td>\n",
       "      <td>False</td>\n",
       "      <td>False</td>\n",
       "      <td>False</td>\n",
       "    </tr>\n",
       "    <tr>\n",
       "      <th>98</th>\n",
       "      <td>26145</td>\n",
       "      <td>CHR</td>\n",
       "      <td>female</td>\n",
       "      <td>15</td>\n",
       "      <td>NaN</td>\n",
       "      <td>NaN</td>\n",
       "      <td>NaN</td>\n",
       "      <td>1.0</td>\n",
       "      <td>1.0</td>\n",
       "      <td>NaN</td>\n",
       "      <td>...</td>\n",
       "      <td>NaN</td>\n",
       "      <td>NaN</td>\n",
       "      <td>NaN</td>\n",
       "      <td>NaN</td>\n",
       "      <td>1.0</td>\n",
       "      <td>NaN</td>\n",
       "      <td>25.141073</td>\n",
       "      <td>True</td>\n",
       "      <td>True</td>\n",
       "      <td>False</td>\n",
       "    </tr>\n",
       "    <tr>\n",
       "      <th>99</th>\n",
       "      <td>26151</td>\n",
       "      <td>CHR</td>\n",
       "      <td>male</td>\n",
       "      <td>23</td>\n",
       "      <td>19.0</td>\n",
       "      <td>NaN</td>\n",
       "      <td>139.0</td>\n",
       "      <td>0.0</td>\n",
       "      <td>NaN</td>\n",
       "      <td>NaN</td>\n",
       "      <td>...</td>\n",
       "      <td>55.0</td>\n",
       "      <td>58.0</td>\n",
       "      <td>7.0</td>\n",
       "      <td>10.0</td>\n",
       "      <td>0.0</td>\n",
       "      <td>2.134021</td>\n",
       "      <td>25.141073</td>\n",
       "      <td>False</td>\n",
       "      <td>False</td>\n",
       "      <td>False</td>\n",
       "    </tr>\n",
       "    <tr>\n",
       "      <th>100</th>\n",
       "      <td>26159</td>\n",
       "      <td>CHR</td>\n",
       "      <td>male</td>\n",
       "      <td>25</td>\n",
       "      <td>16.0</td>\n",
       "      <td>NaN</td>\n",
       "      <td>125.0</td>\n",
       "      <td>0.0</td>\n",
       "      <td>NaN</td>\n",
       "      <td>NaN</td>\n",
       "      <td>...</td>\n",
       "      <td>53.0</td>\n",
       "      <td>47.0</td>\n",
       "      <td>5.0</td>\n",
       "      <td>4.0</td>\n",
       "      <td>0.0</td>\n",
       "      <td>4.134021</td>\n",
       "      <td>25.141073</td>\n",
       "      <td>False</td>\n",
       "      <td>False</td>\n",
       "      <td>False</td>\n",
       "    </tr>\n",
       "    <tr>\n",
       "      <th>101</th>\n",
       "      <td>26161</td>\n",
       "      <td>CHR</td>\n",
       "      <td>female</td>\n",
       "      <td>17</td>\n",
       "      <td>10.0</td>\n",
       "      <td>NaN</td>\n",
       "      <td>96.0</td>\n",
       "      <td>0.0</td>\n",
       "      <td>NaN</td>\n",
       "      <td>NaN</td>\n",
       "      <td>...</td>\n",
       "      <td>70.0</td>\n",
       "      <td>77.0</td>\n",
       "      <td>9.0</td>\n",
       "      <td>7.0</td>\n",
       "      <td>0.0</td>\n",
       "      <td>12.865979</td>\n",
       "      <td>25.141073</td>\n",
       "      <td>False</td>\n",
       "      <td>False</td>\n",
       "      <td>False</td>\n",
       "    </tr>\n",
       "    <tr>\n",
       "      <th>102</th>\n",
       "      <td>26167</td>\n",
       "      <td>CHR</td>\n",
       "      <td>male</td>\n",
       "      <td>23</td>\n",
       "      <td>NaN</td>\n",
       "      <td>NaN</td>\n",
       "      <td>NaN</td>\n",
       "      <td>1.0</td>\n",
       "      <td>1.0</td>\n",
       "      <td>NaN</td>\n",
       "      <td>...</td>\n",
       "      <td>NaN</td>\n",
       "      <td>NaN</td>\n",
       "      <td>NaN</td>\n",
       "      <td>NaN</td>\n",
       "      <td>1.0</td>\n",
       "      <td>NaN</td>\n",
       "      <td>25.141073</td>\n",
       "      <td>True</td>\n",
       "      <td>True</td>\n",
       "      <td>False</td>\n",
       "    </tr>\n",
       "    <tr>\n",
       "      <th>103</th>\n",
       "      <td>26168</td>\n",
       "      <td>CHR</td>\n",
       "      <td>male</td>\n",
       "      <td>31</td>\n",
       "      <td>NaN</td>\n",
       "      <td>NaN</td>\n",
       "      <td>107.0</td>\n",
       "      <td>NaN</td>\n",
       "      <td>NaN</td>\n",
       "      <td>NaN</td>\n",
       "      <td>...</td>\n",
       "      <td>55.0</td>\n",
       "      <td>74.0</td>\n",
       "      <td>8.0</td>\n",
       "      <td>7.0</td>\n",
       "      <td>NaN</td>\n",
       "      <td>2.134021</td>\n",
       "      <td>25.141073</td>\n",
       "      <td>False</td>\n",
       "      <td>False</td>\n",
       "      <td>False</td>\n",
       "    </tr>\n",
       "    <tr>\n",
       "      <th>104</th>\n",
       "      <td>26175</td>\n",
       "      <td>CHR</td>\n",
       "      <td>female</td>\n",
       "      <td>24</td>\n",
       "      <td>14.0</td>\n",
       "      <td>NaN</td>\n",
       "      <td>111.0</td>\n",
       "      <td>NaN</td>\n",
       "      <td>NaN</td>\n",
       "      <td>NaN</td>\n",
       "      <td>...</td>\n",
       "      <td>72.0</td>\n",
       "      <td>55.0</td>\n",
       "      <td>4.0</td>\n",
       "      <td>5.0</td>\n",
       "      <td>NaN</td>\n",
       "      <td>14.865979</td>\n",
       "      <td>25.141073</td>\n",
       "      <td>False</td>\n",
       "      <td>False</td>\n",
       "      <td>False</td>\n",
       "    </tr>\n",
       "    <tr>\n",
       "      <th>105</th>\n",
       "      <td>26181</td>\n",
       "      <td>CHR</td>\n",
       "      <td>female</td>\n",
       "      <td>26</td>\n",
       "      <td>13.0</td>\n",
       "      <td>NaN</td>\n",
       "      <td>90.0</td>\n",
       "      <td>1.0</td>\n",
       "      <td>1.0</td>\n",
       "      <td>3.0</td>\n",
       "      <td>...</td>\n",
       "      <td>76.0</td>\n",
       "      <td>57.0</td>\n",
       "      <td>5.0</td>\n",
       "      <td>7.0</td>\n",
       "      <td>1.0</td>\n",
       "      <td>18.865979</td>\n",
       "      <td>25.141073</td>\n",
       "      <td>False</td>\n",
       "      <td>False</td>\n",
       "      <td>False</td>\n",
       "    </tr>\n",
       "    <tr>\n",
       "      <th>106</th>\n",
       "      <td>26191</td>\n",
       "      <td>CHR</td>\n",
       "      <td>male</td>\n",
       "      <td>25</td>\n",
       "      <td>16.0</td>\n",
       "      <td>NaN</td>\n",
       "      <td>106.0</td>\n",
       "      <td>NaN</td>\n",
       "      <td>NaN</td>\n",
       "      <td>NaN</td>\n",
       "      <td>...</td>\n",
       "      <td>67.0</td>\n",
       "      <td>58.0</td>\n",
       "      <td>6.0</td>\n",
       "      <td>10.0</td>\n",
       "      <td>NaN</td>\n",
       "      <td>9.865979</td>\n",
       "      <td>25.141073</td>\n",
       "      <td>False</td>\n",
       "      <td>False</td>\n",
       "      <td>False</td>\n",
       "    </tr>\n",
       "    <tr>\n",
       "      <th>107</th>\n",
       "      <td>26195</td>\n",
       "      <td>CHR</td>\n",
       "      <td>male</td>\n",
       "      <td>16</td>\n",
       "      <td>NaN</td>\n",
       "      <td>NaN</td>\n",
       "      <td>NaN</td>\n",
       "      <td>NaN</td>\n",
       "      <td>NaN</td>\n",
       "      <td>NaN</td>\n",
       "      <td>...</td>\n",
       "      <td>NaN</td>\n",
       "      <td>NaN</td>\n",
       "      <td>NaN</td>\n",
       "      <td>NaN</td>\n",
       "      <td>NaN</td>\n",
       "      <td>NaN</td>\n",
       "      <td>25.141073</td>\n",
       "      <td>False</td>\n",
       "      <td>False</td>\n",
       "      <td>False</td>\n",
       "    </tr>\n",
       "    <tr>\n",
       "      <th>108</th>\n",
       "      <td>26199</td>\n",
       "      <td>CHR</td>\n",
       "      <td>male</td>\n",
       "      <td>18</td>\n",
       "      <td>13.0</td>\n",
       "      <td>NaN</td>\n",
       "      <td>86.0</td>\n",
       "      <td>0.0</td>\n",
       "      <td>NaN</td>\n",
       "      <td>NaN</td>\n",
       "      <td>...</td>\n",
       "      <td>77.0</td>\n",
       "      <td>106.0</td>\n",
       "      <td>7.0</td>\n",
       "      <td>7.0</td>\n",
       "      <td>0.0</td>\n",
       "      <td>19.865979</td>\n",
       "      <td>25.141073</td>\n",
       "      <td>False</td>\n",
       "      <td>False</td>\n",
       "      <td>False</td>\n",
       "    </tr>\n",
       "    <tr>\n",
       "      <th>109</th>\n",
       "      <td>26208</td>\n",
       "      <td>CHR</td>\n",
       "      <td>male</td>\n",
       "      <td>20</td>\n",
       "      <td>16.0</td>\n",
       "      <td>NaN</td>\n",
       "      <td>112.0</td>\n",
       "      <td>1.0</td>\n",
       "      <td>1.0</td>\n",
       "      <td>NaN</td>\n",
       "      <td>...</td>\n",
       "      <td>67.0</td>\n",
       "      <td>106.0</td>\n",
       "      <td>6.0</td>\n",
       "      <td>8.0</td>\n",
       "      <td>1.0</td>\n",
       "      <td>9.865979</td>\n",
       "      <td>25.141073</td>\n",
       "      <td>False</td>\n",
       "      <td>False</td>\n",
       "      <td>False</td>\n",
       "    </tr>\n",
       "  </tbody>\n",
       "</table>\n",
       "<p>110 rows × 36 columns</p>\n",
       "</div>"
      ],
      "text/plain": [
       "        ID Group  Gender  Age  Education  Ethnicity     IQ  DSMDisorder  \\\n",
       "0     2501   FHR  female   25       14.0        NaN   99.0          1.0   \n",
       "1     2504   FHR  female   29       16.0        NaN  118.0          1.0   \n",
       "2     2505   FHR    male   33       14.0        NaN   95.0          0.0   \n",
       "3     2506   FHR    male   33       13.0        NaN  109.0          1.0   \n",
       "4     2508   FHR    male   28       16.0        NaN  118.0          0.0   \n",
       "5     2509   FHR  female   25       17.0        NaN  121.0          1.0   \n",
       "6     2510   FHR  female   30       18.0        NaN  123.0          1.0   \n",
       "7     2511   FHR  female   32       15.0        NaN  128.0          1.0   \n",
       "8     2513   FHR  female   27       19.0        NaN  122.0          1.0   \n",
       "9     2515   FHR  female   27       16.0        NaN  118.0          1.0   \n",
       "10    2517   FHR  female   24       16.0        NaN  118.0          1.0   \n",
       "11    2519   FHR  female   26       16.0        NaN  136.0          1.0   \n",
       "12    2521   FHR  female   20       15.0        NaN  117.0          1.0   \n",
       "13    2524   FHR  female   32       18.0        NaN  118.0          0.0   \n",
       "14    2527   FHR    male   27       16.0        NaN  106.0          1.0   \n",
       "15    2526   FHR    male   23       16.0        NaN  115.0          0.0   \n",
       "16    2531   FHR  female   23       16.0        NaN    NaN          0.0   \n",
       "17    2549   FHR  female   24       16.0        NaN  124.0          1.0   \n",
       "18    2554   FHR  female   33       18.0        NaN  121.0          0.0   \n",
       "19   27105    SZ    male   45       16.0        1.0  117.0          NaN   \n",
       "20   27108    SZ    male   32       16.0        1.0  106.0          NaN   \n",
       "21   27109    SZ  female   40       14.0        4.0   90.0          NaN   \n",
       "22   27115    SZ    male   42       13.0        1.0  108.0          NaN   \n",
       "23   27116    SZ  female   53       14.0        1.0  102.0          NaN   \n",
       "24   27117    SZ    male   53       14.0        1.0  121.0          NaN   \n",
       "25   27128    SZ  female   34       14.0        2.0   85.0          NaN   \n",
       "26   27136    SZ    male   24       16.0        2.0  125.0          NaN   \n",
       "27   27142    SZ  female   58       12.0        1.0  111.0          NaN   \n",
       "28   27148    SZ    male   38       18.0        1.0   99.0          NaN   \n",
       "29   27153    SZ    male   25       16.0        1.0  109.0          NaN   \n",
       "..     ...   ...     ...  ...        ...        ...    ...          ...   \n",
       "80   26933    HC  female   22       14.0        NaN  110.0          NaN   \n",
       "81   26934    HC    male   22       16.0        NaN  119.0          NaN   \n",
       "82   26937    HC    male   27       16.0        NaN  119.0          NaN   \n",
       "83   26102   CHR    male   21        NaN        NaN  122.0          0.0   \n",
       "84   26104   CHR    male   22       12.0        NaN   96.0          NaN   \n",
       "85   26108   CHR    male   20        NaN        NaN   81.0          NaN   \n",
       "86   26110   CHR    male   16       10.0        NaN   79.0          0.0   \n",
       "87   26114   CHR  female   18       12.0        NaN  118.0          0.0   \n",
       "88   26116   CHR    male   24       14.0        NaN   86.0          NaN   \n",
       "89   26119   CHR  female   23       16.0        NaN  113.0          1.0   \n",
       "90   26124   CHR    male   19       13.0        NaN  129.0          0.0   \n",
       "91   26125   CHR    male   22       15.0        NaN  132.0          1.0   \n",
       "92   26131   CHR  female   22       12.0        NaN   98.0          0.0   \n",
       "93   26136   CHR  female   34       16.0        NaN  100.0          0.0   \n",
       "94   26139   CHR    male   23       15.0        NaN  131.0          NaN   \n",
       "95   26141   CHR    male   18       16.0        NaN   92.0          NaN   \n",
       "96   26142   CHR  female   17       11.0        NaN   91.0          1.0   \n",
       "97   26144   CHR    male   22       16.0        NaN  123.0          0.0   \n",
       "98   26145   CHR  female   15        NaN        NaN    NaN          1.0   \n",
       "99   26151   CHR    male   23       19.0        NaN  139.0          0.0   \n",
       "100  26159   CHR    male   25       16.0        NaN  125.0          0.0   \n",
       "101  26161   CHR  female   17       10.0        NaN   96.0          0.0   \n",
       "102  26167   CHR    male   23        NaN        NaN    NaN          1.0   \n",
       "103  26168   CHR    male   31        NaN        NaN  107.0          NaN   \n",
       "104  26175   CHR  female   24       14.0        NaN  111.0          NaN   \n",
       "105  26181   CHR  female   26       13.0        NaN   90.0          1.0   \n",
       "106  26191   CHR    male   25       16.0        NaN  106.0          NaN   \n",
       "107  26195   CHR    male   16        NaN        NaN    NaN          NaN   \n",
       "108  26199   CHR    male   18       13.0        NaN   86.0          0.0   \n",
       "109  26208   CHR    male   20       16.0        NaN  112.0          1.0   \n",
       "\n",
       "     DSMDisorderType  DSMcomorbidities     ...       \\\n",
       "0                7.0               2.0     ...        \n",
       "1                7.0               2.0     ...        \n",
       "2                0.0               0.0     ...        \n",
       "3                4.0               1.0     ...        \n",
       "4                NaN               0.0     ...        \n",
       "5                2.0               1.0     ...        \n",
       "6                8.0               3.0     ...        \n",
       "7                7.0               2.0     ...        \n",
       "8                7.0               2.0     ...        \n",
       "9                8.0               3.0     ...        \n",
       "10               8.0               3.0     ...        \n",
       "11               7.0               2.0     ...        \n",
       "12               8.0               3.0     ...        \n",
       "13               NaN               0.0     ...        \n",
       "14               NaN               1.0     ...        \n",
       "15               NaN               0.0     ...        \n",
       "16               NaN               0.0     ...        \n",
       "17               NaN               2.0     ...        \n",
       "18               NaN               0.0     ...        \n",
       "19               NaN               NaN     ...        \n",
       "20               NaN               NaN     ...        \n",
       "21               NaN               NaN     ...        \n",
       "22               NaN               NaN     ...        \n",
       "23               NaN               NaN     ...        \n",
       "24               NaN               NaN     ...        \n",
       "25               NaN               NaN     ...        \n",
       "26               NaN               NaN     ...        \n",
       "27               NaN               NaN     ...        \n",
       "28               NaN               NaN     ...        \n",
       "29               NaN               NaN     ...        \n",
       "..               ...               ...     ...        \n",
       "80               NaN               NaN     ...        \n",
       "81               NaN               NaN     ...        \n",
       "82               NaN               NaN     ...        \n",
       "83               NaN               NaN     ...        \n",
       "84               NaN               NaN     ...        \n",
       "85               NaN               NaN     ...        \n",
       "86               NaN               NaN     ...        \n",
       "87               NaN               NaN     ...        \n",
       "88               NaN               NaN     ...        \n",
       "89               2.0               NaN     ...        \n",
       "90               NaN               NaN     ...        \n",
       "91               1.0               NaN     ...        \n",
       "92               NaN               NaN     ...        \n",
       "93               NaN               NaN     ...        \n",
       "94               NaN               NaN     ...        \n",
       "95               NaN               NaN     ...        \n",
       "96               5.0               NaN     ...        \n",
       "97               NaN               NaN     ...        \n",
       "98               1.0               NaN     ...        \n",
       "99               NaN               NaN     ...        \n",
       "100              NaN               NaN     ...        \n",
       "101              NaN               NaN     ...        \n",
       "102              1.0               NaN     ...        \n",
       "103              NaN               NaN     ...        \n",
       "104              NaN               NaN     ...        \n",
       "105              1.0               3.0     ...        \n",
       "106              NaN               NaN     ...        \n",
       "107              NaN               NaN     ...        \n",
       "108              NaN               NaN     ...        \n",
       "109              1.0               NaN     ...        \n",
       "\n",
       "     SocAdjScale_SocialLeisure  SocAdjScale_Work  GFS_Role  GFS_Social  \\\n",
       "0                          NaN               NaN       NaN         NaN   \n",
       "1                         38.0              51.0       NaN         NaN   \n",
       "2                         51.0              58.0       NaN         NaN   \n",
       "3                         49.0              55.0       NaN         NaN   \n",
       "4                         40.0              64.0       NaN         NaN   \n",
       "5                         48.0              47.0       NaN         NaN   \n",
       "6                         55.0              49.0       NaN         NaN   \n",
       "7                         59.0              61.0       NaN         NaN   \n",
       "8                         49.0              55.0       NaN         NaN   \n",
       "9                         49.0              61.0       NaN         NaN   \n",
       "10                        59.0              45.0       NaN         NaN   \n",
       "11                        44.0              53.0       NaN         NaN   \n",
       "12                        65.0              41.0       NaN         NaN   \n",
       "13                        49.0              49.0       NaN         NaN   \n",
       "14                        48.0              87.0       NaN         NaN   \n",
       "15                        46.0              90.0       NaN         NaN   \n",
       "16                        49.0              47.0       NaN         NaN   \n",
       "17                        65.0              57.0       NaN         NaN   \n",
       "18                        44.0              65.0       NaN         NaN   \n",
       "19                        42.0               0.0       2.0         7.0   \n",
       "20                        61.0              58.0       7.0         7.0   \n",
       "21                        83.0              77.0       6.0         5.0   \n",
       "22                        76.0              63.0       4.0         6.0   \n",
       "23                        72.0              71.0       3.0         5.0   \n",
       "24                        76.0              90.0       5.0         3.0   \n",
       "25                        74.0              51.0       5.0         6.0   \n",
       "26                        58.0              52.0       7.0         6.0   \n",
       "27                        98.0              54.0       3.0         3.0   \n",
       "28                        55.0              42.0       7.0         6.0   \n",
       "29                         NaN               NaN       6.0         9.0   \n",
       "..                         ...               ...       ...         ...   \n",
       "80                        51.0              47.0       8.0         9.0   \n",
       "81                        48.0              51.0      10.0        10.0   \n",
       "82                        36.0              42.0       8.0         6.0   \n",
       "83                        55.0              80.0       NaN         NaN   \n",
       "84                        68.0              58.0       6.0         8.0   \n",
       "85                        69.0              84.0       NaN         NaN   \n",
       "86                        63.0              74.0       7.0         6.0   \n",
       "87                        49.0             110.0       9.0         6.0   \n",
       "88                        67.0             100.0       9.0         8.0   \n",
       "89                        74.0               0.0       5.0         6.0   \n",
       "90                        46.0              64.0       8.0         9.0   \n",
       "91                        61.0              84.0       6.0         6.0   \n",
       "92                         NaN               NaN       6.0         7.0   \n",
       "93                        45.0              41.0       8.0         9.0   \n",
       "94                         NaN              51.0       7.0         6.0   \n",
       "95                        75.0              85.0       5.0         8.0   \n",
       "96                        51.0              78.0       7.0         9.0   \n",
       "97                        66.0              63.0       8.0         9.0   \n",
       "98                         NaN               NaN       NaN         NaN   \n",
       "99                        55.0              58.0       7.0        10.0   \n",
       "100                       53.0              47.0       5.0         4.0   \n",
       "101                       70.0              77.0       9.0         7.0   \n",
       "102                        NaN               NaN       NaN         NaN   \n",
       "103                       55.0              74.0       8.0         7.0   \n",
       "104                       72.0              55.0       4.0         5.0   \n",
       "105                       76.0              57.0       5.0         7.0   \n",
       "106                       67.0              58.0       6.0        10.0   \n",
       "107                        NaN               NaN       NaN         NaN   \n",
       "108                       77.0             106.0       7.0         7.0   \n",
       "109                       67.0             106.0       6.0         8.0   \n",
       "\n",
       "     Present_Clinical     x-Mean   1.96*std  Outlier_EC  Outlier_PT  \\\n",
       "0                 1.0        NaN  25.141073       False       False   \n",
       "1                 1.0  19.134021  25.141073       False       False   \n",
       "2                 0.0   6.134021  25.141073       False       False   \n",
       "3                 1.0   8.134021  25.141073       False       False   \n",
       "4                 0.0  17.134021  25.141073       False       False   \n",
       "5                 1.0   9.134021  25.141073       False       False   \n",
       "6                 1.0   2.134021  25.141073       False       False   \n",
       "7                 1.0   1.865979  25.141073       False       False   \n",
       "8                 1.0   8.134021  25.141073       False       False   \n",
       "9                 1.0   8.134021  25.141073       False       False   \n",
       "10                1.0   1.865979  25.141073       False       False   \n",
       "11                1.0  13.134021  25.141073       False       False   \n",
       "12                1.0   7.865979  25.141073       False       False   \n",
       "13                0.0   8.134021  25.141073       False       False   \n",
       "14                1.0   9.134021  25.141073       False       False   \n",
       "15                0.0  11.134021  25.141073       False       False   \n",
       "16                0.0   8.134021  25.141073       False       False   \n",
       "17                1.0   7.865979  25.141073       False       False   \n",
       "18                0.0  13.134021  25.141073       False       False   \n",
       "19                1.0  15.134021  25.141073       False       False   \n",
       "20                1.0   3.865979  25.141073       False       False   \n",
       "21                1.0  25.865979  25.141073       False       False   \n",
       "22                1.0  18.865979  25.141073       False       False   \n",
       "23                1.0  14.865979  25.141073       False       False   \n",
       "24                1.0  18.865979  25.141073        True        True   \n",
       "25                1.0  16.865979  25.141073       False       False   \n",
       "26                1.0   0.865979  25.141073       False       False   \n",
       "27                1.0  40.865979  25.141073       False       False   \n",
       "28                1.0   2.134021  25.141073       False       False   \n",
       "29                1.0        NaN  25.141073       False       False   \n",
       "..                ...        ...        ...         ...         ...   \n",
       "80                0.0   6.134021  25.141073       False       False   \n",
       "81                0.0   9.134021  25.141073       False       False   \n",
       "82                0.0  21.134021  25.141073       False       False   \n",
       "83                0.0   2.134021  25.141073       False       False   \n",
       "84                NaN  10.865979  25.141073       False       False   \n",
       "85                NaN  11.865979  25.141073       False       False   \n",
       "86                0.0   5.865979  25.141073       False       False   \n",
       "87                0.0   8.134021  25.141073       False       False   \n",
       "88                NaN   9.865979  25.141073       False       False   \n",
       "89                1.0  16.865979  25.141073       False       False   \n",
       "90                0.0  11.134021  25.141073       False       False   \n",
       "91                1.0   3.865979  25.141073       False       False   \n",
       "92                0.0        NaN  25.141073       False       False   \n",
       "93                0.0  12.134021  25.141073       False       False   \n",
       "94                NaN        NaN  25.141073       False       False   \n",
       "95                NaN  17.865979  25.141073       False       False   \n",
       "96                1.0   6.134021  25.141073       False       False   \n",
       "97                0.0   8.865979  25.141073       False       False   \n",
       "98                1.0        NaN  25.141073        True        True   \n",
       "99                0.0   2.134021  25.141073       False       False   \n",
       "100               0.0   4.134021  25.141073       False       False   \n",
       "101               0.0  12.865979  25.141073       False       False   \n",
       "102               1.0        NaN  25.141073        True        True   \n",
       "103               NaN   2.134021  25.141073       False       False   \n",
       "104               NaN  14.865979  25.141073       False       False   \n",
       "105               1.0  18.865979  25.141073       False       False   \n",
       "106               NaN   9.865979  25.141073       False       False   \n",
       "107               NaN        NaN  25.141073       False       False   \n",
       "108               0.0  19.865979  25.141073       False       False   \n",
       "109               1.0   9.865979  25.141073       False       False   \n",
       "\n",
       "     Outlier_SAS  \n",
       "0          False  \n",
       "1          False  \n",
       "2          False  \n",
       "3          False  \n",
       "4          False  \n",
       "5          False  \n",
       "6          False  \n",
       "7          False  \n",
       "8          False  \n",
       "9          False  \n",
       "10         False  \n",
       "11         False  \n",
       "12         False  \n",
       "13         False  \n",
       "14         False  \n",
       "15         False  \n",
       "16         False  \n",
       "17         False  \n",
       "18         False  \n",
       "19         False  \n",
       "20         False  \n",
       "21          True  \n",
       "22         False  \n",
       "23         False  \n",
       "24         False  \n",
       "25         False  \n",
       "26         False  \n",
       "27          True  \n",
       "28         False  \n",
       "29         False  \n",
       "..           ...  \n",
       "80         False  \n",
       "81         False  \n",
       "82         False  \n",
       "83         False  \n",
       "84         False  \n",
       "85         False  \n",
       "86         False  \n",
       "87         False  \n",
       "88         False  \n",
       "89         False  \n",
       "90         False  \n",
       "91         False  \n",
       "92         False  \n",
       "93         False  \n",
       "94         False  \n",
       "95         False  \n",
       "96         False  \n",
       "97         False  \n",
       "98         False  \n",
       "99         False  \n",
       "100        False  \n",
       "101        False  \n",
       "102        False  \n",
       "103        False  \n",
       "104        False  \n",
       "105        False  \n",
       "106        False  \n",
       "107        False  \n",
       "108        False  \n",
       "109        False  \n",
       "\n",
       "[110 rows x 36 columns]"
      ]
     },
     "execution_count": 117,
     "metadata": {},
     "output_type": "execute_result"
    }
   ],
   "source": [
    "raw['x-Mean'] = abs(raw['IRI_EC_total'] - raw['IRI_EC_total'].mean())\n",
    "raw['1.96*std'] = 1.96*raw['IRI_EC_total'].std()  \n",
    "raw['Outlier_EC'] = abs(raw['IRI_EC_total'] - raw['IRI_EC_total'].mean()) > 1.96*raw['IRI_EC_total'].std()\n",
    "raw\n",
    "\n",
    "raw['x-Mean'] = abs(raw['IRI_PT_total'] - raw['IRI_PT_total'].mean())\n",
    "raw['1.96*std'] = 1.96*raw['IRI_PT_total'].std()  \n",
    "raw['Outlier_PT'] = abs(raw['IRI_PT_total'] - raw['IRI_PT_total'].mean()) > 1.96*raw['IRI_PT_total'].std()\n",
    "raw\n",
    "\n",
    "raw['x-Mean'] = abs(raw['SocAdjScale_SocialLeisure'] - raw['SocAdjScale_SocialLeisure'].mean())\n",
    "raw['1.96*std'] = 1.96*raw['SocAdjScale_SocialLeisure'].std()  \n",
    "raw['Outlier_SAS'] = abs(raw['SocAdjScale_SocialLeisure'] - raw['SocAdjScale_SocialLeisure'].mean()) > 1.96*raw['SocAdjScale_SocialLeisure'].std()\n",
    "raw"
   ]
  },
  {
   "cell_type": "code",
   "execution_count": 65,
   "metadata": {
    "collapsed": false
   },
   "outputs": [
    {
     "data": {
      "text/plain": [
       "Index(['ID', 'Group', 'Gender', 'Age', 'Education', 'Ethnicity', 'IQ',\n",
       "       'DSMDisorder', 'DSMDisorderType', 'DSMcomorbidities', 'IRI_EC_total',\n",
       "       'IRI_FS_total', 'IRI_PD_total', 'IRI_PT_total', 'Chapman_MIS',\n",
       "       'Chapman_PAS', 'Chapman_PhAS', 'Chapman_RTS', 'Chapman_SocAnh',\n",
       "       'Medication', 'PANAS_NA', 'PANAS_PA', 'SIPS_Disorganized',\n",
       "       'SIPS_General', 'SIPS_Negative', 'SIPS_Positive',\n",
       "       'SocAdjScale_SocialLeisure', 'SocAdjScale_Work', 'GFS_Role',\n",
       "       'GFS_Social', 'Present_Clinical'],\n",
       "      dtype='object')"
      ]
     },
     "execution_count": 65,
     "metadata": {},
     "output_type": "execute_result"
    }
   ],
   "source": [
    "raw.columns"
   ]
  },
  {
   "cell_type": "code",
   "execution_count": 69,
   "metadata": {
    "collapsed": false
   },
   "outputs": [
    {
     "data": {
      "text/plain": [
       "'data.frame':\t110 obs. of  31 variables:\n",
       " $ ID                       : int  2501 2504 2505 2506 2508 2509 2510 2511 2513 2515 ...\n",
       " $ Group                    : Factor w/ 4 levels \"CHR\",\"FHR\",\"HC\",..: 2 2 2 2 2 2 2 2 2 2 ...\n",
       " $ Gender                   : Factor w/ 2 levels \"female\",\"male\": 1 1 2 2 2 1 1 1 1 1 ...\n",
       " $ Age                      : int  25 29 33 33 28 25 30 32 27 27 ...\n",
       " $ Education                : num  14 16 14 13 16 17 18 15 19 16 ...\n",
       " $ Ethnicity                : num  NaN NaN NaN NaN NaN NaN NaN NaN NaN NaN ...\n",
       " $ IQ                       : num  99 118 95 109 118 121 123 128 122 118 ...\n",
       " $ DSMDisorder              : num  1 1 0 1 0 1 1 1 1 1 ...\n",
       " $ DSMDisorderType          : num  7 7 0 4 NaN 2 8 7 7 8 ...\n",
       " $ DSMcomorbidities         : num  2 2 0 1 0 1 3 2 2 3 ...\n",
       " $ IRI_EC_total             : num  NaN 21 21 14 18 26 22 16 20 25 ...\n",
       " $ IRI_FS_total             : num  NaN 6 19 15 16 18 16 17 10 18 ...\n",
       " $ IRI_PD_total             : num  NaN 6 5 9 16 11 8 13 8 11 ...\n",
       " $ IRI_PT_total             : num  NaN 23 24 23 23 15 21 21 16 24 ...\n",
       " $ Chapman_MIS              : num  NaN 7 1 4 4 2 2 3 2 1 ...\n",
       " $ Chapman_PAS              : num  NaN 1 1 9 1 1 0 1 1 3 ...\n",
       " $ Chapman_PhAS             : num  NaN 5 2 11 8 14 5 7 17 1 ...\n",
       " $ Chapman_RTS              : num  NaN 1 0 5 0 0 0 1 1 2 ...\n",
       " $ Chapman_SocAnh           : num  NaN 2 11 24 9 2 0 17 1 1 ...\n",
       " $ Medication               : num  1 1 0 0 1 0 0 1 1 1 ...\n",
       " $ PANAS_NA                 : num  NaN NaN NaN NaN NaN NaN NaN NaN NaN NaN ...\n",
       " $ PANAS_PA                 : num  NaN NaN NaN NaN NaN NaN NaN NaN NaN NaN ...\n",
       " $ SIPS_Disorganized        : num  0.75 0.5 0.25 1 1.25 0.5 0 1 0 0.75 ...\n",
       " $ SIPS_General             : num  0.75 0.5 0 0.75 1 0 0 0.25 0.5 1.5 ...\n",
       " $ SIPS_Negative            : num  0.5 0.333 0 1.167 0.5 ...\n",
       " $ SIPS_Positive            : num  1.4 1 0.4 1.2 1.4 0.4 0 0.6 0 0.8 ...\n",
       " $ SocAdjScale_SocialLeisure: num  NaN 38 51 49 40 48 55 59 49 49 ...\n",
       " $ SocAdjScale_Work         : num  NaN 51 58 55 64 47 49 61 55 61 ...\n",
       " $ GFS_Role                 : num  NaN NaN NaN NaN NaN NaN NaN NaN NaN NaN ...\n",
       " $ GFS_Social               : num  NaN NaN NaN NaN NaN NaN NaN NaN NaN NaN ...\n",
       " $ Present_Clinical         : num  1 1 0 1 0 1 1 1 1 1 ...\n"
      ]
     },
     "metadata": {},
     "output_type": "display_data"
    }
   ],
   "source": [
    "%Rpush raw\n",
    "%R str(raw)"
   ]
  },
  {
   "cell_type": "code",
   "execution_count": null,
   "metadata": {
    "collapsed": true
   },
   "outputs": [],
   "source": []
  },
  {
   "cell_type": "code",
   "execution_count": null,
   "metadata": {
    "collapsed": true
   },
   "outputs": [],
   "source": []
  },
  {
   "cell_type": "markdown",
   "metadata": {},
   "source": [
    "### Demographics"
   ]
  },
  {
   "cell_type": "code",
   "execution_count": 59,
   "metadata": {
    "collapsed": false,
    "scrolled": true
   },
   "outputs": [
    {
     "name": "stdout",
     "output_type": "stream",
     "text": [
      "Total Group Count\n"
     ]
    },
    {
     "data": {
      "text/plain": [
       "Group\n",
       "CHR    27\n",
       "FHR    19\n",
       "HC     38\n",
       "SZ     26\n",
       "Name: ID, dtype: int64"
      ]
     },
     "execution_count": 59,
     "metadata": {},
     "output_type": "execute_result"
    }
   ],
   "source": [
    "print ('Total Group Count')\n",
    "raw.groupby('Group')['ID'].nunique()"
   ]
  },
  {
   "cell_type": "code",
   "execution_count": 60,
   "metadata": {
    "collapsed": false,
    "scrolled": true
   },
   "outputs": [
    {
     "name": "stdout",
     "output_type": "stream",
     "text": [
      "Gender by Group\n"
     ]
    },
    {
     "data": {
      "text/plain": [
       "Group  Gender\n",
       "CHR    male      18\n",
       "       female     9\n",
       "FHR    female    14\n",
       "       male       5\n",
       "HC     male      22\n",
       "       female    16\n",
       "SZ     male      16\n",
       "       female    10\n",
       "dtype: int64"
      ]
     },
     "execution_count": 60,
     "metadata": {},
     "output_type": "execute_result"
    }
   ],
   "source": [
    "#Even split in HC group, more males in HR and SZ group - unsurprising...\n",
    "#however mostly female in GHR group\n",
    "print ('Gender by Group')\n",
    "raw.groupby('Group')['Gender'].value_counts()"
   ]
  },
  {
   "cell_type": "code",
   "execution_count": 61,
   "metadata": {
    "collapsed": false,
    "scrolled": false
   },
   "outputs": [
    {
     "name": "stdout",
     "output_type": "stream",
     "text": [
      "Age by Group\n",
      "Group       \n",
      "CHR    count    27.000000\n",
      "       mean     21.629630\n",
      "       std       4.404090\n",
      "       min      15.000000\n",
      "       25%      18.000000\n",
      "       50%      22.000000\n",
      "       75%      23.500000\n",
      "       max      34.000000\n",
      "FHR    count    19.000000\n",
      "       mean     27.421053\n",
      "       std       3.920258\n",
      "       min      20.000000\n",
      "       25%      24.500000\n",
      "       50%      27.000000\n",
      "       75%      31.000000\n",
      "       max      33.000000\n",
      "HC     count    38.000000\n",
      "       mean     29.763158\n",
      "       std      11.769025\n",
      "       min      18.000000\n",
      "       25%      21.000000\n",
      "       50%      24.000000\n",
      "       75%      41.500000\n",
      "       max      55.000000\n",
      "SZ     count    26.000000\n",
      "       mean     38.692308\n",
      "       std      10.279180\n",
      "       min      21.000000\n",
      "       25%      31.250000\n",
      "       50%      38.500000\n",
      "       75%      44.750000\n",
      "       max      58.000000\n",
      "dtype: float64\n"
     ]
    },
    {
     "data": {
      "text/plain": [
       "<matplotlib.axes._subplots.AxesSubplot at 0x12ece4c50>"
      ]
     },
     "execution_count": 61,
     "metadata": {},
     "output_type": "execute_result"
    },
    {
     "data": {
      "image/png": "[encoded data removed]",
      "text/plain": [
       "<matplotlib.figure.Figure at 0x12ea1c898>"
      ]
     },
     "metadata": {},
     "output_type": "display_data"
    }
   ],
   "source": [
    "print ('Age by Group')\n",
    "g=raw.groupby('Group')\n",
    "print (g.Age.describe())\n",
    "\n",
    "sns.boxplot(x='Group',y='Age',data=raw)"
   ]
  },
  {
   "cell_type": "code",
   "execution_count": 62,
   "metadata": {
    "collapsed": true
   },
   "outputs": [],
   "source": [
    "\"\"\"Dataframe dropping participants without an IQ value\"\"\"\n",
    "raw_IQ = raw[np.isfinite(raw['IQ'])]"
   ]
  },
  {
   "cell_type": "code",
   "execution_count": 63,
   "metadata": {
    "collapsed": false,
    "scrolled": false
   },
   "outputs": [
    {
     "name": "stdout",
     "output_type": "stream",
     "text": [
      "Group\n",
      "CHR    106.791667\n",
      "FHR    117.000000\n",
      "HC     112.105263\n",
      "SZ     108.076923\n",
      "Name: IQ, dtype: float64\n",
      "Group\n",
      "CHR    17.688068\n",
      "FHR     9.779931\n",
      "HC     11.668367\n",
      "SZ     13.323432\n",
      "Name: IQ, dtype: float64\n",
      "ANOVA for IQ x Group\n"
     ]
    },
    {
     "data": {
      "text/plain": [
       "             Df Sum Sq Mean Sq F value Pr(>F)  \n",
       "Group         3   1335   444.9    2.48 0.0653 .\n",
       "Residuals   102  18297   179.4                 \n",
       "---\n",
       "Signif. codes:  0 ‘***’ 0.001 ‘**’ 0.01 ‘*’ 0.05 ‘.’ 0.1 ‘ ’ 1\n"
      ]
     },
     "metadata": {},
     "output_type": "display_data"
    },
    {
     "data": {
      "image/png": "[encoded data removed]",
      "text/plain": [
       "<matplotlib.figure.Figure at 0x12ecfc390>"
      ]
     },
     "metadata": {},
     "output_type": "display_data"
    }
   ],
   "source": [
    "i = raw_IQ.groupby('Group')\n",
    "\n",
    "print (i.IQ.mean())\n",
    "print (i.IQ.std())\n",
    "\n",
    "sns.boxplot(x='Group',y='IQ',data=raw_IQ)\n",
    "\n",
    "%Rpush raw_IQ\n",
    "print ('ANOVA for IQ x Group')\n",
    "%R iq2.aov <- aov(IQ ~ Group, data=raw_IQ)\n",
    "%R print (summary(iq2.aov))"
   ]
  },
  {
   "cell_type": "code",
   "execution_count": null,
   "metadata": {
    "collapsed": true
   },
   "outputs": [],
   "source": []
  },
  {
   "cell_type": "markdown",
   "metadata": {},
   "source": [
    "### Looking at Measures"
   ]
  },
  {
   "cell_type": "code",
   "execution_count": 66,
   "metadata": {
    "collapsed": false
   },
   "outputs": [
    {
     "name": "stdout",
     "output_type": "stream",
     "text": [
      "IRI_EC Mean\n",
      "Group\n",
      "CHR    22.338462\n",
      "FHR    20.333333\n",
      "HC     25.589474\n",
      "SZ     24.853846\n",
      "Name: IRI_EC_total, dtype: float64\n",
      "IRI_FS Mean\n",
      "Group\n",
      "CHR    22.153846\n",
      "FHR    15.166667\n",
      "HC     19.568421\n",
      "SZ     22.453846\n",
      "Name: IRI_FS_total, dtype: float64\n",
      "IRI_PD Mean\n",
      "Group\n",
      "CHR    17.784615\n",
      "FHR     8.833333\n",
      "HC     13.589474\n",
      "SZ     16.053846\n",
      "Name: IRI_PD_total, dtype: float64\n",
      "IRI_PT Mean\n",
      "Group\n",
      "CHR    21.807692\n",
      "FHR    21.500000\n",
      "HC     24.978947\n",
      "SZ     24.453846\n",
      "Name: IRI_PT_total, dtype: float64\n",
      "ANOVA on Empathic concern x Group\n"
     ]
    },
    {
     "data": {
      "text/plain": [
       "             Df Sum Sq Mean Sq F value Pr(>F)  \n",
       "Group         3    422  140.73   2.306 0.0811 .\n",
       "Residuals   104   6348   61.04                 \n",
       "---\n",
       "Signif. codes:  0 ‘***’ 0.001 ‘**’ 0.01 ‘*’ 0.05 ‘.’ 0.1 ‘ ’ 1\n",
       "2 observations deleted due to missingness\n"
      ]
     },
     "metadata": {},
     "output_type": "display_data"
    },
    {
     "name": "stdout",
     "output_type": "stream",
     "text": [
      "ANOVA on Fantasy x Group\n"
     ]
    },
    {
     "data": {
      "text/plain": [
       "             Df Sum Sq Mean Sq F value  Pr(>F)   \n",
       "Group         3    702  234.09   4.094 0.00862 **\n",
       "Residuals   104   5946   57.17                   \n",
       "---\n",
       "Signif. codes:  0 ‘***’ 0.001 ‘**’ 0.01 ‘*’ 0.05 ‘.’ 0.1 ‘ ’ 1\n",
       "2 observations deleted due to missingness\n"
      ]
     },
     "metadata": {},
     "output_type": "display_data"
    },
    {
     "name": "stdout",
     "output_type": "stream",
     "text": [
      "ANOVA on Personal Distress x Group\n"
     ]
    },
    {
     "data": {
      "text/plain": [
       "             Df Sum Sq Mean Sq F value   Pr(>F)    \n",
       "Group         3    952   317.2   8.372 4.89e-05 ***\n",
       "Residuals   104   3941    37.9                     \n",
       "---\n",
       "Signif. codes:  0 ‘***’ 0.001 ‘**’ 0.01 ‘*’ 0.05 ‘.’ 0.1 ‘ ’ 1\n",
       "2 observations deleted due to missingness\n"
      ]
     },
     "metadata": {},
     "output_type": "display_data"
    },
    {
     "name": "stdout",
     "output_type": "stream",
     "text": [
      "ANOVA on Perspective Taking x Group\n"
     ]
    },
    {
     "data": {
      "text/plain": [
       "             Df Sum Sq Mean Sq F value Pr(>F)\n",
       "Group         3    253   84.41   1.514  0.215\n",
       "Residuals   104   5798   55.75               \n",
       "2 observations deleted due to missingness\n"
      ]
     },
     "metadata": {},
     "output_type": "display_data"
    },
    {
     "data": {
      "image/png": "[encoded data removed]",
      "text/plain": [
       "<matplotlib.figure.Figure at 0x12f6d2860>"
      ]
     },
     "metadata": {},
     "output_type": "display_data"
    }
   ],
   "source": [
    "#SCORE and YAASS scored on 5-pt scale, FAME on 6-pt scale. Transformed to z scores.\n",
    "#FHR scores seem much lower than the other groups...\n",
    "\n",
    "print('IRI_EC Mean')\n",
    "print(g.IRI_EC_total.mean())\n",
    "print('IRI_FS Mean')\n",
    "print(g.IRI_FS_total.mean())\n",
    "print('IRI_PD Mean')\n",
    "print(g.IRI_PD_total.mean())\n",
    "print('IRI_PT Mean')\n",
    "print(g.IRI_PT_total.mean())\n",
    "\n",
    "print ('ANOVA on Empathic concern x Group')\n",
    "%R ec.aov <- aov(IRI_EC_total ~ Group, data=raw)\n",
    "%R print (summary(ec.aov))\n",
    "fig = plt.figure()\n",
    "iri = fig.add_subplot(141)\n",
    "sns.boxplot(y='IRI_EC_total', x='Group', data = raw)\n",
    "plt.ylabel('Emapathic Concern')\n",
    "plt.xticks(rotation=45)\n",
    "\n",
    "print ('ANOVA on Fantasy x Group')\n",
    "%R fs.aov <- aov(IRI_FS_total ~ Group, data=raw)\n",
    "%R print (summary(fs.aov))\n",
    "iri = fig.add_subplot(142)\n",
    "sns.boxplot(y='IRI_FS_total', x='Group', data = raw)\n",
    "plt.ylabel('Fantasy')\n",
    "plt.xticks(rotation=45)\n",
    "\n",
    "print ('ANOVA on Personal Distress x Group')\n",
    "%R pd.aov <- aov(IRI_PD_total ~ Group, data=raw)\n",
    "%R print (summary(pd.aov))\n",
    "iri = fig.add_subplot(143)\n",
    "sns.boxplot(y='IRI_PD_total', x='Group', data = raw)\n",
    "plt.ylabel('Personal Distress')\n",
    "plt.xticks(rotation=45)\n",
    "\n",
    "print ('ANOVA on Perspective Taking x Group')\n",
    "%R pt.aov <- aov(IRI_PT_total ~ Group, data=raw)\n",
    "%R print (summary(pt.aov))\n",
    "iri = fig.add_subplot(144)\n",
    "sns.boxplot(y='IRI_PT_total', x='Group', data = raw)\n",
    "plt.ylabel('Perspective Taking')\n",
    "plt.xticks(rotation=45)\n",
    "fig.tight_layout()"
   ]
  },
  {
   "cell_type": "code",
   "execution_count": null,
   "metadata": {
    "collapsed": true
   },
   "outputs": [],
   "source": []
  },
  {
   "cell_type": "markdown",
   "metadata": {},
   "source": [
    "#### Clear difference in prodromal psychotic sympoms between high risk groups. This could account for the split on IRI scubscales into CHR/SZ and FHR/HC. Both the FHR and CHR group have DSM diagnoses, and at least some FHR participants were experiencing depressed or anxious symptoms at time of testing (check on whether we have that info for CHR). This could mean that having symptoms on the psychotic spectrum, regardless of meeting clinical diagnosis, would put you at risk for social deficits above and beyond other DSM diagnoses. Will test below.\n",
    "\n",
    "* Need to remove N1 on SIPS from negative symptoms if statistically testing (measures social functioning)"
   ]
  },
  {
   "cell_type": "code",
   "execution_count": 68,
   "metadata": {
    "collapsed": false
   },
   "outputs": [
    {
     "name": "stdout",
     "output_type": "stream",
     "text": [
      "Between-group t-tests on SIPS General: Risk Groups\n",
      "t(44) = nan, p = nan\n"
     ]
    },
    {
     "data": {
      "text/plain": [
       "(nan, nan)"
      ]
     },
     "execution_count": 68,
     "metadata": {},
     "output_type": "execute_result"
    },
    {
     "data": {
      "image/png": "[encoded data removed]",
      "text/plain": [
       "<matplotlib.figure.Figure at 0x126bd2278>"
      ]
     },
     "metadata": {},
     "output_type": "display_data"
    }
   ],
   "source": [
    "sips = raw[~(raw.Group == 'SZ')]\n",
    "\n",
    "fig = plt.figure(figsize=(8, 6))\n",
    "si = fig.add_subplot(141)\n",
    "sns.boxplot(y='SIPS_Positive', x='Group', data = sips)\n",
    "si = fig.add_subplot(142)\n",
    "sns.boxplot(y='SIPS_Negative', x='Group', data = sips)\n",
    "si = fig.add_subplot(143)\n",
    "sns.boxplot(y='SIPS_Disorganized', x='Group', data = sips)\n",
    "si = fig.add_subplot(144)\n",
    "sns.boxplot(y='SIPS_General', x='Group', data = sips)\n",
    "fig.tight_layout()\n",
    "\n",
    "print ('Between-group t-tests on SIPS General: Risk Groups')\n",
    "misc.ttest_2s(raw[raw.Group == 'FHR']['SIPS_General'],raw[raw.Group == 'CHR']['SIPS_General'])"
   ]
  },
  {
   "cell_type": "code",
   "execution_count": null,
   "metadata": {
    "collapsed": true
   },
   "outputs": [],
   "source": []
  },
  {
   "cell_type": "code",
   "execution_count": 13,
   "metadata": {
    "collapsed": false,
    "scrolled": false
   },
   "outputs": [
    {
     "data": {
      "image/png": "[encoded data removed]",
      "text/plain": [
       "<matplotlib.figure.Figure at 0x122fb5f60>"
      ]
     },
     "metadata": {},
     "output_type": "display_data"
    }
   ],
   "source": [
    "fig = plt.figure(figsize=(8, 6))\n",
    "chap = fig.add_subplot(141)\n",
    "sns.boxplot(y='Chapman_RTS', x='Group', data = raw)\n",
    "chap = fig.add_subplot(142)\n",
    "sns.boxplot(y='Chapman_MIS', x='Group', data = raw)\n",
    "chap = fig.add_subplot(143)\n",
    "sns.boxplot(y='Chapman_PAS', x='Group', data = raw)\n",
    "chap = fig.add_subplot(144)\n",
    "sns.boxplot(y='Chapman_SocAnh', x='Group', data = raw)\n",
    "fig.tight_layout()"
   ]
  },
  {
   "cell_type": "code",
   "execution_count": 14,
   "metadata": {
    "collapsed": false,
    "scrolled": false
   },
   "outputs": [
    {
     "data": {
      "text/plain": [
       "<seaborn.axisgrid.FacetGrid at 0x11bd04da0>"
      ]
     },
     "execution_count": 14,
     "metadata": {},
     "output_type": "execute_result"
    },
    {
     "data": {
      "image/png": "[encoded data removed]",
      "text/plain": [
       "<matplotlib.figure.Figure at 0x11bd04f28>"
      ]
     },
     "metadata": {},
     "output_type": "display_data"
    }
   ],
   "source": [
    "# no measures from FAME\n",
    "gfs = raw[~(raw.Group == 'FHR')]\n",
    "\n",
    "sns.factorplot(y='GFS_Role',x='Group',units='ID',ci=68,kind='bar',data=gfs)"
   ]
  },
  {
   "cell_type": "code",
   "execution_count": 15,
   "metadata": {
    "collapsed": false
   },
   "outputs": [
    {
     "data": {
      "text/plain": [
       "<seaborn.axisgrid.FacetGrid at 0x127011dd8>"
      ]
     },
     "execution_count": 15,
     "metadata": {},
     "output_type": "execute_result"
    },
    {
     "data": {
      "image/png": "[encoded data removed]",
      "text/plain": [
       "<matplotlib.figure.Figure at 0x11bd04f60>"
      ]
     },
     "metadata": {},
     "output_type": "display_data"
    }
   ],
   "source": [
    "#No measures from FAME\n",
    "sns.factorplot(y='GFS_Social',x='Group',units='ID',ci=68,kind='bar',data=gfs)"
   ]
  },
  {
   "cell_type": "code",
   "execution_count": 92,
   "metadata": {
    "collapsed": false
   },
   "outputs": [
    {
     "name": "stdout",
     "output_type": "stream",
     "text": [
      "SAS Social Leisure Mean\n",
      "Group\n",
      "CHR    62.772727\n",
      "FHR    50.388889\n",
      "HC     51.937500\n",
      "SZ     63.680000\n",
      "Name: SocAdjScale_SocialLeisure, dtype: float64\n"
     ]
    }
   ],
   "source": [
    "x = raw.groupby('Group')\n",
    "\n",
    "print('SAS Social Leisure Mean')\n",
    "print(x.SocAdjScale_SocialLeisure.mean())"
   ]
  },
  {
   "cell_type": "code",
   "execution_count": 16,
   "metadata": {
    "collapsed": false,
    "scrolled": false
   },
   "outputs": [
    {
     "data": {
      "text/plain": [
       "<seaborn.axisgrid.FacetGrid at 0x1280616d8>"
      ]
     },
     "execution_count": 16,
     "metadata": {},
     "output_type": "execute_result"
    },
    {
     "data": {
      "image/png": "[encoded data removed]",
      "text/plain": [
       "<matplotlib.figure.Figure at 0x128061748>"
      ]
     },
     "metadata": {},
     "output_type": "display_data"
    }
   ],
   "source": [
    "sns.factorplot(y='SocAdjScale_SocialLeisure',x='Group',units='ID',ci=68,kind='bar',data=raw)"
   ]
  },
  {
   "cell_type": "code",
   "execution_count": 17,
   "metadata": {
    "collapsed": false,
    "scrolled": true
   },
   "outputs": [
    {
     "data": {
      "text/plain": [
       "<seaborn.axisgrid.FacetGrid at 0x12819abe0>"
      ]
     },
     "execution_count": 17,
     "metadata": {},
     "output_type": "execute_result"
    },
    {
     "data": {
      "image/png": "[encoded data removed]",
      "text/plain": [
       "<matplotlib.figure.Figure at 0x12819a588>"
      ]
     },
     "metadata": {},
     "output_type": "display_data"
    }
   ],
   "source": [
    "sns.factorplot(y='SocAdjScale_Work',x='Group',units='ID',ci=68,kind='bar',data=raw)"
   ]
  },
  {
   "cell_type": "code",
   "execution_count": null,
   "metadata": {
    "collapsed": true
   },
   "outputs": [],
   "source": []
  },
  {
   "cell_type": "markdown",
   "metadata": {},
   "source": [
    "### IRI and SAS"
   ]
  },
  {
   "cell_type": "code",
   "execution_count": 19,
   "metadata": {
    "collapsed": false,
    "scrolled": true
   },
   "outputs": [
    {
     "name": "stdout",
     "output_type": "stream",
     "text": [
      "ANOVA on SAS Social Leisure x Group\n"
     ]
    },
    {
     "name": "stderr",
     "output_type": "stream",
     "text": [
      "/Users/elyssabarrick/anaconda/lib/python3.5/site-packages/rpy2/rinterface/__init__.py:186: RRuntimeWarning: Contrasts set to contr.sum for the following variables: Group\n",
      "\n",
      "  warnings.warn(x, RRuntimeWarning)\n"
     ]
    },
    {
     "data": {
      "text/plain": [
       "Anova Table (Type 3 tests)\n",
       "\n",
       "Response: SocAdjScale_SocialLeisure\n",
       "  Effect    df    MSE        F ges p.value\n",
       "1  Group 3, 93 132.70 8.68 *** .22  <.0001\n"
      ]
     },
     "metadata": {},
     "output_type": "display_data"
    },
    {
     "name": "stdout",
     "output_type": "stream",
     "text": [
      "ANOVA on SAS Work x Group\n"
     ]
    },
    {
     "data": {
      "text/plain": [
       "Anova Table (Type 3 tests)\n",
       "\n",
       "Response: SocAdjScale_Work\n",
       "  Effect    df    MSE      F ges p.value\n",
       "1  Group 3, 93 389.08 3.34 * .10     .02\n"
      ]
     },
     "metadata": {},
     "output_type": "display_data"
    }
   ],
   "source": [
    "print ('ANOVA on SAS Social Leisure x Group')\n",
    "%R sas_sl.aov <- aov_ez(dv='SocAdjScale_SocialLeisure', id='ID', between='Group',data=raw)\n",
    "%R print (sas_sl.aov)\n",
    "\n",
    "print ('ANOVA on SAS Work x Group')\n",
    "%R sas_w.aov <- aov_ez(dv='SocAdjScale_Work', id='ID', between ='Group',data=raw)\n",
    "%R print (sas_w.aov)"
   ]
  },
  {
   "cell_type": "code",
   "execution_count": 20,
   "metadata": {
    "collapsed": false
   },
   "outputs": [
    {
     "name": "stdout",
     "output_type": "stream",
     "text": [
      "ANOVA for IRI_EC x Group\n"
     ]
    },
    {
     "data": {
      "text/plain": [
       "             Df Sum Sq Mean Sq F value Pr(>F)  \n",
       "Group         3    422  140.73   2.306 0.0811 .\n",
       "Residuals   104   6348   61.04                 \n",
       "---\n",
       "Signif. codes:  0 ‘***’ 0.001 ‘**’ 0.01 ‘*’ 0.05 ‘.’ 0.1 ‘ ’ 1\n",
       "2 observations deleted due to missingness\n"
      ]
     },
     "metadata": {},
     "output_type": "display_data"
    },
    {
     "name": "stdout",
     "output_type": "stream",
     "text": [
      "ANOVA for IRI_PD x Group\n"
     ]
    },
    {
     "data": {
      "text/plain": [
       "             Df Sum Sq Mean Sq F value   Pr(>F)    \n",
       "Group         3    952   317.2   8.372 4.89e-05 ***\n",
       "Residuals   104   3941    37.9                     \n",
       "---\n",
       "Signif. codes:  0 ‘***’ 0.001 ‘**’ 0.01 ‘*’ 0.05 ‘.’ 0.1 ‘ ’ 1\n",
       "2 observations deleted due to missingness\n"
      ]
     },
     "metadata": {},
     "output_type": "display_data"
    },
    {
     "name": "stdout",
     "output_type": "stream",
     "text": [
      "ANOVA for IRI_PT x Group\n"
     ]
    },
    {
     "data": {
      "text/plain": [
       "             Df Sum Sq Mean Sq F value Pr(>F)\n",
       "Group         3    253   84.41   1.514  0.215\n",
       "Residuals   104   5798   55.75               \n",
       "2 observations deleted due to missingness\n"
      ]
     },
     "metadata": {},
     "output_type": "display_data"
    },
    {
     "name": "stdout",
     "output_type": "stream",
     "text": [
      "ANOVA for IRI_FS x Group\n"
     ]
    },
    {
     "data": {
      "text/plain": [
       "             Df Sum Sq Mean Sq F value  Pr(>F)   \n",
       "Group         3    702  234.09   4.094 0.00862 **\n",
       "Residuals   104   5946   57.17                   \n",
       "---\n",
       "Signif. codes:  0 ‘***’ 0.001 ‘**’ 0.01 ‘*’ 0.05 ‘.’ 0.1 ‘ ’ 1\n",
       "2 observations deleted due to missingness\n"
      ]
     },
     "metadata": {},
     "output_type": "display_data"
    }
   ],
   "source": [
    "print ('ANOVA for IRI_EC x Group')\n",
    "%R iri_ec <- aov(IRI_EC_total ~ Group,data=raw)\n",
    "%R print (summary(iri_ec))\n",
    "print ('ANOVA for IRI_PD x Group')\n",
    "%R iri_pd <- aov(IRI_PD_total ~ Group,data=raw)\n",
    "%R print (summary(iri_pd))\n",
    "print ('ANOVA for IRI_PT x Group')\n",
    "%R iri_pt <- aov(IRI_PT_total ~ Group,data=raw)\n",
    "%R print (summary(iri_pt))\n",
    "print ('ANOVA for IRI_FS x Group')\n",
    "%R iri_fs <- aov(IRI_FS_total ~ Group,data=raw)\n",
    "%R print (summary(iri_fs))"
   ]
  },
  {
   "cell_type": "code",
   "execution_count": 52,
   "metadata": {
    "collapsed": false
   },
   "outputs": [
    {
     "data": {
      "text/plain": [
       "<matplotlib.text.Text at 0x12cac4780>"
      ]
     },
     "execution_count": 52,
     "metadata": {},
     "output_type": "execute_result"
    },
    {
     "data": {
      "image/png": "[encoded data removed]",
      "text/plain": [
       "<matplotlib.figure.Figure at 0x12e721be0>"
      ]
     },
     "metadata": {},
     "output_type": "display_data"
    }
   ],
   "source": [
    "g = sns.lmplot(y='SocAdjScale_SocialLeisure',x='IRI_EC_total',hue='Group',\n",
    "           units='ID',ci=68,data=raw)\n",
    "g = sns.plt.ylim(30,100)\n",
    "plt.subplots_adjust(top=0.9)\n",
    "sns.plt.suptitle('Social Leisure as a function of Empathic Concern', fontsize=14)"
   ]
  },
  {
   "cell_type": "code",
   "execution_count": 22,
   "metadata": {
    "collapsed": false
   },
   "outputs": [
    {
     "data": {
      "text/plain": [
       "Analysis of Variance Table\n",
       "\n",
       "Model 1: SocAdjScale_SocialLeisure ~ Group + (1 | ID)\n",
       "Model 2: SocAdjScale_SocialLeisure ~ Group + IRI_EC_total + (1 | ID)\n",
       "  Res.Df   RSS Df Sum of Sq      F Pr(>F)\n",
       "1     93 12342                           \n",
       "2     92 12130  1    211.55 1.6045 0.2085\n"
      ]
     },
     "metadata": {},
     "output_type": "display_data"
    }
   ],
   "source": [
    "%R group.fm <- lm(SocAdjScale_SocialLeisure ~ Group + (1|ID), data=raw)\n",
    "%R ec.fm <- lm(SocAdjScale_SocialLeisure ~ Group + IRI_EC_total + (1|ID), data=raw)\n",
    "\n",
    "%R ec.aov <- anova(group.fm, ec.fm)\n",
    "%R print(ec.aov)\n",
    "# %R print(summary(pd.fm3))"
   ]
  },
  {
   "cell_type": "code",
   "execution_count": 37,
   "metadata": {
    "collapsed": false,
    "scrolled": true
   },
   "outputs": [
    {
     "data": {
      "text/plain": [
       "                   Df Sum Sq Mean Sq F value   Pr(>F)    \n",
       "Group               3   3454  1151.3   8.738 3.85e-05 ***\n",
       "IRI_PD_total        1      0     0.4   0.003    0.958    \n",
       "Group:IRI_PD_total  3    615   205.0   1.556    0.206    \n",
       "Residuals          89  11726   131.8                     \n",
       "---\n",
       "Signif. codes:  0 ‘***’ 0.001 ‘**’ 0.01 ‘*’ 0.05 ‘.’ 0.1 ‘ ’ 1\n",
       "13 observations deleted due to missingness\n"
      ]
     },
     "metadata": {},
     "output_type": "display_data"
    },
    {
     "data": {
      "text/plain": [
       "<matplotlib.text.Text at 0x12b1e3390>"
      ]
     },
     "execution_count": 37,
     "metadata": {},
     "output_type": "execute_result"
    },
    {
     "data": {
      "image/png": "[encoded data removed]",
      "text/plain": [
       "<matplotlib.figure.Figure at 0x12b1e32e8>"
      ]
     },
     "metadata": {},
     "output_type": "display_data"
    }
   ],
   "source": [
    "%R iri_pd_sl <- aov(SocAdjScale_SocialLeisure ~ Group*IRI_PD_total,data=raw)\n",
    "%R print (summary(iri_pd_sl))\n",
    "\n",
    "sns.lmplot(y='SocAdjScale_SocialLeisure',x='IRI_PD_total',hue='Group',\n",
    "           units='ID',ci=68,data=raw)\n",
    "sns.plt.ylim(30,100)\n",
    "plt.subplots_adjust(top=0.9)\n",
    "sns.plt.suptitle('Social Leisure as a function of Personal Distress', fontsize=14)"
   ]
  },
  {
   "cell_type": "code",
   "execution_count": 24,
   "metadata": {
    "collapsed": false,
    "scrolled": true
   },
   "outputs": [
    {
     "data": {
      "text/plain": [
       "Analysis of Variance Table\n",
       "\n",
       "Model 1: SocAdjScale_SocialLeisure ~ Group + (1 | ID)\n",
       "Model 2: SocAdjScale_SocialLeisure ~ Group + IRI_PD_total + (1 | ID)\n",
       "  Res.Df   RSS Df Sum of Sq      F Pr(>F)\n",
       "1     93 12342                           \n",
       "2     92 12341  1   0.36355 0.0027 0.9586\n"
      ]
     },
     "metadata": {},
     "output_type": "display_data"
    }
   ],
   "source": [
    "%R pd.fm1 <- lm(SocAdjScale_SocialLeisure ~  Group + (1|ID), data=raw)\n",
    "%R pd.fm2 <- lm(SocAdjScale_SocialLeisure ~  Group + IRI_PD_total + (1|ID), data=raw)\n",
    "\n",
    "%R pd_fm.aov <- anova(pd.fm1, pd.fm2)\n",
    "%R print(pd_fm.aov)"
   ]
  },
  {
   "cell_type": "code",
   "execution_count": 36,
   "metadata": {
    "collapsed": false
   },
   "outputs": [
    {
     "data": {
      "text/plain": [
       "                   Df Sum Sq Mean Sq F value   Pr(>F)    \n",
       "Group               3   3454  1151.3   8.422 5.49e-05 ***\n",
       "IRI_PT_total        1     69    69.0   0.504    0.479    \n",
       "Group:IRI_PT_total  3    106    35.3   0.258    0.855    \n",
       "Residuals          89  12167   136.7                     \n",
       "---\n",
       "Signif. codes:  0 ‘***’ 0.001 ‘**’ 0.01 ‘*’ 0.05 ‘.’ 0.1 ‘ ’ 1\n",
       "13 observations deleted due to missingness\n"
      ]
     },
     "metadata": {},
     "output_type": "display_data"
    },
    {
     "data": {
      "text/plain": [
       "<matplotlib.text.Text at 0x12b1ac4a8>"
      ]
     },
     "execution_count": 36,
     "metadata": {},
     "output_type": "execute_result"
    },
    {
     "data": {
      "image/png": "[encoded data removed]",
      "text/plain": [
       "<matplotlib.figure.Figure at 0x12a793320>"
      ]
     },
     "metadata": {},
     "output_type": "display_data"
    }
   ],
   "source": [
    "%R iri_pt_sl <- aov(SocAdjScale_SocialLeisure ~ Group*IRI_PT_total,data=raw)\n",
    "%R print (summary(iri_pt_sl))\n",
    "\n",
    "sns.lmplot(y='SocAdjScale_SocialLeisure',x='IRI_PT_total',hue='Group',\n",
    "           units='ID',ci=68,data=raw)\n",
    "sns.plt.ylim(30,100)\n",
    "plt.subplots_adjust(top=0.9)\n",
    "sns.plt.suptitle('Social Leisure as a function of Perspective Taking', fontsize=14)"
   ]
  },
  {
   "cell_type": "code",
   "execution_count": 26,
   "metadata": {
    "collapsed": false
   },
   "outputs": [
    {
     "data": {
      "text/plain": [
       "Analysis of Variance Table\n",
       "\n",
       "Model 1: SocAdjScale_SocialLeisure ~ Group + (1 | ID)\n",
       "Model 2: SocAdjScale_SocialLeisure ~ Group + IRI_PT_total + (1 | ID)\n",
       "  Res.Df   RSS Df Sum of Sq      F Pr(>F)\n",
       "1     93 12342                           \n",
       "2     92 12272  1    68.952 0.5169  0.474\n"
      ]
     },
     "metadata": {},
     "output_type": "display_data"
    }
   ],
   "source": [
    "%R pt.fm1 <- lm(SocAdjScale_SocialLeisure ~  Group + (1|ID), data=raw)\n",
    "%R pt.fm2 <- lm(SocAdjScale_SocialLeisure ~  Group + IRI_PT_total + (1|ID), data=raw)\n",
    "\n",
    "%R pt_fm.aov <- anova(pt.fm1, pt.fm2)\n",
    "%R print(pt_fm.aov)"
   ]
  },
  {
   "cell_type": "code",
   "execution_count": 35,
   "metadata": {
    "collapsed": false
   },
   "outputs": [
    {
     "data": {
      "text/plain": [
       "                   Df Sum Sq Mean Sq F value   Pr(>F)    \n",
       "Group               3   3454  1151.3   9.165 2.39e-05 ***\n",
       "IRI_FS_total        1     98    97.6   0.777   0.3804    \n",
       "Group:IRI_FS_total  3   1064   354.8   2.825   0.0432 *  \n",
       "Residuals          89  11179   125.6                     \n",
       "---\n",
       "Signif. codes:  0 ‘***’ 0.001 ‘**’ 0.01 ‘*’ 0.05 ‘.’ 0.1 ‘ ’ 1\n",
       "13 observations deleted due to missingness\n"
      ]
     },
     "metadata": {},
     "output_type": "display_data"
    },
    {
     "data": {
      "text/plain": [
       "<matplotlib.text.Text at 0x12a721b00>"
      ]
     },
     "execution_count": 35,
     "metadata": {},
     "output_type": "execute_result"
    },
    {
     "data": {
      "image/png": "[encoded data removed]",
      "text/plain": [
       "<matplotlib.figure.Figure at 0x12a70c4e0>"
      ]
     },
     "metadata": {},
     "output_type": "display_data"
    }
   ],
   "source": [
    "%R iri_fs_sl <- aov(SocAdjScale_SocialLeisure ~ Group*IRI_FS_total,data=raw)\n",
    "%R print (summary(iri_fs_sl))\n",
    "\n",
    "sns.lmplot(y='SocAdjScale_SocialLeisure',x='IRI_FS_total',hue='Group',\n",
    "           units='ID',ci=68,data=raw)\n",
    "sns.plt.ylim(30,100)\n",
    "plt.subplots_adjust(top=0.9)\n",
    "sns.plt.suptitle('Social Leisure as a function of Fantasy', fontsize=14)"
   ]
  },
  {
   "cell_type": "code",
   "execution_count": 79,
   "metadata": {
    "collapsed": false
   },
   "outputs": [
    {
     "data": {
      "text/plain": [
       "Analysis of Variance Table\n",
       "\n",
       "Model 1: SocAdjScale_SocialLeisure ~ Group + (1 | ID)\n",
       "Model 2: SocAdjScale_SocialLeisure ~ Group + IRI_EC_total + IRI_PT_total + \n",
       "    (1 | ID)\n",
       "  Res.Df   RSS Df Sum of Sq      F Pr(>F)\n",
       "1     93 12342                           \n",
       "2     91 12106  2    234.98 0.8831  0.417\n"
      ]
     },
     "metadata": {},
     "output_type": "display_data"
    }
   ],
   "source": [
    "%R fs.fm1 <- lm(SocAdjScale_SocialLeisure ~  Group + (1|ID), data=raw)\n",
    "%R fs.fm2 <- lm(SocAdjScale_SocialLeisure ~  Group + IRI_EC_total + IRI_PT_total + (1|ID), data=raw)\n",
    "\n",
    "%R fs_fm.aov <- anova(fs.fm1, fs.fm2)\n",
    "%R print(fs_fm.aov)\n"
   ]
  },
  {
   "cell_type": "code",
   "execution_count": 74,
   "metadata": {
    "collapsed": false
   },
   "outputs": [
    {
     "name": "stdout",
     "output_type": "stream",
     "text": [
      "\n",
      "Error in (function (file = \"\", n = NULL, text = NULL, prompt = \"?\", keep.source = getOption(\"keep.source\"),  : \n",
      "  <text>:1:20: unexpected symbol\n",
      "1: withVisible({print summary\n",
      "                       ^\n"
     ]
    },
    {
     "name": "stderr",
     "output_type": "stream",
     "text": [
      "/Users/elyssabarrick/anaconda/lib/python3.5/site-packages/rpy2/rinterface/__init__.py:186: RRuntimeWarning: Error in (function (file = \"\", n = NULL, text = NULL, prompt = \"?\", keep.source = getOption(\"keep.source\"),  : \n",
      "  <text>:1:20: unexpected symbol\n",
      "1: withVisible({print summary\n",
      "                       ^\n",
      "\n",
      "  warnings.warn(x, RRuntimeWarning)\n"
     ]
    }
   ],
   "source": [
    "sas1 = raw[~(raw.Group == 'HC')]\n",
    "%Rpush sas1\n",
    "%R sas1.fm1 <- lm(SocAdjScale_SocialLeisure ~  Group + (1|ID), data=sas1)\n",
    "%R print summary((sas1.fm1))"
   ]
  },
  {
   "cell_type": "code",
   "execution_count": 84,
   "metadata": {
    "collapsed": false
   },
   "outputs": [
    {
     "data": {
      "text/plain": [
       "<seaborn.axisgrid.FacetGrid at 0x1269b4be0>"
      ]
     },
     "execution_count": 84,
     "metadata": {},
     "output_type": "execute_result"
    },
    {
     "data": {
      "image/png": "[encoded data removed]",
      "text/plain": [
       "<matplotlib.figure.Figure at 0x1269b4940>"
      ]
     },
     "metadata": {},
     "output_type": "display_data"
    }
   ],
   "source": [
    "\n",
    "g = sns.FacetGrid(data=raw)\n",
    "g.map(sns.distplot,'SocAdjScale_SocialLeisure',kde=True,fit=sp.stats.norm)"
   ]
  },
  {
   "cell_type": "code",
   "execution_count": 86,
   "metadata": {
    "collapsed": false
   },
   "outputs": [
    {
     "data": {
      "text/plain": [
       "<seaborn.axisgrid.FacetGrid at 0x126b19908>"
      ]
     },
     "execution_count": 86,
     "metadata": {},
     "output_type": "execute_result"
    },
    {
     "data": {
      "image/png": "[encoded data removed]",
      "text/plain": [
       "<matplotlib.figure.Figure at 0x126c9d588>"
      ]
     },
     "metadata": {},
     "output_type": "display_data"
    }
   ],
   "source": [
    "\n",
    "g = sns.FacetGrid(data=raw)\n",
    "g.map(sns.distplot,'IRI_EC_total',kde=True,fit=sp.stats.norm)"
   ]
  },
  {
   "cell_type": "code",
   "execution_count": 87,
   "metadata": {
    "collapsed": false
   },
   "outputs": [
    {
     "data": {
      "text/plain": [
       "<seaborn.axisgrid.FacetGrid at 0x12a41c2e8>"
      ]
     },
     "execution_count": 87,
     "metadata": {},
     "output_type": "execute_result"
    },
    {
     "data": {
      "image/png": "[encoded data removed]",
      "text/plain": [
       "<matplotlib.figure.Figure at 0x12ea4fac8>"
      ]
     },
     "metadata": {},
     "output_type": "display_data"
    }
   ],
   "source": [
    "\n",
    "g = sns.FacetGrid(data=raw)\n",
    "g.map(sns.distplot,'IRI_PT_total',kde=True,fit=sp.stats.norm)"
   ]
  },
  {
   "cell_type": "code",
   "execution_count": null,
   "metadata": {
    "collapsed": true
   },
   "outputs": [],
   "source": []
  }
 ],
 "metadata": {
  "kernelspec": {
   "display_name": "Python 3",
   "language": "python",
   "name": "python3"
  },
  "language_info": {
   "codemirror_mode": {
    "name": "ipython",
    "version": 3
   },
   "file_extension": ".py",
   "mimetype": "text/x-python",
   "name": "python",
   "nbconvert_exporter": "python",
   "pygments_lexer": "ipython3",
   "version": "3.5.1"
  }
 },
 "nbformat": 4,
 "nbformat_minor": 0
}
