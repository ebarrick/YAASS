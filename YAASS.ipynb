{
 "cells": [
  {
   "cell_type": "markdown",
   "metadata": {},
   "source": [
    "# YAASS, FAME, SCORE Datasets"
   ]
  },
  {
   "cell_type": "markdown",
   "metadata": {},
   "source": [
    "## The dataset below includes demographic information and multiple clinical measures taken in 4 populations: healthy controls, those at clinical high risk for psychosis, those at familial high risk, and those diagnosed with schizophrenia."
   ]
  },
  {
   "cell_type": "code",
   "execution_count": 1,
   "metadata": {
    "collapsed": true
   },
   "outputs": [],
   "source": [
    "# Get the username and use that to set-up paths to data and figures\n",
    "uname  = !whoami\n",
    "uname = uname[0]\n",
    "path2code = '/Users/' + uname + '/Work/Dillon/Expts/Code/'\n",
    "path2data = '/Users/' + uname + '/Work/Lincoln/Expts/YAASS/Data/Old/'\n",
    "path2analysis = '/Users/' + uname + '/Work/Lincoln/Expts/YAASS/Analysis/'\n",
    "path2figs = '/Users/' + uname + '/Work/Lincoln/Expts/YAASS/Analysis/Figures/'"
   ]
  },
  {
   "cell_type": "code",
   "execution_count": 73,
   "metadata": {
    "scrolled": false
   },
   "outputs": [
    {
     "name": "stdout",
     "output_type": "stream",
     "text": [
      "/Users/ebarrick/Work/Dillon/Expts/Code\n",
      "The rpy2.ipython extension is already loaded. To reload it, use:\n",
      "  %reload_ext rpy2.ipython\n"
     ]
    },
    {
     "data": {
      "text/plain": [
       "array(['vcd', 'grid', 'QuantPsyc', 'MASS', 'boot', 'afex', 'effsize',\n",
       "       'lsmeans', 'estimability', 'lmerTest', 'lme4', 'Matrix', 'tools',\n",
       "       'stats', 'graphics', 'grDevices', 'utils', 'datasets', 'methods',\n",
       "       'base'],\n",
       "      dtype='|S12')"
      ]
     },
     "execution_count": 73,
     "metadata": {},
     "output_type": "execute_result"
    }
   ],
   "source": [
    "%cd {path2code}\n",
    "\n",
    "import csv, misc, os, random, re, SelfRep\n",
    "import numpy as np\n",
    "import pandas as pd\n",
    "import seaborn as sns\n",
    "import scipy as sp\n",
    "from scipy import stats\n",
    "from scipy.stats import zscore\n",
    "from matplotlib import pyplot as plt\n",
    "%matplotlib inline\n",
    "%load_ext rpy2.ipython\n",
    "\n",
    "%R suppressMessages(library('lmerTest'))\n",
    "%R suppressMessages(library('lsmeans'))\n",
    "%R lsm.options(disable.pbkrtest=TRUE)\n",
    "%R suppressMessages(library('effsize')) # Can use this to estimate Cohen's d\n",
    "%R suppressMessages(library('afex'))\n",
    "%R suppressMessages(library('QuantPsyc')) #helpful for extracting betas from hierarchical regresssions\n",
    "%R suppressMessages(library('vcd')) # useful for getting effect sizes from chi-square tests"
   ]
  },
  {
   "cell_type": "markdown",
   "metadata": {},
   "source": [
    "### Building the dataframe"
   ]
  },
  {
   "cell_type": "code",
   "execution_count": 3,
   "metadata": {
    "collapsed": true,
    "scrolled": true
   },
   "outputs": [],
   "source": [
    "#Function to assign names to disorders column\n",
    "# def dx_name(data):\n",
    "#     d = {0:'None', 1:'MDD', 2:'Anxiety', 3:'Sub_abuse', 4:'ADHD', \n",
    "#          5:'Eating', 6:'Schizotypal', 7:'2_co', 8: '3_co', 9:'4_co','999':'na'}\n",
    "#     dx = d[data]\n",
    "#     return dx "
   ]
  },
  {
   "cell_type": "code",
   "execution_count": 4,
   "metadata": {
    "collapsed": true
   },
   "outputs": [],
   "source": [
    "# \"\"\"YAASS data: CHR and HC\"\"\"\n",
    "# raw_chr = pd.read_excel(path2data + 'Bx_Paper_YAASS_Feb2017_edit.xlsx')\n",
    "# raw_chr['Gender'].replace(2, 'female', inplace=True)\n",
    "# raw_chr['Gender'].replace(1,'male', inplace=True)\n",
    "\n",
    "# #individual IRI scores\n",
    "# raw_iri_Y = pd.read_excel(path2data + 'YAASS_IRI.xlsx', sheetname='IRI_EB')\n",
    "# raw_iri_Y = raw_iri_Y.rename(columns={\"Subject\": \"ID\"})\n",
    "\n",
    "# #rescaling the IRI scores from the individual data\n",
    "# new = {1: 1, 2: 1.8, 3: 2.6, 4: 3.4, 5: 4.2, 6: 5} \n",
    "# Y = raw_iri_Y.applymap(lambda d: new.get(d) if d in new else d)\n",
    "# Y.reindex()\n",
    "\n",
    "# #Getting the total for each IRI subscale\n",
    "# fs = ['1_FS', '5_FS', '7_FS_R', '12_FS_R', '16_FS', '23_FS', '26_FS']\n",
    "# ec = ['2_EC', '4_EC_R', '9_EC', '14_EC_R', '18_EC_R', '20_EC', '22_EC']\n",
    "# pt = ['3_PT_R', '8_PT', '11_PT', '15_PT_R', '21_PT', '25_PT', '28_PT']\n",
    "# pd = ['6_PD', '10_PD', '13_PD_R', '17_PD', '19_PD_R', '24_PD', '27_PD']\n",
    "\n",
    "# Y['IRI_FS_total'] = Y[fs].sum(axis=1)\n",
    "# Y['IRI_EC_total'] = Y[ec].sum(axis=1)\n",
    "# Y['IRI_PT_total'] = Y[pt].sum(axis=1)\n",
    "# Y['IRI_PD_total'] = Y[pd].sum(axis=1)\n",
    "\n",
    "# Y = Y[['ID','IRI_FS_total','IRI_EC_total','IRI_PT_total','IRI_PD_total']].copy()"
   ]
  },
  {
   "cell_type": "code",
   "execution_count": 5,
   "metadata": {
    "collapsed": true
   },
   "outputs": [],
   "source": [
    "# merge new IRI scores with YAASS data\n",
    "# y = raw_chr.merge(Y, on='ID', how='left')"
   ]
  },
  {
   "cell_type": "code",
   "execution_count": 6,
   "metadata": {
    "collapsed": true
   },
   "outputs": [],
   "source": [
    "# \"\"\"SCORE data: SZ and HC\"\"\"\n",
    "# raw_sz = pd.read_excel(path2data + 'SCORE Data_Bx_IRI_SocialFx.xlsx')\n",
    "# raw_sz['Group'].replace(2, 'SZ', inplace=True)\n",
    "# raw_sz['Group'].replace(1,'HC',inplace=True)\n",
    "# raw_sz['Gender'].replace(1,'male',inplace=True)\n",
    "# raw_sz['Gender'].replace(2,'female',inplace=True)\n",
    "\n",
    "# #individual IRI scores\n",
    "# raw_iri_S = pd.read_excel(path2data + 'IRI_DAS_CERQ_SCORE.xlsx', sheetname='IRI_EB')\n",
    "# raw_iri_S = raw_iri_S.rename(columns={\"Subject\": \"ID\"})\n",
    "\n",
    "# #rescaling the IRI scores from the individual data\n",
    "# new = {1: 1, 2: 1.8, 3: 2.6, 4: 3.4, 5: 4.2, 6: 5} \n",
    "# S = raw_iri_S.applymap(lambda d: new.get(d) if d in new else d)\n",
    "# S.reindex()\n",
    "\n",
    "# #Getting the total for each IRI subscale\n",
    "# fs = ['1_FS', '5_FS', '7_FS_R', '12_FS_R', '16_FS', '23_FS', '26_FS']\n",
    "# ec = ['2_EC', '4_EC_R', '9_EC', '14_EC_R', '18_EC_R', '20_EC', '22_EC']\n",
    "# pt = ['3_PT_R', '8_PT', '11_PT', '15_PT_R', '21_PT', '25_PT', '28_PT']\n",
    "# pd = ['6_PD', '10_PD', '13_PD_R', '17_PD', '19_PD_R', '24_PD', '27_PD']\n",
    "\n",
    "# S['IRI_FS_total'] = S[fs].sum(axis=1)\n",
    "# S['IRI_EC_total'] = S[ec].sum(axis=1)\n",
    "# S['IRI_PT_total'] = S[pt].sum(axis=1)\n",
    "# S['IRI_PD_total'] = S[pd].sum(axis=1)\n",
    "\n",
    "# S = S[['ID','IRI_FS_total','IRI_EC_total','IRI_PT_total','IRI_PD_total']].copy()"
   ]
  },
  {
   "cell_type": "code",
   "execution_count": 7,
   "metadata": {
    "collapsed": true
   },
   "outputs": [],
   "source": [
    "#merge new IRI scores with SCORE data\n",
    "# s = raw_sz.merge(, on='ID', how='left')"
   ]
  },
  {
   "cell_type": "code",
   "execution_count": 8,
   "metadata": {
    "collapsed": true
   },
   "outputs": [],
   "source": [
    "# \"\"\"FAME data: FHR\"\"\"\n",
    "\n",
    "# raw_fhr = pd.read_excel(path2data + 'FAME_Neuropsych_NEW_edit.xlsx')\n",
    "# raw_fhr['Group'].replace(1, 'FHR', inplace=True)\n",
    "# raw_fhr['Gender'].replace(2, 'female', inplace=True)\n",
    "# raw_fhr['Gender'].replace(1,'male', inplace=True)\n",
    "# raw_fhr = raw_fhr.rename(columns={\"IRI_PT\": \"IRI_PT_total\", \"IRI_EC\": \"IRI_EC_total\", \"IRI_PD\": \"IRI_PD_total\", \n",
    "#                                   \"IRI_FS\": \"IRI_FS_total\"})"
   ]
  },
  {
   "cell_type": "code",
   "execution_count": 9,
   "metadata": {
    "collapsed": true
   },
   "outputs": [],
   "source": [
    "# g = pd.concat([raw_fhr, s])"
   ]
  },
  {
   "cell_type": "code",
   "execution_count": 10,
   "metadata": {
    "collapsed": true
   },
   "outputs": [],
   "source": [
    "# raw = pd.concat([g,y])\n",
    "# pd.set_option('display.max_columns', 500)\n",
    "# raw.tail()"
   ]
  },
  {
   "cell_type": "code",
   "execution_count": 11,
   "metadata": {
    "collapsed": true
   },
   "outputs": [],
   "source": [
    "# output to csv\n",
    "# raw.to_csv('raw.csv')"
   ]
  },
  {
   "cell_type": "code",
   "execution_count": 13,
   "metadata": {
    "scrolled": true
   },
   "outputs": [],
   "source": [
    "raw = pd.read_csv(path2data + 'raw.csv')"
   ]
  },
  {
   "cell_type": "code",
   "execution_count": 14,
   "metadata": {
    "scrolled": true
   },
   "outputs": [
    {
     "data": {
      "text/html": [
       "<div>\n",
       "<style>\n",
       "    .dataframe thead tr:only-child th {\n",
       "        text-align: right;\n",
       "    }\n",
       "\n",
       "    .dataframe thead th {\n",
       "        text-align: left;\n",
       "    }\n",
       "\n",
       "    .dataframe tbody tr th {\n",
       "        vertical-align: top;\n",
       "    }\n",
       "</style>\n",
       "<table border=\"1\" class=\"dataframe\">\n",
       "  <thead>\n",
       "    <tr style=\"text-align: right;\">\n",
       "      <th></th>\n",
       "      <th>ID</th>\n",
       "      <th>Group</th>\n",
       "      <th>Gender</th>\n",
       "      <th>Age</th>\n",
       "      <th>Education</th>\n",
       "      <th>Ethnicity</th>\n",
       "      <th>IQ</th>\n",
       "      <th>DSMDisorder</th>\n",
       "      <th>DSMDisorderType</th>\n",
       "      <th>DSMcomorbidities</th>\n",
       "      <th>...</th>\n",
       "      <th>PANAS_PA</th>\n",
       "      <th>SIPS_Disorganized</th>\n",
       "      <th>SIPS_General</th>\n",
       "      <th>SIPS_Negative</th>\n",
       "      <th>SIPS_Positive</th>\n",
       "      <th>SocAdjScale_SocialLeisure</th>\n",
       "      <th>SocAdjScale_Work</th>\n",
       "      <th>GFS_Role</th>\n",
       "      <th>GFS_Social</th>\n",
       "      <th>Present_Clinical</th>\n",
       "    </tr>\n",
       "  </thead>\n",
       "  <tbody>\n",
       "    <tr>\n",
       "      <th>0</th>\n",
       "      <td>2501</td>\n",
       "      <td>FHR</td>\n",
       "      <td>female</td>\n",
       "      <td>25</td>\n",
       "      <td>14.0</td>\n",
       "      <td>NaN</td>\n",
       "      <td>99.0</td>\n",
       "      <td>1.0</td>\n",
       "      <td>7.0</td>\n",
       "      <td>2.0</td>\n",
       "      <td>...</td>\n",
       "      <td>NaN</td>\n",
       "      <td>0.75</td>\n",
       "      <td>0.75</td>\n",
       "      <td>0.500000</td>\n",
       "      <td>1.4</td>\n",
       "      <td>NaN</td>\n",
       "      <td>NaN</td>\n",
       "      <td>NaN</td>\n",
       "      <td>NaN</td>\n",
       "      <td>1.0</td>\n",
       "    </tr>\n",
       "    <tr>\n",
       "      <th>1</th>\n",
       "      <td>2504</td>\n",
       "      <td>FHR</td>\n",
       "      <td>female</td>\n",
       "      <td>29</td>\n",
       "      <td>16.0</td>\n",
       "      <td>NaN</td>\n",
       "      <td>118.0</td>\n",
       "      <td>1.0</td>\n",
       "      <td>7.0</td>\n",
       "      <td>2.0</td>\n",
       "      <td>...</td>\n",
       "      <td>NaN</td>\n",
       "      <td>0.50</td>\n",
       "      <td>0.50</td>\n",
       "      <td>0.333333</td>\n",
       "      <td>1.0</td>\n",
       "      <td>38.0</td>\n",
       "      <td>51.0</td>\n",
       "      <td>NaN</td>\n",
       "      <td>NaN</td>\n",
       "      <td>1.0</td>\n",
       "    </tr>\n",
       "    <tr>\n",
       "      <th>2</th>\n",
       "      <td>2505</td>\n",
       "      <td>FHR</td>\n",
       "      <td>male</td>\n",
       "      <td>33</td>\n",
       "      <td>14.0</td>\n",
       "      <td>NaN</td>\n",
       "      <td>95.0</td>\n",
       "      <td>0.0</td>\n",
       "      <td>0.0</td>\n",
       "      <td>0.0</td>\n",
       "      <td>...</td>\n",
       "      <td>NaN</td>\n",
       "      <td>0.25</td>\n",
       "      <td>0.00</td>\n",
       "      <td>0.000000</td>\n",
       "      <td>0.4</td>\n",
       "      <td>51.0</td>\n",
       "      <td>58.0</td>\n",
       "      <td>NaN</td>\n",
       "      <td>NaN</td>\n",
       "      <td>0.0</td>\n",
       "    </tr>\n",
       "    <tr>\n",
       "      <th>3</th>\n",
       "      <td>2506</td>\n",
       "      <td>FHR</td>\n",
       "      <td>male</td>\n",
       "      <td>33</td>\n",
       "      <td>13.0</td>\n",
       "      <td>NaN</td>\n",
       "      <td>109.0</td>\n",
       "      <td>1.0</td>\n",
       "      <td>4.0</td>\n",
       "      <td>1.0</td>\n",
       "      <td>...</td>\n",
       "      <td>NaN</td>\n",
       "      <td>1.00</td>\n",
       "      <td>0.75</td>\n",
       "      <td>1.166667</td>\n",
       "      <td>1.2</td>\n",
       "      <td>49.0</td>\n",
       "      <td>55.0</td>\n",
       "      <td>NaN</td>\n",
       "      <td>NaN</td>\n",
       "      <td>1.0</td>\n",
       "    </tr>\n",
       "    <tr>\n",
       "      <th>4</th>\n",
       "      <td>2508</td>\n",
       "      <td>FHR</td>\n",
       "      <td>male</td>\n",
       "      <td>28</td>\n",
       "      <td>16.0</td>\n",
       "      <td>NaN</td>\n",
       "      <td>118.0</td>\n",
       "      <td>0.0</td>\n",
       "      <td>NaN</td>\n",
       "      <td>0.0</td>\n",
       "      <td>...</td>\n",
       "      <td>NaN</td>\n",
       "      <td>1.25</td>\n",
       "      <td>1.00</td>\n",
       "      <td>0.500000</td>\n",
       "      <td>1.4</td>\n",
       "      <td>40.0</td>\n",
       "      <td>64.0</td>\n",
       "      <td>NaN</td>\n",
       "      <td>NaN</td>\n",
       "      <td>0.0</td>\n",
       "    </tr>\n",
       "  </tbody>\n",
       "</table>\n",
       "<p>5 rows × 31 columns</p>\n",
       "</div>"
      ],
      "text/plain": [
       "     ID Group  Gender  Age  Education  Ethnicity     IQ  DSMDisorder  \\\n",
       "0  2501   FHR  female   25       14.0        NaN   99.0          1.0   \n",
       "1  2504   FHR  female   29       16.0        NaN  118.0          1.0   \n",
       "2  2505   FHR    male   33       14.0        NaN   95.0          0.0   \n",
       "3  2506   FHR    male   33       13.0        NaN  109.0          1.0   \n",
       "4  2508   FHR    male   28       16.0        NaN  118.0          0.0   \n",
       "\n",
       "   DSMDisorderType  DSMcomorbidities        ...         PANAS_PA  \\\n",
       "0              7.0               2.0        ...              NaN   \n",
       "1              7.0               2.0        ...              NaN   \n",
       "2              0.0               0.0        ...              NaN   \n",
       "3              4.0               1.0        ...              NaN   \n",
       "4              NaN               0.0        ...              NaN   \n",
       "\n",
       "   SIPS_Disorganized  SIPS_General  SIPS_Negative  SIPS_Positive  \\\n",
       "0               0.75          0.75       0.500000            1.4   \n",
       "1               0.50          0.50       0.333333            1.0   \n",
       "2               0.25          0.00       0.000000            0.4   \n",
       "3               1.00          0.75       1.166667            1.2   \n",
       "4               1.25          1.00       0.500000            1.4   \n",
       "\n",
       "   SocAdjScale_SocialLeisure  SocAdjScale_Work  GFS_Role  GFS_Social  \\\n",
       "0                        NaN               NaN       NaN         NaN   \n",
       "1                       38.0              51.0       NaN         NaN   \n",
       "2                       51.0              58.0       NaN         NaN   \n",
       "3                       49.0              55.0       NaN         NaN   \n",
       "4                       40.0              64.0       NaN         NaN   \n",
       "\n",
       "   Present_Clinical  \n",
       "0               1.0  \n",
       "1               1.0  \n",
       "2               0.0  \n",
       "3               1.0  \n",
       "4               0.0  \n",
       "\n",
       "[5 rows x 31 columns]"
      ]
     },
     "execution_count": 14,
     "metadata": {},
     "output_type": "execute_result"
    }
   ],
   "source": [
    "raw.head()"
   ]
  },
  {
   "cell_type": "code",
   "execution_count": 15,
   "metadata": {
    "collapsed": true
   },
   "outputs": [],
   "source": [
    "raw['sx_group']=raw.Group.copy()\n",
    "raw['sx_group'].replace('HC', 1, inplace=True)\n",
    "raw['sx_group'].replace('FHR', 1, inplace=True)\n",
    "raw['sx_group'].replace('CHR', 2, inplace=True)\n",
    "raw['sx_group'].replace('SZ', 2, inplace=True)"
   ]
  },
  {
   "cell_type": "code",
   "execution_count": 16,
   "metadata": {},
   "outputs": [
    {
     "data": {
      "text/html": [
       "<div>\n",
       "<style>\n",
       "    .dataframe thead tr:only-child th {\n",
       "        text-align: right;\n",
       "    }\n",
       "\n",
       "    .dataframe thead th {\n",
       "        text-align: left;\n",
       "    }\n",
       "\n",
       "    .dataframe tbody tr th {\n",
       "        vertical-align: top;\n",
       "    }\n",
       "</style>\n",
       "<table border=\"1\" class=\"dataframe\">\n",
       "  <thead>\n",
       "    <tr style=\"text-align: right;\">\n",
       "      <th></th>\n",
       "      <th>ID</th>\n",
       "      <th>Group</th>\n",
       "      <th>Gender</th>\n",
       "      <th>Age</th>\n",
       "      <th>Education</th>\n",
       "      <th>Ethnicity</th>\n",
       "      <th>IQ</th>\n",
       "      <th>DSMDisorder</th>\n",
       "      <th>DSMDisorderType</th>\n",
       "      <th>DSMcomorbidities</th>\n",
       "      <th>...</th>\n",
       "      <th>SIPS_Disorganized</th>\n",
       "      <th>SIPS_General</th>\n",
       "      <th>SIPS_Negative</th>\n",
       "      <th>SIPS_Positive</th>\n",
       "      <th>SocAdjScale_SocialLeisure</th>\n",
       "      <th>SocAdjScale_Work</th>\n",
       "      <th>GFS_Role</th>\n",
       "      <th>GFS_Social</th>\n",
       "      <th>Present_Clinical</th>\n",
       "      <th>sx_group</th>\n",
       "    </tr>\n",
       "  </thead>\n",
       "  <tbody>\n",
       "    <tr>\n",
       "      <th>0</th>\n",
       "      <td>2501</td>\n",
       "      <td>FHR</td>\n",
       "      <td>female</td>\n",
       "      <td>25</td>\n",
       "      <td>14.0</td>\n",
       "      <td>NaN</td>\n",
       "      <td>99.0</td>\n",
       "      <td>1.0</td>\n",
       "      <td>7.0</td>\n",
       "      <td>2.0</td>\n",
       "      <td>...</td>\n",
       "      <td>0.75</td>\n",
       "      <td>0.75</td>\n",
       "      <td>0.500000</td>\n",
       "      <td>1.4</td>\n",
       "      <td>NaN</td>\n",
       "      <td>NaN</td>\n",
       "      <td>NaN</td>\n",
       "      <td>NaN</td>\n",
       "      <td>1.0</td>\n",
       "      <td>1</td>\n",
       "    </tr>\n",
       "    <tr>\n",
       "      <th>1</th>\n",
       "      <td>2504</td>\n",
       "      <td>FHR</td>\n",
       "      <td>female</td>\n",
       "      <td>29</td>\n",
       "      <td>16.0</td>\n",
       "      <td>NaN</td>\n",
       "      <td>118.0</td>\n",
       "      <td>1.0</td>\n",
       "      <td>7.0</td>\n",
       "      <td>2.0</td>\n",
       "      <td>...</td>\n",
       "      <td>0.50</td>\n",
       "      <td>0.50</td>\n",
       "      <td>0.333333</td>\n",
       "      <td>1.0</td>\n",
       "      <td>38.0</td>\n",
       "      <td>51.0</td>\n",
       "      <td>NaN</td>\n",
       "      <td>NaN</td>\n",
       "      <td>1.0</td>\n",
       "      <td>1</td>\n",
       "    </tr>\n",
       "    <tr>\n",
       "      <th>2</th>\n",
       "      <td>2505</td>\n",
       "      <td>FHR</td>\n",
       "      <td>male</td>\n",
       "      <td>33</td>\n",
       "      <td>14.0</td>\n",
       "      <td>NaN</td>\n",
       "      <td>95.0</td>\n",
       "      <td>0.0</td>\n",
       "      <td>0.0</td>\n",
       "      <td>0.0</td>\n",
       "      <td>...</td>\n",
       "      <td>0.25</td>\n",
       "      <td>0.00</td>\n",
       "      <td>0.000000</td>\n",
       "      <td>0.4</td>\n",
       "      <td>51.0</td>\n",
       "      <td>58.0</td>\n",
       "      <td>NaN</td>\n",
       "      <td>NaN</td>\n",
       "      <td>0.0</td>\n",
       "      <td>1</td>\n",
       "    </tr>\n",
       "    <tr>\n",
       "      <th>3</th>\n",
       "      <td>2506</td>\n",
       "      <td>FHR</td>\n",
       "      <td>male</td>\n",
       "      <td>33</td>\n",
       "      <td>13.0</td>\n",
       "      <td>NaN</td>\n",
       "      <td>109.0</td>\n",
       "      <td>1.0</td>\n",
       "      <td>4.0</td>\n",
       "      <td>1.0</td>\n",
       "      <td>...</td>\n",
       "      <td>1.00</td>\n",
       "      <td>0.75</td>\n",
       "      <td>1.166667</td>\n",
       "      <td>1.2</td>\n",
       "      <td>49.0</td>\n",
       "      <td>55.0</td>\n",
       "      <td>NaN</td>\n",
       "      <td>NaN</td>\n",
       "      <td>1.0</td>\n",
       "      <td>1</td>\n",
       "    </tr>\n",
       "    <tr>\n",
       "      <th>4</th>\n",
       "      <td>2508</td>\n",
       "      <td>FHR</td>\n",
       "      <td>male</td>\n",
       "      <td>28</td>\n",
       "      <td>16.0</td>\n",
       "      <td>NaN</td>\n",
       "      <td>118.0</td>\n",
       "      <td>0.0</td>\n",
       "      <td>NaN</td>\n",
       "      <td>0.0</td>\n",
       "      <td>...</td>\n",
       "      <td>1.25</td>\n",
       "      <td>1.00</td>\n",
       "      <td>0.500000</td>\n",
       "      <td>1.4</td>\n",
       "      <td>40.0</td>\n",
       "      <td>64.0</td>\n",
       "      <td>NaN</td>\n",
       "      <td>NaN</td>\n",
       "      <td>0.0</td>\n",
       "      <td>1</td>\n",
       "    </tr>\n",
       "  </tbody>\n",
       "</table>\n",
       "<p>5 rows × 32 columns</p>\n",
       "</div>"
      ],
      "text/plain": [
       "     ID Group  Gender  Age  Education  Ethnicity     IQ  DSMDisorder  \\\n",
       "0  2501   FHR  female   25       14.0        NaN   99.0          1.0   \n",
       "1  2504   FHR  female   29       16.0        NaN  118.0          1.0   \n",
       "2  2505   FHR    male   33       14.0        NaN   95.0          0.0   \n",
       "3  2506   FHR    male   33       13.0        NaN  109.0          1.0   \n",
       "4  2508   FHR    male   28       16.0        NaN  118.0          0.0   \n",
       "\n",
       "   DSMDisorderType  DSMcomorbidities    ...     SIPS_Disorganized  \\\n",
       "0              7.0               2.0    ...                  0.75   \n",
       "1              7.0               2.0    ...                  0.50   \n",
       "2              0.0               0.0    ...                  0.25   \n",
       "3              4.0               1.0    ...                  1.00   \n",
       "4              NaN               0.0    ...                  1.25   \n",
       "\n",
       "   SIPS_General  SIPS_Negative  SIPS_Positive  SocAdjScale_SocialLeisure  \\\n",
       "0          0.75       0.500000            1.4                        NaN   \n",
       "1          0.50       0.333333            1.0                       38.0   \n",
       "2          0.00       0.000000            0.4                       51.0   \n",
       "3          0.75       1.166667            1.2                       49.0   \n",
       "4          1.00       0.500000            1.4                       40.0   \n",
       "\n",
       "   SocAdjScale_Work  GFS_Role  GFS_Social  Present_Clinical  sx_group  \n",
       "0               NaN       NaN         NaN               1.0         1  \n",
       "1              51.0       NaN         NaN               1.0         1  \n",
       "2              58.0       NaN         NaN               0.0         1  \n",
       "3              55.0       NaN         NaN               1.0         1  \n",
       "4              64.0       NaN         NaN               0.0         1  \n",
       "\n",
       "[5 rows x 32 columns]"
      ]
     },
     "execution_count": 16,
     "metadata": {},
     "output_type": "execute_result"
    }
   ],
   "source": [
    "raw.head()"
   ]
  },
  {
   "cell_type": "code",
   "execution_count": 30,
   "metadata": {
    "scrolled": true
   },
   "outputs": [
    {
     "data": {
      "text/plain": [
       "'data.frame':\t110 obs. of  32 variables:\n",
       " $ ID                       : int  2501 2504 2505 2506 2508 2509 2510 2511 2513 2515 ...\n",
       " $ Group                    : Factor w/ 4 levels \"CHR\",\"FHR\",\"HC\",..: 2 2 2 2 2 2 2 2 2 2 ...\n",
       " $ Gender                   : Factor w/ 2 levels \"female\",\"male\": 1 1 2 2 2 1 1 1 1 1 ...\n",
       " $ Age                      : int  25 29 33 33 28 25 30 32 27 27 ...\n",
       " $ Education                : num  14 16 14 13 16 17 18 15 19 16 ...\n",
       " $ Ethnicity                : num  NaN NaN NaN NaN NaN NaN NaN NaN NaN NaN ...\n",
       " $ IQ                       : num  99 118 95 109 118 121 123 128 122 118 ...\n",
       " $ DSMDisorder              : num  1 1 0 1 0 1 1 1 1 1 ...\n",
       " $ DSMDisorderType          : num  7 7 0 4 NaN 2 8 7 7 8 ...\n",
       " $ DSMcomorbidities         : num  2 2 0 1 0 1 3 2 2 3 ...\n",
       " $ IRI_EC_total             : num  NaN 21 21 14 18 26 22 16 20 25 ...\n",
       " $ IRI_FS_total             : num  NaN 6 19 15 16 18 16 17 10 18 ...\n",
       " $ IRI_PD_total             : num  NaN 6 5 9 16 11 8 13 8 11 ...\n",
       " $ IRI_PT_total             : num  NaN 23 24 23 23 15 21 21 16 24 ...\n",
       " $ Chapman_MIS              : num  NaN 7 1 4 4 2 2 3 2 1 ...\n",
       " $ Chapman_PAS              : num  NaN 1 1 9 1 1 0 1 1 3 ...\n",
       " $ Chapman_PhAS             : num  NaN 5 2 11 8 14 5 7 17 1 ...\n",
       " $ Chapman_RTS              : num  NaN 1 0 5 0 0 0 1 1 2 ...\n",
       " $ Chapman_SocAnh           : num  NaN 2 11 24 9 2 0 17 1 1 ...\n",
       " $ Medication               : num  1 1 0 0 1 0 0 1 1 1 ...\n",
       " $ PANAS_NA                 : num  NaN NaN NaN NaN NaN NaN NaN NaN NaN NaN ...\n",
       " $ PANAS_PA                 : num  NaN NaN NaN NaN NaN NaN NaN NaN NaN NaN ...\n",
       " $ SIPS_Disorganized        : num  0.75 0.5 0.25 1 1.25 0.5 0 1 0 0.75 ...\n",
       " $ SIPS_General             : num  0.75 0.5 0 0.75 1 0 0 0.25 0.5 1.5 ...\n",
       " $ SIPS_Negative            : num  0.5 0.333 0 1.167 0.5 ...\n",
       " $ SIPS_Positive            : num  1.4 1 0.4 1.2 1.4 0.4 0 0.6 0 0.8 ...\n",
       " $ SocAdjScale_SocialLeisure: num  NaN 38 51 49 40 48 55 59 49 49 ...\n",
       " $ SocAdjScale_Work         : num  NaN 51 58 55 64 47 49 61 55 61 ...\n",
       " $ GFS_Role                 : num  NaN NaN NaN NaN NaN NaN NaN NaN NaN NaN ...\n",
       " $ GFS_Social               : num  NaN NaN NaN NaN NaN NaN NaN NaN NaN NaN ...\n",
       " $ Present_Clinical         : num  1 1 0 1 0 1 1 1 1 1 ...\n",
       " $ sx_group                 : int  1 1 1 1 1 1 1 1 1 1 ...\n"
      ]
     },
     "metadata": {},
     "output_type": "display_data"
    }
   ],
   "source": [
    "%Rpush raw\n",
    "%R str(raw)"
   ]
  },
  {
   "cell_type": "markdown",
   "metadata": {
    "collapsed": true
   },
   "source": [
    " "
   ]
  },
  {
   "cell_type": "markdown",
   "metadata": {},
   "source": [
    "# Demographics"
   ]
  },
  {
   "cell_type": "code",
   "execution_count": 31,
   "metadata": {
    "scrolled": true
   },
   "outputs": [
    {
     "name": "stdout",
     "output_type": "stream",
     "text": [
      "Total Group Count\n"
     ]
    },
    {
     "data": {
      "text/plain": [
       "Group\n",
       "CHR    27\n",
       "FHR    19\n",
       "HC     38\n",
       "SZ     26\n",
       "Name: ID, dtype: int64"
      ]
     },
     "execution_count": 31,
     "metadata": {},
     "output_type": "execute_result"
    }
   ],
   "source": [
    "print ('Total Group Count')\n",
    "raw.groupby('Group')['ID'].nunique()"
   ]
  },
  {
   "cell_type": "code",
   "execution_count": 32,
   "metadata": {
    "scrolled": true
   },
   "outputs": [
    {
     "name": "stdout",
     "output_type": "stream",
     "text": [
      "Gender by Group\n"
     ]
    },
    {
     "data": {
      "text/plain": [
       "Group  Gender\n",
       "CHR    male      18\n",
       "       female     9\n",
       "FHR    female    14\n",
       "       male       5\n",
       "HC     male      22\n",
       "       female    16\n",
       "SZ     male      16\n",
       "       female    10\n",
       "Name: Gender, dtype: int64"
      ]
     },
     "execution_count": 32,
     "metadata": {},
     "output_type": "execute_result"
    }
   ],
   "source": [
    "#more males in all groups except FHR\n",
    "\n",
    "print ('Gender by Group')\n",
    "raw.groupby('Group')['Gender'].value_counts()"
   ]
  },
  {
   "cell_type": "code",
   "execution_count": 33,
   "metadata": {
    "scrolled": false
   },
   "outputs": [
    {
     "name": "stdout",
     "output_type": "stream",
     "text": [
      "Age by Group\n",
      "       count       mean        std   min    25%   50%    75%   max\n",
      "Group                                                             \n",
      "CHR     27.0  21.629630   4.404090  15.0  18.00  22.0  23.50  34.0\n",
      "FHR     19.0  27.421053   3.920258  20.0  24.50  27.0  31.00  33.0\n",
      "HC      38.0  29.763158  11.769025  18.0  21.00  24.0  41.50  55.0\n",
      "SZ      26.0  38.692308  10.279180  21.0  31.25  38.5  44.75  58.0\n"
     ]
    },
    {
     "data": {
      "text/plain": [
       "<matplotlib.axes._subplots.AxesSubplot at 0x119886190>"
      ]
     },
     "execution_count": 33,
     "metadata": {},
     "output_type": "execute_result"
    },
    {
     "data": {
      "image/png": "[encoded data removed]",
      "text/plain": [
       "<matplotlib.figure.Figure at 0x1193617d0>"
      ]
     },
     "metadata": {},
     "output_type": "display_data"
    }
   ],
   "source": [
    "print ('Age by Group')\n",
    "g=raw.groupby('Group')\n",
    "print (g.Age.describe())\n",
    "\n",
    "sns.set_context(font_scale=2.5)\n",
    "sns.set_palette(\"Set2\")\n",
    "sns.set_style(\"whitegrid\")\n",
    "\n",
    "sns.boxplot(x='Group',y='Age',data=raw)"
   ]
  },
  {
   "cell_type": "code",
   "execution_count": 34,
   "metadata": {
    "collapsed": true
   },
   "outputs": [],
   "source": [
    "\"\"\"Dataframe dropping participants without an IQ value\"\"\"\n",
    "raw_IQ = raw[np.isfinite(raw['IQ'])]"
   ]
  },
  {
   "cell_type": "code",
   "execution_count": 35,
   "metadata": {
    "scrolled": false
   },
   "outputs": [
    {
     "name": "stdout",
     "output_type": "stream",
     "text": [
      "Group\n",
      "CHR    106.791667\n",
      "FHR    117.000000\n",
      "HC     112.105263\n",
      "SZ     108.076923\n",
      "Name: IQ, dtype: float64\n",
      "Group\n",
      "CHR    17.688068\n",
      "FHR     9.779931\n",
      "HC     11.668367\n",
      "SZ     13.323432\n",
      "Name: IQ, dtype: float64\n",
      "ANOVA for IQ x Group\n"
     ]
    },
    {
     "data": {
      "text/plain": [
       "             Df Sum Sq Mean Sq F value Pr(>F)  \n",
       "Group         3   1335   444.9    2.48 0.0653 .\n",
       "Residuals   102  18297   179.4                 \n",
       "---\n",
       "Signif. codes:  0 ‘***’ 0.001 ‘**’ 0.01 ‘*’ 0.05 ‘.’ 0.1 ‘ ’ 1\n"
      ]
     },
     "metadata": {},
     "output_type": "display_data"
    },
    {
     "data": {
      "image/png": "[encoded data removed]",
      "text/plain": [
       "<matplotlib.figure.Figure at 0x118dca810>"
      ]
     },
     "metadata": {},
     "output_type": "display_data"
    }
   ],
   "source": [
    "i = raw_IQ.groupby('Group')\n",
    "\n",
    "print (i.IQ.mean())\n",
    "print (i.IQ.std())\n",
    "\n",
    "sns.boxplot(x='Group',y='IQ',data=raw_IQ)\n",
    "\n",
    "sns.set_context(font_scale=2.5)\n",
    "sns.set_palette(\"Set2\")\n",
    "sns.set_style(\"whitegrid\")\n",
    "\n",
    "%Rpush raw_IQ\n",
    "print ('ANOVA for IQ x Group')\n",
    "%R iq2.aov <- aov(IQ ~ Group, data=raw_IQ)\n",
    "%R print (summary(iq2.aov))"
   ]
  },
  {
   "cell_type": "code",
   "execution_count": null,
   "metadata": {
    "collapsed": true
   },
   "outputs": [],
   "source": []
  },
  {
   "cell_type": "markdown",
   "metadata": {},
   "source": [
    "# Looking at Measures"
   ]
  },
  {
   "cell_type": "markdown",
   "metadata": {},
   "source": [
    "## IRI"
   ]
  },
  {
   "cell_type": "code",
   "execution_count": 36,
   "metadata": {},
   "outputs": [
    {
     "name": "stdout",
     "output_type": "stream",
     "text": [
      "IRI_EC Mean\n",
      "Group\n",
      "CHR    22.338462\n",
      "FHR    20.333333\n",
      "HC     25.589474\n",
      "SZ     24.853846\n",
      "Name: IRI_EC_total, dtype: float64\n",
      "IRI_FS Mean\n",
      "Group\n",
      "CHR    22.153846\n",
      "FHR    15.166667\n",
      "HC     19.568421\n",
      "SZ     22.453846\n",
      "Name: IRI_FS_total, dtype: float64\n",
      "IRI_PD Mean\n",
      "Group\n",
      "CHR    17.784615\n",
      "FHR     8.833333\n",
      "HC     13.589474\n",
      "SZ     16.053846\n",
      "Name: IRI_PD_total, dtype: float64\n",
      "IRI_PT Mean\n",
      "Group\n",
      "CHR    21.807692\n",
      "FHR    21.500000\n",
      "HC     24.978947\n",
      "SZ     24.453846\n",
      "Name: IRI_PT_total, dtype: float64\n"
     ]
    },
    {
     "data": {
      "image/png": "[encoded data removed]",
      "text/plain": [
       "<matplotlib.figure.Figure at 0x11e4328d0>"
      ]
     },
     "metadata": {},
     "output_type": "display_data"
    }
   ],
   "source": [
    "#SCORE and YAASS scored on 6-pt scale, FAME on 5-pt scale. Re-scaled the SCORE and YAASS data above.\n",
    "\n",
    "print('IRI_EC Mean')\n",
    "print(g.IRI_EC_total.mean())\n",
    "print('IRI_FS Mean')\n",
    "print(g.IRI_FS_total.mean())\n",
    "print('IRI_PD Mean')\n",
    "print(g.IRI_PD_total.mean())\n",
    "print('IRI_PT Mean')\n",
    "print(g.IRI_PT_total.mean())\n",
    "\n",
    "sns.set_context(font_scale=2.5)\n",
    "sns.set_palette(\"Set2\")\n",
    "sns.set_style(\"whitegrid\")\n",
    "\n",
    "fig = plt.figure(figsize=(10, 6))\n",
    "iri = fig.add_subplot(141)\n",
    "sns.boxplot(y='IRI_EC_total', x='Group', data = raw)\n",
    "plt.ylabel('Emapathic Concern')\n",
    "plt.xticks(rotation=45)\n",
    "\n",
    "iri = fig.add_subplot(142)\n",
    "sns.boxplot(y='IRI_FS_total', x='Group', data = raw)\n",
    "plt.ylabel('Fantasy')\n",
    "plt.xticks(rotation=45)\n",
    "\n",
    "iri = fig.add_subplot(143)\n",
    "sns.boxplot(y='IRI_PD_total', x='Group', data = raw)\n",
    "plt.ylabel('Personal Distress')\n",
    "plt.xticks(rotation=45)\n",
    "\n",
    "iri = fig.add_subplot(144)\n",
    "sns.boxplot(y='IRI_PT_total', x='Group', data = raw)\n",
    "plt.ylabel('Perspective Taking')\n",
    "plt.xticks(rotation=45)\n",
    "fig.tight_layout()\n",
    "\n",
    "# sns.plt.savefig(path2figs + 'IRI.pdf')"
   ]
  },
  {
   "cell_type": "code",
   "execution_count": 37,
   "metadata": {},
   "outputs": [
    {
     "name": "stdout",
     "output_type": "stream",
     "text": [
      "ANOVA on Empathic concern x Group\n"
     ]
    },
    {
     "data": {
      "text/plain": [
       "             Df Sum Sq Mean Sq F value Pr(>F)  \n",
       "Group         3    422  140.73   2.306 0.0811 .\n",
       "Residuals   104   6348   61.04                 \n",
       "---\n",
       "Signif. codes:  0 ‘***’ 0.001 ‘**’ 0.01 ‘*’ 0.05 ‘.’ 0.1 ‘ ’ 1\n",
       "2 observations deleted due to missingness\n"
      ]
     },
     "metadata": {},
     "output_type": "display_data"
    },
    {
     "name": "stdout",
     "output_type": "stream",
     "text": [
      "ANOVA on Fantasy x Group\n"
     ]
    },
    {
     "data": {
      "text/plain": [
       "             Df Sum Sq Mean Sq F value  Pr(>F)   \n",
       "Group         3    702  234.09   4.094 0.00862 **\n",
       "Residuals   104   5946   57.17                   \n",
       "---\n",
       "Signif. codes:  0 ‘***’ 0.001 ‘**’ 0.01 ‘*’ 0.05 ‘.’ 0.1 ‘ ’ 1\n",
       "2 observations deleted due to missingness\n"
      ]
     },
     "metadata": {},
     "output_type": "display_data"
    },
    {
     "name": "stdout",
     "output_type": "stream",
     "text": [
      "ANOVA on Personal Distress x Group\n"
     ]
    },
    {
     "data": {
      "text/plain": [
       "             Df Sum Sq Mean Sq F value   Pr(>F)    \n",
       "Group         3    952   317.2   8.372 4.89e-05 ***\n",
       "Residuals   104   3941    37.9                     \n",
       "---\n",
       "Signif. codes:  0 ‘***’ 0.001 ‘**’ 0.01 ‘*’ 0.05 ‘.’ 0.1 ‘ ’ 1\n",
       "2 observations deleted due to missingness\n"
      ]
     },
     "metadata": {},
     "output_type": "display_data"
    },
    {
     "name": "stdout",
     "output_type": "stream",
     "text": [
      "ANOVA on Perspective Taking x Group\n"
     ]
    },
    {
     "data": {
      "text/plain": [
       "             Df Sum Sq Mean Sq F value Pr(>F)\n",
       "Group         3    253   84.41   1.514  0.215\n",
       "Residuals   104   5798   55.75               \n",
       "2 observations deleted due to missingness\n"
      ]
     },
     "metadata": {},
     "output_type": "display_data"
    }
   ],
   "source": [
    "print ('ANOVA on Empathic concern x Group')\n",
    "%R ec.aov <- aov(IRI_EC_total ~ Group, data=raw)\n",
    "%R print (summary(ec.aov))\n",
    "\n",
    "print ('ANOVA on Fantasy x Group')\n",
    "%R fs.aov <- aov(IRI_FS_total ~ Group, data=raw)\n",
    "%R print (summary(fs.aov))\n",
    "\n",
    "print ('ANOVA on Personal Distress x Group')\n",
    "%R pd.aov <- aov(IRI_PD_total ~ Group, data=raw)\n",
    "%R print (summary(pd.aov))\n",
    "\n",
    "print ('ANOVA on Perspective Taking x Group')\n",
    "%R pt.aov <- aov(IRI_PT_total ~ Group, data=raw)\n",
    "%R print (summary(pt.aov))"
   ]
  },
  {
   "cell_type": "code",
   "execution_count": 38,
   "metadata": {},
   "outputs": [
    {
     "name": "stdout",
     "output_type": "stream",
     "text": [
      "Followup on Fantasy x Group\n"
     ]
    },
    {
     "data": {
      "text/plain": [
       " Group   lsmean       SE  df lower.CL upper.CL\n",
       " CHR   22.15385 1.482877 104 19.21325 25.09445\n",
       " FHR   15.16667 1.782196 104 11.63250 18.70083\n",
       " HC    19.56842 1.226592 104 17.13604 22.00080\n",
       " SZ    22.45385 1.482877 104 19.51325 25.39445\n",
       "\n",
       "Confidence level used: 0.95 \n"
      ]
     },
     "metadata": {},
     "output_type": "display_data"
    },
    {
     "data": {
      "text/plain": [
       " contrast   estimate       SE  df t.ratio p.value\n",
       " CHR - FHR  6.987179 2.318437 104   3.014  0.0168\n",
       " CHR - HC   2.585425 1.924435 104   1.343  0.5376\n",
       " CHR - SZ  -0.300000 2.097105 104  -0.143  0.9989\n",
       " FHR - HC  -4.401754 2.163504 104  -2.035  0.1821\n",
       " FHR - SZ  -7.287179 2.318437 104  -3.143  0.0115\n",
       " HC - SZ   -2.885425 1.924435 104  -1.499  0.4416\n",
       "\n",
       "P value adjustment: tukey method for comparing a family of 4 estimates \n"
      ]
     },
     "metadata": {},
     "output_type": "display_data"
    },
    {
     "name": "stdout",
     "output_type": "stream",
     "text": [
      "Followup on Personal Distress x Group\n"
     ]
    },
    {
     "data": {
      "text/plain": [
       " Group    lsmean        SE  df  lower.CL upper.CL\n",
       " CHR   17.784615 1.2072596 104 15.390574 20.17866\n",
       " FHR    8.833333 1.4509454 104  5.956054 11.71061\n",
       " HC    13.589474 0.9986091 104 11.609194 15.56975\n",
       " SZ    16.053846 1.2072596 104 13.659805 18.44789\n",
       "\n",
       "Confidence level used: 0.95 \n"
      ]
     },
     "metadata": {},
     "output_type": "display_data"
    },
    {
     "data": {
      "text/plain": [
       " contrast   estimate       SE  df t.ratio p.value\n",
       " CHR - FHR  8.951282 1.887516 104   4.742  <.0001\n",
       " CHR - HC   4.195142 1.566747 104   2.678  0.0422\n",
       " CHR - SZ   1.730769 1.707323 104   1.014  0.7418\n",
       " FHR - HC  -4.756140 1.761381 104  -2.700  0.0398\n",
       " FHR - SZ  -7.220513 1.887516 104  -3.825  0.0013\n",
       " HC - SZ   -2.464372 1.566747 104  -1.573  0.3985\n",
       "\n",
       "P value adjustment: tukey method for comparing a family of 4 estimates \n"
      ]
     },
     "metadata": {},
     "output_type": "display_data"
    },
    {
     "name": "stdout",
     "output_type": "stream",
     "text": [
      "Followup on Empathic Concern x Group - trend\n"
     ]
    },
    {
     "data": {
      "text/plain": [
       " Group   lsmean       SE  df lower.CL upper.CL\n",
       " CHR   22.33846 1.532172 104 19.30011 25.37682\n",
       " FHR   20.33333 1.841442 104 16.68168 23.98498\n",
       " HC    25.58947 1.267367 104 23.07624 28.10271\n",
       " SZ    24.85385 1.532172 104 21.81549 27.89220\n",
       "\n",
       "Confidence level used: 0.95 \n"
      ]
     },
     "metadata": {},
     "output_type": "display_data"
    },
    {
     "data": {
      "text/plain": [
       " contrast    estimate       SE  df t.ratio p.value\n",
       " CHR - FHR  2.0051282 2.395509 104   0.837  0.8367\n",
       " CHR - HC  -3.2510121 1.988410 104  -1.635  0.3637\n",
       " CHR - SZ  -2.5153846 2.166819 104  -1.161  0.6528\n",
       " FHR - HC  -5.2561404 2.235426 104  -2.351  0.0932\n",
       " FHR - SZ  -4.5205128 2.395509 104  -1.887  0.2399\n",
       " HC - SZ    0.7356275 1.988410 104   0.370  0.9826\n",
       "\n",
       "P value adjustment: tukey method for comparing a family of 4 estimates \n"
      ]
     },
     "metadata": {},
     "output_type": "display_data"
    }
   ],
   "source": [
    "print ('Followup on Fantasy x Group')\n",
    "%R fs.lsm <- lsmeans(fs.aov, ~ Group, adjust='tukey')\n",
    "%R print(fs.lsm)\n",
    "%R print(pairs(fs.lsm))\n",
    "\n",
    "print ('Followup on Personal Distress x Group')\n",
    "%R pd.lsm <- lsmeans(pd.aov, ~ Group, adjust='tukey')\n",
    "%R print(pd.lsm)\n",
    "%R print(pairs(pd.lsm))\n",
    "\n",
    "print ('Followup on Empathic Concern x Group - trend')\n",
    "%R ec.lsm <- lsmeans(ec.aov, ~ Group, adjust='tukey')\n",
    "%R print(ec.lsm)\n",
    "%R print(pairs(ec.lsm))"
   ]
  },
  {
   "cell_type": "markdown",
   "metadata": {
    "collapsed": true
   },
   "source": [
    " "
   ]
  },
  {
   "cell_type": "code",
   "execution_count": null,
   "metadata": {
    "collapsed": true
   },
   "outputs": [],
   "source": []
  },
  {
   "cell_type": "markdown",
   "metadata": {},
   "source": [
    " "
   ]
  },
  {
   "cell_type": "markdown",
   "metadata": {},
   "source": [
    "## SIPS"
   ]
  },
  {
   "cell_type": "code",
   "execution_count": 40,
   "metadata": {
    "scrolled": false
   },
   "outputs": [
    {
     "name": "stdout",
     "output_type": "stream",
     "text": [
      "Between-group t-tests on SIPS General: Risk Groups\n",
      "t(42) = 4.77, p = 0.000, g = 1.463\n"
     ]
    },
    {
     "data": {
      "text/plain": [
       "(4.7728736928456374, 2.2178870210619296e-05, 1.4634684131522406)"
      ]
     },
     "execution_count": 40,
     "metadata": {},
     "output_type": "execute_result"
    },
    {
     "data": {
      "image/png": "[encoded data removed]",
      "text/plain": [
       "<matplotlib.figure.Figure at 0x1197aff90>"
      ]
     },
     "metadata": {},
     "output_type": "display_data"
    }
   ],
   "source": [
    "sips = raw[~(raw.Group == 'SZ')]\n",
    "\n",
    "sips = sips[np.isfinite(sips ['SIPS_General'])]\n",
    "\n",
    "sns.set_context(font_scale=2.5)\n",
    "sns.set_palette(\"Set2\")\n",
    "sns.set_style(\"whitegrid\")\n",
    "\n",
    "fig = plt.figure(figsize=(10, 6))\n",
    "si = fig.add_subplot(141)\n",
    "sns.boxplot(y='SIPS_Positive', x='Group', data = sips)\n",
    "si = fig.add_subplot(142)\n",
    "sns.boxplot(y='SIPS_Negative', x='Group', data = sips)\n",
    "si = fig.add_subplot(143)\n",
    "sns.boxplot(y='SIPS_Disorganized', x='Group', data = sips)\n",
    "si = fig.add_subplot(144)\n",
    "sns.boxplot(y='SIPS_General', x='Group', data = sips)\n",
    "fig.tight_layout()\n",
    "\n",
    "\n",
    "# sns.plt.savefig(path2figs + 'SIPS_general.pdf')\n",
    "\n",
    "print ('Between-group t-tests on SIPS General: Risk Groups')\n",
    "misc.ttest_2s(sips[sips.Group == 'CHR']['SIPS_General'],sips[sips.Group == 'FHR']['SIPS_General'])"
   ]
  },
  {
   "cell_type": "markdown",
   "metadata": {},
   "source": [
    " "
   ]
  },
  {
   "cell_type": "markdown",
   "metadata": {},
   "source": [
    "## Chapman"
   ]
  },
  {
   "cell_type": "code",
   "execution_count": 41,
   "metadata": {
    "scrolled": false
   },
   "outputs": [
    {
     "data": {
      "image/png": "[encoded data removed]",
      "text/plain": [
       "<matplotlib.figure.Figure at 0x119bd5b50>"
      ]
     },
     "metadata": {},
     "output_type": "display_data"
    }
   ],
   "source": [
    "sns.set_context(font_scale=2.5)\n",
    "sns.set_palette(\"Set2\")\n",
    "sns.set_style(\"whitegrid\")\n",
    "\n",
    "fig = plt.figure(figsize=(10, 6))\n",
    "chap = fig.add_subplot(141)\n",
    "sns.boxplot(y='Chapman_RTS', x='Group', data = raw)\n",
    "chap = fig.add_subplot(142)\n",
    "sns.boxplot(y='Chapman_MIS', x='Group', data = raw)\n",
    "chap = fig.add_subplot(143)\n",
    "sns.boxplot(y='Chapman_PAS', x='Group', data = raw)\n",
    "chap = fig.add_subplot(144)\n",
    "sns.boxplot(y='Chapman_SocAnh', x='Group', data = raw)\n",
    "fig.tight_layout()\n",
    "\n",
    "\n",
    "# sns.plt.savefig(path2figs + 'chapman.pdf')"
   ]
  },
  {
   "cell_type": "markdown",
   "metadata": {},
   "source": [
    " "
   ]
  },
  {
   "cell_type": "markdown",
   "metadata": {},
   "source": [
    "## GFS"
   ]
  },
  {
   "cell_type": "markdown",
   "metadata": {},
   "source": [
    "### Role"
   ]
  },
  {
   "cell_type": "code",
   "execution_count": 42,
   "metadata": {
    "scrolled": false
   },
   "outputs": [
    {
     "data": {
      "text/plain": [
       "<seaborn.axisgrid.FacetGrid at 0x11e3e8650>"
      ]
     },
     "execution_count": 42,
     "metadata": {},
     "output_type": "execute_result"
    },
    {
     "data": {
      "image/png": "[encoded data removed]",
      "text/plain": [
       "<matplotlib.figure.Figure at 0x118e61810>"
      ]
     },
     "metadata": {},
     "output_type": "display_data"
    }
   ],
   "source": [
    "# no measures from FAME\n",
    "gfs = raw[~(raw.Group == 'FHR')]\n",
    "\n",
    "sns.set_context(font_scale=2.5)\n",
    "sns.set_palette(\"Set2\")\n",
    "sns.set_style(\"whitegrid\")\n",
    "\n",
    "sns.factorplot(y='GFS_Role',x='Group',units='ID',ci=68,kind='bar',data=gfs)"
   ]
  },
  {
   "cell_type": "markdown",
   "metadata": {},
   "source": [
    "### Social"
   ]
  },
  {
   "cell_type": "code",
   "execution_count": 43,
   "metadata": {},
   "outputs": [
    {
     "data": {
      "text/plain": [
       "<seaborn.axisgrid.FacetGrid at 0x11930f310>"
      ]
     },
     "execution_count": 43,
     "metadata": {},
     "output_type": "execute_result"
    },
    {
     "data": {
      "image/png": "[encoded data removed]",
      "text/plain": [
       "<matplotlib.figure.Figure at 0x11963e6d0>"
      ]
     },
     "metadata": {},
     "output_type": "display_data"
    }
   ],
   "source": [
    "#No measures from FAME\n",
    "sns.set_context(font_scale=2.5)\n",
    "sns.set_palette(\"Set2\")\n",
    "sns.set_style(\"whitegrid\")\n",
    "\n",
    "sns.factorplot(y='GFS_Social',x='Group',units='ID',ci=68,kind='bar',data=gfs)"
   ]
  },
  {
   "cell_type": "markdown",
   "metadata": {},
   "source": [
    "## SAS"
   ]
  },
  {
   "cell_type": "markdown",
   "metadata": {},
   "source": [
    "### Social Leisure"
   ]
  },
  {
   "cell_type": "code",
   "execution_count": 45,
   "metadata": {
    "scrolled": false
   },
   "outputs": [
    {
     "name": "stdout",
     "output_type": "stream",
     "text": [
      "SAS Social Leisure Mean\n",
      "Group\n",
      "CHR    62.772727\n",
      "FHR    50.388889\n",
      "HC     51.937500\n",
      "SZ     63.680000\n",
      "Name: SocAdjScale_SocialLeisure, dtype: float64\n"
     ]
    },
    {
     "data": {
      "text/plain": [
       "<seaborn.axisgrid.FacetGrid at 0x1190a6cd0>"
      ]
     },
     "execution_count": 45,
     "metadata": {},
     "output_type": "execute_result"
    },
    {
     "data": {
      "image/png": "[encoded data removed]",
      "text/plain": [
       "<matplotlib.figure.Figure at 0x1193a0750>"
      ]
     },
     "metadata": {},
     "output_type": "display_data"
    }
   ],
   "source": [
    "x = raw.groupby('Group')\n",
    "\n",
    "print('SAS Social Leisure Mean')\n",
    "print(x.SocAdjScale_SocialLeisure.mean())\n",
    "\n",
    "sns.set_context(font_scale=2.5)\n",
    "sns.set_palette(\"Set2\")\n",
    "sns.set_style(\"whitegrid\")\n",
    "\n",
    "\n",
    "# sns.plt.savefig(path2figs + 'SAS_SL.pdf')\n",
    "\n",
    "sns.factorplot(y='SocAdjScale_SocialLeisure',x='Group',units='ID',ci=68,kind='bar',data=raw)"
   ]
  },
  {
   "cell_type": "code",
   "execution_count": 46,
   "metadata": {},
   "outputs": [
    {
     "name": "stdout",
     "output_type": "stream",
     "text": [
      "ANOVA on Social Leisure x Group\n"
     ]
    },
    {
     "data": {
      "text/plain": [
       "            Df Sum Sq Mean Sq F value   Pr(>F)    \n",
       "Group        3   3454  1151.3   8.675 3.91e-05 ***\n",
       "Residuals   93  12341   132.7                     \n",
       "---\n",
       "Signif. codes:  0 ‘***’ 0.001 ‘**’ 0.01 ‘*’ 0.05 ‘.’ 0.1 ‘ ’ 1\n",
       "13 observations deleted due to missingness\n"
      ]
     },
     "metadata": {},
     "output_type": "display_data"
    }
   ],
   "source": [
    "print ('ANOVA on Social Leisure x Group')\n",
    "%R sl.aov <- aov(SocAdjScale_SocialLeisure ~ Group, data=raw)\n",
    "%R print (summary(sl.aov))"
   ]
  },
  {
   "cell_type": "code",
   "execution_count": 47,
   "metadata": {},
   "outputs": [
    {
     "name": "stdout",
     "output_type": "stream",
     "text": [
      "Followup on SL x Group\n"
     ]
    },
    {
     "data": {
      "text/plain": [
       " Group   lsmean       SE df lower.CL upper.CL\n",
       " CHR   62.77273 2.456011 93 57.89558 67.64988\n",
       " FHR   50.38889 2.715223 93 44.99699 55.78078\n",
       " HC    51.93750 2.036417 93 47.89358 55.98142\n",
       " SZ    63.68000 2.303943 93 59.10483 68.25517\n",
       "\n",
       "Confidence level used: 0.95 \n"
      ]
     },
     "metadata": {},
     "output_type": "display_data"
    },
    {
     "data": {
      "text/plain": [
       " contrast     estimate       SE df t.ratio p.value\n",
       " CHR - FHR  12.3838384 3.661206 93   3.382  0.0057\n",
       " CHR - HC   10.8352273 3.190452 93   3.396  0.0055\n",
       " CHR - SZ   -0.9072727 3.367513 93  -0.269  0.9931\n",
       " FHR - HC   -1.5486111 3.394029 93  -0.456  0.9682\n",
       " FHR - SZ  -13.2911111 3.560981 93  -3.732  0.0018\n",
       " HC - SZ   -11.7425000 3.074922 93  -3.819  0.0014\n",
       "\n",
       "P value adjustment: tukey method for comparing a family of 4 estimates \n"
      ]
     },
     "metadata": {},
     "output_type": "display_data"
    }
   ],
   "source": [
    "print ('Followup on SL x Group')\n",
    "%R sl.lsm <- lsmeans(sl.aov, ~ Group, adjust='tukey')\n",
    "%R print(sl.lsm)\n",
    "%R print(pairs(sl.lsm))"
   ]
  },
  {
   "cell_type": "markdown",
   "metadata": {},
   "source": [
    "### Work"
   ]
  },
  {
   "cell_type": "code",
   "execution_count": 48,
   "metadata": {
    "scrolled": false
   },
   "outputs": [
    {
     "data": {
      "text/plain": [
       "<seaborn.axisgrid.FacetGrid at 0x119873110>"
      ]
     },
     "execution_count": 48,
     "metadata": {},
     "output_type": "execute_result"
    },
    {
     "data": {
      "image/png": "[encoded data removed]",
      "text/plain": [
       "<matplotlib.figure.Figure at 0x11dd9d550>"
      ]
     },
     "metadata": {},
     "output_type": "display_data"
    }
   ],
   "source": [
    "sns.set_context(font_scale=2.5)\n",
    "sns.set_palette(\"Set2\")\n",
    "sns.set_style(\"whitegrid\")\n",
    "\n",
    "sns.factorplot(y='SocAdjScale_Work',x='Group',units='ID',ci=68,kind='bar',data=raw)"
   ]
  },
  {
   "cell_type": "code",
   "execution_count": 49,
   "metadata": {},
   "outputs": [
    {
     "name": "stdout",
     "output_type": "stream",
     "text": [
      "ANOVA on Work x Group\n"
     ]
    },
    {
     "data": {
      "text/plain": [
       "            Df Sum Sq Mean Sq F value Pr(>F)  \n",
       "Group        3   3901  1300.4   3.342 0.0226 *\n",
       "Residuals   93  36185   389.1                 \n",
       "---\n",
       "Signif. codes:  0 ‘***’ 0.001 ‘**’ 0.01 ‘*’ 0.05 ‘.’ 0.1 ‘ ’ 1\n",
       "13 observations deleted due to missingness\n"
      ]
     },
     "metadata": {},
     "output_type": "display_data"
    }
   ],
   "source": [
    "print ('ANOVA on Work x Group')\n",
    "%R wk.aov <- aov(SocAdjScale_Work ~ Group, data=raw)\n",
    "%R print (summary(wk.aov))"
   ]
  },
  {
   "cell_type": "code",
   "execution_count": 50,
   "metadata": {},
   "outputs": [
    {
     "name": "stdout",
     "output_type": "stream",
     "text": [
      "Followup on Work x Group\n"
     ]
    },
    {
     "data": {
      "text/plain": [
       " Group   lsmean       SE df lower.CL upper.CL\n",
       " CHR   70.00000 4.112984 93 61.83243 78.16757\n",
       " FHR   57.50000 4.649270 93 48.26747 66.73253\n",
       " HC    53.16129 3.542747 93 46.12610 60.19648\n",
       " SZ    58.00000 3.945036 93 50.16594 65.83406\n",
       "\n",
       "Confidence level used: 0.95 \n"
      ]
     },
     "metadata": {},
     "output_type": "display_data"
    },
    {
     "data": {
      "text/plain": [
       " contrast  estimate       SE df t.ratio p.value\n",
       " CHR - FHR 12.50000 6.207443 93   2.014  0.1904\n",
       " CHR - HC  16.83871 5.428416 93   3.102  0.0134\n",
       " CHR - SZ  12.00000 5.699118 93   2.106  0.1589\n",
       " FHR - HC   4.33871 5.845234 93   0.742  0.8797\n",
       " FHR - SZ  -0.50000 6.097460 93  -0.082  0.9998\n",
       " HC - SZ   -4.83871 5.302298 93  -0.913  0.7982\n",
       "\n",
       "P value adjustment: tukey method for comparing a family of 4 estimates \n"
      ]
     },
     "metadata": {},
     "output_type": "display_data"
    }
   ],
   "source": [
    "print ('Followup on Work x Group')\n",
    "%R wk.lsm <- lsmeans(wk.aov, ~ Group, adjust='tukey')\n",
    "%R print(wk.lsm)\n",
    "%R print(pairs(wk.lsm))"
   ]
  },
  {
   "cell_type": "markdown",
   "metadata": {
    "collapsed": true
   },
   "source": [
    " "
   ]
  },
  {
   "cell_type": "markdown",
   "metadata": {},
   "source": [
    "## IRI and SAS: visualizing the relationship"
   ]
  },
  {
   "cell_type": "code",
   "execution_count": 55,
   "metadata": {
    "scrolled": false
   },
   "outputs": [
    {
     "data": {
      "image/png": "[encoded data removed]",
      "text/plain": [
       "<matplotlib.figure.Figure at 0x11e9c0d50>"
      ]
     },
     "metadata": {},
     "output_type": "display_data"
    }
   ],
   "source": [
    "sns.set_context(font_scale=2.5)\n",
    "sns.set_palette(\"Set2\")\n",
    "sns.set_style(\"darkgrid\")\n",
    "\n",
    "g = sns.lmplot(y='SocAdjScale_SocialLeisure',x='IRI_EC_total',hue='Group',\n",
    "           units='ID',ci=68,data=raw)\n",
    "plt.subplots_adjust(top=0.9)\n",
    "# sns.suptitle('Social Leisure as a function of Empathic Concern', fontsize=14)\n",
    "\n",
    "\n",
    "# sns.plt.savefig(path2figs + 'SASxIRI_EC.pdf')"
   ]
  },
  {
   "cell_type": "code",
   "execution_count": 57,
   "metadata": {
    "scrolled": false
   },
   "outputs": [
    {
     "data": {
      "text/plain": [
       "<seaborn.axisgrid.FacetGrid at 0x11edb7510>"
      ]
     },
     "execution_count": 57,
     "metadata": {},
     "output_type": "execute_result"
    },
    {
     "data": {
      "image/png": "[encoded data removed]",
      "text/plain": [
       "<matplotlib.figure.Figure at 0x11edb7410>"
      ]
     },
     "metadata": {},
     "output_type": "display_data"
    }
   ],
   "source": [
    "sns.lmplot(y='SocAdjScale_SocialLeisure',x='IRI_PD_total',hue='Group',\n",
    "           units='ID',ci=68,data=raw)\n",
    "# sns.plt.ylim(30,100)\n",
    "# plt.subplots_adjust(top=0.9)\n",
    "# sns.plt.suptitle('Social Leisure as a function of Personal Distress', fontsize=14)\n",
    "\n",
    "\n",
    "# sns.plt.savefig(path2figs + 'SASxIRI_PD.pdf')"
   ]
  },
  {
   "cell_type": "code",
   "execution_count": 58,
   "metadata": {},
   "outputs": [
    {
     "data": {
      "text/plain": [
       "<seaborn.axisgrid.FacetGrid at 0x11e767890>"
      ]
     },
     "execution_count": 58,
     "metadata": {},
     "output_type": "execute_result"
    },
    {
     "data": {
      "image/png": "[encoded data removed]",
      "text/plain": [
       "<matplotlib.figure.Figure at 0x11efedd90>"
      ]
     },
     "metadata": {},
     "output_type": "display_data"
    }
   ],
   "source": [
    "# %R iri_pt_sl <- aov(SocAdjScale_SocialLeisure ~ Group*IRI_PT_total,data=raw)\n",
    "# %R print (summary(iri_pt_sl))\n",
    "\n",
    "sns.lmplot(y='SocAdjScale_SocialLeisure',x='IRI_PT_total',hue='Group',\n",
    "           units='ID',ci=68,data=raw)\n",
    "# sns.plt.ylim(30,100)\n",
    "# plt.subplots_adjust(top=0.9)\n",
    "# sns.plt.suptitle('Social Leisure as a function of Perspective Taking', fontsize=14)\n",
    "\n",
    "\n",
    "# sns.plt.savefig(path2figs + 'SASxIRI_PT.pdf')"
   ]
  },
  {
   "cell_type": "code",
   "execution_count": 59,
   "metadata": {},
   "outputs": [
    {
     "data": {
      "text/plain": [
       "                   Df Sum Sq Mean Sq F value   Pr(>F)    \n",
       "Group               3   3454  1151.3   9.165 2.39e-05 ***\n",
       "IRI_FS_total        1     98    97.6   0.777   0.3804    \n",
       "Group:IRI_FS_total  3   1064   354.8   2.825   0.0432 *  \n",
       "Residuals          89  11179   125.6                     \n",
       "---\n",
       "Signif. codes:  0 ‘***’ 0.001 ‘**’ 0.01 ‘*’ 0.05 ‘.’ 0.1 ‘ ’ 1\n",
       "13 observations deleted due to missingness\n"
      ]
     },
     "metadata": {},
     "output_type": "display_data"
    },
    {
     "data": {
      "text/plain": [
       "<seaborn.axisgrid.FacetGrid at 0x11ee4e550>"
      ]
     },
     "execution_count": 59,
     "metadata": {},
     "output_type": "execute_result"
    },
    {
     "data": {
      "image/png": "[encoded data removed]",
      "text/plain": [
       "<matplotlib.figure.Figure at 0x11ebbed90>"
      ]
     },
     "metadata": {},
     "output_type": "display_data"
    }
   ],
   "source": [
    "%R iri_fs_sl <- aov(SocAdjScale_SocialLeisure ~ Group*IRI_FS_total,data=raw)\n",
    "%R print (summary(iri_fs_sl))\n",
    "\n",
    "sns.lmplot(y='SocAdjScale_SocialLeisure',x='IRI_FS_total',hue='Group',\n",
    "           units='ID',ci=68,data=raw)\n",
    "# sns.plt.ylim(30,100)\n",
    "# plt.subplots_adjust(top=0.9)\n",
    "# sns.plt.suptitle('Social Leisure as a function of Fantasy', fontsize=14)\n",
    "\n",
    "\n",
    "# sns.plt.savefig(path2figs + 'SASxIRI_FS.pdf')"
   ]
  },
  {
   "cell_type": "markdown",
   "metadata": {},
   "source": [
    "### There are clear differences in prodromal psychotic sympoms between high risk groups, as shown in the SIPS scores. And though the trends don't always go in the same direction, the pattern on the SAS_SL ~ IRI plots are close and clearly group into into CHR/SZ and FHR/HC (other than personal distress where SZ does it's own thing). We also see a similar pattern in SAS_SL in the post-hoc tests above, where there are differences between HC and CHR, HC and SZ, but not CHR and SZ, as well as differences between FHR and CHR, FHR and SZ, but not FHR and HC.\n",
    "\n",
    "### Extending this a bit further into the clinical direction, at least some subjects in both the FHR and CHR group have DSM diagnoses, and at least some FHR participants were experiencing depressive or anxious symptoms at time of testing (check on whether we have that info for CHR). Taken with the pattern of grouping above, this could mean that having symptoms on the psychotic spectrum, regardless of experiencing other clinical symptoms/meeting clinical diagnosis, would put you at risk for social deficits above and beyond other DSM diagnoses. \n",
    "\n",
    "### ***UPDATE: No clinical measures other than SIPS on FHR group to test hypothesis.\n",
    "\n",
    "* Need to remove N1 on SIPS from negative symptoms if statistically testing (measures social functioning)"
   ]
  },
  {
   "cell_type": "code",
   "execution_count": 69,
   "metadata": {
    "collapsed": true
   },
   "outputs": [],
   "source": [
    "x = raw[['Group','IRI_EC_total','IRI_FS_total','IRI_PD_total','SocAdjScale_SocialLeisure']].copy()\n",
    "x = x[np.isfinite(x['IRI_EC_total'])]\n",
    "x = x[np.isfinite(x['IRI_FS_total'])]\n",
    "x = x[np.isfinite(x['IRI_PD_total'])]\n",
    "x = x[np.isfinite(x['SocAdjScale_SocialLeisure'])]"
   ]
  },
  {
   "cell_type": "code",
   "execution_count": 122,
   "metadata": {},
   "outputs": [
    {
     "data": {
      "image/png": "[encoded data removed]",
      "text/plain": [
       "<matplotlib.figure.Figure at 0x120599590>"
      ]
     },
     "metadata": {},
     "output_type": "display_data"
    }
   ],
   "source": [
    "g = sns.FacetGrid(x, col = 'Group', size=10)\n",
    "g.map_dataframe(lambda data, color: sns.heatmap(data.corr(), annot=True, linewidths=0, vmin=-1, vmax=1,\n",
    "                                                cmap = sns.diverging_palette(243, 17, sep=20, as_cmap=True)))\n",
    "\n",
    "plt.savefig(\"corr.pdf\".format(g))"
   ]
  },
  {
   "cell_type": "markdown",
   "metadata": {},
   "source": [
    "## Linear Models: SAS and IRI"
   ]
  },
  {
   "cell_type": "markdown",
   "metadata": {
    "collapsed": true
   },
   "source": [
    "The linear regression plots above were used as exploratory measures to visualize the relationship bewteen SAS_SL and the significant IRI subscales. As the plots suggest a linear relationship, below we are taking this a step further to fit a linear regression model to the items of interest.\n",
    "\n",
    "%R modelname = linearmodel(dependent variable ~ explanatory variable, dataset)\n",
    "\n",
    "Since we suspect that group plays a part in explaining this relationship, we add Group in to see if this improves the model i.e. better explains the variance. We find that group improves the models for each subscale below."
   ]
  },
  {
   "cell_type": "markdown",
   "metadata": {},
   "source": [
    "### Fantasy"
   ]
  },
  {
   "cell_type": "code",
   "execution_count": 60,
   "metadata": {},
   "outputs": [
    {
     "data": {
      "text/plain": [
       "\n",
       "Call:\n",
       "lm(formula = SocAdjScale_SocialLeisure ~ IRI_FS_total, data = raw)\n",
       "\n",
       "Residuals:\n",
       "    Min      1Q  Median      3Q     Max \n",
       "-21.757  -9.430  -3.550   8.155  40.219 \n",
       "\n",
       "Coefficients:\n",
       "             Estimate Std. Error t value Pr(>|t|)    \n",
       "(Intercept)   48.5503     3.7638  12.899   <2e-16 ***\n",
       "IRI_FS_total   0.4147     0.1712   2.423   0.0173 *  \n",
       "---\n",
       "Signif. codes:  0 ‘***’ 0.001 ‘**’ 0.01 ‘*’ 0.05 ‘.’ 0.1 ‘ ’ 1\n",
       "\n",
       "Residual standard error: 12.51 on 95 degrees of freedom\n",
       "  (13 observations deleted due to missingness)\n",
       "Multiple R-squared:  0.05819,\tAdjusted R-squared:  0.04828 \n",
       "F-statistic:  5.87 on 1 and 95 DF,  p-value: 0.0173\n",
       "\n"
      ]
     },
     "metadata": {},
     "output_type": "display_data"
    }
   ],
   "source": [
    "%R lm1 = lm(SocAdjScale_SocialLeisure ~ IRI_FS_total, data = raw)\n",
    "%R print (summary(lm1))"
   ]
  },
  {
   "cell_type": "code",
   "execution_count": 121,
   "metadata": {},
   "outputs": [
    {
     "data": {
      "text/plain": [
       "\n",
       "Call:\n",
       "lm(formula = SocAdjScale_SocialLeisure ~ IRI_FS_total + Group, \n",
       "    data = raw)\n",
       "\n",
       "Residuals:\n",
       "    Min      1Q  Median      3Q     Max \n",
       "-22.108  -7.691  -1.762   6.712  32.461 \n",
       "\n",
       "Coefficients:\n",
       "             Estimate Std. Error t value Pr(>|t|)    \n",
       "(Intercept)    59.145      4.899  12.074  < 2e-16 ***\n",
       "IRI_FS_total    0.149      0.174   0.856  0.39403    \n",
       "GroupFHR      -11.016      3.999  -2.755  0.00708 ** \n",
       "GroupHC       -10.168      3.289  -3.092  0.00263 ** \n",
       "GroupSZ         1.178      3.387   0.348  0.72877    \n",
       "---\n",
       "Signif. codes:  0 ‘***’ 0.001 ‘**’ 0.01 ‘*’ 0.05 ‘.’ 0.1 ‘ ’ 1\n",
       "\n",
       "Residual standard error: 11.54 on 92 degrees of freedom\n",
       "  (13 observations deleted due to missingness)\n",
       "Multiple R-squared:  0.2248,\tAdjusted R-squared:  0.1911 \n",
       "F-statistic: 6.671 on 4 and 92 DF,  p-value: 9.263e-05\n",
       "\n"
      ]
     },
     "metadata": {},
     "output_type": "display_data"
    }
   ],
   "source": [
    "%R lm2 = lm(SocAdjScale_SocialLeisure ~ IRI_FS_total + Group, data = raw)\n",
    "%R print (summary(lm2))"
   ]
  },
  {
   "cell_type": "code",
   "execution_count": 62,
   "metadata": {},
   "outputs": [
    {
     "data": {
      "text/plain": [
       "Analysis of Variance Table\n",
       "\n",
       "Model 1: SocAdjScale_SocialLeisure ~ IRI_FS_total\n",
       "Model 2: SocAdjScale_SocialLeisure ~ IRI_FS_total + Group\n",
       "  Res.Df   RSS Df Sum of Sq      F    Pr(>F)    \n",
       "1     95 14876                                  \n",
       "2     92 12244  3    2632.2 6.5928 0.0004377 ***\n",
       "---\n",
       "Signif. codes:  0 ‘***’ 0.001 ‘**’ 0.01 ‘*’ 0.05 ‘.’ 0.1 ‘ ’ 1\n"
      ]
     },
     "metadata": {},
     "output_type": "display_data"
    }
   ],
   "source": [
    "%R print (anova(lm1, lm2))"
   ]
  },
  {
   "cell_type": "code",
   "execution_count": null,
   "metadata": {
    "collapsed": true
   },
   "outputs": [],
   "source": []
  },
  {
   "cell_type": "markdown",
   "metadata": {},
   "source": [
    "### Personal Distress"
   ]
  },
  {
   "cell_type": "code",
   "execution_count": 63,
   "metadata": {},
   "outputs": [
    {
     "data": {
      "text/plain": [
       "\n",
       "Call:\n",
       "lm(formula = SocAdjScale_SocialLeisure ~ IRI_PD_total, data = raw)\n",
       "\n",
       "Residuals:\n",
       "    Min      1Q  Median      3Q     Max \n",
       "-24.912  -8.265  -4.031   7.350  40.616 \n",
       "\n",
       "Coefficients:\n",
       "             Estimate Std. Error t value Pr(>|t|)    \n",
       "(Intercept)   50.7684     3.1319  16.210   <2e-16 ***\n",
       "IRI_PD_total   0.4410     0.1982   2.226   0.0284 *  \n",
       "---\n",
       "Signif. codes:  0 ‘***’ 0.001 ‘**’ 0.01 ‘*’ 0.05 ‘.’ 0.1 ‘ ’ 1\n",
       "\n",
       "Residual standard error: 12.57 on 95 degrees of freedom\n",
       "  (13 observations deleted due to missingness)\n",
       "Multiple R-squared:  0.04956,\tAdjusted R-squared:  0.03956 \n",
       "F-statistic: 4.954 on 1 and 95 DF,  p-value: 0.0284\n",
       "\n"
      ]
     },
     "metadata": {},
     "output_type": "display_data"
    }
   ],
   "source": [
    "%R lm3 = lm(SocAdjScale_SocialLeisure ~ IRI_PD_total, data = raw)\n",
    "%R print (summary(lm3))"
   ]
  },
  {
   "cell_type": "code",
   "execution_count": 64,
   "metadata": {},
   "outputs": [
    {
     "data": {
      "text/plain": [
       "\n",
       "Call:\n",
       "lm(formula = SocAdjScale_SocialLeisure ~ IRI_PD_total + Group, \n",
       "    data = raw)\n",
       "\n",
       "Residuals:\n",
       "    Min      1Q  Median      3Q     Max \n",
       "-21.653  -7.722  -1.414   7.187  34.329 \n",
       "\n",
       "Coefficients:\n",
       "              Estimate Std. Error t value Pr(>|t|)    \n",
       "(Intercept)   62.55152    4.91444  12.728  < 2e-16 ***\n",
       "IRI_PD_total   0.01138    0.21861   0.052  0.95859    \n",
       "GroupFHR     -12.26317    4.35002  -2.819  0.00590 ** \n",
       "GroupHC      -10.76304    3.49456  -3.080  0.00273 ** \n",
       "GroupSZ        0.94893    3.47899   0.273  0.78565    \n",
       "---\n",
       "Signif. codes:  0 ‘***’ 0.001 ‘**’ 0.01 ‘*’ 0.05 ‘.’ 0.1 ‘ ’ 1\n",
       "\n",
       "Residual standard error: 11.58 on 92 degrees of freedom\n",
       "  (13 observations deleted due to missingness)\n",
       "Multiple R-squared:  0.2187,\tAdjusted R-squared:  0.1847 \n",
       "F-statistic: 6.438 on 4 and 92 DF,  p-value: 0.0001299\n",
       "\n"
      ]
     },
     "metadata": {},
     "output_type": "display_data"
    }
   ],
   "source": [
    "%R lm4 = lm(SocAdjScale_SocialLeisure ~ IRI_PD_total + Group, data = raw)\n",
    "%R print (summary(lm4))"
   ]
  },
  {
   "cell_type": "code",
   "execution_count": 65,
   "metadata": {},
   "outputs": [
    {
     "data": {
      "text/plain": [
       "Analysis of Variance Table\n",
       "\n",
       "Model 1: SocAdjScale_SocialLeisure ~ IRI_PD_total\n",
       "Model 2: SocAdjScale_SocialLeisure ~ IRI_PD_total + Group\n",
       "  Res.Df   RSS Df Sum of Sq     F   Pr(>F)    \n",
       "1     95 15012                                \n",
       "2     92 12341  3    2671.3 6.638 0.000415 ***\n",
       "---\n",
       "Signif. codes:  0 ‘***’ 0.001 ‘**’ 0.01 ‘*’ 0.05 ‘.’ 0.1 ‘ ’ 1\n"
      ]
     },
     "metadata": {},
     "output_type": "display_data"
    }
   ],
   "source": [
    "%R print (anova(lm3, lm4))"
   ]
  },
  {
   "cell_type": "code",
   "execution_count": null,
   "metadata": {
    "collapsed": true
   },
   "outputs": [],
   "source": []
  },
  {
   "cell_type": "markdown",
   "metadata": {},
   "source": [
    "### Empathic Concern"
   ]
  },
  {
   "cell_type": "code",
   "execution_count": 66,
   "metadata": {},
   "outputs": [
    {
     "data": {
      "text/plain": [
       "\n",
       "Call:\n",
       "lm(formula = SocAdjScale_SocialLeisure ~ IRI_EC_total, data = raw)\n",
       "\n",
       "Residuals:\n",
       "    Min      1Q  Median      3Q     Max \n",
       "-23.476  -9.266  -3.592   8.176  38.082 \n",
       "\n",
       "Coefficients:\n",
       "             Estimate Std. Error t value Pr(>|t|)    \n",
       "(Intercept)   50.4719     4.6320  10.896   <2e-16 ***\n",
       "IRI_EC_total   0.2762     0.1844   1.498    0.137    \n",
       "---\n",
       "Signif. codes:  0 ‘***’ 0.001 ‘**’ 0.01 ‘*’ 0.05 ‘.’ 0.1 ‘ ’ 1\n",
       "\n",
       "Residual standard error: 12.74 on 95 degrees of freedom\n",
       "  (13 observations deleted due to missingness)\n",
       "Multiple R-squared:  0.02307,\tAdjusted R-squared:  0.01279 \n",
       "F-statistic: 2.244 on 1 and 95 DF,  p-value: 0.1375\n",
       "\n"
      ]
     },
     "metadata": {},
     "output_type": "display_data"
    }
   ],
   "source": [
    "%R lm5 = lm(SocAdjScale_SocialLeisure ~ IRI_EC_total, data = raw)\n",
    "%R print (summary(lm5))"
   ]
  },
  {
   "cell_type": "code",
   "execution_count": 119,
   "metadata": {},
   "outputs": [
    {
     "data": {
      "text/plain": [
       "\n",
       "Call:\n",
       "lm(formula = SocAdjScale_SocialLeisure ~ IRI_EC_total + Group, \n",
       "    data = raw)\n",
       "\n",
       "Residuals:\n",
       "    Min      1Q  Median      3Q     Max \n",
       "-21.622  -7.852  -1.349   6.847  32.281 \n",
       "\n",
       "Coefficients:\n",
       "             Estimate Std. Error t value Pr(>|t|)    \n",
       "(Intercept)   57.4802     4.8426  11.870  < 2e-16 ***\n",
       "IRI_EC_total   0.2184     0.1724   1.267 0.208465    \n",
       "GroupFHR     -11.5315     3.7109  -3.107 0.002510 ** \n",
       "GroupHC      -11.1316     3.1887  -3.491 0.000741 ***\n",
       "GroupSZ        0.7702     3.3584   0.229 0.819112    \n",
       "---\n",
       "Signif. codes:  0 ‘***’ 0.001 ‘**’ 0.01 ‘*’ 0.05 ‘.’ 0.1 ‘ ’ 1\n",
       "\n",
       "Residual standard error: 11.48 on 92 degrees of freedom\n",
       "  (13 observations deleted due to missingness)\n",
       "Multiple R-squared:  0.2321,\tAdjusted R-squared:  0.1987 \n",
       "F-statistic:  6.95 on 4 and 92 DF,  p-value: 6.201e-05\n",
       "\n"
      ]
     },
     "metadata": {},
     "output_type": "display_data"
    }
   ],
   "source": [
    "%R lm6 = lm(SocAdjScale_SocialLeisure ~ IRI_EC_total + Group, data = raw)\n",
    "%R print (summary(lm6))"
   ]
  },
  {
   "cell_type": "code",
   "execution_count": 81,
   "metadata": {},
   "outputs": [
    {
     "data": {
      "text/plain": [
       "array([ 0.48176758])"
      ]
     },
     "execution_count": 81,
     "metadata": {},
     "output_type": "execute_result"
    }
   ],
   "source": [
    "#IRI_EC can account for 23% of the variation in SAS_SL scores\n",
    "\n",
    "%R sqrt(0.2321)"
   ]
  },
  {
   "cell_type": "code",
   "execution_count": 68,
   "metadata": {},
   "outputs": [
    {
     "data": {
      "text/plain": [
       "Analysis of Variance Table\n",
       "\n",
       "Model 1: SocAdjScale_SocialLeisure ~ IRI_EC_total\n",
       "Model 2: SocAdjScale_SocialLeisure ~ IRI_EC_total + Group\n",
       "  Res.Df   RSS Df Sum of Sq      F    Pr(>F)    \n",
       "1     95 15431                                  \n",
       "2     92 12130  3    3300.9 8.3453 5.756e-05 ***\n",
       "---\n",
       "Signif. codes:  0 ‘***’ 0.001 ‘**’ 0.01 ‘*’ 0.05 ‘.’ 0.1 ‘ ’ 1\n"
      ]
     },
     "metadata": {},
     "output_type": "display_data"
    }
   ],
   "source": [
    "%R print (anova(lm5, lm6))"
   ]
  },
  {
   "cell_type": "code",
   "execution_count": null,
   "metadata": {
    "collapsed": true
   },
   "outputs": [],
   "source": []
  },
  {
   "cell_type": "code",
   "execution_count": null,
   "metadata": {
    "collapsed": true
   },
   "outputs": [],
   "source": []
  },
  {
   "cell_type": "code",
   "execution_count": null,
   "metadata": {
    "collapsed": true
   },
   "outputs": [],
   "source": []
  },
  {
   "cell_type": "code",
   "execution_count": null,
   "metadata": {
    "collapsed": true
   },
   "outputs": [],
   "source": []
  },
  {
   "cell_type": "code",
   "execution_count": null,
   "metadata": {
    "collapsed": true
   },
   "outputs": [],
   "source": []
  },
  {
   "cell_type": "code",
   "execution_count": 86,
   "metadata": {},
   "outputs": [
    {
     "data": {
      "text/plain": [
       "Index([u'ID', u'Group', u'Gender', u'Age', u'Education', u'Ethnicity', u'IQ',\n",
       "       u'DSMDisorder', u'DSMDisorderType', u'DSMcomorbidities',\n",
       "       u'IRI_EC_total', u'IRI_FS_total', u'IRI_PD_total', u'IRI_PT_total',\n",
       "       u'Chapman_MIS', u'Chapman_PAS', u'Chapman_PhAS', u'Chapman_RTS',\n",
       "       u'Chapman_SocAnh', u'Medication', u'PANAS_NA', u'PANAS_PA',\n",
       "       u'SIPS_Disorganized', u'SIPS_General', u'SIPS_Negative',\n",
       "       u'SIPS_Positive', u'SocAdjScale_SocialLeisure', u'SocAdjScale_Work',\n",
       "       u'GFS_Role', u'GFS_Social', u'Present_Clinical', u'sx_group'],\n",
       "      dtype='object')"
      ]
     },
     "execution_count": 86,
     "metadata": {},
     "output_type": "execute_result"
    }
   ],
   "source": [
    "raw.columns"
   ]
  },
  {
   "cell_type": "code",
   "execution_count": 117,
   "metadata": {},
   "outputs": [
    {
     "data": {
      "text/plain": [
       "\n",
       "Call:\n",
       "lm(formula = SocAdjScale_SocialLeisure ~ SIPS_Negative + Group, \n",
       "    data = raw)\n",
       "\n",
       "Residuals:\n",
       "     Min       1Q   Median       3Q      Max \n",
       "-15.2642  -4.3532  -0.2545   4.9989  14.8130 \n",
       "\n",
       "Coefficients:\n",
       "              Estimate Std. Error t value Pr(>|t|)    \n",
       "(Intercept)    55.2909     2.7700  19.961  < 2e-16 ***\n",
       "SIPS_Negative   0.9976     0.3004   3.321  0.00163 ** \n",
       "GroupFHR       -5.1040     3.2647  -1.563  0.12392    \n",
       "GroupHC        -7.2899     3.2040  -2.275  0.02696 *  \n",
       "---\n",
       "Signif. codes:  0 ‘***’ 0.001 ‘**’ 0.01 ‘*’ 0.05 ‘.’ 0.1 ‘ ’ 1\n",
       "\n",
       "Residual standard error: 7.561 on 53 degrees of freedom\n",
       "  (53 observations deleted due to missingness)\n",
       "Multiple R-squared:  0.5034,\tAdjusted R-squared:  0.4753 \n",
       "F-statistic: 17.91 on 3 and 53 DF,  p-value: 3.731e-08\n",
       "\n"
      ]
     },
     "metadata": {},
     "output_type": "display_data"
    }
   ],
   "source": [
    "#Starred coefficients are predictors making a significant contribution to the model\n",
    "\n",
    "%R lm7 = lm(SocAdjScale_SocialLeisure ~ SIPS_Negative + Group, data = raw)\n",
    "%R print (summary(lm7))"
   ]
  },
  {
   "cell_type": "code",
   "execution_count": 101,
   "metadata": {},
   "outputs": [
    {
     "data": {
      "text/plain": [
       "SIPS_Negative      GroupFHR       GroupHC \n",
       "    0.4642110    -0.4117914    -3.3922750 \n"
      ]
     },
     "metadata": {},
     "output_type": "display_data"
    }
   ],
   "source": [
    "#standardized beta estimate\n",
    "%R print (lm.beta(lm7))"
   ]
  },
  {
   "cell_type": "code",
   "execution_count": 97,
   "metadata": {
    "scrolled": false
   },
   "outputs": [
    {
     "data": {
      "text/plain": [
       "<seaborn.axisgrid.FacetGrid at 0x122668790>"
      ]
     },
     "execution_count": 97,
     "metadata": {},
     "output_type": "execute_result"
    },
    {
     "data": {
      "image/png": "[encoded data removed]",
      "text/plain": [
       "<matplotlib.figure.Figure at 0x12199fc90>"
      ]
     },
     "metadata": {},
     "output_type": "display_data"
    }
   ],
   "source": [
    "sns.lmplot(y='SocAdjScale_SocialLeisure',x='SIPS_Negative',hue='Group',\n",
    "           units='ID',ci=68,data=sips)"
   ]
  },
  {
   "cell_type": "code",
   "execution_count": 114,
   "metadata": {
    "scrolled": false
   },
   "outputs": [
    {
     "data": {
      "text/plain": [
       "\n",
       "Call:\n",
       "lm(formula = SocAdjScale_SocialLeisure ~ SIPS_Positive + Group, \n",
       "    data = raw)\n",
       "\n",
       "Residuals:\n",
       "     Min       1Q   Median       3Q      Max \n",
       "-16.2457  -5.2609  -0.2609   5.5514  14.7043 \n",
       "\n",
       "Coefficients:\n",
       "              Estimate Std. Error t value Pr(>|t|)    \n",
       "(Intercept)    55.7385     5.0578  11.020 2.53e-15 ***\n",
       "SIPS_Positive   0.5507     0.3719   1.481    0.145    \n",
       "GroupFHR       -5.5529     5.2622  -1.055    0.296    \n",
       "GroupHC        -7.4776     5.3013  -1.411    0.164    \n",
       "---\n",
       "Signif. codes:  0 ‘***’ 0.001 ‘**’ 0.01 ‘*’ 0.05 ‘.’ 0.1 ‘ ’ 1\n",
       "\n",
       "Residual standard error: 8.144 on 53 degrees of freedom\n",
       "  (53 observations deleted due to missingness)\n",
       "Multiple R-squared:  0.4239,\tAdjusted R-squared:  0.3913 \n",
       "F-statistic:    13 on 3 and 53 DF,  p-value: 1.765e-06\n",
       "\n"
      ]
     },
     "metadata": {},
     "output_type": "display_data"
    }
   ],
   "source": [
    "%R lm8 = lm(SocAdjScale_SocialLeisure ~ SIPS_Positive + Group, data = raw)\n",
    "%R print (summary(lm8))"
   ]
  },
  {
   "cell_type": "code",
   "execution_count": 113,
   "metadata": {},
   "outputs": [
    {
     "data": {
      "text/plain": [
       "\n",
       "Call:\n",
       "lm(formula = SocAdjScale_SocialLeisure ~ Present_Clinical + Group, \n",
       "    data = raw)\n",
       "\n",
       "Residuals:\n",
       "    Min      1Q  Median      3Q     Max \n",
       "-21.680  -6.938  -2.809   6.354  34.320 \n",
       "\n",
       "Coefficients:\n",
       "                 Estimate Std. Error t value Pr(>|t|)    \n",
       "(Intercept)        58.276      3.332  17.491  < 2e-16 ***\n",
       "Present_Clinical    6.773      4.301   1.575  0.11908    \n",
       "GroupFHR          -12.402      4.317  -2.873  0.00514 ** \n",
       "GroupHC            -6.338      3.917  -1.618  0.10932    \n",
       "GroupSZ            -1.368      4.764  -0.287  0.77462    \n",
       "---\n",
       "Signif. codes:  0 ‘***’ 0.001 ‘**’ 0.01 ‘*’ 0.05 ‘.’ 0.1 ‘ ’ 1\n",
       "\n",
       "Residual standard error: 11.65 on 85 degrees of freedom\n",
       "  (20 observations deleted due to missingness)\n",
       "Multiple R-squared:  0.2175,\tAdjusted R-squared:  0.1806 \n",
       "F-statistic: 5.905 on 4 and 85 DF,  p-value: 0.0003052\n",
       "\n"
      ]
     },
     "metadata": {},
     "output_type": "display_data"
    }
   ],
   "source": [
    "%R lm9 = lm(SocAdjScale_SocialLeisure ~ Present_Clinical + Group, data = raw)\n",
    "%R print (summary(lm9))"
   ]
  },
  {
   "cell_type": "code",
   "execution_count": null,
   "metadata": {
    "collapsed": true
   },
   "outputs": [],
   "source": []
  }
 ],
 "metadata": {
  "kernelspec": {
   "display_name": "Python 2",
   "language": "python",
   "name": "python2"
  },
  "language_info": {
   "codemirror_mode": {
    "name": "ipython",
    "version": 2
   },
   "file_extension": ".py",
   "mimetype": "text/x-python",
   "name": "python",
   "nbconvert_exporter": "python",
   "pygments_lexer": "ipython2",
   "version": "2.7.13"
  }
 },
 "nbformat": 4,
 "nbformat_minor": 1
}
