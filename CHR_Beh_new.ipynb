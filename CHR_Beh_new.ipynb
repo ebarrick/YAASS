{
 "cells": [
  {
   "cell_type": "markdown",
   "metadata": {},
   "source": [
    "# New Analyses: YAASS and SCORE"
   ]
  },
  {
   "cell_type": "markdown",
   "metadata": {},
   "source": [
    "### The dataset below includes demographic information and multiple clinical measures taken in 3 populations: healthy controls, those at clinical high risk for psychosis, and those diagnosed with schizophrenia. This is a follow-up to the YAASS.ipynb with FHR removed due to missing clinical measures."
   ]
  },
  {
   "cell_type": "code",
   "execution_count": 1,
   "metadata": {
    "collapsed": true
   },
   "outputs": [],
   "source": [
    "# Get the username and use that to set-up paths to data and figures\n",
    "uname  = !whoami\n",
    "uname = uname[0]\n",
    "path2code = '/Users/' + uname + '/Work/Expts/Code/'\n",
    "path2data = '/Users/' + uname + '/Work/Expts/YAASS/Data/'\n",
    "path2analysis = '/Users/' + uname + '/Work/Expts/YAASS/Analysis/'\n",
    "path2figs = '/Users/' + uname + '/Work/Expts/SOURCE/Analysis/Figures/'"
   ]
  },
  {
   "cell_type": "code",
   "execution_count": 2,
   "metadata": {
    "collapsed": false
   },
   "outputs": [
    {
     "name": "stdout",
     "output_type": "stream",
     "text": [
      "/Users/elyssabarrick/Work/Expts/Code\n"
     ]
    },
    {
     "data": {
      "text/plain": [
       "array(['scales', 'vcd', 'grid', 'QuantPsyc', 'MASS', 'boot', 'afex',\n",
       "       'reshape2', 'effsize', 'lsmeans', 'estimability', 'lmerTest',\n",
       "       'lme4', 'Matrix', 'tools', 'stats', 'graphics', 'grDevices',\n",
       "       'utils', 'datasets', 'methods', 'base'], \n",
       "      dtype='<U12')"
      ]
     },
     "execution_count": 2,
     "metadata": {},
     "output_type": "execute_result"
    }
   ],
   "source": [
    "%cd {path2code}\n",
    "\n",
    "import csv, misc, os, random, re, SelfRep\n",
    "import numpy as np\n",
    "import pandas as pd\n",
    "import seaborn as sns\n",
    "import scipy as sp\n",
    "from scipy import stats\n",
    "from scipy.stats import zscore\n",
    "from matplotlib import pyplot as plt\n",
    "%matplotlib inline\n",
    "%load_ext rpy2.ipython\n",
    "\n",
    "%R suppressMessages(library('lmerTest'))\n",
    "%R suppressMessages(library('lsmeans'))\n",
    "%R lsm.options(disable.pbkrtest=TRUE)\n",
    "%R suppressMessages(library('effsize')) # Can use this to estimate Cohen's d\n",
    "%R suppressMessages(library('afex'))\n",
    "%R suppressMessages(library('QuantPsyc')) #helpful for extracting betas from hierarchical regresssions\n",
    "%R suppressMessages(library('vcd')) # useful for getting effect sizes from chi-square tests\n",
    "%R suppressMessages(library('scales'))"
   ]
  },
  {
   "cell_type": "markdown",
   "metadata": {},
   "source": [
    "# Dataframe"
   ]
  },
  {
   "cell_type": "code",
   "execution_count": 6,
   "metadata": {
    "collapsed": true
   },
   "outputs": [],
   "source": [
    "#Load in SHL dataframe containing SCORE and YAASS data\n",
    "beh = pd.read_csv(path2data + 'BehavioralData_05.22.17.csv')"
   ]
  },
  {
   "cell_type": "code",
   "execution_count": 43,
   "metadata": {
    "collapsed": false
   },
   "outputs": [
    {
     "data": {
      "text/html": [
       "<div>\n",
       "<table border=\"1\" class=\"dataframe\">\n",
       "  <thead>\n",
       "    <tr style=\"text-align: right;\">\n",
       "      <th></th>\n",
       "      <th>ID</th>\n",
       "      <th>Group</th>\n",
       "      <th>Gender</th>\n",
       "      <th>Age</th>\n",
       "      <th>Education</th>\n",
       "      <th>Ethnicity</th>\n",
       "      <th>IQ</th>\n",
       "      <th>DSMDisorder</th>\n",
       "      <th>DSMDisorderType</th>\n",
       "      <th>DSMcomorbidities</th>\n",
       "      <th>...</th>\n",
       "      <th>PANAS_PA</th>\n",
       "      <th>SIPS_Disorganized</th>\n",
       "      <th>SIPS_General</th>\n",
       "      <th>SIPS_Negative</th>\n",
       "      <th>SIPS_Positive</th>\n",
       "      <th>SocAdjScale_SocialLeisure</th>\n",
       "      <th>SocAdjScale_Work</th>\n",
       "      <th>GFS_Role</th>\n",
       "      <th>GFS_Social</th>\n",
       "      <th>Present_Clinical</th>\n",
       "    </tr>\n",
       "  </thead>\n",
       "  <tbody>\n",
       "    <tr>\n",
       "      <th>0</th>\n",
       "      <td>27105</td>\n",
       "      <td>SZ</td>\n",
       "      <td>male</td>\n",
       "      <td>45</td>\n",
       "      <td>16.0</td>\n",
       "      <td>1.0</td>\n",
       "      <td>117.0</td>\n",
       "      <td>NaN</td>\n",
       "      <td>NaN</td>\n",
       "      <td>NaN</td>\n",
       "      <td>...</td>\n",
       "      <td>25.0</td>\n",
       "      <td>NaN</td>\n",
       "      <td>NaN</td>\n",
       "      <td>NaN</td>\n",
       "      <td>NaN</td>\n",
       "      <td>42.0</td>\n",
       "      <td>0.0</td>\n",
       "      <td>2.0</td>\n",
       "      <td>7.0</td>\n",
       "      <td>1.0</td>\n",
       "    </tr>\n",
       "    <tr>\n",
       "      <th>1</th>\n",
       "      <td>27108</td>\n",
       "      <td>SZ</td>\n",
       "      <td>male</td>\n",
       "      <td>32</td>\n",
       "      <td>16.0</td>\n",
       "      <td>1.0</td>\n",
       "      <td>106.0</td>\n",
       "      <td>NaN</td>\n",
       "      <td>NaN</td>\n",
       "      <td>NaN</td>\n",
       "      <td>...</td>\n",
       "      <td>38.0</td>\n",
       "      <td>NaN</td>\n",
       "      <td>NaN</td>\n",
       "      <td>NaN</td>\n",
       "      <td>NaN</td>\n",
       "      <td>61.0</td>\n",
       "      <td>58.0</td>\n",
       "      <td>7.0</td>\n",
       "      <td>7.0</td>\n",
       "      <td>1.0</td>\n",
       "    </tr>\n",
       "    <tr>\n",
       "      <th>2</th>\n",
       "      <td>27109</td>\n",
       "      <td>SZ</td>\n",
       "      <td>female</td>\n",
       "      <td>40</td>\n",
       "      <td>14.0</td>\n",
       "      <td>4.0</td>\n",
       "      <td>90.0</td>\n",
       "      <td>NaN</td>\n",
       "      <td>NaN</td>\n",
       "      <td>NaN</td>\n",
       "      <td>...</td>\n",
       "      <td>42.0</td>\n",
       "      <td>NaN</td>\n",
       "      <td>NaN</td>\n",
       "      <td>NaN</td>\n",
       "      <td>NaN</td>\n",
       "      <td>83.0</td>\n",
       "      <td>77.0</td>\n",
       "      <td>6.0</td>\n",
       "      <td>5.0</td>\n",
       "      <td>1.0</td>\n",
       "    </tr>\n",
       "  </tbody>\n",
       "</table>\n",
       "<p>3 rows × 31 columns</p>\n",
       "</div>"
      ],
      "text/plain": [
       "      ID Group  Gender  Age  Education  Ethnicity     IQ  DSMDisorder  \\\n",
       "0  27105    SZ    male   45       16.0        1.0  117.0          NaN   \n",
       "1  27108    SZ    male   32       16.0        1.0  106.0          NaN   \n",
       "2  27109    SZ  female   40       14.0        4.0   90.0          NaN   \n",
       "\n",
       "   DSMDisorderType  DSMcomorbidities        ...         PANAS_PA  \\\n",
       "0              NaN               NaN        ...             25.0   \n",
       "1              NaN               NaN        ...             38.0   \n",
       "2              NaN               NaN        ...             42.0   \n",
       "\n",
       "   SIPS_Disorganized  SIPS_General  SIPS_Negative  SIPS_Positive  \\\n",
       "0                NaN           NaN            NaN            NaN   \n",
       "1                NaN           NaN            NaN            NaN   \n",
       "2                NaN           NaN            NaN            NaN   \n",
       "\n",
       "   SocAdjScale_SocialLeisure  SocAdjScale_Work  GFS_Role  GFS_Social  \\\n",
       "0                       42.0               0.0       2.0         7.0   \n",
       "1                       61.0              58.0       7.0         7.0   \n",
       "2                       83.0              77.0       6.0         5.0   \n",
       "\n",
       "   Present_Clinical  \n",
       "0               1.0  \n",
       "1               1.0  \n",
       "2               1.0  \n",
       "\n",
       "[3 rows x 31 columns]"
      ]
     },
     "execution_count": 43,
     "metadata": {},
     "output_type": "execute_result"
    }
   ],
   "source": [
    "beh.head(3)"
   ]
  },
  {
   "cell_type": "code",
   "execution_count": null,
   "metadata": {
    "collapsed": true
   },
   "outputs": [],
   "source": []
  },
  {
   "cell_type": "code",
   "execution_count": 10,
   "metadata": {
    "collapsed": false
   },
   "outputs": [],
   "source": [
    "#Load in SCORE PANSS data\n",
    "sx_SZ = pd.read_excel(path2data + 'PANSS_SCORE.xlsx', sheetname='EB')"
   ]
  },
  {
   "cell_type": "code",
   "execution_count": 44,
   "metadata": {
    "collapsed": false
   },
   "outputs": [
    {
     "data": {
      "text/html": [
       "<div>\n",
       "<table border=\"1\" class=\"dataframe\">\n",
       "  <thead>\n",
       "    <tr style=\"text-align: right;\">\n",
       "      <th></th>\n",
       "      <th>ID</th>\n",
       "      <th>PANSS_PA</th>\n",
       "      <th>PANSS_NA</th>\n",
       "      <th>PANSS_DA</th>\n",
       "      <th>PANSS_EA</th>\n",
       "      <th>PANSS_Dep_Anx</th>\n",
       "      <th>PANSS_Other</th>\n",
       "    </tr>\n",
       "  </thead>\n",
       "  <tbody>\n",
       "    <tr>\n",
       "      <th>0</th>\n",
       "      <td>27105</td>\n",
       "      <td>4.4</td>\n",
       "      <td>1.571429</td>\n",
       "      <td>2.8</td>\n",
       "      <td>2.0</td>\n",
       "      <td>1.50</td>\n",
       "      <td>1.3</td>\n",
       "    </tr>\n",
       "    <tr>\n",
       "      <th>1</th>\n",
       "      <td>27108</td>\n",
       "      <td>3.2</td>\n",
       "      <td>2.142857</td>\n",
       "      <td>1.0</td>\n",
       "      <td>1.0</td>\n",
       "      <td>2.00</td>\n",
       "      <td>1.2</td>\n",
       "    </tr>\n",
       "    <tr>\n",
       "      <th>2</th>\n",
       "      <td>27109</td>\n",
       "      <td>1.6</td>\n",
       "      <td>1.428571</td>\n",
       "      <td>1.0</td>\n",
       "      <td>1.0</td>\n",
       "      <td>1.25</td>\n",
       "      <td>1.4</td>\n",
       "    </tr>\n",
       "  </tbody>\n",
       "</table>\n",
       "</div>"
      ],
      "text/plain": [
       "      ID  PANSS_PA  PANSS_NA  PANSS_DA  PANSS_EA  PANSS_Dep_Anx  PANSS_Other\n",
       "0  27105       4.4  1.571429       2.8       2.0           1.50          1.3\n",
       "1  27108       3.2  2.142857       1.0       1.0           2.00          1.2\n",
       "2  27109       1.6  1.428571       1.0       1.0           1.25          1.4"
      ]
     },
     "execution_count": 44,
     "metadata": {},
     "output_type": "execute_result"
    }
   ],
   "source": [
    "sx_SZ.head(3)"
   ]
  },
  {
   "cell_type": "code",
   "execution_count": null,
   "metadata": {
    "collapsed": true
   },
   "outputs": [],
   "source": []
  },
  {
   "cell_type": "code",
   "execution_count": 35,
   "metadata": {
    "collapsed": false
   },
   "outputs": [],
   "source": [
    "#Load in YAASS PANSS data\n",
    "sx_chr = pd.read_excel(path2data + 'YAASS_Clinical_Data.xls', sheetname='EB')"
   ]
  },
  {
   "cell_type": "code",
   "execution_count": 45,
   "metadata": {
    "collapsed": false
   },
   "outputs": [
    {
     "data": {
      "text/html": [
       "<div>\n",
       "<table border=\"1\" class=\"dataframe\">\n",
       "  <thead>\n",
       "    <tr style=\"text-align: right;\">\n",
       "      <th></th>\n",
       "      <th>ID</th>\n",
       "      <th>PANSS_PA</th>\n",
       "      <th>PANSS_NA</th>\n",
       "      <th>PANSS_DA</th>\n",
       "      <th>PANSS_EA</th>\n",
       "      <th>PANSS_Dep_Anx</th>\n",
       "      <th>PANSS_Other</th>\n",
       "    </tr>\n",
       "  </thead>\n",
       "  <tbody>\n",
       "    <tr>\n",
       "      <th>0</th>\n",
       "      <td>26102</td>\n",
       "      <td>10.0</td>\n",
       "      <td>7.0</td>\n",
       "      <td>5.0</td>\n",
       "      <td>4.0</td>\n",
       "      <td>9.0</td>\n",
       "      <td>13.0</td>\n",
       "    </tr>\n",
       "    <tr>\n",
       "      <th>1</th>\n",
       "      <td>26104</td>\n",
       "      <td>12.0</td>\n",
       "      <td>7.0</td>\n",
       "      <td>5.0</td>\n",
       "      <td>4.0</td>\n",
       "      <td>5.0</td>\n",
       "      <td>10.0</td>\n",
       "    </tr>\n",
       "    <tr>\n",
       "      <th>2</th>\n",
       "      <td>26105</td>\n",
       "      <td>5.0</td>\n",
       "      <td>7.0</td>\n",
       "      <td>5.0</td>\n",
       "      <td>4.0</td>\n",
       "      <td>4.0</td>\n",
       "      <td>10.0</td>\n",
       "    </tr>\n",
       "  </tbody>\n",
       "</table>\n",
       "</div>"
      ],
      "text/plain": [
       "      ID  PANSS_PA  PANSS_NA  PANSS_DA  PANSS_EA  PANSS_Dep_Anx  PANSS_Other\n",
       "0  26102      10.0       7.0       5.0       4.0            9.0         13.0\n",
       "1  26104      12.0       7.0       5.0       4.0            5.0         10.0\n",
       "2  26105       5.0       7.0       5.0       4.0            4.0         10.0"
      ]
     },
     "execution_count": 45,
     "metadata": {},
     "output_type": "execute_result"
    }
   ],
   "source": [
    "sx_chr.head(3)"
   ]
  },
  {
   "cell_type": "code",
   "execution_count": 37,
   "metadata": {
    "collapsed": true
   },
   "outputs": [],
   "source": [
    "#Join the 2 PANSS dataframes\n",
    "s = pd.concat([sx_SZ, sx_chr])"
   ]
  },
  {
   "cell_type": "code",
   "execution_count": 46,
   "metadata": {
    "collapsed": false
   },
   "outputs": [
    {
     "data": {
      "text/html": [
       "<div>\n",
       "<table border=\"1\" class=\"dataframe\">\n",
       "  <thead>\n",
       "    <tr style=\"text-align: right;\">\n",
       "      <th></th>\n",
       "      <th>ID</th>\n",
       "      <th>PANSS_PA</th>\n",
       "      <th>PANSS_NA</th>\n",
       "      <th>PANSS_DA</th>\n",
       "      <th>PANSS_EA</th>\n",
       "      <th>PANSS_Dep_Anx</th>\n",
       "      <th>PANSS_Other</th>\n",
       "    </tr>\n",
       "  </thead>\n",
       "  <tbody>\n",
       "    <tr>\n",
       "      <th>0</th>\n",
       "      <td>27105</td>\n",
       "      <td>4.4</td>\n",
       "      <td>1.571429</td>\n",
       "      <td>2.8</td>\n",
       "      <td>2.0</td>\n",
       "      <td>1.50</td>\n",
       "      <td>1.3</td>\n",
       "    </tr>\n",
       "    <tr>\n",
       "      <th>1</th>\n",
       "      <td>27108</td>\n",
       "      <td>3.2</td>\n",
       "      <td>2.142857</td>\n",
       "      <td>1.0</td>\n",
       "      <td>1.0</td>\n",
       "      <td>2.00</td>\n",
       "      <td>1.2</td>\n",
       "    </tr>\n",
       "    <tr>\n",
       "      <th>2</th>\n",
       "      <td>27109</td>\n",
       "      <td>1.6</td>\n",
       "      <td>1.428571</td>\n",
       "      <td>1.0</td>\n",
       "      <td>1.0</td>\n",
       "      <td>1.25</td>\n",
       "      <td>1.4</td>\n",
       "    </tr>\n",
       "  </tbody>\n",
       "</table>\n",
       "</div>"
      ],
      "text/plain": [
       "      ID  PANSS_PA  PANSS_NA  PANSS_DA  PANSS_EA  PANSS_Dep_Anx  PANSS_Other\n",
       "0  27105       4.4  1.571429       2.8       2.0           1.50          1.3\n",
       "1  27108       3.2  2.142857       1.0       1.0           2.00          1.2\n",
       "2  27109       1.6  1.428571       1.0       1.0           1.25          1.4"
      ]
     },
     "execution_count": 46,
     "metadata": {},
     "output_type": "execute_result"
    }
   ],
   "source": [
    "s.head(3)"
   ]
  },
  {
   "cell_type": "code",
   "execution_count": null,
   "metadata": {
    "collapsed": true
   },
   "outputs": [],
   "source": []
  },
  {
   "cell_type": "code",
   "execution_count": 50,
   "metadata": {
    "collapsed": true
   },
   "outputs": [],
   "source": [
    "#Merge PANSS dataframe with SHL dataframe to have all scores together\n",
    "raw = pd.merge(beh, s, on='ID')"
   ]
  },
  {
   "cell_type": "code",
   "execution_count": 51,
   "metadata": {
    "collapsed": false
   },
   "outputs": [
    {
     "data": {
      "text/html": [
       "<div>\n",
       "<table border=\"1\" class=\"dataframe\">\n",
       "  <thead>\n",
       "    <tr style=\"text-align: right;\">\n",
       "      <th></th>\n",
       "      <th>ID</th>\n",
       "      <th>Group</th>\n",
       "      <th>Gender</th>\n",
       "      <th>Age</th>\n",
       "      <th>Education</th>\n",
       "      <th>Ethnicity</th>\n",
       "      <th>IQ</th>\n",
       "      <th>DSMDisorder</th>\n",
       "      <th>DSMDisorderType</th>\n",
       "      <th>DSMcomorbidities</th>\n",
       "      <th>...</th>\n",
       "      <th>SocAdjScale_Work</th>\n",
       "      <th>GFS_Role</th>\n",
       "      <th>GFS_Social</th>\n",
       "      <th>Present_Clinical</th>\n",
       "      <th>PANSS_PA</th>\n",
       "      <th>PANSS_NA</th>\n",
       "      <th>PANSS_DA</th>\n",
       "      <th>PANSS_EA</th>\n",
       "      <th>PANSS_Dep_Anx</th>\n",
       "      <th>PANSS_Other</th>\n",
       "    </tr>\n",
       "  </thead>\n",
       "  <tbody>\n",
       "    <tr>\n",
       "      <th>0</th>\n",
       "      <td>27105</td>\n",
       "      <td>SZ</td>\n",
       "      <td>male</td>\n",
       "      <td>45</td>\n",
       "      <td>16.0</td>\n",
       "      <td>1.0</td>\n",
       "      <td>117.0</td>\n",
       "      <td>NaN</td>\n",
       "      <td>NaN</td>\n",
       "      <td>NaN</td>\n",
       "      <td>...</td>\n",
       "      <td>0.0</td>\n",
       "      <td>2.0</td>\n",
       "      <td>7.0</td>\n",
       "      <td>1.0</td>\n",
       "      <td>4.4</td>\n",
       "      <td>1.571429</td>\n",
       "      <td>2.8</td>\n",
       "      <td>2.0</td>\n",
       "      <td>1.50</td>\n",
       "      <td>1.3</td>\n",
       "    </tr>\n",
       "    <tr>\n",
       "      <th>1</th>\n",
       "      <td>27108</td>\n",
       "      <td>SZ</td>\n",
       "      <td>male</td>\n",
       "      <td>32</td>\n",
       "      <td>16.0</td>\n",
       "      <td>1.0</td>\n",
       "      <td>106.0</td>\n",
       "      <td>NaN</td>\n",
       "      <td>NaN</td>\n",
       "      <td>NaN</td>\n",
       "      <td>...</td>\n",
       "      <td>58.0</td>\n",
       "      <td>7.0</td>\n",
       "      <td>7.0</td>\n",
       "      <td>1.0</td>\n",
       "      <td>3.2</td>\n",
       "      <td>2.142857</td>\n",
       "      <td>1.0</td>\n",
       "      <td>1.0</td>\n",
       "      <td>2.00</td>\n",
       "      <td>1.2</td>\n",
       "    </tr>\n",
       "    <tr>\n",
       "      <th>2</th>\n",
       "      <td>27109</td>\n",
       "      <td>SZ</td>\n",
       "      <td>female</td>\n",
       "      <td>40</td>\n",
       "      <td>14.0</td>\n",
       "      <td>4.0</td>\n",
       "      <td>90.0</td>\n",
       "      <td>NaN</td>\n",
       "      <td>NaN</td>\n",
       "      <td>NaN</td>\n",
       "      <td>...</td>\n",
       "      <td>77.0</td>\n",
       "      <td>6.0</td>\n",
       "      <td>5.0</td>\n",
       "      <td>1.0</td>\n",
       "      <td>1.6</td>\n",
       "      <td>1.428571</td>\n",
       "      <td>1.0</td>\n",
       "      <td>1.0</td>\n",
       "      <td>1.25</td>\n",
       "      <td>1.4</td>\n",
       "    </tr>\n",
       "  </tbody>\n",
       "</table>\n",
       "<p>3 rows × 37 columns</p>\n",
       "</div>"
      ],
      "text/plain": [
       "      ID Group  Gender  Age  Education  Ethnicity     IQ  DSMDisorder  \\\n",
       "0  27105    SZ    male   45       16.0        1.0  117.0          NaN   \n",
       "1  27108    SZ    male   32       16.0        1.0  106.0          NaN   \n",
       "2  27109    SZ  female   40       14.0        4.0   90.0          NaN   \n",
       "\n",
       "   DSMDisorderType  DSMcomorbidities     ...       SocAdjScale_Work  GFS_Role  \\\n",
       "0              NaN               NaN     ...                    0.0       2.0   \n",
       "1              NaN               NaN     ...                   58.0       7.0   \n",
       "2              NaN               NaN     ...                   77.0       6.0   \n",
       "\n",
       "   GFS_Social  Present_Clinical  PANSS_PA  PANSS_NA  PANSS_DA  PANSS_EA  \\\n",
       "0         7.0               1.0       4.4  1.571429       2.8       2.0   \n",
       "1         7.0               1.0       3.2  2.142857       1.0       1.0   \n",
       "2         5.0               1.0       1.6  1.428571       1.0       1.0   \n",
       "\n",
       "   PANSS_Dep_Anx  PANSS_Other  \n",
       "0           1.50          1.3  \n",
       "1           2.00          1.2  \n",
       "2           1.25          1.4  \n",
       "\n",
       "[3 rows x 37 columns]"
      ]
     },
     "execution_count": 51,
     "metadata": {},
     "output_type": "execute_result"
    }
   ],
   "source": [
    "raw.head(3)"
   ]
  },
  {
   "cell_type": "code",
   "execution_count": 52,
   "metadata": {
    "collapsed": false
   },
   "outputs": [
    {
     "data": {
      "text/plain": [
       "Index(['ID', 'Group', 'Gender', 'Age', 'Education', 'Ethnicity', 'IQ',\n",
       "       'DSMDisorder', 'DSMDisorderType', 'DSMcomorbidities', 'IRI_EC_total',\n",
       "       'IRI_FS_total', 'IRI_PD_total', 'IRI_PT_total', 'Chapman_MIS',\n",
       "       'Chapman_PAS', 'Chapman_PhAS', 'Chapman_RTS', 'Chapman_SocAnh',\n",
       "       'Medication', 'PANAS_NA', 'PANAS_PA', 'SIPS_Disorganized',\n",
       "       'SIPS_General', 'SIPS_Negative', 'SIPS_Positive',\n",
       "       'SocAdjScale_SocialLeisure', 'SocAdjScale_Work', 'GFS_Role',\n",
       "       'GFS_Social', 'Present_Clinical', 'PANSS_PA', 'PANSS_NA', 'PANSS_DA',\n",
       "       'PANSS_EA', 'PANSS_Dep_Anx', 'PANSS_Other'],\n",
       "      dtype='object')"
      ]
     },
     "execution_count": 52,
     "metadata": {},
     "output_type": "execute_result"
    }
   ],
   "source": [
    "raw.columns"
   ]
  },
  {
   "cell_type": "code",
   "execution_count": null,
   "metadata": {
    "collapsed": false
   },
   "outputs": [],
   "source": []
  },
  {
   "cell_type": "code",
   "execution_count": 54,
   "metadata": {
    "collapsed": false,
    "scrolled": true
   },
   "outputs": [
    {
     "data": {
      "text/plain": [
       "'data.frame':\t73 obs. of  37 variables:\n",
       " $ ID                       : int  27105 27108 27109 27115 27116 27117 27128 27136 27142 27148 ...\n",
       " $ Group                    : Factor w/ 3 levels \"CHR\",\"HC\",\"SZ\": 3 3 3 3 3 3 3 3 3 3 ...\n",
       " $ Gender                   : Factor w/ 2 levels \"female\",\"male\": 2 2 1 2 1 2 1 2 1 2 ...\n",
       " $ Age                      : int  45 32 40 42 53 53 34 24 58 38 ...\n",
       " $ Education                : num  16 16 14 13 14 14 14 16 12 18 ...\n",
       " $ Ethnicity                : num  1 1 4 1 1 1 2 2 1 1 ...\n",
       " $ IQ                       : num  117 106 90 108 102 121 85 125 111 99 ...\n",
       " $ DSMDisorder              : num  NaN NaN NaN NaN NaN NaN NaN NaN NaN NaN ...\n",
       " $ DSMDisorderType          : num  NaN NaN NaN NaN NaN NaN NaN NaN NaN NaN ...\n",
       " $ DSMcomorbidities         : num  NaN NaN NaN NaN NaN NaN NaN NaN NaN NaN ...\n",
       " $ IRI_EC_total             : num  29 42 34 32 29 NaN 37 35 41 31 ...\n",
       " $ IRI_FS_total             : num  30 29 21 25 35 NaN 25 25 42 15 ...\n",
       " $ IRI_PD_total             : num  15 13 12 21 24 NaN 8 24 17 8 ...\n",
       " $ IRI_PT_total             : num  33 23 35 34 27 NaN 32 31 37 32 ...\n",
       " $ Chapman_MIS              : num  15 7 7 NaN 6 NaN 10 11 14 6 ...\n",
       " $ Chapman_PAS              : num  6 8 2 NaN 3 NaN 15 8 13 1 ...\n",
       " $ Chapman_PhAS             : num  7 10 6 NaN 17 NaN 18 13 4 10 ...\n",
       " $ Chapman_RTS              : num  4 0 2 NaN 17 NaN 14 8 14 2 ...\n",
       " $ Chapman_SocAnh           : num  10 11 4 6 28 NaN 11 16 12 8 ...\n",
       " $ Medication               : num  NaN NaN NaN NaN NaN NaN NaN NaN NaN NaN ...\n",
       " $ PANAS_NA                 : num  26 18 10 32 10 24 14 11 10 10 ...\n",
       " $ PANAS_PA                 : num  25 38 42 33 33 27 37 46 33 37 ...\n",
       " $ SIPS_Disorganized        : num  NaN NaN NaN NaN NaN NaN NaN NaN NaN NaN ...\n",
       " $ SIPS_General             : num  NaN NaN NaN NaN NaN NaN NaN NaN NaN NaN ...\n",
       " $ SIPS_Negative            : num  NaN NaN NaN NaN NaN NaN NaN NaN NaN NaN ...\n",
       " $ SIPS_Positive            : num  NaN NaN NaN NaN NaN NaN NaN NaN NaN NaN ...\n",
       " $ SocAdjScale_SocialLeisure: num  42 61 83 76 72 76 74 58 98 55 ...\n",
       " $ SocAdjScale_Work         : num  0 58 77 63 71 90 51 52 54 42 ...\n",
       " $ GFS_Role                 : num  2 7 6 4 3 5 5 7 3 7 ...\n",
       " $ GFS_Social               : num  7 7 5 6 5 3 6 6 3 6 ...\n",
       " $ Present_Clinical         : num  1 1 1 1 1 1 1 1 1 1 ...\n",
       " $ PANSS_PA                 : num  4.4 3.2 1.6 4.4 3.6 3.4 4.6 6 2.2 2.6 ...\n",
       " $ PANSS_NA                 : num  1.57 2.14 1.43 2.71 3.43 ...\n",
       " $ PANSS_DA                 : num  2.8 1 1 1 2 3.4 2.6 3 1 1 ...\n",
       " $ PANSS_EA                 : num  2 1 1 1.75 1 2 1 1 1 1.25 ...\n",
       " $ PANSS_Dep_Anx            : num  1.5 2 1.25 3.5 4.25 4 1.75 1.25 2.5 2.75 ...\n",
       " $ PANSS_Other              : num  1.3 1.2 1.4 1.6 2.3 2 1.9 1.5 1.2 1.5 ...\n"
      ]
     },
     "metadata": {},
     "output_type": "display_data"
    }
   ],
   "source": [
    "#Push dataframe to R to conduct statistical analyses\n",
    "%Rpush raw\n",
    "%R str(raw)"
   ]
  },
  {
   "cell_type": "code",
   "execution_count": null,
   "metadata": {
    "collapsed": true
   },
   "outputs": [],
   "source": []
  },
  {
   "cell_type": "markdown",
   "metadata": {},
   "source": [
    "# Demographics"
   ]
  },
  {
   "cell_type": "code",
   "execution_count": 55,
   "metadata": {
    "collapsed": false
   },
   "outputs": [
    {
     "name": "stdout",
     "output_type": "stream",
     "text": [
      "Total Group Count\n"
     ]
    },
    {
     "data": {
      "text/plain": [
       "Group\n",
       "CHR    26\n",
       "HC     21\n",
       "SZ     26\n",
       "Name: ID, dtype: int64"
      ]
     },
     "execution_count": 55,
     "metadata": {},
     "output_type": "execute_result"
    }
   ],
   "source": [
    "print ('Total Group Count')\n",
    "raw.groupby('Group')['ID'].nunique()"
   ]
  },
  {
   "cell_type": "code",
   "execution_count": 57,
   "metadata": {
    "collapsed": false
   },
   "outputs": [
    {
     "name": "stdout",
     "output_type": "stream",
     "text": [
      "Gender by Group\n"
     ]
    },
    {
     "data": {
      "text/plain": [
       "Group  Gender\n",
       "CHR    male      17\n",
       "       female     9\n",
       "HC     female    11\n",
       "       male      10\n",
       "SZ     male      16\n",
       "       female    10\n",
       "dtype: int64"
      ]
     },
     "execution_count": 57,
     "metadata": {},
     "output_type": "execute_result"
    }
   ],
   "source": [
    "print ('Gender by Group')\n",
    "raw.groupby('Group')['Gender'].value_counts()"
   ]
  },
  {
   "cell_type": "code",
   "execution_count": 76,
   "metadata": {
    "collapsed": false
   },
   "outputs": [
    {
     "name": "stdout",
     "output_type": "stream",
     "text": [
      "Age by Group\n",
      "Group       \n",
      "CHR    count    26.000000\n",
      "       mean     21.846154\n",
      "       std       4.342279\n",
      "       min      15.000000\n",
      "       25%      18.250000\n",
      "       50%      22.000000\n",
      "       75%      23.750000\n",
      "       max      34.000000\n",
      "HC     count    21.000000\n",
      "       mean     22.857143\n",
      "       std       4.053217\n",
      "       min      18.000000\n",
      "       25%      20.000000\n",
      "       50%      22.000000\n",
      "       75%      24.000000\n",
      "       max      33.000000\n",
      "SZ     count    26.000000\n",
      "       mean     38.692308\n",
      "       std      10.279180\n",
      "       min      21.000000\n",
      "       25%      31.250000\n",
      "       50%      38.500000\n",
      "       75%      44.750000\n",
      "       max      58.000000\n",
      "dtype: float64\n"
     ]
    },
    {
     "data": {
      "text/plain": [
       "<matplotlib.axes._subplots.AxesSubplot at 0x128613400>"
      ]
     },
     "execution_count": 76,
     "metadata": {},
     "output_type": "execute_result"
    },
    {
     "data": {
      "image/png": "[encoded data removed]",
      "text/plain": [
       "<matplotlib.figure.Figure at 0x1288112e8>"
      ]
     },
     "metadata": {},
     "output_type": "display_data"
    }
   ],
   "source": [
    "print ('Age by Group')\n",
    "g=raw.groupby('Group')\n",
    "print (g.Age.describe())\n",
    "\n",
    "sns.boxplot(x='Group',y='Age',data=raw)"
   ]
  },
  {
   "cell_type": "code",
   "execution_count": 59,
   "metadata": {
    "collapsed": true
   },
   "outputs": [],
   "source": [
    "\"\"\"Dataframe dropping participants without an IQ value\"\"\"\n",
    "raw_IQ = raw[np.isfinite(raw['IQ'])]"
   ]
  },
  {
   "cell_type": "code",
   "execution_count": 63,
   "metadata": {
    "collapsed": false
   },
   "outputs": [
    {
     "name": "stdout",
     "output_type": "stream",
     "text": [
      "Group\n",
      "CHR    106.791667\n",
      "HC     115.476190\n",
      "SZ     108.076923\n",
      "Name: IQ, dtype: float64\n",
      "ANOVA for IQ x Group\n"
     ]
    },
    {
     "data": {
      "text/plain": [
       "            Df Sum Sq Mean Sq F value Pr(>F)\n",
       "Group        2    971   485.5   2.352  0.103\n",
       "Residuals   68  14035   206.4               \n",
       "2 observations deleted due to missingness\n"
      ]
     },
     "metadata": {},
     "output_type": "display_data"
    },
    {
     "data": {
      "image/png": "[encoded data removed]",
      "text/plain": [
       "<matplotlib.figure.Figure at 0x122ef60b8>"
      ]
     },
     "metadata": {},
     "output_type": "display_data"
    }
   ],
   "source": [
    "i = raw_IQ.groupby('Group')\n",
    "\n",
    "print (i.IQ.mean())\n",
    "\n",
    "sns.boxplot(x='Group',y='IQ',data=raw_IQ)\n",
    "\n",
    "%Rpush raw_IQ\n",
    "print ('ANOVA for IQ x Group')\n",
    "%R iq.aov <- aov(IQ ~ Group, data=raw)\n",
    "%R print (summary(iq.aov))"
   ]
  },
  {
   "cell_type": "code",
   "execution_count": null,
   "metadata": {
    "collapsed": true
   },
   "outputs": [],
   "source": []
  },
  {
   "cell_type": "markdown",
   "metadata": {},
   "source": [
    "# Measures"
   ]
  },
  {
   "cell_type": "markdown",
   "metadata": {},
   "source": [
    "## Global Functioning Scale (name?)"
   ]
  },
  {
   "cell_type": "code",
   "execution_count": 78,
   "metadata": {
    "collapsed": false
   },
   "outputs": [
    {
     "data": {
      "text/plain": [
       "<matplotlib.text.Text at 0x128ef5860>"
      ]
     },
     "execution_count": 78,
     "metadata": {},
     "output_type": "execute_result"
    },
    {
     "data": {
      "image/png": "[encoded data removed]",
      "text/plain": [
       "<matplotlib.figure.Figure at 0x128ef5f98>"
      ]
     },
     "metadata": {},
     "output_type": "display_data"
    }
   ],
   "source": [
    "sns.factorplot(y='GFS_Role',x='Group',units='ID',ci=68,kind='bar',data=raw)\n",
    "plt.subplots_adjust(top=0.9)\n",
    "sns.plt.suptitle('GFS Role', fontsize=14)"
   ]
  },
  {
   "cell_type": "code",
   "execution_count": 79,
   "metadata": {
    "collapsed": false
   },
   "outputs": [
    {
     "data": {
      "text/plain": [
       "<matplotlib.text.Text at 0x1284387f0>"
      ]
     },
     "execution_count": 79,
     "metadata": {},
     "output_type": "execute_result"
    },
    {
     "data": {
      "image/png": "[encoded data removed]",
      "text/plain": [
       "<matplotlib.figure.Figure at 0x128008550>"
      ]
     },
     "metadata": {},
     "output_type": "display_data"
    }
   ],
   "source": [
    "sns.factorplot(y='GFS_Social',x='Group',units='ID',ci=68,kind='bar',data=raw)\n",
    "\n",
    "plt.subplots_adjust(top=0.9)\n",
    "sns.plt.suptitle('GFS Social', fontsize=14)"
   ]
  },
  {
   "cell_type": "markdown",
   "metadata": {},
   "source": [
    " "
   ]
  },
  {
   "cell_type": "markdown",
   "metadata": {},
   "source": [
    "## Social Adjustment Scale"
   ]
  },
  {
   "cell_type": "code",
   "execution_count": 73,
   "metadata": {
    "collapsed": false
   },
   "outputs": [
    {
     "name": "stdout",
     "output_type": "stream",
     "text": [
      "SAS Social Leisure Mean\n",
      "Group\n",
      "CHR    62.772727\n",
      "HC     48.444444\n",
      "SZ     63.680000\n",
      "Name: SocAdjScale_SocialLeisure, dtype: float64\n"
     ]
    }
   ],
   "source": [
    "x = raw.groupby('Group')\n",
    "\n",
    "print('SAS Social Leisure Mean')\n",
    "print(x.SocAdjScale_SocialLeisure.mean())"
   ]
  },
  {
   "cell_type": "code",
   "execution_count": 89,
   "metadata": {
    "collapsed": false,
    "scrolled": false
   },
   "outputs": [
    {
     "name": "stdout",
     "output_type": "stream",
     "text": [
      "ANOVA on SAS Social Leisure x Group\n"
     ]
    },
    {
     "data": {
      "text/plain": [
       "            Df Sum Sq Mean Sq F value   Pr(>F)    \n",
       "Group        2   2865    1432   10.45 0.000122 ***\n",
       "Residuals   62   8496     137                     \n",
       "---\n",
       "Signif. codes:  0 ‘***’ 0.001 ‘**’ 0.01 ‘*’ 0.05 ‘.’ 0.1 ‘ ’ 1\n",
       "8 observations deleted due to missingness\n"
      ]
     },
     "metadata": {},
     "output_type": "display_data"
    },
    {
     "data": {
      "image/png": "[encoded data removed]",
      "text/plain": [
       "<matplotlib.figure.Figure at 0x12aaa8208>"
      ]
     },
     "metadata": {},
     "output_type": "display_data"
    }
   ],
   "source": [
    "sns.factorplot(y='SocAdjScale_SocialLeisure',x='Group',units='ID',ci=68,kind='bar',data=raw)\n",
    "\n",
    "plt.subplots_adjust(top=0.9)\n",
    "sns.plt.suptitle('Social Adjustment Scale: Social Lerisure', fontsize=14)\n",
    "\n",
    "print ('ANOVA on SAS Social Leisure x Group')\n",
    "\n",
    "\n",
    "%R sas_sl.aov <- aov(SocAdjScale_SocialLeisure ~ Group,data=raw)\n",
    "%R print (summary(sas_sl.aov))"
   ]
  },
  {
   "cell_type": "code",
   "execution_count": 90,
   "metadata": {
    "collapsed": false
   },
   "outputs": [
    {
     "data": {
      "text/plain": [
       "            Df Sum Sq Mean Sq F value Pr(>F)  \n",
       "Group        2   3939    1969   3.986 0.0235 *\n",
       "Residuals   62  30630     494                 \n",
       "---\n",
       "Signif. codes:  0 ‘***’ 0.001 ‘**’ 0.01 ‘*’ 0.05 ‘.’ 0.1 ‘ ’ 1\n",
       "8 observations deleted due to missingness\n"
      ]
     },
     "metadata": {},
     "output_type": "display_data"
    },
    {
     "data": {
      "image/png": "[encoded data removed]",
      "text/plain": [
       "<matplotlib.figure.Figure at 0x122e09ac8>"
      ]
     },
     "metadata": {},
     "output_type": "display_data"
    }
   ],
   "source": [
    "sns.factorplot(y='SocAdjScale_Work',x='Group',units='ID',ci=68,kind='bar',data=raw)\n",
    "plt.subplots_adjust(top=0.9)\n",
    "sns.plt.suptitle('Social Adjustment Scale: Work', fontsize=14)\n",
    "\n",
    "%R sas_w.aov <- aov(SocAdjScale_Work ~ Group,data=raw)\n",
    "%R print (summary(sas_w.aov))"
   ]
  },
  {
   "cell_type": "markdown",
   "metadata": {},
   "source": [
    " "
   ]
  },
  {
   "cell_type": "markdown",
   "metadata": {},
   "source": [
    "## Interpersonal Reactivity Index"
   ]
  },
  {
   "cell_type": "code",
   "execution_count": 67,
   "metadata": {
    "collapsed": false
   },
   "outputs": [
    {
     "name": "stdout",
     "output_type": "stream",
     "text": [
      "IRI_EC Mean\n",
      "Group\n",
      "CHR    28.500000\n",
      "HC     33.947368\n",
      "SZ     30.560000\n",
      "Name: IRI_EC_total, dtype: float64\n",
      "IRI_FS Mean\n",
      "Group\n",
      "CHR    28.291667\n",
      "HC     25.526316\n",
      "SZ     27.440000\n",
      "Name: IRI_FS_total, dtype: float64\n",
      "IRI_PD Mean\n",
      "Group\n",
      "CHR    22.333333\n",
      "HC     16.578947\n",
      "SZ     19.120000\n",
      "Name: IRI_PD_total, dtype: float64\n",
      "IRI_PT Mean\n",
      "Group\n",
      "CHR    27.791667\n",
      "HC     34.000000\n",
      "SZ     30.040000\n",
      "Name: IRI_PT_total, dtype: float64\n",
      "ANOVA on Empathic concern x Group\n"
     ]
    },
    {
     "data": {
      "text/plain": [
       "            Df Sum Sq Mean Sq F value Pr(>F)  \n",
       "Group        2  316.6  158.29   4.726 0.0121 *\n",
       "Residuals   65 2177.1   33.49                 \n",
       "---\n",
       "Signif. codes:  0 ‘***’ 0.001 ‘**’ 0.01 ‘*’ 0.05 ‘.’ 0.1 ‘ ’ 1\n",
       "5 observations deleted due to missingness\n"
      ]
     },
     "metadata": {},
     "output_type": "display_data"
    },
    {
     "name": "stdout",
     "output_type": "stream",
     "text": [
      "ANOVA on Fantasy x Group\n"
     ]
    },
    {
     "data": {
      "text/plain": [
       "            Df Sum Sq Mean Sq F value Pr(>F)\n",
       "Group        2   83.3   41.63   1.105  0.337\n",
       "Residuals   65 2449.9   37.69               \n",
       "5 observations deleted due to missingness\n"
      ]
     },
     "metadata": {},
     "output_type": "display_data"
    },
    {
     "name": "stdout",
     "output_type": "stream",
     "text": [
      "ANOVA on Personal Distress x Group\n"
     ]
    },
    {
     "data": {
      "text/plain": [
       "            Df Sum Sq Mean Sq F value  Pr(>F)   \n",
       "Group        2  358.3  179.13   5.105 0.00872 **\n",
       "Residuals   65 2280.6   35.09                   \n",
       "---\n",
       "Signif. codes:  0 ‘***’ 0.001 ‘**’ 0.01 ‘*’ 0.05 ‘.’ 0.1 ‘ ’ 1\n",
       "5 observations deleted due to missingness\n"
      ]
     },
     "metadata": {},
     "output_type": "display_data"
    },
    {
     "name": "stdout",
     "output_type": "stream",
     "text": [
      "ANOVA on Perspective Taking x Group\n"
     ]
    },
    {
     "data": {
      "text/plain": [
       "            Df Sum Sq Mean Sq F value   Pr(>F)    \n",
       "Group        2  412.6  206.31   8.192 0.000672 ***\n",
       "Residuals   65 1636.9   25.18                     \n",
       "---\n",
       "Signif. codes:  0 ‘***’ 0.001 ‘**’ 0.01 ‘*’ 0.05 ‘.’ 0.1 ‘ ’ 1\n",
       "5 observations deleted due to missingness\n"
      ]
     },
     "metadata": {},
     "output_type": "display_data"
    },
    {
     "data": {
      "image/png": "[encoded data removed]",
      "text/plain": [
       "<matplotlib.figure.Figure at 0x128c68b00>"
      ]
     },
     "metadata": {},
     "output_type": "display_data"
    }
   ],
   "source": [
    "\n",
    "print('IRI_EC Mean')\n",
    "print(g.IRI_EC_total.mean())\n",
    "print('IRI_FS Mean')\n",
    "print(g.IRI_FS_total.mean())\n",
    "print('IRI_PD Mean')\n",
    "print(g.IRI_PD_total.mean())\n",
    "print('IRI_PT Mean')\n",
    "print(g.IRI_PT_total.mean())\n",
    "\n",
    "print ('ANOVA on Empathic concern x Group')\n",
    "%R ec.aov <- aov(IRI_EC_total ~ Group, data=raw)\n",
    "%R print (summary(ec.aov))\n",
    "fig = plt.figure(figsize=(8, 6))\n",
    "iri = fig.add_subplot(141)\n",
    "sns.boxplot(y='IRI_EC_total', x='Group', data = raw)\n",
    "plt.ylabel('Emapathic Concern')\n",
    "plt.xticks(rotation=45)\n",
    "\n",
    "print ('ANOVA on Fantasy x Group')\n",
    "%R fs.aov <- aov(IRI_FS_total ~ Group, data=raw)\n",
    "%R print (summary(fs.aov))\n",
    "iri = fig.add_subplot(142)\n",
    "sns.boxplot(y='IRI_FS_total', x='Group', data = raw)\n",
    "plt.ylabel('Fantasy')\n",
    "plt.xticks(rotation=45)\n",
    "\n",
    "print ('ANOVA on Personal Distress x Group')\n",
    "%R pd.aov <- aov(IRI_PD_total ~ Group, data=raw)\n",
    "%R print (summary(pd.aov))\n",
    "iri = fig.add_subplot(143)\n",
    "sns.boxplot(y='IRI_PD_total', x='Group', data = raw)\n",
    "plt.ylabel('Personal Distress')\n",
    "plt.xticks(rotation=45)\n",
    "\n",
    "print ('ANOVA on Perspective Taking x Group')\n",
    "%R pt.aov <- aov(IRI_PT_total ~ Group, data=raw)\n",
    "%R print (summary(pt.aov))\n",
    "iri = fig.add_subplot(144)\n",
    "sns.boxplot(y='IRI_PT_total', x='Group', data = raw)\n",
    "plt.ylabel('Perspective Taking')\n",
    "plt.xticks(rotation=45)\n",
    "fig.tight_layout()"
   ]
  },
  {
   "cell_type": "markdown",
   "metadata": {},
   "source": [
    " "
   ]
  },
  {
   "cell_type": "markdown",
   "metadata": {},
   "source": [
    "## Chapman"
   ]
  },
  {
   "cell_type": "code",
   "execution_count": 92,
   "metadata": {
    "collapsed": false
   },
   "outputs": [
    {
     "data": {
      "image/png": "[encoded data removed]",
      "text/plain": [
       "<matplotlib.figure.Figure at 0x12b7245c0>"
      ]
     },
     "metadata": {},
     "output_type": "display_data"
    }
   ],
   "source": [
    "fig = plt.figure(figsize=(8, 6))\n",
    "chap = fig.add_subplot(141)\n",
    "sns.boxplot(y='Chapman_RTS', x='Group', data = raw)\n",
    "chap = fig.add_subplot(142)\n",
    "sns.boxplot(y='Chapman_MIS', x='Group', data = raw)\n",
    "chap = fig.add_subplot(143)\n",
    "sns.boxplot(y='Chapman_PAS', x='Group', data = raw)\n",
    "chap = fig.add_subplot(144)\n",
    "sns.boxplot(y='Chapman_SocAnh', x='Group', data = raw)\n",
    "fig.tight_layout()"
   ]
  },
  {
   "cell_type": "markdown",
   "metadata": {},
   "source": [
    " "
   ]
  },
  {
   "cell_type": "markdown",
   "metadata": {},
   "source": [
    "## Positive and Negative Syndrome Scale"
   ]
  },
  {
   "cell_type": "code",
   "execution_count": 86,
   "metadata": {
    "collapsed": false
   },
   "outputs": [
    {
     "data": {
      "image/png": "[encoded data removed]",
      "text/plain": [
       "<matplotlib.figure.Figure at 0x12b20c9e8>"
      ]
     },
     "metadata": {},
     "output_type": "display_data"
    }
   ],
   "source": [
    "fig = plt.figure(figsize=(12, 10))\n",
    "pns = fig.add_subplot(241)\n",
    "sns.boxplot(y='PANSS_PA', x='Group', data = raw)\n",
    "pns = fig.add_subplot(242)\n",
    "sns.boxplot(y='PANSS_NA', x='Group', data = raw)\n",
    "pns = fig.add_subplot(243)\n",
    "sns.boxplot(y='PANSS_DA', x='Group', data = raw)\n",
    "pns = fig.add_subplot(244)\n",
    "sns.boxplot(y='PANSS_EA', x='Group', data = raw)\n",
    "pns = fig.add_subplot(245)\n",
    "sns.boxplot(y='PANSS_Dep_Anx', x='Group', data = raw)\n",
    "pns = fig.add_subplot(246)\n",
    "sns.boxplot(y='PANSS_Other', x='Group', data = raw)\n",
    "fig.tight_layout()"
   ]
  },
  {
   "cell_type": "code",
   "execution_count": 65,
   "metadata": {
    "collapsed": false
   },
   "outputs": [
    {
     "data": {
      "text/plain": [
       "Index(['ID', 'Group', 'Gender', 'Age', 'Education', 'Ethnicity', 'IQ',\n",
       "       'DSMDisorder', 'DSMDisorderType', 'DSMcomorbidities', 'IRI_EC_total',\n",
       "       'IRI_FS_total', 'IRI_PD_total', 'IRI_PT_total', 'Chapman_MIS',\n",
       "       'Chapman_PAS', 'Chapman_PhAS', 'Chapman_RTS', 'Chapman_SocAnh',\n",
       "       'Medication', 'PANAS_NA', 'PANAS_PA', 'SIPS_Disorganized',\n",
       "       'SIPS_General', 'SIPS_Negative', 'SIPS_Positive',\n",
       "       'SocAdjScale_SocialLeisure', 'SocAdjScale_Work', 'GFS_Role',\n",
       "       'GFS_Social', 'Present_Clinical', 'PANSS_PA', 'PANSS_NA', 'PANSS_DA',\n",
       "       'PANSS_EA', 'PANSS_Dep_Anx', 'PANSS_Other'],\n",
       "      dtype='object')"
      ]
     },
     "execution_count": 65,
     "metadata": {},
     "output_type": "execute_result"
    }
   ],
   "source": [
    "raw.columns"
   ]
  },
  {
   "cell_type": "code",
   "execution_count": null,
   "metadata": {
    "collapsed": true
   },
   "outputs": [],
   "source": []
  }
 ],
 "metadata": {
  "kernelspec": {
   "display_name": "Python 3",
   "language": "python",
   "name": "python3"
  },
  "language_info": {
   "codemirror_mode": {
    "name": "ipython",
    "version": 3
   },
   "file_extension": ".py",
   "mimetype": "text/x-python",
   "name": "python",
   "nbconvert_exporter": "python",
   "pygments_lexer": "ipython3",
   "version": "3.5.1"
  }
 },
 "nbformat": 4,
 "nbformat_minor": 0
}
