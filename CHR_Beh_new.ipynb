{
 "cells": [
  {
   "cell_type": "markdown",
   "metadata": {},
   "source": [
    "# New Analyses: YAASS and SCORE"
   ]
  },
  {
   "cell_type": "markdown",
   "metadata": {},
   "source": [
    "### The dataset below includes demographic information and multiple clinical measures taken in 3 populations: healthy controls, those at clinical high risk for psychosis, and those diagnosed with schizophrenia. This is a follow-up to the YAASS.ipynb with FHR removed due to missing clinical measures."
   ]
  },
  {
   "cell_type": "code",
   "execution_count": 1,
   "metadata": {
    "collapsed": true
   },
   "outputs": [],
   "source": [
    "# Get the username and use that to set-up paths to data and figures\n",
    "uname  = !whoami\n",
    "uname = uname[0]\n",
    "path2code = '/Users/' + uname + '/Work/Expts/Code/'\n",
    "path2data = '/Users/' + uname + '/Work/Expts/YAASS/Data/'\n",
    "path2analysis = '/Users/' + uname + '/Work/Expts/YAASS/Analysis/'\n",
    "path2figs = '/Users/' + uname + '/Work/Expts/SOURCE/Analysis/Figures/'"
   ]
  },
  {
   "cell_type": "code",
   "execution_count": 2,
   "metadata": {
    "collapsed": false
   },
   "outputs": [
    {
     "name": "stdout",
     "output_type": "stream",
     "text": [
      "/Users/elyssabarrick/Work/Expts/Code\n"
     ]
    },
    {
     "data": {
      "text/plain": [
       "array(['scales', 'vcd', 'grid', 'QuantPsyc', 'MASS', 'boot', 'afex',\n",
       "       'reshape2', 'effsize', 'lsmeans', 'estimability', 'lmerTest',\n",
       "       'lme4', 'Matrix', 'tools', 'stats', 'graphics', 'grDevices',\n",
       "       'utils', 'datasets', 'methods', 'base'], \n",
       "      dtype='<U12')"
      ]
     },
     "execution_count": 2,
     "metadata": {},
     "output_type": "execute_result"
    }
   ],
   "source": [
    "%cd {path2code}\n",
    "\n",
    "import warnings; warnings.simplefilter('ignore')\n",
    "import csv, misc, os, random, re, SelfRep\n",
    "import numpy as np\n",
    "import pandas as pd\n",
    "import seaborn as sns\n",
    "from IPython.display import HTML\n",
    "import scipy as sp\n",
    "from scipy import stats\n",
    "from scipy.stats import zscore\n",
    "from matplotlib import pyplot as plt\n",
    "%matplotlib inline\n",
    "%load_ext rpy2.ipython\n",
    "\n",
    "%R suppressMessages(library('lmerTest'))\n",
    "%R suppressMessages(library('lsmeans'))\n",
    "%R lsm.options(disable.pbkrtest=TRUE)\n",
    "%R suppressMessages(library('effsize')) # Can use this to estimate Cohen's d\n",
    "%R suppressMessages(library('afex'))\n",
    "%R suppressMessages(library('QuantPsyc')) #helpful for extracting betas from hierarchical regresssions\n",
    "%R suppressMessages(library('vcd')) # useful for getting effect sizes from chi-square tests\n",
    "%R suppressMessages(library('scales'))"
   ]
  },
  {
   "cell_type": "markdown",
   "metadata": {},
   "source": [
    "# Dataframe"
   ]
  },
  {
   "cell_type": "code",
   "execution_count": 3,
   "metadata": {
    "collapsed": true
   },
   "outputs": [],
   "source": [
    "#Load in SHL dataframe containing SCORE and YAASS data\n",
    "beh = pd.read_csv(path2data + 'BehavioralData_05.22.17.csv')"
   ]
  },
  {
   "cell_type": "code",
   "execution_count": 4,
   "metadata": {
    "collapsed": false
   },
   "outputs": [],
   "source": [
    "#Load in SCORE PANSS data\n",
    "sx_SZ = pd.read_excel(path2data + 'PANSS_SCORE.xlsx', sheetname='EB')"
   ]
  },
  {
   "cell_type": "code",
   "execution_count": 5,
   "metadata": {
    "collapsed": false
   },
   "outputs": [],
   "source": [
    "#Load in YAASS PANSS data\n",
    "sx_chr = pd.read_excel(path2data + 'YAASS_Clinical_Data.xls', sheetname='EB')"
   ]
  },
  {
   "cell_type": "code",
   "execution_count": 6,
   "metadata": {
    "collapsed": true
   },
   "outputs": [],
   "source": [
    "#Join the 2 PANSS dataframes\n",
    "s = pd.concat([sx_SZ, sx_chr])"
   ]
  },
  {
   "cell_type": "code",
   "execution_count": 7,
   "metadata": {
    "collapsed": false
   },
   "outputs": [],
   "source": [
    "# Merge PANSS dataframe with SHL dataframe to have all scores together\n",
    "raw = pd.merge(beh, s, on='ID')"
   ]
  },
  {
   "cell_type": "code",
   "execution_count": 8,
   "metadata": {
    "collapsed": true
   },
   "outputs": [],
   "source": [
    "#save dataframe to csv\n",
    "raw.to_csv('raw_new.csv')"
   ]
  },
  {
   "cell_type": "code",
   "execution_count": 9,
   "metadata": {
    "collapsed": false
   },
   "outputs": [],
   "source": [
    "# #creating log transformation column for the values of interest\n",
    "\n",
    "# raw['lnIRI_EC_total'] = raw.IRI_EC_total.apply(np.log)\n",
    "# raw['lnIRI_PT_total'] = raw.IRI_PT_total.apply(np.log)\n",
    "# raw['lnIRI_PD_total'] = raw.IRI_PD_total.apply(np.log)\n",
    "# raw['lnIRI_FS_total'] = raw.IRI_FS_total.apply(np.log)\n",
    "\n",
    "# raw['lnPANSS_PA'] = raw.PANSS_PA.apply(np.log)\n",
    "# raw['lnPANSS_NA'] = raw.PANSS_NA.apply(np.log)\n",
    "# raw['lnPANSS_DA'] = raw.PANSS_DA.apply(np.log)\n",
    "# raw['lnPANSS_EA'] = raw.PANSS_EA.apply(np.log)\n",
    "# raw['lnPANSS_Dep_Anx'] = raw.PANSS_Dep_Anx.apply(np.log)\n",
    "# raw_columns = ['ID', 'Group', 'Gender', 'Age', 'Education', 'Ethnicity', 'IQ','DSMDisorder', 'DSMDisorderType',\n",
    "#                'DSMcomorbidities', 'IRI_EC_total','lnIRI_EC_total','IRI_FS_total','lnIRI_FS_total', 'IRI_PD_total',\n",
    "#                'lnIRI_PD_total','IRI_PT_total', 'lnIRI_PT_total' ,'Chapman_MIS', 'Chapman_PAS', 'Chapman_PhAS', \n",
    "#                'Chapman_RTS', 'Chapman_SocAnh','Medication', 'PANAS_NA', 'PANAS_PA','SIPS_Disorganized',\n",
    "#                'SIPS_General', 'SIPS_Negative', 'SIPS_Positive','SocAdjScale_SocialLeisure','SocAdjScale_Work', \n",
    "#                'GFS_Role','GFS_Social', 'Present_Clinical', 'PANSS_PA','lnPANSS_PA', 'PANSS_NA', 'lnPANSS_NA',\n",
    "#                'PANSS_DA', 'lnPANSS_DA','PANSS_EA', 'lnPANSS_EA','PANSS_Dep_Anx', 'lnPANSS_Dep_Anx','PANSS_Other',]"
   ]
  },
  {
   "cell_type": "code",
   "execution_count": 10,
   "metadata": {
    "collapsed": true
   },
   "outputs": [],
   "source": [
    "# raw = raw.reindex(columns=raw_columns)"
   ]
  },
  {
   "cell_type": "markdown",
   "metadata": {},
   "source": [
    " "
   ]
  },
  {
   "cell_type": "markdown",
   "metadata": {
    "collapsed": false
   },
   "source": [
    "# Outliers"
   ]
  },
  {
   "cell_type": "code",
   "execution_count": 11,
   "metadata": {
    "collapsed": false
   },
   "outputs": [],
   "source": [
    "#Function to determine outliers by group. Input is column name.\n",
    "\n",
    "def outcheck(colname):\n",
    "    hc_outs = []\n",
    "    hc_df = raw[raw.Group == 'HC']\n",
    "    hc_high = (hc_df[colname].mean()) + (hc_df[colname].std()) * 2.5\n",
    "    hc_low = (hc_df[colname].mean()) - (hc_df[colname].std()) * 2.5\n",
    "    for i, row_i in hc_df.iterrows():\n",
    "        if (row_i[colname] > hc_high) or (row_i[colname] < hc_low):\n",
    "            hc_outs.append(1)\n",
    "        else:\n",
    "            hc_outs.append(0)\n",
    "    valname = colname + '_outliers'\n",
    "    hc_df[valname] = hc_outs\n",
    "    \n",
    "    chr_outs = []\n",
    "    chr_df = raw[raw.Group == 'CHR']\n",
    "    chr_high = (chr_df[colname].mean()) + (chr_df[colname].std()) * 2.5\n",
    "    chr_low = (chr_df[colname].mean()) - (chr_df[colname].std()) * 2.5\n",
    "    for i, row_i in chr_df.iterrows():\n",
    "        if (row_i[colname] > chr_high) or (row_i[colname] < chr_low):\n",
    "            chr_outs.append(1)\n",
    "        else:\n",
    "            chr_outs.append(0)\n",
    "    valname = colname + '_outliers'\n",
    "    chr_df[valname] = chr_outs\n",
    "    \n",
    "    sz_outs = []\n",
    "    sz_df = raw[raw.Group == 'SZ']\n",
    "    sz_high = (sz_df[colname].mean()) + (sz_df[colname].std()) * 2.5\n",
    "    sz_low = (sz_df[colname].mean()) - (sz_df[colname].std()) * 2.5\n",
    "    for i, row_i in sz_df.iterrows():\n",
    "        if (row_i[colname] > sz_high) or (row_i[colname] < sz_low):\n",
    "            sz_outs.append(1)\n",
    "        else:\n",
    "            sz_outs.append(0)\n",
    "    valname = colname + '_outliers'\n",
    "    sz_df[valname] = sz_outs\n",
    "    \n",
    "    out = pd.concat([hc_df, chr_df, sz_df])\n",
    "    return out"
   ]
  },
  {
   "cell_type": "code",
   "execution_count": 12,
   "metadata": {
    "collapsed": false,
    "scrolled": true
   },
   "outputs": [],
   "source": [
    "#Running the outlier check for measures of interest\n",
    "\n",
    "raw = outcheck('IRI_EC_total')\n",
    "raw = outcheck('IRI_FS_total')\n",
    "raw=outcheck('IRI_PT_total')\n",
    "raw = outcheck('IRI_PD_total')\n",
    "\n",
    "raw = outcheck('SocAdjScale_SocialLeisure')\n",
    "\n",
    "raw = outcheck('PANSS_PA')\n",
    "raw = outcheck('PANSS_NA')\n",
    "raw = outcheck('PANSS_DA')\n",
    "raw = outcheck('PANSS_EA')\n",
    "raw = outcheck('PANSS_Dep_Anx')"
   ]
  },
  {
   "cell_type": "markdown",
   "metadata": {},
   "source": [
    "  "
   ]
  },
  {
   "cell_type": "markdown",
   "metadata": {},
   "source": [
    "## IRI Outliers"
   ]
  },
  {
   "cell_type": "code",
   "execution_count": 13,
   "metadata": {
    "collapsed": false
   },
   "outputs": [],
   "source": [
    "#Make IRI outlier DF - none for PD or FS; after SHL checked skew/kurtosis, winsorized the HC outlier for \n",
    "#IRI_PT and IRI_EC\n",
    "\n",
    "IRI_outs = raw[['ID', 'Group', 'IRI_EC_total', 'IRI_EC_total_outliers','IRI_PD_total','IRI_PD_total_outliers',\n",
    "               'IRI_PT_total','IRI_PT_total_outliers','IRI_FS_total','IRI_FS_total_outliers']].copy()\n"
   ]
  },
  {
   "cell_type": "markdown",
   "metadata": {},
   "source": [
    " "
   ]
  },
  {
   "cell_type": "markdown",
   "metadata": {},
   "source": [
    "### IRI_EC"
   ]
  },
  {
   "cell_type": "code",
   "execution_count": 14,
   "metadata": {
    "collapsed": false,
    "scrolled": false
   },
   "outputs": [
    {
     "data": {
      "text/html": [
       "<div>\n",
       "<table border=\"1\" class=\"dataframe\">\n",
       "  <thead>\n",
       "    <tr style=\"text-align: right;\">\n",
       "      <th></th>\n",
       "      <th>ID</th>\n",
       "      <th>Group</th>\n",
       "      <th>IRI_EC_total</th>\n",
       "      <th>IRI_EC_total_outliers</th>\n",
       "      <th>IRI_PD_total</th>\n",
       "      <th>IRI_PD_total_outliers</th>\n",
       "      <th>IRI_PT_total</th>\n",
       "      <th>IRI_PT_total_outliers</th>\n",
       "      <th>IRI_FS_total</th>\n",
       "      <th>IRI_FS_total_outliers</th>\n",
       "    </tr>\n",
       "  </thead>\n",
       "  <tbody>\n",
       "    <tr>\n",
       "      <th>74</th>\n",
       "      <td>26142</td>\n",
       "      <td>CHR</td>\n",
       "      <td>16.0</td>\n",
       "      <td>1</td>\n",
       "      <td>17.0</td>\n",
       "      <td>0</td>\n",
       "      <td>25.0</td>\n",
       "      <td>0</td>\n",
       "      <td>36.0</td>\n",
       "      <td>0</td>\n",
       "    </tr>\n",
       "  </tbody>\n",
       "</table>\n",
       "</div>"
      ],
      "text/plain": [
       "       ID Group  IRI_EC_total  IRI_EC_total_outliers  IRI_PD_total  \\\n",
       "74  26142   CHR          16.0                      1          17.0   \n",
       "\n",
       "    IRI_PD_total_outliers  IRI_PT_total  IRI_PT_total_outliers  IRI_FS_total  \\\n",
       "74                      0          25.0                      0          36.0   \n",
       "\n",
       "    IRI_FS_total_outliers  \n",
       "74                      0  "
      ]
     },
     "execution_count": 14,
     "metadata": {},
     "output_type": "execute_result"
    }
   ],
   "source": [
    "IRI_outs.loc[IRI_outs['IRI_EC_total_outliers'] == 1]"
   ]
  },
  {
   "cell_type": "code",
   "execution_count": 15,
   "metadata": {
    "collapsed": false,
    "scrolled": true
   },
   "outputs": [
    {
     "data": {
      "text/plain": [
       "count    82.000000\n",
       "mean     31.200000\n",
       "std       5.781708\n",
       "min      16.000000\n",
       "25%      28.000000\n",
       "50%      31.000000\n",
       "75%      35.000000\n",
       "max      42.000000\n",
       "Name: IRI_EC_total, dtype: float64"
      ]
     },
     "execution_count": 15,
     "metadata": {},
     "output_type": "execute_result"
    }
   ],
   "source": [
    "raw.IRI_EC_total.describe()"
   ]
  },
  {
   "cell_type": "markdown",
   "metadata": {},
   "source": [
    " "
   ]
  },
  {
   "cell_type": "markdown",
   "metadata": {},
   "source": [
    "### IRI_PT"
   ]
  },
  {
   "cell_type": "code",
   "execution_count": 16,
   "metadata": {
    "collapsed": false,
    "scrolled": true
   },
   "outputs": [
    {
     "data": {
      "text/html": [
       "<div>\n",
       "<table border=\"1\" class=\"dataframe\">\n",
       "  <thead>\n",
       "    <tr style=\"text-align: right;\">\n",
       "      <th></th>\n",
       "      <th>ID</th>\n",
       "      <th>Group</th>\n",
       "      <th>IRI_EC_total</th>\n",
       "      <th>IRI_EC_total_outliers</th>\n",
       "      <th>IRI_PD_total</th>\n",
       "      <th>IRI_PD_total_outliers</th>\n",
       "      <th>IRI_PT_total</th>\n",
       "      <th>IRI_PT_total_outliers</th>\n",
       "      <th>IRI_FS_total</th>\n",
       "      <th>IRI_FS_total_outliers</th>\n",
       "    </tr>\n",
       "  </thead>\n",
       "  <tbody>\n",
       "  </tbody>\n",
       "</table>\n",
       "</div>"
      ],
      "text/plain": [
       "Empty DataFrame\n",
       "Columns: [ID, Group, IRI_EC_total, IRI_EC_total_outliers, IRI_PD_total, IRI_PD_total_outliers, IRI_PT_total, IRI_PT_total_outliers, IRI_FS_total, IRI_FS_total_outliers]\n",
       "Index: []"
      ]
     },
     "execution_count": 16,
     "metadata": {},
     "output_type": "execute_result"
    }
   ],
   "source": [
    "IRI_outs.loc[IRI_outs['IRI_PT_total_outliers'] == 1]"
   ]
  },
  {
   "cell_type": "code",
   "execution_count": 17,
   "metadata": {
    "collapsed": false,
    "scrolled": true
   },
   "outputs": [
    {
     "data": {
      "text/plain": [
       "count    82.000000\n",
       "mean     30.601220\n",
       "std       5.105371\n",
       "min      20.000000\n",
       "25%      27.000000\n",
       "50%      30.500000\n",
       "75%      34.000000\n",
       "max      42.000000\n",
       "Name: IRI_PT_total, dtype: float64"
      ]
     },
     "execution_count": 17,
     "metadata": {},
     "output_type": "execute_result"
    }
   ],
   "source": [
    "raw.IRI_PT_total.describe()"
   ]
  },
  {
   "cell_type": "markdown",
   "metadata": {},
   "source": [
    "  "
   ]
  },
  {
   "cell_type": "markdown",
   "metadata": {},
   "source": [
    "## SAS Outliers"
   ]
  },
  {
   "cell_type": "code",
   "execution_count": 18,
   "metadata": {
    "collapsed": false
   },
   "outputs": [
    {
     "data": {
      "text/html": [
       "<div>\n",
       "<table border=\"1\" class=\"dataframe\">\n",
       "  <thead>\n",
       "    <tr style=\"text-align: right;\">\n",
       "      <th></th>\n",
       "      <th>ID</th>\n",
       "      <th>Group</th>\n",
       "      <th>SocAdjScale_SocialLeisure</th>\n",
       "      <th>SocAdjScale_SocialLeisure_outliers</th>\n",
       "    </tr>\n",
       "  </thead>\n",
       "  <tbody>\n",
       "    <tr>\n",
       "      <th>27</th>\n",
       "      <td>27121</td>\n",
       "      <td>HC</td>\n",
       "      <td>79.0</td>\n",
       "      <td>1</td>\n",
       "    </tr>\n",
       "    <tr>\n",
       "      <th>39</th>\n",
       "      <td>27206</td>\n",
       "      <td>HC</td>\n",
       "      <td>85.0</td>\n",
       "      <td>1</td>\n",
       "    </tr>\n",
       "  </tbody>\n",
       "</table>\n",
       "</div>"
      ],
      "text/plain": [
       "       ID Group  SocAdjScale_SocialLeisure  SocAdjScale_SocialLeisure_outliers\n",
       "27  27121    HC                       79.0                                   1\n",
       "39  27206    HC                       85.0                                   1"
      ]
     },
     "execution_count": 18,
     "metadata": {},
     "output_type": "execute_result"
    }
   ],
   "source": [
    "#Make SAS outlier df\n",
    "\n",
    "sas_outs = raw[['ID', 'Group', 'SocAdjScale_SocialLeisure','SocAdjScale_SocialLeisure_outliers']].copy()\n",
    "sas_outs.loc[sas_outs['SocAdjScale_SocialLeisure_outliers'] == 1]"
   ]
  },
  {
   "cell_type": "code",
   "execution_count": 19,
   "metadata": {
    "collapsed": false
   },
   "outputs": [
    {
     "name": "stdout",
     "output_type": "stream",
     "text": [
      "Test for Skewness\n"
     ]
    },
    {
     "data": {
      "text/plain": [
       "Group\n",
       "CHR   -0.343502\n",
       "HC     1.554741\n",
       "SZ     0.542476\n",
       "Name: SocAdjScale_SocialLeisure, dtype: float64"
      ]
     },
     "execution_count": 19,
     "metadata": {},
     "output_type": "execute_result"
    }
   ],
   "source": [
    "print ('Test for Skewness')\n",
    "r=raw.groupby('Group')\n",
    "r['SocAdjScale_SocialLeisure'].skew()"
   ]
  },
  {
   "cell_type": "code",
   "execution_count": 20,
   "metadata": {
    "collapsed": false
   },
   "outputs": [
    {
     "name": "stdout",
     "output_type": "stream",
     "text": [
      "Test for Kurtosis\n"
     ]
    },
    {
     "data": {
      "text/html": [
       "<div>\n",
       "<table border=\"1\" class=\"dataframe\">\n",
       "  <thead>\n",
       "    <tr style=\"text-align: right;\">\n",
       "      <th></th>\n",
       "      <th>SocAdjScale_SocialLeisure</th>\n",
       "    </tr>\n",
       "    <tr>\n",
       "      <th>Group</th>\n",
       "      <th></th>\n",
       "    </tr>\n",
       "  </thead>\n",
       "  <tbody>\n",
       "    <tr>\n",
       "      <th>CHR</th>\n",
       "      <td>-1.146985</td>\n",
       "    </tr>\n",
       "    <tr>\n",
       "      <th>HC</th>\n",
       "      <td>2.952883</td>\n",
       "    </tr>\n",
       "    <tr>\n",
       "      <th>SZ</th>\n",
       "      <td>-0.549414</td>\n",
       "    </tr>\n",
       "  </tbody>\n",
       "</table>\n",
       "</div>"
      ],
      "text/plain": [
       "       SocAdjScale_SocialLeisure\n",
       "Group                           \n",
       "CHR                    -1.146985\n",
       "HC                      2.952883\n",
       "SZ                     -0.549414"
      ]
     },
     "execution_count": 20,
     "metadata": {},
     "output_type": "execute_result"
    }
   ],
   "source": [
    "g = raw[['Group','SocAdjScale_SocialLeisure']].copy()\n",
    "print ('Test for Kurtosis')\n",
    "g.groupby('Group').apply(pd.DataFrame.kurt)"
   ]
  },
  {
   "cell_type": "code",
   "execution_count": 21,
   "metadata": {
    "collapsed": false,
    "scrolled": true
   },
   "outputs": [
    {
     "data": {
      "text/plain": [
       "<seaborn.axisgrid.FacetGrid at 0x11ab4f898>"
      ]
     },
     "execution_count": 21,
     "metadata": {},
     "output_type": "execute_result"
    },
    {
     "data": {
      "image/png": "[encoded data removed]",
      "text/plain": [
       "<matplotlib.figure.Figure at 0x11aba0e10>"
      ]
     },
     "metadata": {},
     "output_type": "display_data"
    }
   ],
   "source": [
    "sns.set_context(font_scale=1.5)\n",
    "g = sns.FacetGrid(data=raw, col='Group')\n",
    "g.map(sns.distplot,'SocAdjScale_SocialLeisure',kde=True,fit=sp.stats.norm)"
   ]
  },
  {
   "cell_type": "markdown",
   "metadata": {},
   "source": [
    " "
   ]
  },
  {
   "cell_type": "markdown",
   "metadata": {},
   "source": [
    "## PANSS Outliers"
   ]
  },
  {
   "cell_type": "code",
   "execution_count": 22,
   "metadata": {
    "collapsed": false
   },
   "outputs": [],
   "source": [
    "sx_outs = raw[['ID', 'Group', 'PANSS_PA', 'PANSS_PA_outliers','PANSS_NA', 'PANSS_NA_outliers','PANSS_DA',\n",
    "               'PANSS_DA_outliers','PANSS_EA','PANSS_EA_outliers', 'PANSS_Dep_Anx', 'PANSS_Dep_Anx_outliers']].copy()\n"
   ]
  },
  {
   "cell_type": "code",
   "execution_count": 23,
   "metadata": {
    "collapsed": false
   },
   "outputs": [],
   "source": [
    "sx_outs = sx_outs[sx_outs.Group != 'HC']"
   ]
  },
  {
   "cell_type": "markdown",
   "metadata": {},
   "source": [
    " "
   ]
  },
  {
   "cell_type": "markdown",
   "metadata": {},
   "source": [
    "### PANSS_PA"
   ]
  },
  {
   "cell_type": "code",
   "execution_count": 24,
   "metadata": {
    "collapsed": false
   },
   "outputs": [
    {
     "data": {
      "text/html": [
       "<div>\n",
       "<table border=\"1\" class=\"dataframe\">\n",
       "  <thead>\n",
       "    <tr style=\"text-align: right;\">\n",
       "      <th></th>\n",
       "      <th>ID</th>\n",
       "      <th>Group</th>\n",
       "      <th>PANSS_PA</th>\n",
       "      <th>PANSS_PA_outliers</th>\n",
       "      <th>PANSS_NA</th>\n",
       "      <th>PANSS_NA_outliers</th>\n",
       "      <th>PANSS_DA</th>\n",
       "      <th>PANSS_DA_outliers</th>\n",
       "      <th>PANSS_EA</th>\n",
       "      <th>PANSS_EA_outliers</th>\n",
       "      <th>PANSS_Dep_Anx</th>\n",
       "      <th>PANSS_Dep_Anx_outliers</th>\n",
       "    </tr>\n",
       "  </thead>\n",
       "  <tbody>\n",
       "    <tr>\n",
       "      <th>7</th>\n",
       "      <td>27136</td>\n",
       "      <td>SZ</td>\n",
       "      <td>30.0</td>\n",
       "      <td>1</td>\n",
       "      <td>8.0</td>\n",
       "      <td>0</td>\n",
       "      <td>15.0</td>\n",
       "      <td>0</td>\n",
       "      <td>4.0</td>\n",
       "      <td>0</td>\n",
       "      <td>5.0</td>\n",
       "      <td>0</td>\n",
       "    </tr>\n",
       "  </tbody>\n",
       "</table>\n",
       "</div>"
      ],
      "text/plain": [
       "      ID Group  PANSS_PA  PANSS_PA_outliers  PANSS_NA  PANSS_NA_outliers  \\\n",
       "7  27136    SZ      30.0                  1       8.0                  0   \n",
       "\n",
       "   PANSS_DA  PANSS_DA_outliers  PANSS_EA  PANSS_EA_outliers  PANSS_Dep_Anx  \\\n",
       "7      15.0                  0       4.0                  0            5.0   \n",
       "\n",
       "   PANSS_Dep_Anx_outliers  \n",
       "7                       0  "
      ]
     },
     "execution_count": 24,
     "metadata": {},
     "output_type": "execute_result"
    }
   ],
   "source": [
    "sx_outs.loc[sx_outs['PANSS_PA_outliers'] == 1]"
   ]
  },
  {
   "cell_type": "code",
   "execution_count": 25,
   "metadata": {
    "collapsed": false,
    "scrolled": true
   },
   "outputs": [
    {
     "data": {
      "text/plain": [
       "count    52.000000\n",
       "mean     14.192308\n",
       "std       5.056692\n",
       "min       7.000000\n",
       "25%      10.000000\n",
       "50%      13.000000\n",
       "75%      18.000000\n",
       "max      30.000000\n",
       "Name: PANSS_PA, dtype: float64"
      ]
     },
     "execution_count": 25,
     "metadata": {},
     "output_type": "execute_result"
    }
   ],
   "source": [
    "sx_outs.PANSS_PA.describe()"
   ]
  },
  {
   "cell_type": "markdown",
   "metadata": {},
   "source": [
    " "
   ]
  },
  {
   "cell_type": "code",
   "execution_count": 26,
   "metadata": {
    "collapsed": false,
    "scrolled": true
   },
   "outputs": [
    {
     "name": "stdout",
     "output_type": "stream",
     "text": [
      "Test for Skewness\n"
     ]
    },
    {
     "data": {
      "text/plain": [
       "Group\n",
       "CHR    1.013279\n",
       "SZ     0.321784\n",
       "Name: PANSS_PA, dtype: float64"
      ]
     },
     "execution_count": 26,
     "metadata": {},
     "output_type": "execute_result"
    }
   ],
   "source": [
    "print ('Test for Skewness')\n",
    "p=sx_outs.groupby('Group')\n",
    "p['PANSS_PA'].skew()"
   ]
  },
  {
   "cell_type": "code",
   "execution_count": 27,
   "metadata": {
    "collapsed": false
   },
   "outputs": [
    {
     "name": "stdout",
     "output_type": "stream",
     "text": [
      "Test for Kurtosis\n"
     ]
    },
    {
     "data": {
      "text/html": [
       "<div>\n",
       "<table border=\"1\" class=\"dataframe\">\n",
       "  <thead>\n",
       "    <tr style=\"text-align: right;\">\n",
       "      <th></th>\n",
       "      <th>PANSS_PA</th>\n",
       "    </tr>\n",
       "    <tr>\n",
       "      <th>Group</th>\n",
       "      <th></th>\n",
       "    </tr>\n",
       "  </thead>\n",
       "  <tbody>\n",
       "    <tr>\n",
       "      <th>CHR</th>\n",
       "      <td>0.208948</td>\n",
       "    </tr>\n",
       "    <tr>\n",
       "      <th>SZ</th>\n",
       "      <td>0.116925</td>\n",
       "    </tr>\n",
       "  </tbody>\n",
       "</table>\n",
       "</div>"
      ],
      "text/plain": [
       "       PANSS_PA\n",
       "Group          \n",
       "CHR    0.208948\n",
       "SZ     0.116925"
      ]
     },
     "execution_count": 27,
     "metadata": {},
     "output_type": "execute_result"
    }
   ],
   "source": [
    "g = sx_outs[['Group','PANSS_PA']].copy()\n",
    "print ('Test for Kurtosis')\n",
    "g.groupby('Group').apply(pd.DataFrame.kurt)"
   ]
  },
  {
   "cell_type": "markdown",
   "metadata": {},
   "source": [
    " "
   ]
  },
  {
   "cell_type": "markdown",
   "metadata": {},
   "source": [
    "### PANSS_NA"
   ]
  },
  {
   "cell_type": "code",
   "execution_count": 28,
   "metadata": {
    "collapsed": false,
    "scrolled": true
   },
   "outputs": [
    {
     "data": {
      "text/html": [
       "<div>\n",
       "<table border=\"1\" class=\"dataframe\">\n",
       "  <thead>\n",
       "    <tr style=\"text-align: right;\">\n",
       "      <th></th>\n",
       "      <th>ID</th>\n",
       "      <th>Group</th>\n",
       "      <th>PANSS_PA</th>\n",
       "      <th>PANSS_PA_outliers</th>\n",
       "      <th>PANSS_NA</th>\n",
       "      <th>PANSS_NA_outliers</th>\n",
       "      <th>PANSS_DA</th>\n",
       "      <th>PANSS_DA_outliers</th>\n",
       "      <th>PANSS_EA</th>\n",
       "      <th>PANSS_EA_outliers</th>\n",
       "      <th>PANSS_Dep_Anx</th>\n",
       "      <th>PANSS_Dep_Anx_outliers</th>\n",
       "    </tr>\n",
       "  </thead>\n",
       "  <tbody>\n",
       "  </tbody>\n",
       "</table>\n",
       "</div>"
      ],
      "text/plain": [
       "Empty DataFrame\n",
       "Columns: [ID, Group, PANSS_PA, PANSS_PA_outliers, PANSS_NA, PANSS_NA_outliers, PANSS_DA, PANSS_DA_outliers, PANSS_EA, PANSS_EA_outliers, PANSS_Dep_Anx, PANSS_Dep_Anx_outliers]\n",
       "Index: []"
      ]
     },
     "execution_count": 28,
     "metadata": {},
     "output_type": "execute_result"
    }
   ],
   "source": [
    "sx_outs.loc[sx_outs['PANSS_NA_outliers'] == 1]"
   ]
  },
  {
   "cell_type": "code",
   "execution_count": 29,
   "metadata": {
    "collapsed": false,
    "scrolled": true
   },
   "outputs": [
    {
     "data": {
      "text/plain": [
       "count    52.000000\n",
       "mean     11.615385\n",
       "std       5.164562\n",
       "min       7.000000\n",
       "25%       7.000000\n",
       "50%      10.000000\n",
       "75%      15.000000\n",
       "max      27.000000\n",
       "Name: PANSS_NA, dtype: float64"
      ]
     },
     "execution_count": 29,
     "metadata": {},
     "output_type": "execute_result"
    }
   ],
   "source": [
    "sx_outs.PANSS_NA.describe()"
   ]
  },
  {
   "cell_type": "code",
   "execution_count": 30,
   "metadata": {
    "collapsed": false,
    "scrolled": true
   },
   "outputs": [
    {
     "name": "stdout",
     "output_type": "stream",
     "text": [
      "Test for Skewness\n"
     ]
    },
    {
     "data": {
      "text/plain": [
       "Group\n",
       "CHR    1.213561\n",
       "SZ     0.879904\n",
       "Name: PANSS_NA, dtype: float64"
      ]
     },
     "execution_count": 30,
     "metadata": {},
     "output_type": "execute_result"
    }
   ],
   "source": [
    "print ('Test for Skewness')\n",
    "p['PANSS_NA'].skew()"
   ]
  },
  {
   "cell_type": "code",
   "execution_count": 31,
   "metadata": {
    "collapsed": false
   },
   "outputs": [
    {
     "name": "stdout",
     "output_type": "stream",
     "text": [
      "Test for Kurtosis\n"
     ]
    },
    {
     "data": {
      "text/html": [
       "<div>\n",
       "<table border=\"1\" class=\"dataframe\">\n",
       "  <thead>\n",
       "    <tr style=\"text-align: right;\">\n",
       "      <th></th>\n",
       "      <th>PANSS_NA</th>\n",
       "    </tr>\n",
       "    <tr>\n",
       "      <th>Group</th>\n",
       "      <th></th>\n",
       "    </tr>\n",
       "  </thead>\n",
       "  <tbody>\n",
       "    <tr>\n",
       "      <th>CHR</th>\n",
       "      <td>0.183574</td>\n",
       "    </tr>\n",
       "    <tr>\n",
       "      <th>SZ</th>\n",
       "      <td>-0.114477</td>\n",
       "    </tr>\n",
       "  </tbody>\n",
       "</table>\n",
       "</div>"
      ],
      "text/plain": [
       "       PANSS_NA\n",
       "Group          \n",
       "CHR    0.183574\n",
       "SZ    -0.114477"
      ]
     },
     "execution_count": 31,
     "metadata": {},
     "output_type": "execute_result"
    }
   ],
   "source": [
    "g = sx_outs[['Group','PANSS_NA']].copy()\n",
    "print ('Test for Kurtosis')\n",
    "g.groupby('Group').apply(pd.DataFrame.kurt)"
   ]
  },
  {
   "cell_type": "markdown",
   "metadata": {},
   "source": [
    " "
   ]
  },
  {
   "cell_type": "markdown",
   "metadata": {},
   "source": [
    "### PANSS_DA"
   ]
  },
  {
   "cell_type": "code",
   "execution_count": 32,
   "metadata": {
    "collapsed": false,
    "scrolled": true
   },
   "outputs": [
    {
     "data": {
      "text/html": [
       "<div>\n",
       "<table border=\"1\" class=\"dataframe\">\n",
       "  <thead>\n",
       "    <tr style=\"text-align: right;\">\n",
       "      <th></th>\n",
       "      <th>ID</th>\n",
       "      <th>Group</th>\n",
       "      <th>PANSS_PA</th>\n",
       "      <th>PANSS_PA_outliers</th>\n",
       "      <th>PANSS_NA</th>\n",
       "      <th>PANSS_NA_outliers</th>\n",
       "      <th>PANSS_DA</th>\n",
       "      <th>PANSS_DA_outliers</th>\n",
       "      <th>PANSS_EA</th>\n",
       "      <th>PANSS_EA_outliers</th>\n",
       "      <th>PANSS_Dep_Anx</th>\n",
       "      <th>PANSS_Dep_Anx_outliers</th>\n",
       "    </tr>\n",
       "  </thead>\n",
       "  <tbody>\n",
       "    <tr>\n",
       "      <th>78</th>\n",
       "      <td>26159</td>\n",
       "      <td>CHR</td>\n",
       "      <td>16.0</td>\n",
       "      <td>0</td>\n",
       "      <td>7.0</td>\n",
       "      <td>0</td>\n",
       "      <td>10.0</td>\n",
       "      <td>1</td>\n",
       "      <td>6.0</td>\n",
       "      <td>0</td>\n",
       "      <td>4.0</td>\n",
       "      <td>0</td>\n",
       "    </tr>\n",
       "    <tr>\n",
       "      <th>81</th>\n",
       "      <td>26168</td>\n",
       "      <td>CHR</td>\n",
       "      <td>21.0</td>\n",
       "      <td>0</td>\n",
       "      <td>7.0</td>\n",
       "      <td>0</td>\n",
       "      <td>10.0</td>\n",
       "      <td>1</td>\n",
       "      <td>5.0</td>\n",
       "      <td>0</td>\n",
       "      <td>4.0</td>\n",
       "      <td>0</td>\n",
       "    </tr>\n",
       "  </tbody>\n",
       "</table>\n",
       "</div>"
      ],
      "text/plain": [
       "       ID Group  PANSS_PA  PANSS_PA_outliers  PANSS_NA  PANSS_NA_outliers  \\\n",
       "78  26159   CHR      16.0                  0       7.0                  0   \n",
       "81  26168   CHR      21.0                  0       7.0                  0   \n",
       "\n",
       "    PANSS_DA  PANSS_DA_outliers  PANSS_EA  PANSS_EA_outliers  PANSS_Dep_Anx  \\\n",
       "78      10.0                  1       6.0                  0            4.0   \n",
       "81      10.0                  1       5.0                  0            4.0   \n",
       "\n",
       "    PANSS_Dep_Anx_outliers  \n",
       "78                       0  \n",
       "81                       0  "
      ]
     },
     "execution_count": 32,
     "metadata": {},
     "output_type": "execute_result"
    }
   ],
   "source": [
    "sx_outs.loc[sx_outs['PANSS_DA_outliers'] == 1]"
   ]
  },
  {
   "cell_type": "code",
   "execution_count": 33,
   "metadata": {
    "collapsed": false,
    "scrolled": true
   },
   "outputs": [
    {
     "data": {
      "text/plain": [
       "count    52.000000\n",
       "mean      7.096154\n",
       "std       3.543896\n",
       "min       5.000000\n",
       "25%       5.000000\n",
       "50%       5.000000\n",
       "75%       8.000000\n",
       "max      18.000000\n",
       "Name: PANSS_DA, dtype: float64"
      ]
     },
     "execution_count": 33,
     "metadata": {},
     "output_type": "execute_result"
    }
   ],
   "source": [
    "sx_outs.PANSS_DA.describe()"
   ]
  },
  {
   "cell_type": "code",
   "execution_count": 34,
   "metadata": {
    "collapsed": false
   },
   "outputs": [
    {
     "name": "stdout",
     "output_type": "stream",
     "text": [
      "Test for Skewness\n"
     ]
    },
    {
     "data": {
      "text/plain": [
       "Group\n",
       "CHR    2.059699\n",
       "SZ     1.001504\n",
       "Name: PANSS_DA, dtype: float64"
      ]
     },
     "execution_count": 34,
     "metadata": {},
     "output_type": "execute_result"
    }
   ],
   "source": [
    "print ('Test for Skewness')\n",
    "p['PANSS_DA'].skew()"
   ]
  },
  {
   "cell_type": "code",
   "execution_count": 35,
   "metadata": {
    "collapsed": false
   },
   "outputs": [
    {
     "name": "stdout",
     "output_type": "stream",
     "text": [
      "Test for Kurtosis\n"
     ]
    },
    {
     "data": {
      "text/html": [
       "<div>\n",
       "<table border=\"1\" class=\"dataframe\">\n",
       "  <thead>\n",
       "    <tr style=\"text-align: right;\">\n",
       "      <th></th>\n",
       "      <th>PANSS_DA</th>\n",
       "    </tr>\n",
       "    <tr>\n",
       "      <th>Group</th>\n",
       "      <th></th>\n",
       "    </tr>\n",
       "  </thead>\n",
       "  <tbody>\n",
       "    <tr>\n",
       "      <th>CHR</th>\n",
       "      <td>3.399041</td>\n",
       "    </tr>\n",
       "    <tr>\n",
       "      <th>SZ</th>\n",
       "      <td>-0.484275</td>\n",
       "    </tr>\n",
       "  </tbody>\n",
       "</table>\n",
       "</div>"
      ],
      "text/plain": [
       "       PANSS_DA\n",
       "Group          \n",
       "CHR    3.399041\n",
       "SZ    -0.484275"
      ]
     },
     "execution_count": 35,
     "metadata": {},
     "output_type": "execute_result"
    }
   ],
   "source": [
    "g = sx_outs[['Group','PANSS_DA']].copy()\n",
    "print ('Test for Kurtosis')\n",
    "g.groupby('Group').apply(pd.DataFrame.kurt)"
   ]
  },
  {
   "cell_type": "code",
   "execution_count": 36,
   "metadata": {
    "collapsed": false,
    "scrolled": true
   },
   "outputs": [
    {
     "data": {
      "text/plain": [
       "<seaborn.axisgrid.FacetGrid at 0x127909be0>"
      ]
     },
     "execution_count": 36,
     "metadata": {},
     "output_type": "execute_result"
    },
    {
     "data": {
      "image/png": "[encoded data removed]",
      "text/plain": [
       "<matplotlib.figure.Figure at 0x123659080>"
      ]
     },
     "metadata": {},
     "output_type": "display_data"
    }
   ],
   "source": [
    "sns.set_context(font_scale=1.5)\n",
    "g = sns.FacetGrid(data=sx_outs, col='Group')\n",
    "g.map(sns.distplot,'PANSS_DA',kde=True,fit=sp.stats.norm)"
   ]
  },
  {
   "cell_type": "markdown",
   "metadata": {
    "collapsed": true
   },
   "source": [
    " "
   ]
  },
  {
   "cell_type": "markdown",
   "metadata": {},
   "source": [
    "### PANSS_EA"
   ]
  },
  {
   "cell_type": "code",
   "execution_count": 37,
   "metadata": {
    "collapsed": false,
    "scrolled": true
   },
   "outputs": [
    {
     "data": {
      "text/html": [
       "<div>\n",
       "<table border=\"1\" class=\"dataframe\">\n",
       "  <thead>\n",
       "    <tr style=\"text-align: right;\">\n",
       "      <th></th>\n",
       "      <th>ID</th>\n",
       "      <th>Group</th>\n",
       "      <th>PANSS_PA</th>\n",
       "      <th>PANSS_PA_outliers</th>\n",
       "      <th>PANSS_NA</th>\n",
       "      <th>PANSS_NA_outliers</th>\n",
       "      <th>PANSS_DA</th>\n",
       "      <th>PANSS_DA_outliers</th>\n",
       "      <th>PANSS_EA</th>\n",
       "      <th>PANSS_EA_outliers</th>\n",
       "      <th>PANSS_Dep_Anx</th>\n",
       "      <th>PANSS_Dep_Anx_outliers</th>\n",
       "    </tr>\n",
       "  </thead>\n",
       "  <tbody>\n",
       "    <tr>\n",
       "      <th>69</th>\n",
       "      <td>26125</td>\n",
       "      <td>CHR</td>\n",
       "      <td>9.0</td>\n",
       "      <td>0</td>\n",
       "      <td>17.0</td>\n",
       "      <td>0</td>\n",
       "      <td>6.0</td>\n",
       "      <td>0</td>\n",
       "      <td>7.0</td>\n",
       "      <td>1</td>\n",
       "      <td>14.0</td>\n",
       "      <td>1</td>\n",
       "    </tr>\n",
       "    <tr>\n",
       "      <th>77</th>\n",
       "      <td>26151</td>\n",
       "      <td>CHR</td>\n",
       "      <td>12.0</td>\n",
       "      <td>0</td>\n",
       "      <td>9.0</td>\n",
       "      <td>0</td>\n",
       "      <td>5.0</td>\n",
       "      <td>0</td>\n",
       "      <td>7.0</td>\n",
       "      <td>1</td>\n",
       "      <td>10.0</td>\n",
       "      <td>0</td>\n",
       "    </tr>\n",
       "  </tbody>\n",
       "</table>\n",
       "</div>"
      ],
      "text/plain": [
       "       ID Group  PANSS_PA  PANSS_PA_outliers  PANSS_NA  PANSS_NA_outliers  \\\n",
       "69  26125   CHR       9.0                  0      17.0                  0   \n",
       "77  26151   CHR      12.0                  0       9.0                  0   \n",
       "\n",
       "    PANSS_DA  PANSS_DA_outliers  PANSS_EA  PANSS_EA_outliers  PANSS_Dep_Anx  \\\n",
       "69       6.0                  0       7.0                  1           14.0   \n",
       "77       5.0                  0       7.0                  1           10.0   \n",
       "\n",
       "    PANSS_Dep_Anx_outliers  \n",
       "69                       1  \n",
       "77                       0  "
      ]
     },
     "execution_count": 37,
     "metadata": {},
     "output_type": "execute_result"
    }
   ],
   "source": [
    "sx_outs.loc[sx_outs['PANSS_EA_outliers'] == 1]"
   ]
  },
  {
   "cell_type": "code",
   "execution_count": 38,
   "metadata": {
    "collapsed": false,
    "scrolled": true
   },
   "outputs": [
    {
     "data": {
      "text/plain": [
       "count    52.000000\n",
       "mean      4.942308\n",
       "std       1.526414\n",
       "min       4.000000\n",
       "25%       4.000000\n",
       "50%       4.000000\n",
       "75%       6.000000\n",
       "max      10.000000\n",
       "Name: PANSS_EA, dtype: float64"
      ]
     },
     "execution_count": 38,
     "metadata": {},
     "output_type": "execute_result"
    }
   ],
   "source": [
    "sx_outs.PANSS_EA.describe()"
   ]
  },
  {
   "cell_type": "code",
   "execution_count": 39,
   "metadata": {
    "collapsed": false
   },
   "outputs": [
    {
     "name": "stdout",
     "output_type": "stream",
     "text": [
      "Test for Skewness\n"
     ]
    },
    {
     "data": {
      "text/plain": [
       "Group\n",
       "CHR    1.827094\n",
       "SZ     1.131954\n",
       "Name: PANSS_EA, dtype: float64"
      ]
     },
     "execution_count": 39,
     "metadata": {},
     "output_type": "execute_result"
    }
   ],
   "source": [
    "print ('Test for Skewness')\n",
    "p['PANSS_EA'].skew()"
   ]
  },
  {
   "cell_type": "code",
   "execution_count": 40,
   "metadata": {
    "collapsed": false
   },
   "outputs": [
    {
     "name": "stdout",
     "output_type": "stream",
     "text": [
      "Test for Kurtosis\n"
     ]
    },
    {
     "data": {
      "text/html": [
       "<div>\n",
       "<table border=\"1\" class=\"dataframe\">\n",
       "  <thead>\n",
       "    <tr style=\"text-align: right;\">\n",
       "      <th></th>\n",
       "      <th>PANSS_EA</th>\n",
       "    </tr>\n",
       "    <tr>\n",
       "      <th>Group</th>\n",
       "      <th></th>\n",
       "    </tr>\n",
       "  </thead>\n",
       "  <tbody>\n",
       "    <tr>\n",
       "      <th>CHR</th>\n",
       "      <td>2.231884</td>\n",
       "    </tr>\n",
       "    <tr>\n",
       "      <th>SZ</th>\n",
       "      <td>0.132214</td>\n",
       "    </tr>\n",
       "  </tbody>\n",
       "</table>\n",
       "</div>"
      ],
      "text/plain": [
       "       PANSS_EA\n",
       "Group          \n",
       "CHR    2.231884\n",
       "SZ     0.132214"
      ]
     },
     "execution_count": 40,
     "metadata": {},
     "output_type": "execute_result"
    }
   ],
   "source": [
    "g = sx_outs[['Group','PANSS_EA']].copy()\n",
    "print ('Test for Kurtosis')\n",
    "g.groupby('Group').apply(pd.DataFrame.kurt)"
   ]
  },
  {
   "cell_type": "code",
   "execution_count": 41,
   "metadata": {
    "collapsed": false,
    "scrolled": true
   },
   "outputs": [
    {
     "data": {
      "text/plain": [
       "<seaborn.axisgrid.FacetGrid at 0x127b63390>"
      ]
     },
     "execution_count": 41,
     "metadata": {},
     "output_type": "execute_result"
    },
    {
     "data": {
      "image/png": "[encoded data removed]",
      "text/plain": [
       "<matplotlib.figure.Figure at 0x127bafb70>"
      ]
     },
     "metadata": {},
     "output_type": "display_data"
    }
   ],
   "source": [
    "sns.set_context(font_scale=1.5)\n",
    "g = sns.FacetGrid(data=sx_outs, col='Group')\n",
    "g.map(sns.distplot,'PANSS_EA',kde=True,fit=sp.stats.norm)"
   ]
  },
  {
   "cell_type": "markdown",
   "metadata": {},
   "source": [
    " "
   ]
  },
  {
   "cell_type": "markdown",
   "metadata": {},
   "source": [
    "### PANSS_Dep_Anx"
   ]
  },
  {
   "cell_type": "code",
   "execution_count": 42,
   "metadata": {
    "collapsed": false,
    "scrolled": true
   },
   "outputs": [
    {
     "data": {
      "text/html": [
       "<div>\n",
       "<table border=\"1\" class=\"dataframe\">\n",
       "  <thead>\n",
       "    <tr style=\"text-align: right;\">\n",
       "      <th></th>\n",
       "      <th>ID</th>\n",
       "      <th>Group</th>\n",
       "      <th>PANSS_PA</th>\n",
       "      <th>PANSS_PA_outliers</th>\n",
       "      <th>PANSS_NA</th>\n",
       "      <th>PANSS_NA_outliers</th>\n",
       "      <th>PANSS_DA</th>\n",
       "      <th>PANSS_DA_outliers</th>\n",
       "      <th>PANSS_EA</th>\n",
       "      <th>PANSS_EA_outliers</th>\n",
       "      <th>PANSS_Dep_Anx</th>\n",
       "      <th>PANSS_Dep_Anx_outliers</th>\n",
       "    </tr>\n",
       "  </thead>\n",
       "  <tbody>\n",
       "    <tr>\n",
       "      <th>69</th>\n",
       "      <td>26125</td>\n",
       "      <td>CHR</td>\n",
       "      <td>9.0</td>\n",
       "      <td>0</td>\n",
       "      <td>17.0</td>\n",
       "      <td>0</td>\n",
       "      <td>6.0</td>\n",
       "      <td>0</td>\n",
       "      <td>7.0</td>\n",
       "      <td>1</td>\n",
       "      <td>14.0</td>\n",
       "      <td>1</td>\n",
       "    </tr>\n",
       "    <tr>\n",
       "      <th>13</th>\n",
       "      <td>27175</td>\n",
       "      <td>SZ</td>\n",
       "      <td>23.0</td>\n",
       "      <td>0</td>\n",
       "      <td>9.0</td>\n",
       "      <td>0</td>\n",
       "      <td>6.0</td>\n",
       "      <td>0</td>\n",
       "      <td>4.0</td>\n",
       "      <td>0</td>\n",
       "      <td>20.0</td>\n",
       "      <td>1</td>\n",
       "    </tr>\n",
       "  </tbody>\n",
       "</table>\n",
       "</div>"
      ],
      "text/plain": [
       "       ID Group  PANSS_PA  PANSS_PA_outliers  PANSS_NA  PANSS_NA_outliers  \\\n",
       "69  26125   CHR       9.0                  0      17.0                  0   \n",
       "13  27175    SZ      23.0                  0       9.0                  0   \n",
       "\n",
       "    PANSS_DA  PANSS_DA_outliers  PANSS_EA  PANSS_EA_outliers  PANSS_Dep_Anx  \\\n",
       "69       6.0                  0       7.0                  1           14.0   \n",
       "13       6.0                  0       4.0                  0           20.0   \n",
       "\n",
       "    PANSS_Dep_Anx_outliers  \n",
       "69                       1  \n",
       "13                       1  "
      ]
     },
     "execution_count": 42,
     "metadata": {},
     "output_type": "execute_result"
    }
   ],
   "source": [
    "sx_outs.loc[sx_outs['PANSS_Dep_Anx_outliers'] == 1]"
   ]
  },
  {
   "cell_type": "code",
   "execution_count": 43,
   "metadata": {
    "collapsed": false,
    "scrolled": true
   },
   "outputs": [
    {
     "data": {
      "text/plain": [
       "count    52.000000\n",
       "mean      7.692308\n",
       "std       3.691742\n",
       "min       4.000000\n",
       "25%       5.000000\n",
       "50%       6.000000\n",
       "75%       9.000000\n",
       "max      20.000000\n",
       "Name: PANSS_Dep_Anx, dtype: float64"
      ]
     },
     "execution_count": 43,
     "metadata": {},
     "output_type": "execute_result"
    }
   ],
   "source": [
    "sx_outs.PANSS_Dep_Anx.describe()"
   ]
  },
  {
   "cell_type": "code",
   "execution_count": 44,
   "metadata": {
    "collapsed": false
   },
   "outputs": [
    {
     "name": "stdout",
     "output_type": "stream",
     "text": [
      "Test for Skewness\n"
     ]
    },
    {
     "data": {
      "text/plain": [
       "Group\n",
       "CHR    1.164883\n",
       "SZ     0.997987\n",
       "Name: PANSS_Dep_Anx, dtype: float64"
      ]
     },
     "execution_count": 44,
     "metadata": {},
     "output_type": "execute_result"
    }
   ],
   "source": [
    "print ('Test for Skewness')\n",
    "p['PANSS_Dep_Anx'].skew()"
   ]
  },
  {
   "cell_type": "code",
   "execution_count": 45,
   "metadata": {
    "collapsed": false
   },
   "outputs": [
    {
     "name": "stdout",
     "output_type": "stream",
     "text": [
      "Test for Kurtosis\n"
     ]
    },
    {
     "data": {
      "text/html": [
       "<div>\n",
       "<table border=\"1\" class=\"dataframe\">\n",
       "  <thead>\n",
       "    <tr style=\"text-align: right;\">\n",
       "      <th></th>\n",
       "      <th>PANSS_Dep_Anx</th>\n",
       "    </tr>\n",
       "    <tr>\n",
       "      <th>Group</th>\n",
       "      <th></th>\n",
       "    </tr>\n",
       "  </thead>\n",
       "  <tbody>\n",
       "    <tr>\n",
       "      <th>CHR</th>\n",
       "      <td>1.730718</td>\n",
       "    </tr>\n",
       "    <tr>\n",
       "      <th>SZ</th>\n",
       "      <td>0.370698</td>\n",
       "    </tr>\n",
       "  </tbody>\n",
       "</table>\n",
       "</div>"
      ],
      "text/plain": [
       "       PANSS_Dep_Anx\n",
       "Group               \n",
       "CHR         1.730718\n",
       "SZ          0.370698"
      ]
     },
     "execution_count": 45,
     "metadata": {},
     "output_type": "execute_result"
    }
   ],
   "source": [
    "g = sx_outs[['Group','PANSS_Dep_Anx']].copy()\n",
    "print ('Test for Kurtosis')\n",
    "g.groupby('Group').apply(pd.DataFrame.kurt)"
   ]
  },
  {
   "cell_type": "markdown",
   "metadata": {
    "collapsed": true
   },
   "source": [
    " "
   ]
  },
  {
   "cell_type": "code",
   "execution_count": 46,
   "metadata": {
    "collapsed": false,
    "scrolled": true
   },
   "outputs": [
    {
     "data": {
      "text/plain": [
       "'data.frame':\t87 obs. of  47 variables:\n",
       " $ ID                                : int  27120 27121 27122 27127 27131 27145 27164 27191 27193 27195 ...\n",
       " $ Group                             : Factor w/ 3 levels \"CHR\",\"HC\",\"SZ\": 2 2 2 2 2 2 2 2 2 2 ...\n",
       " $ Gender                            : Factor w/ 2 levels \"female\",\"male\": 2 2 1 1 1 2 2 2 2 2 ...\n",
       " $ Age                               : int  46 53 55 50 45 40 45 42 26 51 ...\n",
       " $ Education                         : num  12 16 19 18 20 12 11 16 12 12 ...\n",
       " $ Ethnicity                         : num  1 1 1 1 1 4 1 1 1 1 ...\n",
       " $ IQ                                : num  94 109 130 114 114 88 101 96 109 96 ...\n",
       " $ DSMDisorder                       : num  NaN NaN NaN NaN NaN NaN NaN NaN NaN NaN ...\n",
       " $ DSMDisorderType                   : num  NaN NaN NaN NaN NaN NaN NaN NaN NaN NaN ...\n",
       " $ DSMcomorbidities                  : num  NaN NaN NaN NaN NaN NaN NaN NaN NaN NaN ...\n",
       " $ IRI_EC_total                      : num  33 26 33 34 33 33 34 32 29 34 ...\n",
       " $ IRI_FS_total                      : num  27 25 28 15 12 21 16 11 31 27 ...\n",
       " $ IRI_PD_total                      : num  15 12 13 15 11 14 10 21 19 13 ...\n",
       " $ IRI_PT_total                      : num  29 29 38 32 31 27 32 27 33 36 ...\n",
       " $ Chapman_MIS                       : num  7 1 NaN 1 2 5 NaN 3 3 1 ...\n",
       " $ Chapman_PAS                       : num  7 1 NaN 0 0 2 NaN 0 2 1 ...\n",
       " $ Chapman_PhAS                      : num  16 11 NaN 2 4 7 NaN 14 9 5 ...\n",
       " $ Chapman_RTS                       : num  13 0 NaN 1 0 0 NaN 0 1 0 ...\n",
       " $ Chapman_SocAnh                    : num  20 25 5 1 3 8 6 14 8 4 ...\n",
       " $ Medication                        : num  NaN NaN NaN NaN NaN NaN NaN NaN NaN NaN ...\n",
       " $ PANAS_NA                          : num  14 13 14 10 10 10 12 10 14 15 ...\n",
       " $ PANAS_PA                          : num  21 36 39 35 47 34 32 30 44 30 ...\n",
       " $ SIPS_Disorganized                 : num  NaN NaN NaN NaN NaN NaN NaN NaN NaN NaN ...\n",
       " $ SIPS_General                      : num  NaN NaN NaN NaN NaN NaN NaN NaN NaN NaN ...\n",
       " $ SIPS_Negative                     : num  NaN NaN NaN NaN NaN NaN NaN NaN NaN NaN ...\n",
       " $ SIPS_Positive                     : num  NaN NaN NaN NaN NaN NaN NaN NaN NaN NaN ...\n",
       " $ SocAdjScale_SocialLeisure         : num  63 79 48 55 41 58 42 52 42 47 ...\n",
       " $ SocAdjScale_Work                  : num  63 79 48 55 41 58 42 52 42 47 ...\n",
       " $ GFS_Role                          : num  7 7 9 9 10 6 10 7 6 7 ...\n",
       " $ GFS_Social                        : num  8 6 9 9 9 6 10 6 9 9 ...\n",
       " $ Present_Clinical                  : num  0 0 0 0 0 0 0 0 0 0 ...\n",
       " $ PANSS_PA                          : num  NaN NaN NaN NaN NaN NaN NaN NaN NaN NaN ...\n",
       " $ PANSS_NA                          : num  NaN NaN NaN NaN NaN NaN NaN NaN NaN NaN ...\n",
       " $ PANSS_DA                          : num  NaN NaN NaN NaN NaN NaN NaN NaN NaN NaN ...\n",
       " $ PANSS_EA                          : num  NaN NaN NaN NaN NaN NaN NaN NaN NaN NaN ...\n",
       " $ PANSS_Dep_Anx                     : num  NaN NaN NaN NaN NaN NaN NaN NaN NaN NaN ...\n",
       " $ PANSS_Other                       : num  NaN NaN NaN NaN NaN NaN NaN NaN NaN NaN ...\n",
       " $ IRI_EC_total_outliers             : int  0 0 0 0 0 0 0 0 0 0 ...\n",
       " $ IRI_FS_total_outliers             : int  0 0 0 0 0 0 0 0 0 0 ...\n",
       " $ IRI_PT_total_outliers             : int  0 0 0 0 0 0 0 0 0 0 ...\n",
       " $ IRI_PD_total_outliers             : int  0 0 0 0 0 0 0 0 0 0 ...\n",
       " $ SocAdjScale_SocialLeisure_outliers: int  0 1 0 0 0 0 0 0 0 0 ...\n",
       " $ PANSS_PA_outliers                 : int  0 0 0 0 0 0 0 0 0 0 ...\n",
       " $ PANSS_NA_outliers                 : int  0 0 0 0 0 0 0 0 0 0 ...\n",
       " $ PANSS_DA_outliers                 : int  0 0 0 0 0 0 0 0 0 0 ...\n",
       " $ PANSS_EA_outliers                 : int  0 0 0 0 0 0 0 0 0 0 ...\n",
       " $ PANSS_Dep_Anx_outliers            : int  0 0 0 0 0 0 0 0 0 0 ...\n"
      ]
     },
     "metadata": {},
     "output_type": "display_data"
    }
   ],
   "source": [
    "#Push dataframe to R to conduct statistical analyses\n",
    "%Rpush raw\n",
    "%R str(raw)"
   ]
  },
  {
   "cell_type": "code",
   "execution_count": null,
   "metadata": {
    "collapsed": true
   },
   "outputs": [],
   "source": []
  },
  {
   "cell_type": "markdown",
   "metadata": {},
   "source": [
    "# Demographics"
   ]
  },
  {
   "cell_type": "code",
   "execution_count": 47,
   "metadata": {
    "collapsed": false,
    "scrolled": true
   },
   "outputs": [
    {
     "name": "stdout",
     "output_type": "stream",
     "text": [
      "Total Group Count\n"
     ]
    },
    {
     "data": {
      "text/plain": [
       "Group\n",
       "CHR    27\n",
       "HC     38\n",
       "SZ     26\n",
       "Name: ID, dtype: int64"
      ]
     },
     "execution_count": 47,
     "metadata": {},
     "output_type": "execute_result"
    }
   ],
   "source": [
    "print ('Total Group Count')\n",
    "beh.groupby('Group')['ID'].nunique()"
   ]
  },
  {
   "cell_type": "code",
   "execution_count": 48,
   "metadata": {
    "collapsed": false
   },
   "outputs": [
    {
     "name": "stdout",
     "output_type": "stream",
     "text": [
      "Total Group Count\n"
     ]
    },
    {
     "data": {
      "text/plain": [
       "Group\n",
       "CHR    26\n",
       "HC     35\n",
       "SZ     26\n",
       "Name: ID, dtype: int64"
      ]
     },
     "execution_count": 48,
     "metadata": {},
     "output_type": "execute_result"
    }
   ],
   "source": [
    "print ('Total Group Count')\n",
    "raw.groupby('Group')['ID'].nunique()"
   ]
  },
  {
   "cell_type": "code",
   "execution_count": 49,
   "metadata": {
    "collapsed": false,
    "scrolled": true
   },
   "outputs": [
    {
     "name": "stdout",
     "output_type": "stream",
     "text": [
      "Gender by Group\n"
     ]
    },
    {
     "data": {
      "text/plain": [
       "Group  Gender\n",
       "CHR    male      17\n",
       "       female     9\n",
       "HC     male      20\n",
       "       female    15\n",
       "SZ     male      16\n",
       "       female    10\n",
       "dtype: int64"
      ]
     },
     "execution_count": 49,
     "metadata": {},
     "output_type": "execute_result"
    }
   ],
   "source": [
    "print ('Gender by Group')\n",
    "raw.groupby('Group')['Gender'].value_counts()"
   ]
  },
  {
   "cell_type": "markdown",
   "metadata": {},
   "source": [
    " "
   ]
  },
  {
   "cell_type": "markdown",
   "metadata": {},
   "source": [
    "### Education"
   ]
  },
  {
   "cell_type": "code",
   "execution_count": 80,
   "metadata": {
    "collapsed": false,
    "scrolled": false
   },
   "outputs": [
    {
     "name": "stdout",
     "output_type": "stream",
     "text": [
      "Education by Group\n",
      "Group       \n",
      "CHR    count    21.000000\n",
      "       mean     14.047619\n",
      "       std       2.355338\n",
      "       min      10.000000\n",
      "       25%      12.000000\n",
      "       50%      14.000000\n",
      "       75%      16.000000\n",
      "       max      19.000000\n",
      "HC     count    34.000000\n",
      "       mean     14.794118\n",
      "       std       2.266748\n",
      "       min      11.000000\n",
      "       25%      13.000000\n",
      "       50%      15.000000\n",
      "       75%      16.000000\n",
      "       max      20.000000\n",
      "SZ     count    26.000000\n",
      "       mean     14.692308\n",
      "       std       2.149776\n",
      "       min      10.000000\n",
      "       25%      13.000000\n",
      "       50%      15.000000\n",
      "       75%      16.000000\n",
      "       max      18.000000\n",
      "dtype: float64\n",
      "ANOVA for Education x Group\n"
     ]
    },
    {
     "data": {
      "text/plain": [
       "            Df Sum Sq Mean Sq F value Pr(>F)\n",
       "Group        2    7.8   3.913   0.771  0.466\n",
       "Residuals   78  396.0   5.078               \n",
       "6 observations deleted due to missingness\n"
      ]
     },
     "metadata": {},
     "output_type": "display_data"
    },
    {
     "data": {
      "image/png": "[encoded data removed]",
      "text/plain": [
       "<matplotlib.figure.Figure at 0x12c7898d0>"
      ]
     },
     "metadata": {},
     "output_type": "display_data"
    }
   ],
   "source": [
    "print ('Education by Group')\n",
    "g=raw.groupby('Group')\n",
    "print (g.Education.describe())\n",
    "\n",
    "sns.set_context(font_scale=1.5)\n",
    "sns.boxplot(x='Group',y='Education',data=raw)\n",
    "print ('ANOVA for Education x Group')\n",
    "%R ed.aov <- aov(Education ~ Group, data=raw)\n",
    "%R print (summary(ed.aov))"
   ]
  },
  {
   "cell_type": "markdown",
   "metadata": {},
   "source": [
    " "
   ]
  },
  {
   "cell_type": "markdown",
   "metadata": {},
   "source": [
    "### Age"
   ]
  },
  {
   "cell_type": "code",
   "execution_count": 79,
   "metadata": {
    "collapsed": false,
    "scrolled": false
   },
   "outputs": [
    {
     "name": "stdout",
     "output_type": "stream",
     "text": [
      "ANOVA for Age x Group\n"
     ]
    },
    {
     "data": {
      "text/plain": [
       "            Df Sum Sq Mean Sq F value   Pr(>F)    \n",
       "Group        2   3690  1844.9   19.36 1.21e-07 ***\n",
       "Residuals   84   8003    95.3                     \n",
       "---\n",
       "Signif. codes:  0 ‘***’ 0.001 ‘**’ 0.01 ‘*’ 0.05 ‘.’ 0.1 ‘ ’ 1\n"
      ]
     },
     "metadata": {},
     "output_type": "display_data"
    },
    {
     "name": "stdout",
     "output_type": "stream",
     "text": [
      "Age by Group\n",
      "Group       \n",
      "CHR    count    26.000000\n",
      "       mean     21.846154\n",
      "       std       4.342279\n",
      "       min      15.000000\n",
      "       25%      18.250000\n",
      "       50%      22.000000\n",
      "       75%      23.750000\n",
      "       max      34.000000\n",
      "HC     count    35.000000\n",
      "       mean     30.428571\n",
      "       std      11.993345\n",
      "       min      18.000000\n",
      "       25%      21.000000\n",
      "       50%      24.000000\n",
      "       75%      42.000000\n",
      "       max      55.000000\n",
      "SZ     count    26.000000\n",
      "       mean     38.692308\n",
      "       std      10.279180\n",
      "       min      21.000000\n",
      "       25%      31.250000\n",
      "       50%      38.500000\n",
      "       75%      44.750000\n",
      "       max      58.000000\n",
      "dtype: float64\n"
     ]
    },
    {
     "data": {
      "text/plain": [
       "<matplotlib.axes._subplots.AxesSubplot at 0x12c0abc18>"
      ]
     },
     "execution_count": 79,
     "metadata": {},
     "output_type": "execute_result"
    },
    {
     "data": {
      "image/png": "[encoded data removed]",
      "text/plain": [
       "<matplotlib.figure.Figure at 0x127d70160>"
      ]
     },
     "metadata": {},
     "output_type": "display_data"
    }
   ],
   "source": [
    "print ('ANOVA for Age x Group')\n",
    "%R age.aov <- aov(Age ~ Group, data=raw)\n",
    "%R print (summary(age.aov))\n",
    "\n",
    "print ('Age by Group')\n",
    "g=raw.groupby('Group')\n",
    "print (g.Age.describe())\n",
    "\n",
    "sns.set_context(font_scale=1.5)\n",
    "sns.boxplot(x='Group',y='Age',data=raw)"
   ]
  },
  {
   "cell_type": "markdown",
   "metadata": {},
   "source": [
    "# "
   ]
  },
  {
   "cell_type": "markdown",
   "metadata": {},
   "source": [
    "### IQ"
   ]
  },
  {
   "cell_type": "code",
   "execution_count": 52,
   "metadata": {
    "collapsed": true
   },
   "outputs": [],
   "source": [
    "\"\"\"Dataframe dropping participants without an IQ value\"\"\"\n",
    "raw_IQ = raw[np.isfinite(raw['IQ'])]"
   ]
  },
  {
   "cell_type": "code",
   "execution_count": 53,
   "metadata": {
    "collapsed": false
   },
   "outputs": [
    {
     "name": "stdout",
     "output_type": "stream",
     "text": [
      "Total Group Count for IQ\n"
     ]
    },
    {
     "data": {
      "text/plain": [
       "Group\n",
       "CHR    24\n",
       "HC     35\n",
       "SZ     26\n",
       "Name: ID, dtype: int64"
      ]
     },
     "execution_count": 53,
     "metadata": {},
     "output_type": "execute_result"
    }
   ],
   "source": [
    "#Totals for IQ - only 2 missing from CHR group\n",
    "print ('Total Group Count for IQ')\n",
    "raw_IQ.groupby('Group')['ID'].nunique()"
   ]
  },
  {
   "cell_type": "code",
   "execution_count": 81,
   "metadata": {
    "collapsed": false
   },
   "outputs": [
    {
     "name": "stdout",
     "output_type": "stream",
     "text": [
      "Group       \n",
      "CHR    count     24.000000\n",
      "       mean     106.791667\n",
      "       std       17.688068\n",
      "       min       79.000000\n",
      "       25%       91.750000\n",
      "       50%      106.500000\n",
      "       75%      122.250000\n",
      "       max      139.000000\n",
      "HC     count     35.000000\n",
      "       mean     112.057143\n",
      "       std       12.131492\n",
      "       min       88.000000\n",
      "       25%      102.500000\n",
      "       50%      114.000000\n",
      "       75%      118.500000\n",
      "       max      138.000000\n",
      "SZ     count     26.000000\n",
      "       mean     108.076923\n",
      "       std       13.323432\n",
      "       min       82.000000\n",
      "       25%       99.000000\n",
      "       50%      107.500000\n",
      "       75%      118.750000\n",
      "       max      133.000000\n",
      "dtype: float64\n",
      "ANOVA for IQ x Group\n"
     ]
    },
    {
     "data": {
      "text/plain": [
       "            Df Sum Sq Mean Sq F value Pr(>F)\n",
       "Group        2    456   227.9   1.123   0.33\n",
       "Residuals   82  16638   202.9               \n",
       "2 observations deleted due to missingness\n"
      ]
     },
     "metadata": {},
     "output_type": "display_data"
    },
    {
     "data": {
      "image/png": "[encoded data removed]",
      "text/plain": [
       "<matplotlib.figure.Figure at 0x127d8c2b0>"
      ]
     },
     "metadata": {},
     "output_type": "display_data"
    }
   ],
   "source": [
    "i = raw_IQ.groupby('Group')\n",
    "\n",
    "print (i.IQ.describe())\n",
    "\n",
    "sns.set_context(font_scale=1.5)\n",
    "sns.boxplot(x='Group',y='IQ',data=raw_IQ)\n",
    "\n",
    "%Rpush raw_IQ\n",
    "print ('ANOVA for IQ x Group')\n",
    "%R iq.aov <- aov(IQ ~ Group, data=raw)\n",
    "%R print (summary(iq.aov))"
   ]
  },
  {
   "cell_type": "markdown",
   "metadata": {
    "collapsed": true
   },
   "source": [
    " "
   ]
  },
  {
   "cell_type": "markdown",
   "metadata": {},
   "source": [
    "# Measures"
   ]
  },
  {
   "cell_type": "markdown",
   "metadata": {},
   "source": [
    "## Global Functioning Scale (name?)"
   ]
  },
  {
   "cell_type": "code",
   "execution_count": 55,
   "metadata": {
    "collapsed": false
   },
   "outputs": [
    {
     "data": {
      "image/png": "[encoded data removed]",
      "text/plain": [
       "<matplotlib.figure.Figure at 0x127d8c6d8>"
      ]
     },
     "metadata": {},
     "output_type": "display_data"
    }
   ],
   "source": [
    "sns.set_context(font_scale=1.5)\n",
    "sns.factorplot(y='GFS_Role',x='Group',units='ID',ci=68,kind='bar',data=raw)\n",
    "plt.subplots_adjust(top=0.9)"
   ]
  },
  {
   "cell_type": "code",
   "execution_count": 95,
   "metadata": {
    "collapsed": false
   },
   "outputs": [
    {
     "name": "stdout",
     "output_type": "stream",
     "text": [
      "GFS Social\n",
      "Group       \n",
      "CHR    count    22.000000\n",
      "       mean      7.363636\n",
      "       std       1.590012\n",
      "       min       4.000000\n",
      "       25%       6.000000\n",
      "       50%       7.000000\n",
      "       75%       8.750000\n",
      "       max      10.000000\n",
      "HC     count    33.000000\n",
      "       mean      8.666667\n",
      "       std       1.290994\n",
      "       min       6.000000\n",
      "       25%       8.000000\n",
      "       50%       9.000000\n",
      "       75%       9.000000\n",
      "       max      10.000000\n",
      "SZ     count    25.000000\n",
      "       mean      6.080000\n",
      "       std       1.823915\n",
      "       min       3.000000\n",
      "       25%       5.000000\n",
      "       50%       6.000000\n",
      "       75%       7.000000\n",
      "       max       9.000000\n",
      "dtype: float64\n"
     ]
    },
    {
     "data": {
      "text/plain": [
       "            Df Sum Sq Mean Sq F value   Pr(>F)    \n",
       "Group        2  95.74   47.87   19.79 1.16e-07 ***\n",
       "Residuals   77 186.26    2.42                     \n",
       "---\n",
       "Signif. codes:  0 ‘***’ 0.001 ‘**’ 0.01 ‘*’ 0.05 ‘.’ 0.1 ‘ ’ 1\n",
       "7 observations deleted due to missingness\n"
      ]
     },
     "metadata": {},
     "output_type": "display_data"
    }
   ],
   "source": [
    "g = raw.groupby('Group')\n",
    "\n",
    "print('GFS Social')\n",
    "print(g.GFS_Social.describe())\n",
    "\n",
    "%R gfs.aov <- aov(GFS_Social ~ Group,data=raw)\n",
    "%R print (summary(gfs.aov))"
   ]
  },
  {
   "cell_type": "code",
   "execution_count": 56,
   "metadata": {
    "collapsed": false
   },
   "outputs": [
    {
     "data": {
      "image/png": "[encoded data removed]",
      "text/plain": [
       "<matplotlib.figure.Figure at 0x128215f60>"
      ]
     },
     "metadata": {},
     "output_type": "display_data"
    }
   ],
   "source": [
    "sns.set_context(font_scale=1.5)\n",
    "sns.factorplot(y='GFS_Social',x='Group',units='ID',ci=68,kind='bar',data=raw)\n",
    "plt.subplots_adjust(top=0.9)"
   ]
  },
  {
   "cell_type": "markdown",
   "metadata": {},
   "source": [
    " "
   ]
  },
  {
   "cell_type": "markdown",
   "metadata": {},
   "source": [
    "## Social Adjustment Scale"
   ]
  },
  {
   "cell_type": "code",
   "execution_count": 93,
   "metadata": {
    "collapsed": false,
    "scrolled": false
   },
   "outputs": [
    {
     "name": "stdout",
     "output_type": "stream",
     "text": [
      "SAS Social Leisure Mean\n",
      "Group       \n",
      "CHR    count    22.000000\n",
      "       mean     62.772727\n",
      "       std      10.061392\n",
      "       min      45.000000\n",
      "       25%      55.000000\n",
      "       50%      66.500000\n",
      "       75%      69.750000\n",
      "       max      77.000000\n",
      "HC     count    32.000000\n",
      "       mean     51.937500\n",
      "       std      10.506334\n",
      "       min      36.000000\n",
      "       25%      45.000000\n",
      "       50%      50.000000\n",
      "       75%      55.000000\n",
      "       max      85.000000\n",
      "SZ     count    25.000000\n",
      "       mean     63.680000\n",
      "       std      15.563633\n",
      "       min      42.000000\n",
      "       25%      53.000000\n",
      "       50%      60.000000\n",
      "       75%      76.000000\n",
      "       max      98.000000\n",
      "dtype: float64\n"
     ]
    }
   ],
   "source": [
    "x = raw.groupby('Group')\n",
    "\n",
    "print('SAS Social Leisure Mean')\n",
    "print(x.SocAdjScale_SocialLeisure.describe())"
   ]
  },
  {
   "cell_type": "markdown",
   "metadata": {},
   "source": [
    "### Social Leisure"
   ]
  },
  {
   "cell_type": "code",
   "execution_count": 58,
   "metadata": {
    "collapsed": false,
    "scrolled": false
   },
   "outputs": [
    {
     "name": "stdout",
     "output_type": "stream",
     "text": [
      "ANOVA on SAS Social Leisure x Group\n"
     ]
    },
    {
     "data": {
      "text/plain": [
       "            Df Sum Sq Mean Sq F value   Pr(>F)    \n",
       "Group        2   2448  1224.1   8.189 0.000602 ***\n",
       "Residuals   76  11361   149.5                     \n",
       "---\n",
       "Signif. codes:  0 ‘***’ 0.001 ‘**’ 0.01 ‘*’ 0.05 ‘.’ 0.1 ‘ ’ 1\n",
       "8 observations deleted due to missingness\n"
      ]
     },
     "metadata": {},
     "output_type": "display_data"
    },
    {
     "data": {
      "image/png": "[encoded data removed]",
      "text/plain": [
       "<matplotlib.figure.Figure at 0x12831fc88>"
      ]
     },
     "metadata": {},
     "output_type": "display_data"
    }
   ],
   "source": [
    "sns.set_context(font_scale=1.5)\n",
    "sns.factorplot(y='SocAdjScale_SocialLeisure',x='Group',units='ID',ci=68,kind='bar',data=raw)\n",
    "\n",
    "print ('ANOVA on SAS Social Leisure x Group')\n",
    "\n",
    "\n",
    "%R sas_sl.aov <- aov(SocAdjScale_SocialLeisure ~ Group,data=raw)\n",
    "%R print (summary(sas_sl.aov))"
   ]
  },
  {
   "cell_type": "code",
   "execution_count": 59,
   "metadata": {
    "collapsed": false
   },
   "outputs": [
    {
     "data": {
      "text/plain": [
       " Group   lsmean       SE df lower.CL upper.CL\n",
       " CHR   62.77273 2.606715 76 57.58100 67.96445\n",
       " HC    51.93750 2.161374 76 47.63275 56.24225\n",
       " SZ    63.68000 2.445315 76 58.80973 68.55027\n",
       "\n",
       "Confidence level used: 0.95 \n"
      ]
     },
     "metadata": {},
     "output_type": "display_data"
    },
    {
     "data": {
      "text/plain": [
       " contrast    estimate       SE df t.ratio p.value\n",
       " CHR - HC  10.8352273 3.386222 76   3.200  0.0056\n",
       " CHR - SZ  -0.9072727 3.574148 76  -0.254  0.9651\n",
       " HC - SZ  -11.7425000 3.263603 76  -3.598  0.0016\n",
       "\n",
       "P value adjustment: tukey method for comparing a family of 3 estimates \n"
      ]
     },
     "metadata": {},
     "output_type": "display_data"
    }
   ],
   "source": [
    "%R sas_sl.lsm <- lsmeans(sas_sl.aov, ~ Group)\n",
    "%R print(sas_sl.lsm)\n",
    "\n",
    "%R print(pairs(sas_sl.lsm))"
   ]
  },
  {
   "cell_type": "markdown",
   "metadata": {},
   "source": [
    " "
   ]
  },
  {
   "cell_type": "markdown",
   "metadata": {},
   "source": [
    "### Work"
   ]
  },
  {
   "cell_type": "code",
   "execution_count": 60,
   "metadata": {
    "collapsed": false,
    "scrolled": true
   },
   "outputs": [
    {
     "data": {
      "text/plain": [
       "            Df Sum Sq Mean Sq F value Pr(>F)  \n",
       "Group        2   3837  1918.4   4.383 0.0158 *\n",
       "Residuals   76  33266   437.7                 \n",
       "---\n",
       "Signif. codes:  0 ‘***’ 0.001 ‘**’ 0.01 ‘*’ 0.05 ‘.’ 0.1 ‘ ’ 1\n",
       "8 observations deleted due to missingness\n"
      ]
     },
     "metadata": {},
     "output_type": "display_data"
    },
    {
     "data": {
      "image/png": "[encoded data removed]",
      "text/plain": [
       "<matplotlib.figure.Figure at 0x128518eb8>"
      ]
     },
     "metadata": {},
     "output_type": "display_data"
    }
   ],
   "source": [
    "sns.set_context(font_scale=1.5)\n",
    "sns.factorplot(y='SocAdjScale_Work',x='Group',units='ID',ci=68,kind='bar',data=raw)\n",
    "\n",
    "%R sas_w.aov <- aov(SocAdjScale_Work ~ Group,data=raw)\n",
    "%R print (summary(sas_w.aov))"
   ]
  },
  {
   "cell_type": "code",
   "execution_count": 61,
   "metadata": {
    "collapsed": false
   },
   "outputs": [
    {
     "data": {
      "text/plain": [
       " Group   lsmean       SE df lower.CL upper.CL\n",
       " CHR   70.00000 4.362454 76 61.31142 78.68858\n",
       " HC    53.16129 3.757629 76 45.67732 60.64526\n",
       " SZ    58.00000 4.184319 76 49.66621 66.33379\n",
       "\n",
       "Confidence level used: 0.95 \n"
      ]
     },
     "metadata": {},
     "output_type": "display_data"
    },
    {
     "data": {
      "text/plain": [
       " contrast estimate       SE df t.ratio p.value\n",
       " CHR - HC 16.83871 5.757671 76   2.925  0.0125\n",
       " CHR - SZ 12.00000 6.044793 76   1.985  0.1228\n",
       " HC - SZ  -4.83871 5.623904 76  -0.860  0.6668\n",
       "\n",
       "P value adjustment: tukey method for comparing a family of 3 estimates \n"
      ]
     },
     "metadata": {},
     "output_type": "display_data"
    }
   ],
   "source": [
    "%R sas_w.lsm <- lsmeans(sas_w.aov, ~ Group)\n",
    "%R print(sas_w.lsm)\n",
    "\n",
    "%R print(pairs(sas_w.lsm))"
   ]
  },
  {
   "cell_type": "markdown",
   "metadata": {},
   "source": [
    " "
   ]
  },
  {
   "cell_type": "markdown",
   "metadata": {},
   "source": [
    "## Interpersonal Reactivity Index"
   ]
  },
  {
   "cell_type": "code",
   "execution_count": 96,
   "metadata": {
    "collapsed": false
   },
   "outputs": [
    {
     "name": "stdout",
     "output_type": "stream",
     "text": [
      "IRI_EC\n",
      "Group       \n",
      "CHR    count    24.000000\n",
      "       mean     28.500000\n",
      "       std       4.890096\n",
      "       min      16.000000\n",
      "       25%      25.000000\n",
      "       50%      28.500000\n",
      "       75%      31.250000\n",
      "       max      38.000000\n",
      "HC     count    33.000000\n",
      "       mean     33.648485\n",
      "       std       5.392363\n",
      "       min      22.400000\n",
      "       25%      30.000000\n",
      "       50%      34.000000\n",
      "       75%      38.000000\n",
      "       max      42.000000\n",
      "SZ     count    25.000000\n",
      "       mean     30.560000\n",
      "       std       5.930711\n",
      "       min      16.000000\n",
      "       25%      28.000000\n",
      "       50%      29.000000\n",
      "       75%      34.000000\n",
      "       max      42.000000\n",
      "dtype: float64\n",
      "IRI_PT\n",
      "Group       \n",
      "CHR    count    24.000000\n",
      "       mean     27.791667\n",
      "       std       4.863164\n",
      "       min      20.000000\n",
      "       25%      24.000000\n",
      "       50%      27.500000\n",
      "       75%      30.000000\n",
      "       max      38.000000\n",
      "HC     count    33.000000\n",
      "       mean     33.069697\n",
      "       std       4.795602\n",
      "       min      23.300000\n",
      "       25%      30.000000\n",
      "       50%      32.000000\n",
      "       75%      36.000000\n",
      "       max      42.000000\n",
      "SZ     count    25.000000\n",
      "       mean     30.040000\n",
      "       std       4.247352\n",
      "       min      20.000000\n",
      "       25%      27.000000\n",
      "       50%      31.000000\n",
      "       75%      33.000000\n",
      "       max      37.000000\n",
      "dtype: float64\n",
      "IRI_PD\n",
      "Group       \n",
      "CHR    count    24.000000\n",
      "       mean     22.333333\n",
      "       std       6.062477\n",
      "       min      13.000000\n",
      "       25%      17.000000\n",
      "       50%      23.000000\n",
      "       75%      26.250000\n",
      "       max      36.000000\n",
      "HC     count    33.000000\n",
      "       mean     16.545455\n",
      "       std       6.538783\n",
      "       min       6.000000\n",
      "       25%      12.000000\n",
      "       50%      15.000000\n",
      "       75%      21.000000\n",
      "       max      40.000000\n",
      "SZ     count    25.000000\n",
      "       mean     19.120000\n",
      "       std       5.883026\n",
      "       min       8.000000\n",
      "       25%      15.000000\n",
      "       50%      19.000000\n",
      "       75%      24.000000\n",
      "       max      28.000000\n",
      "dtype: float64\n",
      "IRI_FS\n",
      "Group       \n",
      "CHR    count    24.000000\n",
      "       mean     28.291667\n",
      "       std       4.525091\n",
      "       min      20.000000\n",
      "       25%      25.750000\n",
      "       50%      28.500000\n",
      "       75%      31.000000\n",
      "       max      39.000000\n",
      "HC     count    33.000000\n",
      "       mean     25.060606\n",
      "       std       7.305560\n",
      "       min      11.000000\n",
      "       25%      20.000000\n",
      "       50%      27.000000\n",
      "       75%      30.000000\n",
      "       max      39.000000\n",
      "SZ     count    25.000000\n",
      "       mean     27.440000\n",
      "       std       7.188417\n",
      "       min      11.000000\n",
      "       25%      24.000000\n",
      "       50%      26.000000\n",
      "       75%      32.000000\n",
      "       max      42.000000\n",
      "dtype: float64\n"
     ]
    }
   ],
   "source": [
    "g = raw.groupby('Group')\n",
    "\n",
    "print('IRI_EC')\n",
    "print(g.IRI_EC_total.describe())\n",
    "\n",
    "print('IRI_PT')\n",
    "print(g.IRI_PT_total.describe())\n",
    "\n",
    "print('IRI_PD')\n",
    "print(g.IRI_PD_total.describe())\n",
    "\n",
    "print('IRI_FS')\n",
    "print(g.IRI_FS_total.describe())"
   ]
  },
  {
   "cell_type": "code",
   "execution_count": 103,
   "metadata": {
    "collapsed": false
   },
   "outputs": [
    {
     "name": "stdout",
     "output_type": "stream",
     "text": [
      "ANOVA on Empathic concern x Group\n"
     ]
    },
    {
     "data": {
      "text/plain": [
       "            Df Sum Sq Mean Sq F value  Pr(>F)   \n",
       "Group        2    383  191.52   6.509 0.00242 **\n",
       "Residuals   79   2325   29.43                   \n",
       "---\n",
       "Signif. codes:  0 ‘***’ 0.001 ‘**’ 0.01 ‘*’ 0.05 ‘.’ 0.1 ‘ ’ 1\n",
       "5 observations deleted due to missingness\n"
      ]
     },
     "metadata": {},
     "output_type": "display_data"
    },
    {
     "name": "stdout",
     "output_type": "stream",
     "text": [
      "ANOVA on Fantasy x Group\n"
     ]
    },
    {
     "data": {
      "text/plain": [
       "            Df Sum Sq Mean Sq F value Pr(>F)\n",
       "Group        2    163   81.55   1.884  0.159\n",
       "Residuals   79   3419   43.28               \n",
       "5 observations deleted due to missingness\n"
      ]
     },
     "metadata": {},
     "output_type": "display_data"
    },
    {
     "name": "stdout",
     "output_type": "stream",
     "text": [
      "ANOVA on Personal Distress x Group\n"
     ]
    },
    {
     "data": {
      "text/plain": [
       "            Df Sum Sq Mean Sq F value  Pr(>F)   \n",
       "Group        2  465.8  232.90   6.044 0.00361 **\n",
       "Residuals   79 3044.2   38.53                   \n",
       "---\n",
       "Signif. codes:  0 ‘***’ 0.001 ‘**’ 0.01 ‘*’ 0.05 ‘.’ 0.1 ‘ ’ 1\n",
       "5 observations deleted due to missingness\n"
      ]
     },
     "metadata": {},
     "output_type": "display_data"
    },
    {
     "name": "stdout",
     "output_type": "stream",
     "text": [
      "ANOVA on Perspective Taking x Group\n"
     ]
    },
    {
     "data": {
      "text/plain": [
       "            Df Sum Sq Mean Sq F value   Pr(>F)    \n",
       "Group        2  398.4  199.20   9.188 0.000259 ***\n",
       "Residuals   79 1712.8   21.68                     \n",
       "---\n",
       "Signif. codes:  0 ‘***’ 0.001 ‘**’ 0.01 ‘*’ 0.05 ‘.’ 0.1 ‘ ’ 1\n",
       "5 observations deleted due to missingness\n"
      ]
     },
     "metadata": {},
     "output_type": "display_data"
    }
   ],
   "source": [
    "print ('ANOVA on Empathic concern x Group')\n",
    "%R ec.aov <- aov(IRI_EC_total ~ Group, data=raw)\n",
    "%R print (summary(ec.aov))\n",
    "\n",
    "print ('ANOVA on Fantasy x Group')\n",
    "%R fs.aov <- aov(IRI_FS_total ~ Group, data=raw)\n",
    "%R print (summary(fs.aov))\n",
    "\n",
    "print ('ANOVA on Personal Distress x Group')\n",
    "%R pd.aov <- aov(IRI_PD_total ~ Group, data=raw)\n",
    "%R print (summary(pd.aov))\n",
    "\n",
    "print ('ANOVA on Perspective Taking x Group')\n",
    "%R pt.aov <- aov(IRI_PT_total ~ Group, data=raw)\n",
    "%R print (summary(pt.aov))"
   ]
  },
  {
   "cell_type": "code",
   "execution_count": 97,
   "metadata": {
    "collapsed": false,
    "scrolled": false
   },
   "outputs": [
    {
     "name": "stdout",
     "output_type": "stream",
     "text": [
      "ANOVA on Empathic concern x Group\n"
     ]
    },
    {
     "data": {
      "text/plain": [
       "Call:\n",
       "   aov(formula = IRI_EC_total ~ Group, data = raw)\n",
       "\n",
       "Terms:\n",
       "                    Group Residuals\n",
       "Sum of Squares   383.0376 2324.6424\n",
       "Deg. of Freedom         2        79\n",
       "\n",
       "Residual standard error: 5.42456\n",
       "Estimated effects may be unbalanced\n",
       "5 observations deleted due to missingness\n"
      ]
     },
     "metadata": {},
     "output_type": "display_data"
    },
    {
     "name": "stdout",
     "output_type": "stream",
     "text": [
      "ANOVA on Fantasy x Group\n"
     ]
    },
    {
     "data": {
      "text/plain": [
       "            Df Sum Sq Mean Sq F value Pr(>F)\n",
       "Group        2    163   81.55   1.884  0.159\n",
       "Residuals   79   3419   43.28               \n",
       "5 observations deleted due to missingness\n"
      ]
     },
     "metadata": {},
     "output_type": "display_data"
    },
    {
     "name": "stdout",
     "output_type": "stream",
     "text": [
      "ANOVA on Personal Distress x Group\n"
     ]
    },
    {
     "data": {
      "text/plain": [
       "            Df Sum Sq Mean Sq F value  Pr(>F)   \n",
       "Group        2  465.8  232.90   6.044 0.00361 **\n",
       "Residuals   79 3044.2   38.53                   \n",
       "---\n",
       "Signif. codes:  0 ‘***’ 0.001 ‘**’ 0.01 ‘*’ 0.05 ‘.’ 0.1 ‘ ’ 1\n",
       "5 observations deleted due to missingness\n"
      ]
     },
     "metadata": {},
     "output_type": "display_data"
    },
    {
     "name": "stdout",
     "output_type": "stream",
     "text": [
      "ANOVA on Perspective Taking x Group\n"
     ]
    },
    {
     "data": {
      "text/plain": [
       "            Df Sum Sq Mean Sq F value   Pr(>F)    \n",
       "Group        2  398.4  199.20   9.188 0.000259 ***\n",
       "Residuals   79 1712.8   21.68                     \n",
       "---\n",
       "Signif. codes:  0 ‘***’ 0.001 ‘**’ 0.01 ‘*’ 0.05 ‘.’ 0.1 ‘ ’ 1\n",
       "5 observations deleted due to missingness\n"
      ]
     },
     "metadata": {},
     "output_type": "display_data"
    },
    {
     "data": {
      "image/png": "[encoded data removed]",
      "text/plain": [
       "<matplotlib.figure.Figure at 0x12a73e978>"
      ]
     },
     "metadata": {},
     "output_type": "display_data"
    }
   ],
   "source": [
    "sns.set_context(font_scale=1.5)\n",
    "\n",
    "\n",
    "fig = plt.figure(figsize=(10, 6))\n",
    "iri = fig.add_subplot(141)\n",
    "sns.boxplot(y='IRI_EC_total', x='Group', data = raw)\n",
    "plt.ylabel('Emapathic Concern')\n",
    "plt.xticks(rotation=45)\n",
    "\n",
    "iri = fig.add_subplot(142)\n",
    "sns.boxplot(y='IRI_FS_total', x='Group', data = raw)\n",
    "plt.ylabel('Fantasy')\n",
    "plt.xticks(rotation=45)\n",
    "\n",
    "\n",
    "iri = fig.add_subplot(143)\n",
    "sns.boxplot(y='IRI_PD_total', x='Group', data = raw)\n",
    "plt.ylabel('Personal Distress')\n",
    "plt.xticks(rotation=45)\n",
    "\n",
    "\n",
    "iri = fig.add_subplot(144)\n",
    "sns.boxplot(y='IRI_PT_total', x='Group', data = raw)\n",
    "plt.ylabel('Perspective Taking')\n",
    "plt.xticks(rotation=45)\n",
    "fig.tight_layout()"
   ]
  },
  {
   "cell_type": "markdown",
   "metadata": {},
   "source": [
    " "
   ]
  },
  {
   "cell_type": "code",
   "execution_count": 63,
   "metadata": {
    "collapsed": false
   },
   "outputs": [
    {
     "name": "stdout",
     "output_type": "stream",
     "text": [
      "Followup on IRI_EC x Group\n"
     ]
    },
    {
     "data": {
      "text/plain": [
       " Group   lsmean        SE df lower.CL upper.CL\n",
       " CHR   28.50000 1.1072837 79 26.29601 30.70399\n",
       " HC    33.64848 0.9442947 79 31.76891 35.52806\n",
       " SZ    30.56000 1.0849120 79 28.40054 32.71946\n",
       "\n",
       "Confidence level used: 0.95 \n"
      ]
     },
     "metadata": {},
     "output_type": "display_data"
    },
    {
     "data": {
      "text/plain": [
       " contrast  estimate       SE df t.ratio p.value\n",
       " CHR - HC -5.148485 1.455256 79  -3.538  0.0019\n",
       " CHR - SZ -2.060000 1.550197 79  -1.329  0.3835\n",
       " HC - SZ   3.088485 1.438307 79   2.147  0.0869\n",
       "\n",
       "P value adjustment: tukey method for comparing a family of 3 estimates \n"
      ]
     },
     "metadata": {},
     "output_type": "display_data"
    },
    {
     "name": "stdout",
     "output_type": "stream",
     "text": [
      "Followup on IRI_PT x Group\n"
     ]
    },
    {
     "data": {
      "text/plain": [
       " Group   lsmean        SE df lower.CL upper.CL\n",
       " CHR   27.79167 0.9504740 79 25.89980 29.68354\n",
       " HC    33.06970 0.8105670 79 31.45630 34.68309\n",
       " SZ    30.04000 0.9312705 79 28.18635 31.89365\n",
       "\n",
       "Confidence level used: 0.95 \n"
      ]
     },
     "metadata": {},
     "output_type": "display_data"
    },
    {
     "data": {
      "text/plain": [
       " contrast  estimate       SE df t.ratio p.value\n",
       " CHR - HC -5.278030 1.249168 79  -4.225  0.0002\n",
       " CHR - SZ -2.248333 1.330664 79  -1.690  0.2155\n",
       " HC - SZ   3.029697 1.234619 79   2.454  0.0427\n",
       "\n",
       "P value adjustment: tukey method for comparing a family of 3 estimates \n"
      ]
     },
     "metadata": {},
     "output_type": "display_data"
    },
    {
     "name": "stdout",
     "output_type": "stream",
     "text": [
      "Followup on IRI_PD x Group\n"
     ]
    },
    {
     "data": {
      "text/plain": [
       " Group   lsmean       SE df lower.CL upper.CL\n",
       " CHR   22.33333 1.267110 79 19.81121 24.85545\n",
       " HC    16.54545 1.080595 79 14.39458 18.69632\n",
       " SZ    19.12000 1.241509 79 16.64884 21.59116\n",
       "\n",
       "Confidence level used: 0.95 \n"
      ]
     },
     "metadata": {},
     "output_type": "display_data"
    },
    {
     "data": {
      "text/plain": [
       " contrast  estimate       SE df t.ratio p.value\n",
       " CHR - HC  5.787879 1.665308 79   3.476  0.0024\n",
       " CHR - SZ  3.213333 1.773954 79   1.811  0.1725\n",
       " HC - SZ  -2.574545 1.645913 79  -1.564  0.2671\n",
       "\n",
       "P value adjustment: tukey method for comparing a family of 3 estimates \n"
      ]
     },
     "metadata": {},
     "output_type": "display_data"
    }
   ],
   "source": [
    "print ('Followup on IRI_EC x Group')\n",
    "%R ec.lsm <- lsmeans(ec.aov, ~ Group)\n",
    "%R print(ec.lsm)\n",
    "%R print(pairs(ec.lsm))\n",
    "print ('Followup on IRI_PT x Group')\n",
    "%R pt.lsm <- lsmeans(pt.aov, ~ Group)\n",
    "%R print(pt.lsm)\n",
    "%R print(pairs(pt.lsm))\n",
    "print ('Followup on IRI_PD x Group')\n",
    "%R pd.lsm <- lsmeans(pd.aov, ~ Group)\n",
    "%R print(pd.lsm)\n",
    "%R print(pairs(pd.lsm))"
   ]
  },
  {
   "cell_type": "markdown",
   "metadata": {},
   "source": [
    "## Chapman"
   ]
  },
  {
   "cell_type": "code",
   "execution_count": 64,
   "metadata": {
    "collapsed": false,
    "scrolled": false
   },
   "outputs": [
    {
     "data": {
      "image/png": "[encoded data removed]",
      "text/plain": [
       "<matplotlib.figure.Figure at 0x128a02da0>"
      ]
     },
     "metadata": {},
     "output_type": "display_data"
    }
   ],
   "source": [
    "sns.set_context(font_scale=1.5)\n",
    "fig = plt.figure(figsize=(10, 6))\n",
    "chap = fig.add_subplot(141)\n",
    "sns.boxplot(y='Chapman_RTS', x='Group', data = raw)\n",
    "chap = fig.add_subplot(142)\n",
    "sns.boxplot(y='Chapman_MIS', x='Group', data = raw)\n",
    "chap = fig.add_subplot(143)\n",
    "sns.boxplot(y='Chapman_PAS', x='Group', data = raw)\n",
    "chap = fig.add_subplot(144)\n",
    "sns.boxplot(y='Chapman_SocAnh', x='Group', data = raw)\n",
    "fig.tight_layout()"
   ]
  },
  {
   "cell_type": "markdown",
   "metadata": {},
   "source": [
    " "
   ]
  },
  {
   "cell_type": "markdown",
   "metadata": {},
   "source": [
    "## Positive and Negative Syndrome Scale"
   ]
  },
  {
   "cell_type": "code",
   "execution_count": 91,
   "metadata": {
    "collapsed": false
   },
   "outputs": [
    {
     "data": {
      "text/plain": [
       "Group       \n",
       "CHR    count    26.000000\n",
       "       mean      5.807692\n",
       "       std       1.497177\n",
       "       min       5.000000\n",
       "       25%       5.000000\n",
       "       50%       5.000000\n",
       "       75%       6.000000\n",
       "       max      10.000000\n",
       "HC     count    21.000000\n",
       "       mean      5.000000\n",
       "       std       0.000000\n",
       "       min       5.000000\n",
       "       25%       5.000000\n",
       "       50%       5.000000\n",
       "       75%       5.000000\n",
       "       max       5.000000\n",
       "SZ     count    26.000000\n",
       "       mean      8.384615\n",
       "       std       4.463872\n",
       "       min       5.000000\n",
       "       25%       5.000000\n",
       "       50%       5.500000\n",
       "       75%      11.500000\n",
       "       max      18.000000\n",
       "dtype: float64"
      ]
     },
     "execution_count": 91,
     "metadata": {},
     "output_type": "execute_result"
    }
   ],
   "source": [
    "\n",
    "raw.groupby('Group')['PANSS_DA'].describe()"
   ]
  },
  {
   "cell_type": "code",
   "execution_count": 92,
   "metadata": {
    "collapsed": false
   },
   "outputs": [
    {
     "name": "stdout",
     "output_type": "stream",
     "text": [
      "Between-group t-tests on PANSS Positive - Clinical Groups\n",
      "t(50) = -3.37, p = 0.001\n",
      "Between-group t-tests on PANSS Negative - Clinical Groups\n",
      "t(50) = -5.51, p = 0.000\n",
      "Between-group t-tests on PANSS Disorganized - Clinical Groups\n",
      "t(50) = -2.79, p = 0.007\n",
      "Between-group t-tests on PANSS Excitement - Clinical Groups\n",
      "t(50) = -2.16, p = 0.035\n",
      "Between-group t-tests on PANSS Depression & Anxiety - Clinical Groups\n",
      "t(50) = -2.44, p = 0.018\n"
     ]
    },
    {
     "data": {
      "text/plain": [
       "(-2.4393573736303646, 0.018304443150451075)"
      ]
     },
     "execution_count": 92,
     "metadata": {},
     "output_type": "execute_result"
    }
   ],
   "source": [
    "print ('Between-group t-tests on PANSS Positive - Clinical Groups')\n",
    "misc.ttest_2s(raw[raw.Group == 'CHR']['PANSS_PA'],raw[raw.Group == 'SZ']['PANSS_PA'])\n",
    "\n",
    "print ('Between-group t-tests on PANSS Negative - Clinical Groups')\n",
    "misc.ttest_2s(raw[raw.Group == 'CHR']['PANSS_NA'],raw[raw.Group == 'SZ']['PANSS_PA'])\n",
    "\n",
    "print ('Between-group t-tests on PANSS Disorganized - Clinical Groups')\n",
    "misc.ttest_2s(raw[raw.Group == 'CHR']['PANSS_DA'],raw[raw.Group == 'SZ']['PANSS_DA'])\n",
    "\n",
    "print ('Between-group t-tests on PANSS Excitement - Clinical Groups')\n",
    "misc.ttest_2s(raw[raw.Group == 'CHR']['PANSS_EA'],raw[raw.Group == 'SZ']['PANSS_EA'])\n",
    "\n",
    "print ('Between-group t-tests on PANSS Depression & Anxiety - Clinical Groups')\n",
    "misc.ttest_2s(raw[raw.Group == 'CHR']['PANSS_Dep_Anx'],raw[raw.Group == 'SZ']['PANSS_Dep_Anx'])"
   ]
  },
  {
   "cell_type": "code",
   "execution_count": 66,
   "metadata": {
    "collapsed": false
   },
   "outputs": [
    {
     "data": {
      "image/png": "[encoded data removed]",
      "text/plain": [
       "<matplotlib.figure.Figure at 0x128d25860>"
      ]
     },
     "metadata": {},
     "output_type": "display_data"
    }
   ],
   "source": [
    "sns.set_context(font_scale=1.5)\n",
    "fig = plt.figure(figsize=(12, 8))\n",
    "pns = fig.add_subplot(241)\n",
    "sns.boxplot(y='PANSS_PA', x='Group', data = raw)\n",
    "pns = fig.add_subplot(242)\n",
    "sns.boxplot(y='PANSS_NA', x='Group', data = raw)\n",
    "pns = fig.add_subplot(243)\n",
    "sns.boxplot(y='PANSS_DA', x='Group', data = raw)\n",
    "pns = fig.add_subplot(244)\n",
    "sns.boxplot(y='PANSS_EA', x='Group', data = raw)\n",
    "pns = fig.add_subplot(245)\n",
    "sns.boxplot(y='PANSS_Dep_Anx', x='Group', data = raw)\n",
    "pns = fig.add_subplot(246)\n",
    "sns.boxplot(y='PANSS_Other', x='Group', data = raw)\n",
    "fig.tight_layout()"
   ]
  },
  {
   "cell_type": "markdown",
   "metadata": {
    "collapsed": true
   },
   "source": [
    " "
   ]
  },
  {
   "cell_type": "markdown",
   "metadata": {},
   "source": [
    "# Modeling"
   ]
  },
  {
   "cell_type": "code",
   "execution_count": null,
   "metadata": {
    "collapsed": true
   },
   "outputs": [],
   "source": []
  },
  {
   "cell_type": "code",
   "execution_count": 67,
   "metadata": {
    "collapsed": false
   },
   "outputs": [
    {
     "data": {
      "image/png": "[encoded data removed]",
      "text/plain": [
       "<matplotlib.figure.Figure at 0x1289feb00>"
      ]
     },
     "metadata": {},
     "output_type": "display_data"
    }
   ],
   "source": [
    "with sns.plotting_context('notebook', font_scale=2):\n",
    "    sns.pairplot(raw, x_vars=[\"IRI_EC_total\", \"IRI_PT_total\",'IRI_PD_total'], y_vars=[\"SocAdjScale_SocialLeisure\"], \n",
    "             size=11, aspect=.7,kind=\"reg\", hue='Group')\n",
    "    plt.ylim(30, 100)"
   ]
  },
  {
   "cell_type": "code",
   "execution_count": null,
   "metadata": {
    "collapsed": true
   },
   "outputs": [],
   "source": []
  },
  {
   "cell_type": "code",
   "execution_count": 68,
   "metadata": {
    "collapsed": false
   },
   "outputs": [
    {
     "data": {
      "text/plain": [
       "'Need method for dealing with the missing values in order to run regressions...na.omit not working'"
      ]
     },
     "execution_count": 68,
     "metadata": {},
     "output_type": "execute_result"
    }
   ],
   "source": [
    "\"\"\"Need method for dealing with the missing values in order to run regressions...na.omit not working\"\"\""
   ]
  },
  {
   "cell_type": "code",
   "execution_count": 69,
   "metadata": {
    "collapsed": false
   },
   "outputs": [
    {
     "name": "stdout",
     "output_type": "stream",
     "text": [
      "\n",
      "Error in anova.lmlist(object, ...) : \n",
      "  models were not all fitted to the same size of dataset\n",
      "\n",
      "Error in print(fm.aov) : object 'fm.aov' not found\n"
     ]
    }
   ],
   "source": [
    "%R fm1 <- lm(SocAdjScale_SocialLeisure ~  Group, data=raw, na.action=na.omit)\n",
    "%R fm2 <- lm(SocAdjScale_SocialLeisure ~  Group + Age, data=raw, na.action=na.omit)\n",
    "%R fm3 <- lm(SocAdjScale_SocialLeisure ~  Group + Age + IRI_EC_total, data=raw, na.action=na.omit)\n",
    "\n",
    "%R fm.aov <- anova(fm1, fm2, fm3)\n",
    "%R print(fm.aov)"
   ]
  },
  {
   "cell_type": "code",
   "execution_count": 70,
   "metadata": {
    "collapsed": false,
    "scrolled": true
   },
   "outputs": [
    {
     "name": "stdout",
     "output_type": "stream",
     "text": [
      "\n",
      "Error in anova.lmlist(object, ...) : \n",
      "  models were not all fitted to the same size of dataset\n",
      "\n",
      "Error in print(fm2.aov) : object 'fm2.aov' not found\n"
     ]
    }
   ],
   "source": [
    "%R fm4 <- lm(SocAdjScale_SocialLeisure ~  Group + Age, data=raw, na.action=na.omit)\n",
    "%R fm5 <- lm(SocAdjScale_SocialLeisure ~  Group + Age + IRI_PT_total, data=raw, na.action=na.omit)\n",
    "%R fm2.aov <- anova(fm4, fm5)\n",
    "%R print(fm2.aov)"
   ]
  },
  {
   "cell_type": "code",
   "execution_count": 71,
   "metadata": {
    "collapsed": false
   },
   "outputs": [
    {
     "name": "stdout",
     "output_type": "stream",
     "text": [
      "\n",
      "Error in anova.lmlist(object, ...) : \n",
      "  models were not all fitted to the same size of dataset\n",
      "\n",
      "Error in print(fm3.aov) : object 'fm3.aov' not found\n"
     ]
    }
   ],
   "source": [
    "%R fm6 <- lm(SocAdjScale_SocialLeisure ~  Group + Age, data=raw, na.action=na.omit)\n",
    "%R fm7 <- lm(SocAdjScale_SocialLeisure ~  Group + Age + IRI_PD_total, data=raw, na.action=na.omit)\n",
    "%R fm3.aov <- anova(fm6, fm7)\n",
    "%R print(fm3.aov)"
   ]
  },
  {
   "cell_type": "code",
   "execution_count": 72,
   "metadata": {
    "collapsed": false,
    "scrolled": false
   },
   "outputs": [
    {
     "name": "stdout",
     "output_type": "stream",
     "text": [
      "\n",
      "Error in anova.lmlist(object, ...) : \n",
      "  models were not all fitted to the same size of dataset\n",
      "\n",
      "Error in print(fm4.aov) : object 'fm4.aov' not found\n"
     ]
    }
   ],
   "source": [
    "%R fm8 <- lm(SocAdjScale_SocialLeisure ~  Group + Age, data=raw, na.action=na.omit)\n",
    "%R fm9 <- lm(SocAdjScale_SocialLeisure ~  Group + Age + Present_Clinical, data=raw, na.action=na.omit)\n",
    "%R fm4.aov <- anova(fm8, fm9)\n",
    "%R print(fm4.aov)"
   ]
  },
  {
   "cell_type": "markdown",
   "metadata": {},
   "source": [
    "### Clinical groups"
   ]
  },
  {
   "cell_type": "code",
   "execution_count": 73,
   "metadata": {
    "collapsed": false
   },
   "outputs": [],
   "source": [
    "#Looking at sx, so dropping HC, and only including clinical groups with data for PANSS\n",
    "clin = raw[raw.Group != 'HC']"
   ]
  },
  {
   "cell_type": "code",
   "execution_count": 74,
   "metadata": {
    "collapsed": false
   },
   "outputs": [
    {
     "data": {
      "text/plain": [
       "Group\n",
       "CHR    26\n",
       "SZ     26\n",
       "Name: ID, dtype: int64"
      ]
     },
     "execution_count": 74,
     "metadata": {},
     "output_type": "execute_result"
    }
   ],
   "source": [
    "clin.groupby('Group')['ID'].nunique()"
   ]
  },
  {
   "cell_type": "code",
   "execution_count": 75,
   "metadata": {
    "collapsed": false
   },
   "outputs": [
    {
     "data": {
      "image/png": "[encoded data removed]",
      "text/plain": [
       "<matplotlib.figure.Figure at 0x12a71f518>"
      ]
     },
     "metadata": {},
     "output_type": "display_data"
    }
   ],
   "source": [
    "with sns.plotting_context('notebook', font_scale=2):\n",
    "    sns.pairplot(clin, x_vars=[\"IRI_EC_total\", \"IRI_PT_total\",'IRI_PD_total'], y_vars=[\"PANSS_NA\"], \n",
    "             size=6,kind=\"reg\", hue='Group')"
   ]
  },
  {
   "cell_type": "code",
   "execution_count": 76,
   "metadata": {
    "collapsed": false
   },
   "outputs": [
    {
     "data": {
      "image/png": "[encoded data removed]",
      "text/plain": [
       "<matplotlib.figure.Figure at 0x12b9138d0>"
      ]
     },
     "metadata": {},
     "output_type": "display_data"
    }
   ],
   "source": [
    "with sns.plotting_context('notebook', font_scale=2):\n",
    "    sns.pairplot(clin, x_vars=[\"IRI_EC_total\", \"IRI_PT_total\",'IRI_PD_total'], y_vars=[\"PANSS_PA\"], \n",
    "             size=6,kind=\"reg\", hue='Group')"
   ]
  },
  {
   "cell_type": "code",
   "execution_count": 77,
   "metadata": {
    "collapsed": false
   },
   "outputs": [
    {
     "data": {
      "image/png": "[encoded data removed]",
      "text/plain": [
       "<matplotlib.figure.Figure at 0x12bcd79b0>"
      ]
     },
     "metadata": {},
     "output_type": "display_data"
    }
   ],
   "source": [
    "with sns.plotting_context('notebook', font_scale=2):\n",
    "    sns.pairplot(clin, x_vars=[\"IRI_EC_total\", \"IRI_PT_total\",'IRI_PD_total'], y_vars=[\"PANSS_DA\"], \n",
    "             size=6,kind=\"reg\", hue='Group')"
   ]
  },
  {
   "cell_type": "code",
   "execution_count": 78,
   "metadata": {
    "collapsed": false
   },
   "outputs": [
    {
     "data": {
      "image/png": "[encoded data removed]",
      "text/plain": [
       "<matplotlib.figure.Figure at 0x12c2577f0>"
      ]
     },
     "metadata": {},
     "output_type": "display_data"
    }
   ],
   "source": [
    "with sns.plotting_context('notebook', font_scale=2):\n",
    "    sns.pairplot(clin, x_vars=[\"IRI_EC_total\", \"IRI_PT_total\",'IRI_PD_total'], y_vars=[\"PANSS_Dep_Anx\"], \n",
    "             size=6,kind=\"reg\", hue='Group')"
   ]
  },
  {
   "cell_type": "code",
   "execution_count": null,
   "metadata": {
    "collapsed": true
   },
   "outputs": [],
   "source": []
  }
 ],
 "metadata": {
  "kernelspec": {
   "display_name": "Python 3",
   "language": "python",
   "name": "python3"
  },
  "language_info": {
   "codemirror_mode": {
    "name": "ipython",
    "version": 3
   },
   "file_extension": ".py",
   "mimetype": "text/x-python",
   "name": "python",
   "nbconvert_exporter": "python",
   "pygments_lexer": "ipython3",
   "version": "3.5.1"
  }
 },
 "nbformat": 4,
 "nbformat_minor": 0
}
